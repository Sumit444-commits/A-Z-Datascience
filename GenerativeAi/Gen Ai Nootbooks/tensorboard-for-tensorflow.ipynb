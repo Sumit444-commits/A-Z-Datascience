{
 "cells": [
  {
   "cell_type": "markdown",
   "id": "8b97a206",
   "metadata": {
    "papermill": {
     "duration": 0.007535,
     "end_time": "2024-02-16T13:35:59.216816",
     "exception": false,
     "start_time": "2024-02-16T13:35:59.209281",
     "status": "completed"
    },
    "tags": []
   },
   "source": [
    "# **`Tensorboard for Tensorflow`**\n",
    "\n",
    "This tutorial will show you step by step guide on how to use Tensorboard for Tensorflow. Tensorboard is a visualization tool provided by Tensorflow to visualize the training process of your model. It is very helpful to visualize the training process, model architecture, and other important details of your model.\n",
    "\n",
    "## **`What is Tensorboard?`**\n",
    "\n",
    "TensorBoard is a suite of visualization tools that makes it easier to understand, debug, and optimize TensorFlow programs. It includes a suite of tools for visualizing data flow graphs, profiling, and debugging TensorFlow programs.\n",
    "\n",
    "## **`Why Tensorboard?`**\n",
    "\n",
    "TensorBoard provides the visualization and tooling needed for machine learning experimentation:\n",
    "\n",
    "- Tracking and visualizing metrics such as loss and accuracy\n",
    "- Visualizing the model graph (ops and layers)\n",
    "- Viewing histograms of weights, biases, or other tensors as they change over time\n",
    "- Projecting embeddings to a lower-dimensional space\n",
    "- Displaying images, text, and audio data\n",
    "- Profiling input data and model structure\n",
    "- Displaying profiled data, such as input pipeline processing time, model execution time, and how long each op takes\n",
    "\n",
    "## **`How to use Tensorboard?`**\n",
    "\n",
    "To use Tensorboard, you need to install Tensorflow and then you can use Tensorboard to visualize the training process of your model. Here is a step by step guide on how to use Tensorboard.\n",
    "\n",
    "to install Tensorflow and tensorboard, you can use the following command.\n",
    "\n",
    "```python\n",
    "!pip install tensorflow\n",
    "!pip intall tensorboard\n",
    "```\n",
    "\n",
    "<h1 style=\"font-family: 'poppins'; font-weight: bold; color: Green;\">👨‍💻Author: Dr. Muhammad Aamamr Tufail</h1>\n",
    "\n",
    "[![GitHub](https://img.shields.io/badge/GitHub-Profile-blue?style=for-the-badge&logo=github)](https://github.com/AammarTufail) \n",
    "[![Kaggle](https://img.shields.io/badge/Kaggle-Profile-blue?style=for-the-badge&logo=kaggle)](https://www.kaggle.com/muhammadaammartufail) \n",
    "[![LinkedIn](https://img.shields.io/badge/LinkedIn-Profile-blue?style=for-the-badge&logo=linkedin)](https://www.linkedin.com/in/dr-muhammad-aammar-tufail-02471213b/)  \n",
    "\n",
    "[![YouTube](https://img.shields.io/badge/YouTube-Profile-red?style=for-the-badge&logo=youtube)](https://www.youtube.com/@codanics) \n",
    "[![Facebook](https://img.shields.io/badge/Facebook-Profile-blue?style=for-the-badge&logo=facebook)](https://www.facebook.com/aammar.tufail) \n",
    "[![TikTok](https://img.shields.io/badge/TikTok-Profile-black?style=for-the-badge&logo=tiktok)](https://www.tiktok.com/@draammar)  \n",
    "\n",
    "[![Twitter/X](https://img.shields.io/badge/Twitter-Profile-blue?style=for-the-badge&logo=twitter)](https://twitter.com/aammar_tufail) \n",
    "[![Instagram](https://img.shields.io/badge/Instagram-Profile-blue?style=for-the-badge&logo=instagram)](https://www.instagram.com/aammartufail/) \n",
    "[![Email](https://img.shields.io/badge/Email-Contact%20Me-red?style=for-the-badge&logo=email)](mailto:aammar@codanics.com)"
   ]
  },
  {
   "cell_type": "markdown",
   "id": "9bbfb309",
   "metadata": {
    "papermill": {
     "duration": 0.007032,
     "end_time": "2024-02-16T13:35:59.231166",
     "exception": false,
     "start_time": "2024-02-16T13:35:59.224134",
     "status": "completed"
    },
    "tags": []
   },
   "source": [
    "Using TensorBoard for visualizing the training process of a simple neural network for basic rectangular data involves several steps. Below, I'll outline a basic example using TensorFlow and Keras to train a neural network on some rectangular data and visualize the training process using TensorBoard:\n",
    "\n",
    "1. **Import necessary libraries**:"
   ]
  },
  {
   "cell_type": "code",
   "execution_count": 1,
   "id": "bb01b68b",
   "metadata": {
    "execution": {
     "iopub.execute_input": "2024-02-16T13:35:59.246755Z",
     "iopub.status.busy": "2024-02-16T13:35:59.246432Z",
     "iopub.status.idle": "2024-02-16T13:36:13.818515Z",
     "shell.execute_reply": "2024-02-16T13:36:13.817669Z"
    },
    "papermill": {
     "duration": 14.5826,
     "end_time": "2024-02-16T13:36:13.820918",
     "exception": false,
     "start_time": "2024-02-16T13:35:59.238318",
     "status": "completed"
    },
    "tags": []
   },
   "outputs": [
    {
     "name": "stderr",
     "output_type": "stream",
     "text": [
      "2024-02-16 13:36:01.421219: E external/local_xla/xla/stream_executor/cuda/cuda_dnn.cc:9261] Unable to register cuDNN factory: Attempting to register factory for plugin cuDNN when one has already been registered\n",
      "2024-02-16 13:36:01.421312: E external/local_xla/xla/stream_executor/cuda/cuda_fft.cc:607] Unable to register cuFFT factory: Attempting to register factory for plugin cuFFT when one has already been registered\n",
      "2024-02-16 13:36:01.585032: E external/local_xla/xla/stream_executor/cuda/cuda_blas.cc:1515] Unable to register cuBLAS factory: Attempting to register factory for plugin cuBLAS when one has already been registered\n"
     ]
    }
   ],
   "source": [
    "import tensorflow as tf\n",
    "from tensorflow.keras.models import Sequential\n",
    "from tensorflow.keras.layers import Dense\n",
    "from tensorflow.keras.optimizers import Adam\n",
    "from tensorflow.keras.callbacks import TensorBoard\n",
    "# ignore warnings\n",
    "import warnings\n",
    "warnings.filterwarnings('ignore')\n",
    "# ignore warnings in the output\n",
    "tf.compat.v1.logging.set_verbosity(tf.compat.v1.logging.ERROR)"
   ]
  },
  {
   "cell_type": "markdown",
   "id": "0d7a9b55",
   "metadata": {
    "papermill": {
     "duration": 0.006703,
     "end_time": "2024-02-16T13:36:13.834967",
     "exception": false,
     "start_time": "2024-02-16T13:36:13.828264",
     "status": "completed"
    },
    "tags": []
   },
   "source": [
    "2. **Prepare your data**:\n",
    "\n",
    "For this example, let's assume you have some rectangular data stored in numpy arrays `X_train` and `y_train`."
   ]
  },
  {
   "cell_type": "code",
   "execution_count": 2,
   "id": "73b876de",
   "metadata": {
    "execution": {
     "iopub.execute_input": "2024-02-16T13:36:13.850429Z",
     "iopub.status.busy": "2024-02-16T13:36:13.849884Z",
     "iopub.status.idle": "2024-02-16T13:36:15.230935Z",
     "shell.execute_reply": "2024-02-16T13:36:15.229993Z"
    },
    "papermill": {
     "duration": 1.390929,
     "end_time": "2024-02-16T13:36:15.233009",
     "exception": false,
     "start_time": "2024-02-16T13:36:13.842080",
     "status": "completed"
    },
    "tags": []
   },
   "outputs": [
    {
     "name": "stdout",
     "output_type": "stream",
     "text": [
      "Downloading data from https://storage.googleapis.com/tensorflow/tf-keras-datasets/mnist.npz\n",
      "11490434/11490434 [==============================] - 0s 0us/step\n"
     ]
    },
    {
     "data": {
      "image/png": "[encoded data removed]",
      "text/plain": [
       "<Figure size 640x480 with 9 Axes>"
      ]
     },
     "metadata": {},
     "output_type": "display_data"
    }
   ],
   "source": [
    "import tensorflow as tf\n",
    "\n",
    "# Load the MNIST dataset\n",
    "mnist = tf.keras.datasets.mnist\n",
    "\n",
    "# Split the dataset into training and testing sets\n",
    "(X_train, y_train), (X_test, y_test) = mnist.load_data()\n",
    "\n",
    "# Normalize the pixel values to be between 0 and 1\n",
    "X_train = X_train / 255.0\n",
    "X_test = X_test / 255.0\n",
    "\n",
    "# plot the first 9 images in the training set\n",
    "import matplotlib.pyplot as plt\n",
    "for i in range(9):\n",
    "    plt.subplot(330 + 1 + i)\n",
    "    plt.imshow(X_train[i], cmap=plt.get_cmap('gray'))\n",
    "plt.show()\n"
   ]
  },
  {
   "cell_type": "markdown",
   "id": "33396b44",
   "metadata": {
    "papermill": {
     "duration": 0.0075,
     "end_time": "2024-02-16T13:36:15.248466",
     "exception": false,
     "start_time": "2024-02-16T13:36:15.240966",
     "status": "completed"
    },
    "tags": []
   },
   "source": [
    "3. **Define your neural network model**:"
   ]
  },
  {
   "cell_type": "code",
   "execution_count": 3,
   "id": "f869098c",
   "metadata": {
    "execution": {
     "iopub.execute_input": "2024-02-16T13:36:15.264877Z",
     "iopub.status.busy": "2024-02-16T13:36:15.264551Z",
     "iopub.status.idle": "2024-02-16T13:36:16.173806Z",
     "shell.execute_reply": "2024-02-16T13:36:16.172848Z"
    },
    "papermill": {
     "duration": 0.920054,
     "end_time": "2024-02-16T13:36:16.176129",
     "exception": false,
     "start_time": "2024-02-16T13:36:15.256075",
     "status": "completed"
    },
    "tags": []
   },
   "outputs": [],
   "source": [
    "# create the model using convolutional layers, max pooling layers, and a dropout layer\n",
    "model = Sequential([\n",
    "    tf.keras.layers.Conv2D(10, (3, 3), activation='relu', input_shape=(28, 28, 1)),\n",
    "    tf.keras.layers.MaxPooling2D((2,2)),\n",
    "    tf.keras.layers.Conv2D(10, (3, 3), activation='relu'),\n",
    "    tf.keras.layers.MaxPooling2D((2,2)),\n",
    "\n",
    "    tf.keras.layers.Conv2D(10, (3, 3), activation='relu'),\n",
    "    tf.keras.layers.Conv2D(10, (3, 3), activation='relu'),\n",
    "    tf.keras.layers.MaxPooling2D((1,1)),  # modify the pool size to match the output shape\n",
    "    tf.keras.layers.Flatten(),\n",
    "    tf.keras.layers.Dropout(0.2),  # add dropout layer with a dropout rate of 0.2\n",
    "    tf.keras.layers.Dense(10, activation='softmax')\n",
    "])"
   ]
  },
  {
   "cell_type": "markdown",
   "id": "407277bc",
   "metadata": {
    "papermill": {
     "duration": 0.00764,
     "end_time": "2024-02-16T13:36:16.191681",
     "exception": false,
     "start_time": "2024-02-16T13:36:16.184041",
     "status": "completed"
    },
    "tags": []
   },
   "source": [
    "4. **Compile your model**:"
   ]
  },
  {
   "cell_type": "code",
   "execution_count": 4,
   "id": "8257a773",
   "metadata": {
    "execution": {
     "iopub.execute_input": "2024-02-16T13:36:16.209144Z",
     "iopub.status.busy": "2024-02-16T13:36:16.208833Z",
     "iopub.status.idle": "2024-02-16T13:36:58.103576Z",
     "shell.execute_reply": "2024-02-16T13:36:58.102660Z"
    },
    "papermill": {
     "duration": 41.90622,
     "end_time": "2024-02-16T13:36:58.105627",
     "exception": false,
     "start_time": "2024-02-16T13:36:16.199407",
     "status": "completed"
    },
    "tags": []
   },
   "outputs": [
    {
     "name": "stdout",
     "output_type": "stream",
     "text": [
      "Epoch 1/5\n"
     ]
    },
    {
     "name": "stderr",
     "output_type": "stream",
     "text": [
      "WARNING: All log messages before absl::InitializeLog() is called are written to STDERR\n",
      "I0000 00:00:1708090580.577241      72 device_compiler.h:186] Compiled cluster using XLA!  This line is logged at most once for the lifetime of the process.\n"
     ]
    },
    {
     "name": "stdout",
     "output_type": "stream",
     "text": [
      "1875/1875 [==============================] - 12s 4ms/step - loss: 0.8316 - accuracy: 0.7113 - val_loss: 0.2208 - val_accuracy: 0.9377\n",
      "Epoch 2/5\n",
      "1875/1875 [==============================] - 7s 4ms/step - loss: 0.4638 - accuracy: 0.8411 - val_loss: 0.1529 - val_accuracy: 0.9565\n",
      "Epoch 3/5\n",
      "1875/1875 [==============================] - 7s 4ms/step - loss: 0.3814 - accuracy: 0.8657 - val_loss: 0.1271 - val_accuracy: 0.9630\n",
      "Epoch 4/5\n",
      "1875/1875 [==============================] - 7s 4ms/step - loss: 0.3462 - accuracy: 0.8771 - val_loss: 0.1096 - val_accuracy: 0.9686\n",
      "Epoch 5/5\n",
      "1875/1875 [==============================] - 7s 4ms/step - loss: 0.3172 - accuracy: 0.8866 - val_loss: 0.0980 - val_accuracy: 0.9713\n",
      "313/313 [==============================] - 1s 2ms/step - loss: 0.0980 - accuracy: 0.9713\n",
      "Test accuracy: 0.9713000059127808\n"
     ]
    },
    {
     "data": {
      "image/png": "[encoded data removed]",
      "text/plain": [
       "<Figure size 640x480 with 1 Axes>"
      ]
     },
     "metadata": {},
     "output_type": "display_data"
    },
    {
     "data": {
      "image/png": "[encoded data removed]",
      "text/plain": [
       "<Figure size 640x480 with 1 Axes>"
      ]
     },
     "metadata": {},
     "output_type": "display_data"
    }
   ],
   "source": [
    "# compile the model \n",
    "model.compile(optimizer='adam',\n",
    "              loss='sparse_categorical_crossentropy',\n",
    "              metrics=['accuracy'])\n",
    "\n",
    "# train the model\n",
    "history = model.fit(X_train, y_train, epochs=5, validation_data=(X_test, y_test))\n",
    "\n",
    "# evaluate the model\n",
    "test_loss, test_acc = model.evaluate(X_test, y_test)\n",
    "print('Test accuracy:', test_acc)\n",
    "\n",
    "# plot the training and validation accuracy and loss at each epoch\n",
    "import matplotlib.pyplot as plt\n",
    "plt.plot(history.history['accuracy'], label='accuracy')\n",
    "plt.plot(history.history['val_accuracy'], label = 'val_accuracy')\n",
    "plt.xlabel('Epoch')\n",
    "plt.ylabel('Accuracy')\n",
    "plt.ylim([0, 1])\n",
    "plt.legend(loc='lower right')\n",
    "plt.show()\n",
    "\n",
    "plt.plot(history.history['loss'], label='loss')\n",
    "plt.plot(history.history['val_loss'], label = 'val_loss')\n",
    "plt.xlabel('Epoch')\n",
    "plt.ylabel('Loss')\n",
    "plt.ylim([0, 1])\n",
    "plt.legend(loc='lower right')\n",
    "plt.show()"
   ]
  },
  {
   "cell_type": "code",
   "execution_count": 5,
   "id": "de615553",
   "metadata": {
    "execution": {
     "iopub.execute_input": "2024-02-16T13:36:58.222508Z",
     "iopub.status.busy": "2024-02-16T13:36:58.222223Z",
     "iopub.status.idle": "2024-02-16T13:36:58.602127Z",
     "shell.execute_reply": "2024-02-16T13:36:58.601257Z"
    },
    "papermill": {
     "duration": 0.440787,
     "end_time": "2024-02-16T13:36:58.604521",
     "exception": false,
     "start_time": "2024-02-16T13:36:58.163734",
     "status": "completed"
    },
    "tags": []
   },
   "outputs": [
    {
     "data": {
      "image/png": "[encoded data removed]",
      "text/plain": [
       "<Figure size 640x480 with 1 Axes>"
      ]
     },
     "metadata": {},
     "output_type": "display_data"
    },
    {
     "data": {
      "image/png": "[encoded data removed]",
      "text/plain": [
       "<Figure size 640x480 with 1 Axes>"
      ]
     },
     "metadata": {},
     "output_type": "display_data"
    }
   ],
   "source": [
    "# plot the training and validation accuracy and loss at each epoch\n",
    "import matplotlib.pyplot as plt\n",
    "plt.plot(history.history['accuracy'], label='accuracy')\n",
    "plt.plot(history.history['val_accuracy'], label = 'val_accuracy')\n",
    "plt.xlabel('Epoch')\n",
    "plt.ylabel('Accuracy')\n",
    "# plt.ylim([0, 1])\n",
    "plt.legend(loc='lower right')\n",
    "plt.show()\n",
    "\n",
    "plt.plot(history.history['loss'], label='loss')\n",
    "plt.plot(history.history['val_loss'], label = 'val_loss')\n",
    "plt.xlabel('Epoch')\n",
    "plt.ylabel('Loss')\n",
    "# plt.ylim([0, 1])\n",
    "plt.legend(loc='lower right')\n",
    "plt.show()"
   ]
  },
  {
   "cell_type": "markdown",
   "id": "d8c696dc",
   "metadata": {
    "papermill": {
     "duration": 0.058108,
     "end_time": "2024-02-16T13:36:58.723018",
     "exception": false,
     "start_time": "2024-02-16T13:36:58.664910",
     "status": "completed"
    },
    "tags": []
   },
   "source": [
    "`Lets's do it with tensorboard`"
   ]
  },
  {
   "cell_type": "code",
   "execution_count": 6,
   "id": "b8ca29df",
   "metadata": {
    "execution": {
     "iopub.execute_input": "2024-02-16T13:36:58.841794Z",
     "iopub.status.busy": "2024-02-16T13:36:58.841377Z",
     "iopub.status.idle": "2024-02-16T13:36:58.933045Z",
     "shell.execute_reply": "2024-02-16T13:36:58.932287Z"
    },
    "papermill": {
     "duration": 0.154039,
     "end_time": "2024-02-16T13:36:58.934946",
     "exception": false,
     "start_time": "2024-02-16T13:36:58.780907",
     "status": "completed"
    },
    "tags": []
   },
   "outputs": [],
   "source": [
    "# create the model using convolutional layers, max pooling layers, and a dropout layer\n",
    "model = Sequential([\n",
    "    tf.keras.layers.Conv2D(10, (3, 3), activation='relu', input_shape=(28, 28, 1)),\n",
    "    tf.keras.layers.MaxPooling2D((2,2)),\n",
    "    tf.keras.layers.Conv2D(10, (3, 3), activation='relu'),\n",
    "    tf.keras.layers.MaxPooling2D((2,2)),\n",
    "\n",
    "    tf.keras.layers.Conv2D(10, (3, 3), activation='relu'),\n",
    "    tf.keras.layers.Conv2D(10, (3, 3), activation='relu'),\n",
    "    tf.keras.layers.MaxPooling2D((1,1)),  # modify the pool size to match the output shape\n",
    "    tf.keras.layers.Flatten(),\n",
    "    tf.keras.layers.Dropout(0.2),  # add dropout layer with a dropout rate of 0.2\n",
    "    tf.keras.layers.Dense(10, activation='softmax')\n",
    "])\n",
    "# compile the model\n",
    "model.compile(optimizer='adam',\n",
    "              loss='sparse_categorical_crossentropy',\n",
    "              metrics=['accuracy'])"
   ]
  },
  {
   "cell_type": "markdown",
   "id": "db1babc2",
   "metadata": {
    "papermill": {
     "duration": 0.057899,
     "end_time": "2024-02-16T13:36:59.051211",
     "exception": false,
     "start_time": "2024-02-16T13:36:58.993312",
     "status": "completed"
    },
    "tags": []
   },
   "source": [
    "5. **Set up TensorBoard callback**:"
   ]
  },
  {
   "cell_type": "code",
   "execution_count": 7,
   "id": "60f70daa",
   "metadata": {
    "execution": {
     "iopub.execute_input": "2024-02-16T13:36:59.169390Z",
     "iopub.status.busy": "2024-02-16T13:36:59.169085Z",
     "iopub.status.idle": "2024-02-16T13:37:00.152373Z",
     "shell.execute_reply": "2024-02-16T13:37:00.151018Z"
    },
    "papermill": {
     "duration": 1.045351,
     "end_time": "2024-02-16T13:37:00.154938",
     "exception": false,
     "start_time": "2024-02-16T13:36:59.109587",
     "status": "completed"
    },
    "tags": []
   },
   "outputs": [],
   "source": [
    "# Clear any logs from previous runs\n",
    "!rm -rf ./logs/"
   ]
  },
  {
   "cell_type": "code",
   "execution_count": 8,
   "id": "9a23c02f",
   "metadata": {
    "execution": {
     "iopub.execute_input": "2024-02-16T13:37:00.313840Z",
     "iopub.status.busy": "2024-02-16T13:37:00.313451Z",
     "iopub.status.idle": "2024-02-16T13:37:00.324106Z",
     "shell.execute_reply": "2024-02-16T13:37:00.323418Z"
    },
    "papermill": {
     "duration": 0.072431,
     "end_time": "2024-02-16T13:37:00.325990",
     "exception": false,
     "start_time": "2024-02-16T13:37:00.253559",
     "status": "completed"
    },
    "tags": []
   },
   "outputs": [],
   "source": [
    "tensorboard_callback = TensorBoard(log_dir='./logs/adam', histogram_freq=1)"
   ]
  },
  {
   "cell_type": "markdown",
   "id": "fdff584a",
   "metadata": {
    "papermill": {
     "duration": 0.057972,
     "end_time": "2024-02-16T13:37:00.442147",
     "exception": false,
     "start_time": "2024-02-16T13:37:00.384175",
     "status": "completed"
    },
    "tags": []
   },
   "source": [
    "6. **Train your model**:"
   ]
  },
  {
   "cell_type": "code",
   "execution_count": 9,
   "id": "669005de",
   "metadata": {
    "execution": {
     "iopub.execute_input": "2024-02-16T13:37:00.560744Z",
     "iopub.status.busy": "2024-02-16T13:37:00.560425Z",
     "iopub.status.idle": "2024-02-16T13:37:40.310754Z",
     "shell.execute_reply": "2024-02-16T13:37:40.309767Z"
    },
    "papermill": {
     "duration": 39.811915,
     "end_time": "2024-02-16T13:37:40.313011",
     "exception": false,
     "start_time": "2024-02-16T13:37:00.501096",
     "status": "completed"
    },
    "tags": []
   },
   "outputs": [
    {
     "name": "stdout",
     "output_type": "stream",
     "text": [
      "Epoch 1/5\n",
      "1875/1875 [==============================] - 9s 4ms/step - loss: 0.8529 - accuracy: 0.6975 - val_loss: 0.2502 - val_accuracy: 0.9352\n",
      "Epoch 2/5\n",
      "1875/1875 [==============================] - 8s 4ms/step - loss: 0.4485 - accuracy: 0.8487 - val_loss: 0.1287 - val_accuracy: 0.9624\n",
      "Epoch 3/5\n",
      "1875/1875 [==============================] - 7s 4ms/step - loss: 0.3610 - accuracy: 0.8769 - val_loss: 0.1061 - val_accuracy: 0.9710\n",
      "Epoch 4/5\n",
      "1875/1875 [==============================] - 7s 4ms/step - loss: 0.3195 - accuracy: 0.8942 - val_loss: 0.0979 - val_accuracy: 0.9733\n",
      "Epoch 5/5\n",
      "1875/1875 [==============================] - 7s 4ms/step - loss: 0.2893 - accuracy: 0.9043 - val_loss: 0.0898 - val_accuracy: 0.9740\n"
     ]
    },
    {
     "data": {
      "text/plain": [
       "<keras.src.callbacks.History at 0x7b0e40643a60>"
      ]
     },
     "execution_count": 9,
     "metadata": {},
     "output_type": "execute_result"
    }
   ],
   "source": [
    "model.fit(X_train, y_train, epochs=5, batch_size=32, validation_data=(X_test,y_test), callbacks=[tensorboard_callback])"
   ]
  },
  {
   "cell_type": "markdown",
   "id": "e50153a6",
   "metadata": {
    "papermill": {
     "duration": 0.109838,
     "end_time": "2024-02-16T13:37:40.534261",
     "exception": false,
     "start_time": "2024-02-16T13:37:40.424423",
     "status": "completed"
    },
    "tags": []
   },
   "source": [
    "7. **Run TensorBoard**:\n",
    "\n",
    "Open a terminal and navigate to your working directory. Then run:\n"
   ]
  },
  {
   "cell_type": "code",
   "execution_count": 10,
   "id": "b499e470",
   "metadata": {
    "execution": {
     "iopub.execute_input": "2024-02-16T13:37:40.764410Z",
     "iopub.status.busy": "2024-02-16T13:37:40.764048Z",
     "iopub.status.idle": "2024-02-16T13:37:40.779762Z",
     "shell.execute_reply": "2024-02-16T13:37:40.778973Z"
    },
    "papermill": {
     "duration": 0.132902,
     "end_time": "2024-02-16T13:37:40.781637",
     "exception": false,
     "start_time": "2024-02-16T13:37:40.648735",
     "status": "completed"
    },
    "tags": []
   },
   "outputs": [],
   "source": [
    "# Activate inline tensorboard extension\n",
    "%load_ext tensorboard"
   ]
  },
  {
   "cell_type": "code",
   "execution_count": 11,
   "id": "ad8a1df7",
   "metadata": {
    "execution": {
     "iopub.execute_input": "2024-02-16T13:37:41.007290Z",
     "iopub.status.busy": "2024-02-16T13:37:41.006694Z",
     "iopub.status.idle": "2024-02-16T13:37:47.027210Z",
     "shell.execute_reply": "2024-02-16T13:37:47.026273Z"
    },
    "papermill": {
     "duration": 6.136313,
     "end_time": "2024-02-16T13:37:47.029189",
     "exception": false,
     "start_time": "2024-02-16T13:37:40.892876",
     "status": "completed"
    },
    "tags": []
   },
   "outputs": [
    {
     "data": {
      "text/html": [
       "\n",
       "      <iframe id=\"tensorboard-frame-14d1033df9de2dd0\" width=\"100%\" height=\"800\" frameborder=\"0\">\n",
       "      </iframe>\n",
       "      <script>\n",
       "        (function() {\n",
       "          const frame = document.getElementById(\"tensorboard-frame-14d1033df9de2dd0\");\n",
       "          const url = new URL(\"/\", window.location);\n",
       "          const port = 6006;\n",
       "          if (port) {\n",
       "            url.port = port;\n",
       "          }\n",
       "          frame.src = url;\n",
       "        })();\n",
       "      </script>\n",
       "    "
      ],
      "text/plain": [
       "<IPython.core.display.HTML object>"
      ]
     },
     "metadata": {},
     "output_type": "display_data"
    }
   ],
   "source": [
    "# run tensorboad in the notebook try using with and without %sign\n",
    "%tensorboard --logdir=./logs"
   ]
  },
  {
   "cell_type": "markdown",
   "id": "04cce20d",
   "metadata": {
    "papermill": {
     "duration": 0.114838,
     "end_time": "2024-02-16T13:37:47.256665",
     "exception": false,
     "start_time": "2024-02-16T13:37:47.141827",
     "status": "completed"
    },
    "tags": []
   },
   "source": [
    "8. **Visualize training progress**:\n",
    "\n",
    "Once TensorBoard is running, you can navigate to the Scalars tab to visualize metrics like loss and accuracy over training epochs. You can also explore other tabs like Graphs, Histograms, and Distributions to gain insights into your model's structure and behavior.\n",
    "\n",
    "That's it! This is a basic example of how to use TensorBoard to visualize the training process of a simple neural network for rectangular data. You can further customize the TensorBoard callback to log additional information or use more advanced features as needed."
   ]
  },
  {
   "cell_type": "markdown",
   "id": "0c5d356b",
   "metadata": {
    "papermill": {
     "duration": 0.112497,
     "end_time": "2024-02-16T13:37:47.485855",
     "exception": false,
     "start_time": "2024-02-16T13:37:47.373358",
     "status": "completed"
    },
    "tags": []
   },
   "source": [
    "9. **Hyper parameter Tuning and visualization**:"
   ]
  },
  {
   "cell_type": "code",
   "execution_count": 12,
   "id": "0546e0f6",
   "metadata": {
    "execution": {
     "iopub.execute_input": "2024-02-16T13:37:47.708658Z",
     "iopub.status.busy": "2024-02-16T13:37:47.707808Z",
     "iopub.status.idle": "2024-02-16T13:38:25.388841Z",
     "shell.execute_reply": "2024-02-16T13:38:25.387967Z"
    },
    "papermill": {
     "duration": 37.794886,
     "end_time": "2024-02-16T13:38:25.390801",
     "exception": false,
     "start_time": "2024-02-16T13:37:47.595915",
     "status": "completed"
    },
    "tags": []
   },
   "outputs": [
    {
     "name": "stdout",
     "output_type": "stream",
     "text": [
      "Epoch 1/5\n",
      "1875/1875 [==============================] - 8s 4ms/step - loss: 1.5024 - accuracy: 0.4941 - val_loss: 0.6799 - val_accuracy: 0.8375\n",
      "Epoch 2/5\n",
      "1875/1875 [==============================] - 7s 4ms/step - loss: 0.7473 - accuracy: 0.7697 - val_loss: 0.3517 - val_accuracy: 0.9186\n",
      "Epoch 3/5\n",
      "1875/1875 [==============================] - 7s 4ms/step - loss: 0.5264 - accuracy: 0.8320 - val_loss: 0.2167 - val_accuracy: 0.9442\n",
      "Epoch 4/5\n",
      "1875/1875 [==============================] - 7s 4ms/step - loss: 0.4329 - accuracy: 0.8623 - val_loss: 0.1687 - val_accuracy: 0.9559\n",
      "Epoch 5/5\n",
      "1875/1875 [==============================] - 7s 4ms/step - loss: 0.3695 - accuracy: 0.8807 - val_loss: 0.1437 - val_accuracy: 0.9612\n"
     ]
    },
    {
     "data": {
      "text/plain": [
       "Reusing TensorBoard on port 6006 (pid 316), started 0:00:39 ago. (Use '!kill 316' to kill it.)"
      ]
     },
     "metadata": {},
     "output_type": "display_data"
    },
    {
     "data": {
      "text/html": [
       "\n",
       "      <iframe id=\"tensorboard-frame-27b7b19304fe1a58\" width=\"100%\" height=\"800\" frameborder=\"0\">\n",
       "      </iframe>\n",
       "      <script>\n",
       "        (function() {\n",
       "          const frame = document.getElementById(\"tensorboard-frame-27b7b19304fe1a58\");\n",
       "          const url = new URL(\"/\", window.location);\n",
       "          const port = 6006;\n",
       "          if (port) {\n",
       "            url.port = port;\n",
       "          }\n",
       "          frame.src = url;\n",
       "        })();\n",
       "      </script>\n",
       "    "
      ],
      "text/plain": [
       "<IPython.core.display.HTML object>"
      ]
     },
     "metadata": {},
     "output_type": "display_data"
    }
   ],
   "source": [
    "# create the model using convolutional layers, max pooling layers, and a dropout layer\n",
    "model = Sequential([\n",
    "    tf.keras.layers.Conv2D(10, (3, 3), activation='relu', input_shape=(28, 28, 1)),\n",
    "    tf.keras.layers.MaxPooling2D((2,2)),\n",
    "    tf.keras.layers.Conv2D(10, (3, 3), activation='relu'),\n",
    "    tf.keras.layers.MaxPooling2D((2,2)),\n",
    "\n",
    "    tf.keras.layers.Conv2D(10, (3, 3), activation='relu'),\n",
    "    tf.keras.layers.Conv2D(10, (3, 3), activation='relu'),\n",
    "    tf.keras.layers.MaxPooling2D((1,1)),  # modify the pool size to match the output shape\n",
    "    tf.keras.layers.Flatten(),\n",
    "    tf.keras.layers.Dropout(0.2),  # add dropout layer with a dropout rate of 0.2\n",
    "    tf.keras.layers.Dense(10, activation='softmax')\n",
    "])\n",
    "# compile the model with SGD optimizer\n",
    "model.compile(optimizer='SGD',\n",
    "              loss='sparse_categorical_crossentropy',\n",
    "              metrics=['accuracy'])\n",
    "\n",
    "tensorboard_callback = TensorBoard(log_dir='./logs/SGD', histogram_freq=1)\n",
    "model.fit(X_train, y_train, epochs=5, batch_size=32, validation_data=(X_test,y_test), callbacks=[tensorboard_callback])\n",
    "%tensorboard --logdir=./logs"
   ]
  },
  {
   "cell_type": "markdown",
   "id": "b0dc0d24",
   "metadata": {
    "papermill": {
     "duration": 0.163073,
     "end_time": "2024-02-16T13:38:25.727065",
     "exception": false,
     "start_time": "2024-02-16T13:38:25.563992",
     "status": "completed"
    },
    "tags": []
   },
   "source": [
    "# Hyper-Paramter Tuning and Visualization using Tensorboard"
   ]
  },
  {
   "cell_type": "code",
   "execution_count": 13,
   "id": "cce041f2",
   "metadata": {
    "execution": {
     "iopub.execute_input": "2024-02-16T13:38:26.057984Z",
     "iopub.status.busy": "2024-02-16T13:38:26.057084Z",
     "iopub.status.idle": "2024-02-16T13:43:15.500045Z",
     "shell.execute_reply": "2024-02-16T13:43:15.499085Z"
    },
    "papermill": {
     "duration": 289.610444,
     "end_time": "2024-02-16T13:43:15.501940",
     "exception": false,
     "start_time": "2024-02-16T13:38:25.891496",
     "status": "completed"
    },
    "tags": []
   },
   "outputs": [
    {
     "name": "stdout",
     "output_type": "stream",
     "text": [
      "Epoch 1/5\n",
      "3750/3750 [==============================] - 15s 4ms/step - loss: 1.1633 - accuracy: 0.6057 - val_loss: 0.3510 - val_accuracy: 0.9009\n",
      "Epoch 2/5\n",
      "3750/3750 [==============================] - 14s 4ms/step - loss: 0.5253 - accuracy: 0.8335 - val_loss: 0.1802 - val_accuracy: 0.9497\n",
      "Epoch 3/5\n",
      "3750/3750 [==============================] - 14s 4ms/step - loss: 0.4074 - accuracy: 0.8741 - val_loss: 0.1497 - val_accuracy: 0.9585\n",
      "Epoch 4/5\n",
      "3750/3750 [==============================] - 14s 4ms/step - loss: 0.3412 - accuracy: 0.8954 - val_loss: 0.1274 - val_accuracy: 0.9644\n",
      "Epoch 5/5\n",
      "3750/3750 [==============================] - 14s 4ms/step - loss: 0.3002 - accuracy: 0.9092 - val_loss: 0.1200 - val_accuracy: 0.9645\n",
      "Epoch 1/5\n",
      "1875/1875 [==============================] - 8s 4ms/step - loss: 0.2682 - accuracy: 0.9183 - val_loss: 0.0985 - val_accuracy: 0.9729\n",
      "Epoch 2/5\n",
      "1875/1875 [==============================] - 8s 4ms/step - loss: 0.2517 - accuracy: 0.9226 - val_loss: 0.0997 - val_accuracy: 0.9708\n",
      "Epoch 3/5\n",
      "1875/1875 [==============================] - 8s 4ms/step - loss: 0.2434 - accuracy: 0.9256 - val_loss: 0.0963 - val_accuracy: 0.9735\n",
      "Epoch 4/5\n",
      "1875/1875 [==============================] - 8s 4ms/step - loss: 0.2418 - accuracy: 0.9236 - val_loss: 0.0926 - val_accuracy: 0.9731\n",
      "Epoch 5/5\n",
      "1875/1875 [==============================] - 8s 4ms/step - loss: 0.2371 - accuracy: 0.9256 - val_loss: 0.0857 - val_accuracy: 0.9777\n",
      "Epoch 1/5\n",
      "938/938 [==============================] - 5s 4ms/step - loss: 0.2246 - accuracy: 0.9300 - val_loss: 0.0854 - val_accuracy: 0.9767\n",
      "Epoch 2/5\n",
      "938/938 [==============================] - 4s 4ms/step - loss: 0.2169 - accuracy: 0.9314 - val_loss: 0.0841 - val_accuracy: 0.9759\n",
      "Epoch 3/5\n",
      "938/938 [==============================] - 4s 4ms/step - loss: 0.2171 - accuracy: 0.9308 - val_loss: 0.0808 - val_accuracy: 0.9769\n",
      "Epoch 4/5\n",
      "938/938 [==============================] - 4s 4ms/step - loss: 0.2163 - accuracy: 0.9331 - val_loss: 0.0820 - val_accuracy: 0.9770\n",
      "Epoch 5/5\n",
      "938/938 [==============================] - 4s 4ms/step - loss: 0.2139 - accuracy: 0.9310 - val_loss: 0.0777 - val_accuracy: 0.9778\n",
      "Epoch 1/5\n",
      "469/469 [==============================] - 3s 5ms/step - loss: 0.2102 - accuracy: 0.9331 - val_loss: 0.0761 - val_accuracy: 0.9787\n",
      "Epoch 2/5\n",
      "469/469 [==============================] - 2s 4ms/step - loss: 0.2062 - accuracy: 0.9358 - val_loss: 0.0755 - val_accuracy: 0.9790\n",
      "Epoch 3/5\n",
      "469/469 [==============================] - 2s 4ms/step - loss: 0.2087 - accuracy: 0.9330 - val_loss: 0.0758 - val_accuracy: 0.9784\n",
      "Epoch 4/5\n",
      "469/469 [==============================] - 2s 4ms/step - loss: 0.2102 - accuracy: 0.9331 - val_loss: 0.0746 - val_accuracy: 0.9793\n",
      "Epoch 5/5\n",
      "469/469 [==============================] - 2s 4ms/step - loss: 0.2037 - accuracy: 0.9343 - val_loss: 0.0744 - val_accuracy: 0.9796\n",
      "Epoch 1/5\n",
      "3750/3750 [==============================] - 16s 4ms/step - loss: 0.7006 - accuracy: 0.7505 - val_loss: 0.1873 - val_accuracy: 0.9514\n",
      "Epoch 2/5\n",
      "3750/3750 [==============================] - 14s 4ms/step - loss: 0.3578 - accuracy: 0.8784 - val_loss: 0.1111 - val_accuracy: 0.9696\n",
      "Epoch 3/5\n",
      "3750/3750 [==============================] - 14s 4ms/step - loss: 0.2894 - accuracy: 0.9021 - val_loss: 0.0883 - val_accuracy: 0.9748\n",
      "Epoch 4/5\n",
      "3750/3750 [==============================] - 14s 4ms/step - loss: 0.2626 - accuracy: 0.9140 - val_loss: 0.0789 - val_accuracy: 0.9769\n",
      "Epoch 5/5\n",
      "3750/3750 [==============================] - 14s 4ms/step - loss: 0.2419 - accuracy: 0.9223 - val_loss: 0.0806 - val_accuracy: 0.9782\n",
      "Epoch 1/5\n",
      "1875/1875 [==============================] - 8s 4ms/step - loss: 0.2166 - accuracy: 0.9300 - val_loss: 0.0654 - val_accuracy: 0.9808\n",
      "Epoch 2/5\n",
      "1875/1875 [==============================] - 8s 4ms/step - loss: 0.2129 - accuracy: 0.9322 - val_loss: 0.0688 - val_accuracy: 0.9808\n",
      "Epoch 3/5\n",
      "1875/1875 [==============================] - 8s 4ms/step - loss: 0.1824 - accuracy: 0.9425 - val_loss: 0.0692 - val_accuracy: 0.9803\n",
      "Epoch 4/5\n",
      "1875/1875 [==============================] - 8s 4ms/step - loss: 0.1679 - accuracy: 0.9466 - val_loss: 0.0620 - val_accuracy: 0.9832\n",
      "Epoch 5/5\n",
      "1875/1875 [==============================] - 8s 4ms/step - loss: 0.1630 - accuracy: 0.9481 - val_loss: 0.0604 - val_accuracy: 0.9840\n",
      "Epoch 1/5\n",
      "938/938 [==============================] - 4s 4ms/step - loss: 0.1500 - accuracy: 0.9527 - val_loss: 0.0560 - val_accuracy: 0.9844\n",
      "Epoch 2/5\n",
      "938/938 [==============================] - 4s 4ms/step - loss: 0.1506 - accuracy: 0.9526 - val_loss: 0.0578 - val_accuracy: 0.9839\n",
      "Epoch 3/5\n",
      "938/938 [==============================] - 4s 4ms/step - loss: 0.1479 - accuracy: 0.9526 - val_loss: 0.0601 - val_accuracy: 0.9835\n",
      "Epoch 4/5\n",
      "938/938 [==============================] - 4s 4ms/step - loss: 0.1482 - accuracy: 0.9529 - val_loss: 0.0576 - val_accuracy: 0.9845\n",
      "Epoch 5/5\n",
      "938/938 [==============================] - 4s 4ms/step - loss: 0.1469 - accuracy: 0.9528 - val_loss: 0.0591 - val_accuracy: 0.9844\n",
      "Epoch 1/5\n",
      "469/469 [==============================] - 2s 5ms/step - loss: 0.1364 - accuracy: 0.9570 - val_loss: 0.0591 - val_accuracy: 0.9844\n",
      "Epoch 2/5\n",
      "469/469 [==============================] - 2s 4ms/step - loss: 0.1409 - accuracy: 0.9543 - val_loss: 0.0559 - val_accuracy: 0.9865\n",
      "Epoch 3/5\n",
      "469/469 [==============================] - 2s 4ms/step - loss: 0.1380 - accuracy: 0.9561 - val_loss: 0.0546 - val_accuracy: 0.9854\n",
      "Epoch 4/5\n",
      "469/469 [==============================] - 2s 4ms/step - loss: 0.1360 - accuracy: 0.9571 - val_loss: 0.0559 - val_accuracy: 0.9851\n",
      "Epoch 5/5\n",
      "469/469 [==============================] - 2s 4ms/step - loss: 0.1366 - accuracy: 0.9554 - val_loss: 0.0593 - val_accuracy: 0.9848\n",
      "The tensorboard extension is already loaded. To reload it, use:\n",
      "  %reload_ext tensorboard\n"
     ]
    },
    {
     "data": {
      "text/plain": [
       "Reusing TensorBoard on port 6006 (pid 316), started 0:05:29 ago. (Use '!kill 316' to kill it.)"
      ]
     },
     "metadata": {},
     "output_type": "display_data"
    },
    {
     "data": {
      "text/html": [
       "\n",
       "      <iframe id=\"tensorboard-frame-220601d801ffa0e7\" width=\"100%\" height=\"800\" frameborder=\"0\">\n",
       "      </iframe>\n",
       "      <script>\n",
       "        (function() {\n",
       "          const frame = document.getElementById(\"tensorboard-frame-220601d801ffa0e7\");\n",
       "          const url = new URL(\"/\", window.location);\n",
       "          const port = 6006;\n",
       "          if (port) {\n",
       "            url.port = port;\n",
       "          }\n",
       "          frame.src = url;\n",
       "        })();\n",
       "      </script>\n",
       "    "
      ],
      "text/plain": [
       "<IPython.core.display.HTML object>"
      ]
     },
     "metadata": {},
     "output_type": "display_data"
    }
   ],
   "source": [
    "# Define different optimizers\n",
    "optimizers = ['SGD', 'Adam']\n",
    "\n",
    "# Train the model with different optimizers and store each optimizer in a different callback function\n",
    "for optimizer in optimizers:\n",
    "    model = Sequential([\n",
    "        tf.keras.layers.Conv2D(10, (3, 3), activation='relu', input_shape=(28, 28, 1)),\n",
    "        tf.keras.layers.MaxPooling2D((2,2)),\n",
    "        tf.keras.layers.Conv2D(10, (3, 3), activation='relu'),\n",
    "        tf.keras.layers.MaxPooling2D((2,2)),\n",
    "        tf.keras.layers.Conv2D(10, (3, 3), activation='relu'),\n",
    "        tf.keras.layers.Conv2D(10, (3, 3), activation='relu'),\n",
    "        tf.keras.layers.MaxPooling2D((1,1)),\n",
    "        tf.keras.layers.Flatten(),\n",
    "        tf.keras.layers.Dropout(0.2),\n",
    "        tf.keras.layers.Dense(10, activation='softmax')\n",
    "    ])\n",
    "    \n",
    "    model.compile(optimizer=optimizer,\n",
    "                  loss='sparse_categorical_crossentropy',\n",
    "                  metrics=['accuracy'])\n",
    "    \n",
    "    # Define different batch sizes\n",
    "    batch_sizes = [16, 32, 64, 128]\n",
    "    \n",
    "    # Train the model with different batch sizes and store each batch size in a different callback function\n",
    "    for batch_size in batch_sizes:\n",
    "        log_dir = f'./logs/{optimizer}_batch_size_{batch_size}'\n",
    "        tensorboard_callback = TensorBoard(log_dir=log_dir, histogram_freq=1)\n",
    "        model.fit(X_train, y_train, epochs=5, batch_size=batch_size, validation_data=(X_test,y_test), callbacks=[tensorboard_callback])\n",
    "\n",
    "# Load the TensorBoard notebook extension\n",
    "%load_ext tensorboard\n",
    "\n",
    "# Run TensorBoard\n",
    "%tensorboard --logdir=./logs"
   ]
  },
  {
   "cell_type": "markdown",
   "id": "412d7d4e",
   "metadata": {
    "papermill": {
     "duration": 0.565548,
     "end_time": "2024-02-16T13:43:16.632996",
     "exception": false,
     "start_time": "2024-02-16T13:43:16.067448",
     "status": "completed"
    },
    "tags": []
   },
   "source": [
    "# **`Run Hyperparameter tuning and save the best model using TensorBoard.`**"
   ]
  },
  {
   "cell_type": "code",
   "execution_count": 14,
   "id": "e6313803",
   "metadata": {
    "execution": {
     "iopub.execute_input": "2024-02-16T13:43:17.815668Z",
     "iopub.status.busy": "2024-02-16T13:43:17.815012Z",
     "iopub.status.idle": "2024-02-16T13:48:18.116916Z",
     "shell.execute_reply": "2024-02-16T13:48:18.115748Z"
    },
    "papermill": {
     "duration": 300.87172,
     "end_time": "2024-02-16T13:48:18.118861",
     "exception": false,
     "start_time": "2024-02-16T13:43:17.247141",
     "status": "completed"
    },
    "tags": []
   },
   "outputs": [
    {
     "name": "stdout",
     "output_type": "stream",
     "text": [
      "Epoch 1/5\n",
      "3745/3750 [============================>.] - ETA: 0s - loss: 0.9327 - accuracy: 0.6783\n",
      "Epoch 1: val_accuracy improved from -inf to 0.93530, saving model to ./models/best_model_SGD_batch_size_16.h5\n",
      "3750/3750 [==============================] - 15s 4ms/step - loss: 0.9322 - accuracy: 0.6785 - val_loss: 0.2384 - val_accuracy: 0.9353\n",
      "Epoch 2/5\n",
      "3737/3750 [============================>.] - ETA: 0s - loss: 0.4176 - accuracy: 0.8584\n",
      "Epoch 2: val_accuracy improved from 0.93530 to 0.95740, saving model to ./models/best_model_SGD_batch_size_16.h5\n",
      "3750/3750 [==============================] - 14s 4ms/step - loss: 0.4174 - accuracy: 0.8584 - val_loss: 0.1475 - val_accuracy: 0.9574\n",
      "Epoch 3/5\n",
      "3742/3750 [============================>.] - ETA: 0s - loss: 0.3532 - accuracy: 0.8822\n",
      "Epoch 3: val_accuracy improved from 0.95740 to 0.96600, saving model to ./models/best_model_SGD_batch_size_16.h5\n",
      "3750/3750 [==============================] - 14s 4ms/step - loss: 0.3531 - accuracy: 0.8823 - val_loss: 0.1192 - val_accuracy: 0.9660\n",
      "Epoch 4/5\n",
      "3742/3750 [============================>.] - ETA: 0s - loss: 0.3202 - accuracy: 0.8937\n",
      "Epoch 4: val_accuracy did not improve from 0.96600\n",
      "3750/3750 [==============================] - 14s 4ms/step - loss: 0.3201 - accuracy: 0.8938 - val_loss: 0.1154 - val_accuracy: 0.9642\n",
      "Epoch 5/5\n",
      "3737/3750 [============================>.] - ETA: 0s - loss: 0.2925 - accuracy: 0.9021\n",
      "Epoch 5: val_accuracy did not improve from 0.96600\n",
      "3750/3750 [==============================] - 14s 4ms/step - loss: 0.2926 - accuracy: 0.9021 - val_loss: 0.1400 - val_accuracy: 0.9572\n",
      "Epoch 1/5\n",
      "1865/1875 [============================>.] - ETA: 0s - loss: 0.2680 - accuracy: 0.9117\n",
      "Epoch 1: val_accuracy improved from -inf to 0.97260, saving model to ./models/best_model_SGD_batch_size_32.h5\n",
      "1875/1875 [==============================] - 8s 4ms/step - loss: 0.2680 - accuracy: 0.9116 - val_loss: 0.0918 - val_accuracy: 0.9726\n",
      "Epoch 2/5\n",
      "1864/1875 [============================>.] - ETA: 0s - loss: 0.2584 - accuracy: 0.9144\n",
      "Epoch 2: val_accuracy did not improve from 0.97260\n",
      "1875/1875 [==============================] - 8s 4ms/step - loss: 0.2584 - accuracy: 0.9143 - val_loss: 0.0901 - val_accuracy: 0.9717\n",
      "Epoch 3/5\n",
      "1865/1875 [============================>.] - ETA: 0s - loss: 0.2529 - accuracy: 0.9169\n",
      "Epoch 3: val_accuracy improved from 0.97260 to 0.97340, saving model to ./models/best_model_SGD_batch_size_32.h5\n",
      "1875/1875 [==============================] - 8s 4ms/step - loss: 0.2526 - accuracy: 0.9170 - val_loss: 0.0871 - val_accuracy: 0.9734\n",
      "Epoch 4/5\n",
      "1875/1875 [==============================] - ETA: 0s - loss: 0.2471 - accuracy: 0.9176\n",
      "Epoch 4: val_accuracy improved from 0.97340 to 0.97400, saving model to ./models/best_model_SGD_batch_size_32.h5\n",
      "1875/1875 [==============================] - 8s 4ms/step - loss: 0.2471 - accuracy: 0.9176 - val_loss: 0.0848 - val_accuracy: 0.9740\n",
      "Epoch 5/5\n",
      "1862/1875 [============================>.] - ETA: 0s - loss: 0.2423 - accuracy: 0.9208\n",
      "Epoch 5: val_accuracy improved from 0.97400 to 0.97420, saving model to ./models/best_model_SGD_batch_size_32.h5\n",
      "1875/1875 [==============================] - 8s 4ms/step - loss: 0.2422 - accuracy: 0.9207 - val_loss: 0.0848 - val_accuracy: 0.9742\n",
      "Epoch 1/5\n",
      "937/938 [============================>.] - ETA: 0s - loss: 0.2318 - accuracy: 0.9220\n",
      "Epoch 1: val_accuracy improved from -inf to 0.97550, saving model to ./models/best_model_SGD_batch_size_64.h5\n",
      "938/938 [==============================] - 4s 4ms/step - loss: 0.2318 - accuracy: 0.9220 - val_loss: 0.0793 - val_accuracy: 0.9755\n",
      "Epoch 2/5\n",
      "932/938 [============================>.] - ETA: 0s - loss: 0.2320 - accuracy: 0.9231\n",
      "Epoch 2: val_accuracy improved from 0.97550 to 0.97580, saving model to ./models/best_model_SGD_batch_size_64.h5\n",
      "938/938 [==============================] - 4s 4ms/step - loss: 0.2321 - accuracy: 0.9230 - val_loss: 0.0796 - val_accuracy: 0.9758\n",
      "Epoch 3/5\n",
      "931/938 [============================>.] - ETA: 0s - loss: 0.2298 - accuracy: 0.9242\n",
      "Epoch 3: val_accuracy did not improve from 0.97580\n",
      "938/938 [==============================] - 4s 4ms/step - loss: 0.2300 - accuracy: 0.9241 - val_loss: 0.0855 - val_accuracy: 0.9724\n",
      "Epoch 4/5\n",
      "926/938 [============================>.] - ETA: 0s - loss: 0.2265 - accuracy: 0.9256\n",
      "Epoch 4: val_accuracy improved from 0.97580 to 0.97620, saving model to ./models/best_model_SGD_batch_size_64.h5\n",
      "938/938 [==============================] - 4s 4ms/step - loss: 0.2262 - accuracy: 0.9258 - val_loss: 0.0786 - val_accuracy: 0.9762\n",
      "Epoch 5/5\n",
      "935/938 [============================>.] - ETA: 0s - loss: 0.2239 - accuracy: 0.9257\n",
      "Epoch 5: val_accuracy improved from 0.97620 to 0.97670, saving model to ./models/best_model_SGD_batch_size_64.h5\n",
      "938/938 [==============================] - 4s 4ms/step - loss: 0.2239 - accuracy: 0.9258 - val_loss: 0.0780 - val_accuracy: 0.9767\n",
      "Epoch 1/5\n",
      "460/469 [============================>.] - ETA: 0s - loss: 0.2227 - accuracy: 0.9261\n",
      "Epoch 1: val_accuracy improved from -inf to 0.97560, saving model to ./models/best_model_SGD_batch_size_128.h5\n",
      "469/469 [==============================] - 2s 5ms/step - loss: 0.2228 - accuracy: 0.9259 - val_loss: 0.0789 - val_accuracy: 0.9756\n",
      "Epoch 2/5\n",
      "461/469 [============================>.] - ETA: 0s - loss: 0.2179 - accuracy: 0.9275\n",
      "Epoch 2: val_accuracy improved from 0.97560 to 0.97660, saving model to ./models/best_model_SGD_batch_size_128.h5\n",
      "469/469 [==============================] - 2s 4ms/step - loss: 0.2182 - accuracy: 0.9273 - val_loss: 0.0756 - val_accuracy: 0.9766\n",
      "Epoch 3/5\n",
      "462/469 [============================>.] - ETA: 0s - loss: 0.2175 - accuracy: 0.9275\n",
      "Epoch 3: val_accuracy improved from 0.97660 to 0.97790, saving model to ./models/best_model_SGD_batch_size_128.h5\n",
      "469/469 [==============================] - 2s 5ms/step - loss: 0.2173 - accuracy: 0.9275 - val_loss: 0.0763 - val_accuracy: 0.9779\n",
      "Epoch 4/5\n",
      "462/469 [============================>.] - ETA: 0s - loss: 0.2146 - accuracy: 0.9286\n",
      "Epoch 4: val_accuracy did not improve from 0.97790\n",
      "469/469 [==============================] - 2s 4ms/step - loss: 0.2153 - accuracy: 0.9284 - val_loss: 0.0728 - val_accuracy: 0.9777\n",
      "Epoch 5/5\n",
      "457/469 [============================>.] - ETA: 0s - loss: 0.2147 - accuracy: 0.9298\n",
      "Epoch 5: val_accuracy did not improve from 0.97790\n",
      "469/469 [==============================] - 2s 4ms/step - loss: 0.2155 - accuracy: 0.9297 - val_loss: 0.0748 - val_accuracy: 0.9755\n",
      "Epoch 1/5\n",
      "3740/3750 [============================>.] - ETA: 0s - loss: 0.5850 - accuracy: 0.7942\n",
      "Epoch 1: val_accuracy improved from -inf to 0.94990, saving model to ./models/best_model_Adam_batch_size_16.h5\n",
      "3750/3750 [==============================] - 16s 4ms/step - loss: 0.5841 - accuracy: 0.7945 - val_loss: 0.1717 - val_accuracy: 0.9499\n",
      "Epoch 2/5\n",
      "3740/3750 [============================>.] - ETA: 0s - loss: 0.3172 - accuracy: 0.8935\n",
      "Epoch 2: val_accuracy improved from 0.94990 to 0.96910, saving model to ./models/best_model_Adam_batch_size_16.h5\n",
      "3750/3750 [==============================] - 14s 4ms/step - loss: 0.3169 - accuracy: 0.8936 - val_loss: 0.1028 - val_accuracy: 0.9691\n",
      "Epoch 3/5\n",
      "3738/3750 [============================>.] - ETA: 0s - loss: 0.2613 - accuracy: 0.9118\n",
      "Epoch 3: val_accuracy improved from 0.96910 to 0.97260, saving model to ./models/best_model_Adam_batch_size_16.h5\n",
      "3750/3750 [==============================] - 14s 4ms/step - loss: 0.2613 - accuracy: 0.9118 - val_loss: 0.0888 - val_accuracy: 0.9726\n",
      "Epoch 4/5\n",
      "3738/3750 [============================>.] - ETA: 0s - loss: 0.2322 - accuracy: 0.9232\n",
      "Epoch 4: val_accuracy improved from 0.97260 to 0.97810, saving model to ./models/best_model_Adam_batch_size_16.h5\n",
      "3750/3750 [==============================] - 14s 4ms/step - loss: 0.2321 - accuracy: 0.9232 - val_loss: 0.0770 - val_accuracy: 0.9781\n",
      "Epoch 5/5\n",
      "3749/3750 [============================>.] - ETA: 0s - loss: 0.2162 - accuracy: 0.9281\n",
      "Epoch 5: val_accuracy did not improve from 0.97810\n",
      "3750/3750 [==============================] - 14s 4ms/step - loss: 0.2162 - accuracy: 0.9281 - val_loss: 0.0755 - val_accuracy: 0.9779\n",
      "Epoch 1/5\n",
      "1863/1875 [============================>.] - ETA: 0s - loss: 0.1975 - accuracy: 0.9320\n",
      "Epoch 1: val_accuracy improved from -inf to 0.97950, saving model to ./models/best_model_Adam_batch_size_32.h5\n",
      "1875/1875 [==============================] - 9s 4ms/step - loss: 0.1973 - accuracy: 0.9320 - val_loss: 0.0661 - val_accuracy: 0.9795\n",
      "Epoch 2/5\n",
      "1874/1875 [============================>.] - ETA: 0s - loss: 0.1925 - accuracy: 0.9364\n",
      "Epoch 2: val_accuracy did not improve from 0.97950\n",
      "1875/1875 [==============================] - 8s 4ms/step - loss: 0.1925 - accuracy: 0.9364 - val_loss: 0.0728 - val_accuracy: 0.9782\n",
      "Epoch 3/5\n",
      "1875/1875 [==============================] - ETA: 0s - loss: 0.1845 - accuracy: 0.9397\n",
      "Epoch 3: val_accuracy improved from 0.97950 to 0.98170, saving model to ./models/best_model_Adam_batch_size_32.h5\n",
      "1875/1875 [==============================] - 8s 4ms/step - loss: 0.1845 - accuracy: 0.9397 - val_loss: 0.0609 - val_accuracy: 0.9817\n",
      "Epoch 4/5\n",
      "1874/1875 [============================>.] - ETA: 0s - loss: 0.1799 - accuracy: 0.9392\n",
      "Epoch 4: val_accuracy did not improve from 0.98170\n",
      "1875/1875 [==============================] - 8s 4ms/step - loss: 0.1798 - accuracy: 0.9392 - val_loss: 0.0689 - val_accuracy: 0.9805\n",
      "Epoch 5/5\n",
      "1863/1875 [============================>.] - ETA: 0s - loss: 0.1707 - accuracy: 0.9431\n",
      "Epoch 5: val_accuracy improved from 0.98170 to 0.98210, saving model to ./models/best_model_Adam_batch_size_32.h5\n",
      "1875/1875 [==============================] - 8s 4ms/step - loss: 0.1707 - accuracy: 0.9431 - val_loss: 0.0611 - val_accuracy: 0.9821\n",
      "Epoch 1/5\n",
      "934/938 [============================>.] - ETA: 0s - loss: 0.1588 - accuracy: 0.9464\n",
      "Epoch 1: val_accuracy improved from -inf to 0.98390, saving model to ./models/best_model_Adam_batch_size_64.h5\n",
      "938/938 [==============================] - 4s 5ms/step - loss: 0.1588 - accuracy: 0.9463 - val_loss: 0.0566 - val_accuracy: 0.9839\n",
      "Epoch 2/5\n",
      "928/938 [============================>.] - ETA: 0s - loss: 0.1580 - accuracy: 0.9466\n",
      "Epoch 2: val_accuracy did not improve from 0.98390\n",
      "938/938 [==============================] - 4s 4ms/step - loss: 0.1577 - accuracy: 0.9467 - val_loss: 0.0618 - val_accuracy: 0.9824\n",
      "Epoch 3/5\n",
      "929/938 [============================>.] - ETA: 0s - loss: 0.1578 - accuracy: 0.9459\n",
      "Epoch 3: val_accuracy did not improve from 0.98390\n",
      "938/938 [==============================] - 4s 4ms/step - loss: 0.1577 - accuracy: 0.9459 - val_loss: 0.0599 - val_accuracy: 0.9819\n",
      "Epoch 4/5\n",
      "933/938 [============================>.] - ETA: 0s - loss: 0.1555 - accuracy: 0.9482\n",
      "Epoch 4: val_accuracy did not improve from 0.98390\n",
      "938/938 [==============================] - 4s 4ms/step - loss: 0.1553 - accuracy: 0.9482 - val_loss: 0.0638 - val_accuracy: 0.9817\n",
      "Epoch 5/5\n",
      "935/938 [============================>.] - ETA: 0s - loss: 0.1479 - accuracy: 0.9488\n",
      "Epoch 5: val_accuracy did not improve from 0.98390\n",
      "938/938 [==============================] - 4s 4ms/step - loss: 0.1476 - accuracy: 0.9489 - val_loss: 0.0628 - val_accuracy: 0.9826\n",
      "Epoch 1/5\n",
      "459/469 [============================>.] - ETA: 0s - loss: 0.1416 - accuracy: 0.9525\n",
      "Epoch 1: val_accuracy improved from -inf to 0.98470, saving model to ./models/best_model_Adam_batch_size_128.h5\n",
      "469/469 [==============================] - 2s 5ms/step - loss: 0.1411 - accuracy: 0.9526 - val_loss: 0.0563 - val_accuracy: 0.9847\n",
      "Epoch 2/5\n",
      "464/469 [============================>.] - ETA: 0s - loss: 0.1395 - accuracy: 0.9561\n",
      "Epoch 2: val_accuracy did not improve from 0.98470\n",
      "469/469 [==============================] - 2s 4ms/step - loss: 0.1393 - accuracy: 0.9561 - val_loss: 0.0583 - val_accuracy: 0.9840\n",
      "Epoch 3/5\n",
      "465/469 [============================>.] - ETA: 0s - loss: 0.1394 - accuracy: 0.9564\n",
      "Epoch 3: val_accuracy did not improve from 0.98470\n",
      "469/469 [==============================] - 2s 4ms/step - loss: 0.1394 - accuracy: 0.9563 - val_loss: 0.0563 - val_accuracy: 0.9835\n",
      "Epoch 4/5\n",
      "463/469 [============================>.] - ETA: 0s - loss: 0.1385 - accuracy: 0.9561\n",
      "Epoch 4: val_accuracy did not improve from 0.98470\n",
      "469/469 [==============================] - 2s 4ms/step - loss: 0.1386 - accuracy: 0.9561 - val_loss: 0.0578 - val_accuracy: 0.9840\n",
      "Epoch 5/5\n",
      "469/469 [==============================] - ETA: 0s - loss: 0.1376 - accuracy: 0.9568\n",
      "Epoch 5: val_accuracy did not improve from 0.98470\n",
      "469/469 [==============================] - 2s 4ms/step - loss: 0.1376 - accuracy: 0.9568 - val_loss: 0.0609 - val_accuracy: 0.9843\n",
      "The tensorboard extension is already loaded. To reload it, use:\n",
      "  %reload_ext tensorboard\n"
     ]
    },
    {
     "data": {
      "text/plain": [
       "Reusing TensorBoard on port 6006 (pid 316), started 0:10:32 ago. (Use '!kill 316' to kill it.)"
      ]
     },
     "metadata": {},
     "output_type": "display_data"
    },
    {
     "data": {
      "text/html": [
       "\n",
       "      <iframe id=\"tensorboard-frame-9938f955f36fb1f0\" width=\"100%\" height=\"800\" frameborder=\"0\">\n",
       "      </iframe>\n",
       "      <script>\n",
       "        (function() {\n",
       "          const frame = document.getElementById(\"tensorboard-frame-9938f955f36fb1f0\");\n",
       "          const url = new URL(\"/\", window.location);\n",
       "          const port = 6006;\n",
       "          if (port) {\n",
       "            url.port = port;\n",
       "          }\n",
       "          frame.src = url;\n",
       "        })();\n",
       "      </script>\n",
       "    "
      ],
      "text/plain": [
       "<IPython.core.display.HTML object>"
      ]
     },
     "metadata": {},
     "output_type": "display_data"
    },
    {
     "name": "stdout",
     "output_type": "stream",
     "text": [
      "CPU times: user 5min 35s, sys: 31.6 s, total: 6min 6s\n",
      "Wall time: 5min\n"
     ]
    }
   ],
   "source": [
    "%%time\n",
    "from tensorflow.keras.callbacks import ModelCheckpoint\n",
    "# Import the ModelCheckpoint callback\n",
    "# Define different optimizers\n",
    "optimizers = ['SGD', 'Adam']\n",
    "# optimizers = ['SGD', 'Adam', 'RMSprop', 'Adadelta', 'Adagrad', 'Adamax', 'Nadam', 'Ftrl']\n",
    "\n",
    "# Train the model with different optimizers and store each optimizer in a different callback function\n",
    "for optimizer in optimizers:\n",
    "    model = Sequential([\n",
    "        tf.keras.layers.Conv2D(10, (3, 3), activation='relu', input_shape=(28, 28, 1)),\n",
    "        tf.keras.layers.MaxPooling2D((2,2)),\n",
    "        tf.keras.layers.Conv2D(10, (3, 3), activation='relu'),\n",
    "        tf.keras.layers.MaxPooling2D((2,2)),\n",
    "        tf.keras.layers.Conv2D(10, (3, 3), activation='relu'),\n",
    "        tf.keras.layers.Conv2D(10, (3, 3), activation='relu'),\n",
    "        tf.keras.layers.MaxPooling2D((1,1)),\n",
    "        tf.keras.layers.Flatten(),\n",
    "        tf.keras.layers.Dropout(0.2),\n",
    "        tf.keras.layers.Dense(10, activation='softmax')\n",
    "    ])\n",
    "    \n",
    "    model.compile(optimizer=optimizer,\n",
    "                  loss='sparse_categorical_crossentropy',\n",
    "                  metrics=['accuracy'])\n",
    "    \n",
    "    # Define different batch sizes\n",
    "    batch_sizes = [16, 32, 64, 128]\n",
    "    \n",
    "    # Train the model with different batch sizes and store each batch size in a different callback function\n",
    "    for batch_size in batch_sizes:\n",
    "        log_dir = f'./logs/{optimizer}_batch_size_{batch_size}'\n",
    "        \n",
    "        # Define the ModelCheckpoint callback to save the best model based on validation accuracy\n",
    "        checkpoint_callback = ModelCheckpoint(filepath=f'./models/best_model_{optimizer}_batch_size_{batch_size}.h5',\n",
    "                                              monitor='val_accuracy',\n",
    "                                              save_best_only=True,\n",
    "                                              mode='max',\n",
    "                                              verbose=1)\n",
    "        \n",
    "        tensorboard_callback = TensorBoard(log_dir=log_dir, histogram_freq=1)\n",
    "        \n",
    "        # Train the model with the callbacks\n",
    "        model.fit(X_train, y_train, epochs=5, batch_size=batch_size, validation_data=(X_test,y_test), callbacks=[tensorboard_callback, checkpoint_callback])\n",
    "\n",
    "# Load the TensorBoard notebook extension\n",
    "%load_ext tensorboard\n",
    "\n",
    "# Run TensorBoard\n",
    "%tensorboard --logdir=./logs"
   ]
  },
  {
   "cell_type": "markdown",
   "id": "d4e75e2b",
   "metadata": {
    "papermill": {
     "duration": 0.993891,
     "end_time": "2024-02-16T13:48:20.148559",
     "exception": false,
     "start_time": "2024-02-16T13:48:19.154668",
     "status": "completed"
    },
    "tags": []
   },
   "source": [
    "<h1 style=\"font-family: 'poppins'; font-weight: bold; color: Green;\">👨‍💻Author: Dr. Muhammad Aamamr Tufail</h1>\n",
    "\n",
    "[![GitHub](https://img.shields.io/badge/GitHub-Profile-blue?style=for-the-badge&logo=github)](https://github.com/AammarTufail) \n",
    "[![Kaggle](https://img.shields.io/badge/Kaggle-Profile-blue?style=for-the-badge&logo=kaggle)](https://www.kaggle.com/muhammadaammartufail) \n",
    "[![LinkedIn](https://img.shields.io/badge/LinkedIn-Profile-blue?style=for-the-badge&logo=linkedin)](https://www.linkedin.com/in/dr-muhammad-aammar-tufail-02471213b/)  \n",
    "\n",
    "[![YouTube](https://img.shields.io/badge/YouTube-Profile-red?style=for-the-badge&logo=youtube)](https://www.youtube.com/@codanics) \n",
    "[![Facebook](https://img.shields.io/badge/Facebook-Profile-blue?style=for-the-badge&logo=facebook)](https://www.facebook.com/aammar.tufail) \n",
    "[![TikTok](https://img.shields.io/badge/TikTok-Profile-black?style=for-the-badge&logo=tiktok)](https://www.tiktok.com/@draammar)  \n",
    "\n",
    "[![Twitter/X](https://img.shields.io/badge/Twitter-Profile-blue?style=for-the-badge&logo=twitter)](https://twitter.com/aammar_tufail) \n",
    "[![Instagram](https://img.shields.io/badge/Instagram-Profile-blue?style=for-the-badge&logo=instagram)](https://www.instagram.com/aammartufail/) \n",
    "[![Email](https://img.shields.io/badge/Email-Contact%20Me-red?style=for-the-badge&logo=email)](mailto:aammar@codanics.com)\n",
    "\n",
    "---"
   ]
  }
 ],
 "metadata": {
  "kaggle": {
   "accelerator": "nvidiaTeslaT4",
   "dataSources": [],
   "dockerImageVersionId": 30648,
   "isGpuEnabled": true,
   "isInternetEnabled": true,
   "language": "python",
   "sourceType": "notebook"
  },
  "kernelspec": {
   "display_name": "Python 3",
   "language": "python",
   "name": "python3"
  },
  "language_info": {
   "codemirror_mode": {
    "name": "ipython",
    "version": 3
   },
   "file_extension": ".py",
   "mimetype": "text/x-python",
   "name": "python",
   "nbconvert_exporter": "python",
   "pygments_lexer": "ipython3",
   "version": "3.10.13"
  },
  "papermill": {
   "default_parameters": {},
   "duration": 747.615302,
   "end_time": "2024-02-16T13:48:23.984774",
   "environment_variables": {},
   "exception": null,
   "input_path": "__notebook__.ipynb",
   "output_path": "__notebook__.ipynb",
   "parameters": {},
   "start_time": "2024-02-16T13:35:56.369472",
   "version": "2.5.0"
  }
 },
 "nbformat": 4,
 "nbformat_minor": 5
}
