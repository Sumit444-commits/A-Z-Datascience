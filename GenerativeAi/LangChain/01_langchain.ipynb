{
 "cells": [
  {
   "cell_type": "markdown",
   "metadata": {},
   "source": [
    "# LangChain Practice"
   ]
  },
  {
   "cell_type": "markdown",
   "metadata": {},
   "source": [
    "`pip install langchain openai huggingface_hub`"
   ]
  },
  {
   "cell_type": "code",
   "execution_count": 1,
   "metadata": {},
   "outputs": [
    {
     "name": "stdout",
     "output_type": "stream",
     "text": [
      "Collecting langchain_community\n",
      "  Downloading langchain_community-0.3.16-py3-none-any.whl.metadata (2.9 kB)\n",
      "Requirement already satisfied: PyYAML>=5.3 in c:\\users\\sumit sharma\\.conda\\envs\\streamlit_env\\lib\\site-packages (from langchain_community) (6.0.2)\n",
      "Requirement already satisfied: SQLAlchemy<3,>=1.4 in c:\\users\\sumit sharma\\.conda\\envs\\streamlit_env\\lib\\site-packages (from langchain_community) (2.0.37)\n",
      "Requirement already satisfied: aiohttp<4.0.0,>=3.8.3 in c:\\users\\sumit sharma\\.conda\\envs\\streamlit_env\\lib\\site-packages (from langchain_community) (3.11.11)\n",
      "Collecting dataclasses-json<0.7,>=0.5.7 (from langchain_community)\n",
      "  Downloading dataclasses_json-0.6.7-py3-none-any.whl.metadata (25 kB)\n",
      "Collecting httpx-sse<0.5.0,>=0.4.0 (from langchain_community)\n",
      "  Downloading httpx_sse-0.4.0-py3-none-any.whl.metadata (9.0 kB)\n",
      "Requirement already satisfied: langchain<0.4.0,>=0.3.16 in c:\\users\\sumit sharma\\.conda\\envs\\streamlit_env\\lib\\site-packages (from langchain_community) (0.3.17)\n",
      "Requirement already satisfied: langchain-core<0.4.0,>=0.3.32 in c:\\users\\sumit sharma\\.conda\\envs\\streamlit_env\\lib\\site-packages (from langchain_community) (0.3.33)\n",
      "Requirement already satisfied: langsmith<0.4,>=0.1.125 in c:\\users\\sumit sharma\\.conda\\envs\\streamlit_env\\lib\\site-packages (from langchain_community) (0.3.3)\n",
      "Requirement already satisfied: numpy<3,>=1.26.2 in c:\\users\\sumit sharma\\.conda\\envs\\streamlit_env\\lib\\site-packages (from langchain_community) (2.2.2)\n",
      "Collecting pydantic-settings<3.0.0,>=2.4.0 (from langchain_community)\n",
      "  Downloading pydantic_settings-2.7.1-py3-none-any.whl.metadata (3.5 kB)\n",
      "Requirement already satisfied: requests<3,>=2 in c:\\users\\sumit sharma\\.conda\\envs\\streamlit_env\\lib\\site-packages (from langchain_community) (2.32.3)\n",
      "Requirement already satisfied: tenacity!=8.4.0,<10,>=8.1.0 in c:\\users\\sumit sharma\\.conda\\envs\\streamlit_env\\lib\\site-packages (from langchain_community) (9.0.0)\n",
      "Requirement already satisfied: aiohappyeyeballs>=2.3.0 in c:\\users\\sumit sharma\\.conda\\envs\\streamlit_env\\lib\\site-packages (from aiohttp<4.0.0,>=3.8.3->langchain_community) (2.4.4)\n",
      "Requirement already satisfied: aiosignal>=1.1.2 in c:\\users\\sumit sharma\\.conda\\envs\\streamlit_env\\lib\\site-packages (from aiohttp<4.0.0,>=3.8.3->langchain_community) (1.3.2)\n",
      "Requirement already satisfied: attrs>=17.3.0 in c:\\users\\sumit sharma\\.conda\\envs\\streamlit_env\\lib\\site-packages (from aiohttp<4.0.0,>=3.8.3->langchain_community) (25.1.0)\n",
      "Requirement already satisfied: frozenlist>=1.1.1 in c:\\users\\sumit sharma\\.conda\\envs\\streamlit_env\\lib\\site-packages (from aiohttp<4.0.0,>=3.8.3->langchain_community) (1.5.0)\n",
      "Requirement already satisfied: multidict<7.0,>=4.5 in c:\\users\\sumit sharma\\.conda\\envs\\streamlit_env\\lib\\site-packages (from aiohttp<4.0.0,>=3.8.3->langchain_community) (6.1.0)\n",
      "Requirement already satisfied: propcache>=0.2.0 in c:\\users\\sumit sharma\\.conda\\envs\\streamlit_env\\lib\\site-packages (from aiohttp<4.0.0,>=3.8.3->langchain_community) (0.2.1)\n",
      "Requirement already satisfied: yarl<2.0,>=1.17.0 in c:\\users\\sumit sharma\\.conda\\envs\\streamlit_env\\lib\\site-packages (from aiohttp<4.0.0,>=3.8.3->langchain_community) (1.18.3)\n",
      "Collecting marshmallow<4.0.0,>=3.18.0 (from dataclasses-json<0.7,>=0.5.7->langchain_community)\n",
      "  Downloading marshmallow-3.26.0-py3-none-any.whl.metadata (7.3 kB)\n",
      "Collecting typing-inspect<1,>=0.4.0 (from dataclasses-json<0.7,>=0.5.7->langchain_community)\n",
      "  Downloading typing_inspect-0.9.0-py3-none-any.whl.metadata (1.5 kB)\n",
      "Requirement already satisfied: langchain-text-splitters<0.4.0,>=0.3.3 in c:\\users\\sumit sharma\\.conda\\envs\\streamlit_env\\lib\\site-packages (from langchain<0.4.0,>=0.3.16->langchain_community) (0.3.5)\n",
      "Requirement already satisfied: pydantic<3.0.0,>=2.7.4 in c:\\users\\sumit sharma\\.conda\\envs\\streamlit_env\\lib\\site-packages (from langchain<0.4.0,>=0.3.16->langchain_community) (2.10.6)\n",
      "Requirement already satisfied: jsonpatch<2.0,>=1.33 in c:\\users\\sumit sharma\\.conda\\envs\\streamlit_env\\lib\\site-packages (from langchain-core<0.4.0,>=0.3.32->langchain_community) (1.33)\n",
      "Requirement already satisfied: packaging<25,>=23.2 in c:\\users\\sumit sharma\\.conda\\envs\\streamlit_env\\lib\\site-packages (from langchain-core<0.4.0,>=0.3.32->langchain_community) (24.2)\n",
      "Requirement already satisfied: typing-extensions>=4.7 in c:\\users\\sumit sharma\\.conda\\envs\\streamlit_env\\lib\\site-packages (from langchain-core<0.4.0,>=0.3.32->langchain_community) (4.12.2)\n",
      "Requirement already satisfied: httpx<1,>=0.23.0 in c:\\users\\sumit sharma\\.conda\\envs\\streamlit_env\\lib\\site-packages (from langsmith<0.4,>=0.1.125->langchain_community) (0.28.1)\n",
      "Requirement already satisfied: orjson<4.0.0,>=3.9.14 in c:\\users\\sumit sharma\\.conda\\envs\\streamlit_env\\lib\\site-packages (from langsmith<0.4,>=0.1.125->langchain_community) (3.10.15)\n",
      "Requirement already satisfied: requests-toolbelt<2.0.0,>=1.0.0 in c:\\users\\sumit sharma\\.conda\\envs\\streamlit_env\\lib\\site-packages (from langsmith<0.4,>=0.1.125->langchain_community) (1.0.0)\n",
      "Requirement already satisfied: zstandard<0.24.0,>=0.23.0 in c:\\users\\sumit sharma\\.conda\\envs\\streamlit_env\\lib\\site-packages (from langsmith<0.4,>=0.1.125->langchain_community) (0.23.0)\n",
      "Collecting python-dotenv>=0.21.0 (from pydantic-settings<3.0.0,>=2.4.0->langchain_community)\n",
      "  Downloading python_dotenv-1.0.1-py3-none-any.whl.metadata (23 kB)\n",
      "Requirement already satisfied: charset-normalizer<4,>=2 in c:\\users\\sumit sharma\\.conda\\envs\\streamlit_env\\lib\\site-packages (from requests<3,>=2->langchain_community) (3.4.1)\n",
      "Requirement already satisfied: idna<4,>=2.5 in c:\\users\\sumit sharma\\.conda\\envs\\streamlit_env\\lib\\site-packages (from requests<3,>=2->langchain_community) (3.10)\n",
      "Requirement already satisfied: urllib3<3,>=1.21.1 in c:\\users\\sumit sharma\\.conda\\envs\\streamlit_env\\lib\\site-packages (from requests<3,>=2->langchain_community) (2.3.0)\n",
      "Requirement already satisfied: certifi>=2017.4.17 in c:\\users\\sumit sharma\\.conda\\envs\\streamlit_env\\lib\\site-packages (from requests<3,>=2->langchain_community) (2024.12.14)\n",
      "Requirement already satisfied: greenlet!=0.4.17 in c:\\users\\sumit sharma\\.conda\\envs\\streamlit_env\\lib\\site-packages (from SQLAlchemy<3,>=1.4->langchain_community) (3.1.1)\n",
      "Requirement already satisfied: anyio in c:\\users\\sumit sharma\\.conda\\envs\\streamlit_env\\lib\\site-packages (from httpx<1,>=0.23.0->langsmith<0.4,>=0.1.125->langchain_community) (4.8.0)\n",
      "Requirement already satisfied: httpcore==1.* in c:\\users\\sumit sharma\\.conda\\envs\\streamlit_env\\lib\\site-packages (from httpx<1,>=0.23.0->langsmith<0.4,>=0.1.125->langchain_community) (1.0.7)\n",
      "Requirement already satisfied: h11<0.15,>=0.13 in c:\\users\\sumit sharma\\.conda\\envs\\streamlit_env\\lib\\site-packages (from httpcore==1.*->httpx<1,>=0.23.0->langsmith<0.4,>=0.1.125->langchain_community) (0.14.0)\n",
      "Requirement already satisfied: jsonpointer>=1.9 in c:\\users\\sumit sharma\\.conda\\envs\\streamlit_env\\lib\\site-packages (from jsonpatch<2.0,>=1.33->langchain-core<0.4.0,>=0.3.32->langchain_community) (3.0.0)\n",
      "Requirement already satisfied: annotated-types>=0.6.0 in c:\\users\\sumit sharma\\.conda\\envs\\streamlit_env\\lib\\site-packages (from pydantic<3.0.0,>=2.7.4->langchain<0.4.0,>=0.3.16->langchain_community) (0.7.0)\n",
      "Requirement already satisfied: pydantic-core==2.27.2 in c:\\users\\sumit sharma\\.conda\\envs\\streamlit_env\\lib\\site-packages (from pydantic<3.0.0,>=2.7.4->langchain<0.4.0,>=0.3.16->langchain_community) (2.27.2)\n",
      "Collecting mypy-extensions>=0.3.0 (from typing-inspect<1,>=0.4.0->dataclasses-json<0.7,>=0.5.7->langchain_community)\n",
      "  Downloading mypy_extensions-1.0.0-py3-none-any.whl.metadata (1.1 kB)\n",
      "Requirement already satisfied: sniffio>=1.1 in c:\\users\\sumit sharma\\.conda\\envs\\streamlit_env\\lib\\site-packages (from anyio->httpx<1,>=0.23.0->langsmith<0.4,>=0.1.125->langchain_community) (1.3.1)\n",
      "Downloading langchain_community-0.3.16-py3-none-any.whl (2.5 MB)\n",
      "   ---------------------------------------- 0.0/2.5 MB ? eta -:--:--\n",
      "   -------- ------------------------------- 0.5/2.5 MB 5.2 MB/s eta 0:00:01\n",
      "   -------- ------------------------------- 0.5/2.5 MB 5.2 MB/s eta 0:00:01\n",
      "   -------- ------------------------------- 0.5/2.5 MB 5.2 MB/s eta 0:00:01\n",
      "   ------------ --------------------------- 0.8/2.5 MB 910.4 kB/s eta 0:00:02\n",
      "   ------------ --------------------------- 0.8/2.5 MB 910.4 kB/s eta 0:00:02\n",
      "   ---------------- ----------------------- 1.0/2.5 MB 767.9 kB/s eta 0:00:02\n",
      "   ---------------- ----------------------- 1.0/2.5 MB 767.9 kB/s eta 0:00:02\n",
      "   -------------------- ------------------- 1.3/2.5 MB 697.2 kB/s eta 0:00:02\n",
      "   -------------------- ------------------- 1.3/2.5 MB 697.2 kB/s eta 0:00:02\n",
      "   ------------------------- -------------- 1.6/2.5 MB 652.6 kB/s eta 0:00:02\n",
      "   ------------------------- -------------- 1.6/2.5 MB 652.6 kB/s eta 0:00:02\n",
      "   ------------------------- -------------- 1.6/2.5 MB 652.6 kB/s eta 0:00:02\n",
      "Note: you may need to restart the kernel to use updated packages.   ----------------------------- ---------- 1.8/2.5 MB 626.5 kB/s eta 0:00:02\n",
      "\n",
      "   ----------------------------- ---------- 1.8/2.5 MB 626.5 kB/s eta 0:00:02\n",
      "   ----------------------------- ---------- 1.8/2.5 MB 626.5 kB/s eta 0:00:02\n",
      "   ----------------------------- ---------- 1.8/2.5 MB 626.5 kB/s eta 0:00:02\n",
      "   ----------------------------- ---------- 1.8/2.5 MB 626.5 kB/s eta 0:00:02\n",
      "   ----------------------------- ---------- 1.8/2.5 MB 626.5 kB/s eta 0:00:02\n",
      "   ----------------------------- ---------- 1.8/2.5 MB 626.5 kB/s eta 0:00:02\n",
      "   ----------------------------- ---------- 1.8/2.5 MB 626.5 kB/s eta 0:00:02\n",
      "   ----------------------------- ---------- 1.8/2.5 MB 626.5 kB/s eta 0:00:02\n",
      "   ----------------------------- ---------- 1.8/2.5 MB 626.5 kB/s eta 0:00:02\n",
      "   ----------------------------- ---------- 1.8/2.5 MB 626.5 kB/s eta 0:00:02\n",
      "   ----------------------------- ---------- 1.8/2.5 MB 626.5 kB/s eta 0:00:02\n",
      "   ----------------------------- ---------- 1.8/2.5 MB 626.5 kB/s eta 0:00:02\n",
      "   ----------------------------- ---------- 1.8/2.5 MB 626.5 kB/s eta 0:00:02\n",
      "   ----------------------------- ---------- 1.8/2.5 MB 626.5 kB/s eta 0:00:02\n",
      "   ----------------------------- ---------- 1.8/2.5 MB 626.5 kB/s eta 0:00:02\n",
      "   --------------------------------- ------ 2.1/2.5 MB 307.3 kB/s eta 0:00:02\n",
      "   ------------------------------------- -- 2.4/2.5 MB 329.2 kB/s eta 0:00:01\n",
      "   ---------------------------------------- 2.5/2.5 MB 342.9 kB/s eta 0:00:00\n",
      "Downloading dataclasses_json-0.6.7-py3-none-any.whl (28 kB)\n",
      "Downloading httpx_sse-0.4.0-py3-none-any.whl (7.8 kB)\n",
      "Downloading pydantic_settings-2.7.1-py3-none-any.whl (29 kB)\n",
      "Downloading marshmallow-3.26.0-py3-none-any.whl (50 kB)\n",
      "Downloading python_dotenv-1.0.1-py3-none-any.whl (19 kB)\n",
      "Downloading typing_inspect-0.9.0-py3-none-any.whl (8.8 kB)\n",
      "Downloading mypy_extensions-1.0.0-py3-none-any.whl (4.7 kB)\n",
      "Installing collected packages: python-dotenv, mypy-extensions, marshmallow, httpx-sse, typing-inspect, pydantic-settings, dataclasses-json, langchain_community\n",
      "Successfully installed dataclasses-json-0.6.7 httpx-sse-0.4.0 langchain_community-0.3.16 marshmallow-3.26.0 mypy-extensions-1.0.0 pydantic-settings-2.7.1 python-dotenv-1.0.1 typing-inspect-0.9.0\n"
     ]
    }
   ],
   "source": [
    "# %pip install langchain openai huggingface_hub\n",
    "# %pip install langchain_community"
   ]
  },
  {
   "cell_type": "markdown",
   "metadata": {},
   "source": [
    "# Open ai"
   ]
  },
  {
   "cell_type": "code",
   "execution_count": 5,
   "metadata": {},
   "outputs": [
    {
     "ename": "ModuleNotFoundError",
     "evalue": "No module named 'langchain_community'",
     "output_type": "error",
     "traceback": [
      "\u001b[1;31m---------------------------------------------------------------------------\u001b[0m",
      "\u001b[1;31mModuleNotFoundError\u001b[0m                       Traceback (most recent call last)",
      "Cell \u001b[1;32mIn[5], line 1\u001b[0m\n\u001b[1;32m----> 1\u001b[0m \u001b[38;5;28;01mfrom\u001b[39;00m\u001b[38;5;250m \u001b[39m\u001b[38;5;21;01mlangchain\u001b[39;00m\u001b[38;5;21;01m.\u001b[39;00m\u001b[38;5;21;01mllms\u001b[39;00m\u001b[38;5;250m \u001b[39m\u001b[38;5;28;01mimport\u001b[39;00m OpenAI\n\u001b[0;32m      2\u001b[0m \u001b[38;5;28;01mimport\u001b[39;00m\u001b[38;5;250m \u001b[39m\u001b[38;5;21;01mos\u001b[39;00m\n\u001b[0;32m      4\u001b[0m os\u001b[38;5;241m.\u001b[39menviron[\u001b[38;5;124m\"\u001b[39m\u001b[38;5;124mOPENAI_API_KEY\u001b[39m\u001b[38;5;124m\"\u001b[39m] \u001b[38;5;241m=\u001b[39m \u001b[38;5;124m\"\u001b[39m\u001b[38;5;124msk-xxxx\u001b[39m\u001b[38;5;124m\"\u001b[39m\n",
      "File \u001b[1;32mc:\\Users\\Sumit Sharma\\.conda\\envs\\streamlit_env\\Lib\\site-packages\\langchain\\llms\\__init__.py:545\u001b[0m, in \u001b[0;36m__getattr__\u001b[1;34m(name)\u001b[0m\n\u001b[0;32m    544\u001b[0m \u001b[38;5;28;01mdef\u001b[39;00m\u001b[38;5;250m \u001b[39m\u001b[38;5;21m__getattr__\u001b[39m(name: \u001b[38;5;28mstr\u001b[39m) \u001b[38;5;241m-\u001b[39m\u001b[38;5;241m>\u001b[39m Any:\n\u001b[1;32m--> 545\u001b[0m     \u001b[38;5;28;01mfrom\u001b[39;00m\u001b[38;5;250m \u001b[39m\u001b[38;5;21;01mlangchain_community\u001b[39;00m\u001b[38;5;250m \u001b[39m\u001b[38;5;28;01mimport\u001b[39;00m llms\n\u001b[0;32m    547\u001b[0m     \u001b[38;5;66;03m# If not in interactive env, raise warning.\u001b[39;00m\n\u001b[0;32m    548\u001b[0m     \u001b[38;5;28;01mif\u001b[39;00m \u001b[38;5;129;01mnot\u001b[39;00m is_interactive_env():\n",
      "\u001b[1;31mModuleNotFoundError\u001b[0m: No module named 'langchain_community'"
     ]
    }
   ],
   "source": [
    "from langchain.llms import OpenAI\n",
    "import os\n",
    "\n",
    "# os.environ[\"OPENAI_API_KEY\"] = \"sk-xxxx\"\n",
    "llm = OpenAI(temperature=0.9)\n",
    "response = llm(\"Tell me a joke.\")\n",
    "print(response)"
   ]
  },
  {
   "cell_type": "markdown",
   "metadata": {},
   "source": [
    "# Huggingface"
   ]
  },
  {
   "cell_type": "code",
   "execution_count": 16,
   "metadata": {},
   "outputs": [
    {
     "name": "stderr",
     "output_type": "stream",
     "text": [
      "c:\\Users\\Sumit Sharma\\.conda\\envs\\streamlit_env\\Lib\\site-packages\\huggingface_hub\\utils\\_deprecation.py:131: FutureWarning: 'post' (from 'huggingface_hub.inference._client') is deprecated and will be removed from version '0.31.0'. Making direct POST requests to the inference server is not supported anymore. Please use task methods instead (e.g. `InferenceClient.chat_completion`). If your use case is not supported, please open an issue in https://github.com/huggingface/huggingface_hub.\n",
      "  warnings.warn(warning_message, FutureWarning)\n"
     ]
    },
    {
     "name": "stdout",
     "output_type": "stream",
     "text": [
      "de どうなの?\n"
     ]
    }
   ],
   "source": [
    "from langchain import HuggingFaceHub\n",
    "import os\n",
    "\n",
    "# Set your Hugging Face API token\n",
    "# os.environ[\"HUGGINGFACEHUB_API_TOKEN\"] = \"your_Api\"\n",
    "\n",
    "# Initialize the HuggingFaceHub model\n",
    "llm = HuggingFaceHub(repo_id=\"t5-base\", model_kwargs={\"temperature\": 0.9, \"max_length\": 50, \"src_lang\": \"en\", \"tgt_lang\": \"de\"})\n",
    "\n",
    "# Use the model to translate English to German\n",
    "response = llm(\"hi how are you?\")\n",
    "print(response)"
   ]
  },
  {
   "cell_type": "code",
   "execution_count": null,
   "metadata": {},
   "outputs": [],
   "source": []
  }
 ],
 "metadata": {
  "kernelspec": {
   "display_name": "streamlit_env",
   "language": "python",
   "name": "python3"
  },
  "language_info": {
   "codemirror_mode": {
    "name": "ipython",
    "version": 3
   },
   "file_extension": ".py",
   "mimetype": "text/x-python",
   "name": "python",
   "nbconvert_exporter": "python",
   "pygments_lexer": "ipython3",
   "version": "3.13.1"
  }
 },
 "nbformat": 4,
 "nbformat_minor": 2
}
