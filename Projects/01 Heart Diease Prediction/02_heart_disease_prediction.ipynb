{
 "cells": [
  {
   "cell_type": "markdown",
   "metadata": {},
   "source": [
    "# Title: Heart Disease Prediction\n",
    "\n",
    "`Autor`: [Sumit Sharma](http://sumit-portfolio.free.nf)\\\n",
    "`Date`: 01-01-2025\\\n",
    "`Dataset`: [Heart Disease UCI](https://archive.ics.uci.edu/dataset/45/heart+disease)"
   ]
  },
  {
   "cell_type": "markdown",
   "metadata": {},
   "source": [
    "## Meta-Data (About Dataset)\n",
    "### Context\n",
    "This is a multivariate type of dataset which means providing or involving a variety of separate mathematical or statistical variables, multivariate numerical data analysis. It is composed of 14 attributes which are age, sex, chest pain type, resting blood pressure, serum cholesterol, fasting blood sugar, resting electrocardiographic results, maximum heart rate achieved, exercise-induced angina, oldpeak — ST depression induced by exercise relative to rest, the slope of the peak exercise ST segment, number of major vessels and Thalassemia. This database includes 76 attributes, but all published studies relate to the use of a subset of 14 of them. The Cleveland database is the only one used by ML researchers to date. One of the major tasks on this dataset is to predict based on the given attributes of a patient that whether that particular person has heart disease or not and other is the experimental task to diagnose and find out various insights from this dataset which could help in understanding the problem more.\n",
    "\n",
    "### Content\n",
    "#### Column Descriptions:\n",
    "* `id` (Unique id for each patient)\n",
    "* `age` (Age of the patient in years)\n",
    "* `origin` (place of study)\n",
    "* `sex` (Male/Female)\n",
    "* `cp` chest pain type\n",
    "    1. typical angina \n",
    "    2. atypical angina\n",
    "    3. non-anginal\n",
    "    4. asymptomatic\n",
    "* `trestbps` resting blood pressure (resting blood pressure (in mm Hg on admission to the hospital))\n",
    "* `chol` (serum cholesterol in mg/dl)\n",
    "* `fbs` (if fasting blood sugar > 120 mg/dl)\n",
    "* `restecg` (resting electrocardiographic results)\n",
    "* -- `Values`: [normal, stt abnormality, lv hypertrophy]\n",
    "* `thalach`: maximum heart rate achieved\n",
    "* `exang`: exercise-induced angina (True/ False)\n",
    "* `oldpeak`: ST depression induced by exercise relative to rest\n",
    "* `slope`: the slope of the peak exercise ST segment\n",
    "* `ca`: number of major vessels (0-3) colored by fluoroscopy\n",
    "* `thal`: [normal; fixed defect; reversible defect]\n",
    "* `num`: the predicted attribute\n",
    "\n",
    "### Acknowledgements\n",
    "#### Creators:\n",
    "* Hungarian Institute of Cardiology. Budapest: Andras Janosi, M.D.\n",
    "* University Hospital, Zurich, Switzerland: William Steinbrunn, M.D.\n",
    "* University Hospital, Basel, Switzerland: Matthias Pfisterer, M.D.\n",
    "* V.A. Medical Center, Long Beach and Cleveland Clinic Foundation: Robert Detrano, M.D., Ph.D.\n",
    "\n",
    "#### Relevant Papers:\n",
    "* Detrano, R., Janosi, A., Steinbrunn, W., Pfisterer, M., Schmid, J., Sandhu, S., Guppy, K., Lee, S., & Froelicher, V. (1989). International application of a new probability algorithm for the diagnosis of coronary artery disease. American Journal of Cardiology, 64,304--310.\n",
    "* David W. Aha & Dennis Kibler. \"Instance-based prediction of heart-disease presence with the Cleveland database.\"\n",
    "* Gennari, J.H., Langley, P, & Fisher, D. (1989). Models of incremental concept formation. Artificial Intelligence, 40, 11--61. \n",
    "\n",
    "#### Citation Request:\n",
    "The authors of the databases have requested that any publications resulting from the use of the data include the names of the principal investigator responsible for the data collection at each institution. \n",
    "\n",
    "**They would be:**\n",
    "\n",
    "* Hungarian Institute of Cardiology. Budapest: Andras Janosi, M.D.\n",
    "* University Hospital, Zurich, Switzerland: William Steinbrunn, M.D.\n",
    "* University Hospital, Basel, Switzerland: Matthias Pfisterer, M.D.\n",
    "* V.A. Medical Center, Long Beach and Cleveland Clinic Foundation:Robert Detrano, M.D., Ph.D."
   ]
  },
  {
   "cell_type": "markdown",
   "metadata": {},
   "source": [
    "## Aims and Objectives\n",
    "\n",
    "We will fill after doing some exploratory data analysis (EDA)."
   ]
  },
  {
   "cell_type": "markdown",
   "metadata": {},
   "source": [
    "### Import Libraries\n",
    "\n",
    "Let's start the project by impoprting att the libraries that we wilt need in this project."
   ]
  },
  {
   "cell_type": "code",
   "execution_count": 1,
   "metadata": {},
   "outputs": [],
   "source": [
    "# importing libraries\n",
    "\n",
    "# To handle the data\n",
    "import pandas as pd\n",
    "import numpy as np\n",
    "\n",
    "# To visualize the data\n",
    "import matplotlib.pyplot as plt\n",
    "import seaborn as sns\n",
    "import plotly.express as px\n",
    "\n",
    "# To preprocess the data\n",
    "from sklearn.preprocessing import StandardScaler, MinMaxScaler, LabelEncoder\n",
    "from sklearn.impute import SimpleImputer, KNNImputer\n",
    "\n",
    "# Import IterativeImputer\n",
    "from sklearn.experimental import enable_iterative_imputer\n",
    "from sklearn.impute import IterativeImputer\n",
    "\n",
    "# Machine learning \n",
    "from sklearn.model_selection import train_test_split, cross_val_score, GridSearchCV\n",
    "\n",
    "# For classification\n",
    "from sklearn.linear_model import LogisticRegression\n",
    "from sklearn.neighbors import KNeighborsClassifier\n",
    "from sklearn.svm import SVC\n",
    "from sklearn.tree import DecisionTreeClassifier\n",
    "from sklearn.ensemble import RandomForestClassifier, AdaBoostClassifier, GradientBoostingClassifier\n",
    "from sklearn.ensemble import RandomForestRegressor\n",
    "from xgboost import XGBClassifier\n",
    "\n",
    "# Metrics\n",
    "from sklearn.metrics import accuracy_score, classification_report, confusion_matrix, mean_absolute_error, mean_squared_error, r2_score\n",
    "\n",
    "# Ignore warnings\n",
    "import warnings\n",
    "warnings.filterwarnings('ignore')\n"
   ]
  },
  {
   "cell_type": "markdown",
   "metadata": {},
   "source": [
    "### Load the Dataset"
   ]
  },
  {
   "cell_type": "code",
   "execution_count": 2,
   "metadata": {},
   "outputs": [
    {
     "data": {
      "text/html": [
       "<div>\n",
       "<style scoped>\n",
       "    .dataframe tbody tr th:only-of-type {\n",
       "        vertical-align: middle;\n",
       "    }\n",
       "\n",
       "    .dataframe tbody tr th {\n",
       "        vertical-align: top;\n",
       "    }\n",
       "\n",
       "    .dataframe thead th {\n",
       "        text-align: right;\n",
       "    }\n",
       "</style>\n",
       "<table border=\"1\" class=\"dataframe\">\n",
       "  <thead>\n",
       "    <tr style=\"text-align: right;\">\n",
       "      <th></th>\n",
       "      <th>id</th>\n",
       "      <th>age</th>\n",
       "      <th>sex</th>\n",
       "      <th>dataset</th>\n",
       "      <th>cp</th>\n",
       "      <th>trestbps</th>\n",
       "      <th>chol</th>\n",
       "      <th>fbs</th>\n",
       "      <th>restecg</th>\n",
       "      <th>thalch</th>\n",
       "      <th>exang</th>\n",
       "      <th>oldpeak</th>\n",
       "      <th>slope</th>\n",
       "      <th>ca</th>\n",
       "      <th>thal</th>\n",
       "      <th>num</th>\n",
       "    </tr>\n",
       "  </thead>\n",
       "  <tbody>\n",
       "    <tr>\n",
       "      <th>0</th>\n",
       "      <td>1</td>\n",
       "      <td>63</td>\n",
       "      <td>Male</td>\n",
       "      <td>Cleveland</td>\n",
       "      <td>typical angina</td>\n",
       "      <td>145.0</td>\n",
       "      <td>233.0</td>\n",
       "      <td>True</td>\n",
       "      <td>lv hypertrophy</td>\n",
       "      <td>150.0</td>\n",
       "      <td>False</td>\n",
       "      <td>2.3</td>\n",
       "      <td>downsloping</td>\n",
       "      <td>0.0</td>\n",
       "      <td>fixed defect</td>\n",
       "      <td>0</td>\n",
       "    </tr>\n",
       "    <tr>\n",
       "      <th>1</th>\n",
       "      <td>2</td>\n",
       "      <td>67</td>\n",
       "      <td>Male</td>\n",
       "      <td>Cleveland</td>\n",
       "      <td>asymptomatic</td>\n",
       "      <td>160.0</td>\n",
       "      <td>286.0</td>\n",
       "      <td>False</td>\n",
       "      <td>lv hypertrophy</td>\n",
       "      <td>108.0</td>\n",
       "      <td>True</td>\n",
       "      <td>1.5</td>\n",
       "      <td>flat</td>\n",
       "      <td>3.0</td>\n",
       "      <td>normal</td>\n",
       "      <td>2</td>\n",
       "    </tr>\n",
       "    <tr>\n",
       "      <th>2</th>\n",
       "      <td>3</td>\n",
       "      <td>67</td>\n",
       "      <td>Male</td>\n",
       "      <td>Cleveland</td>\n",
       "      <td>asymptomatic</td>\n",
       "      <td>120.0</td>\n",
       "      <td>229.0</td>\n",
       "      <td>False</td>\n",
       "      <td>lv hypertrophy</td>\n",
       "      <td>129.0</td>\n",
       "      <td>True</td>\n",
       "      <td>2.6</td>\n",
       "      <td>flat</td>\n",
       "      <td>2.0</td>\n",
       "      <td>reversable defect</td>\n",
       "      <td>1</td>\n",
       "    </tr>\n",
       "    <tr>\n",
       "      <th>3</th>\n",
       "      <td>4</td>\n",
       "      <td>37</td>\n",
       "      <td>Male</td>\n",
       "      <td>Cleveland</td>\n",
       "      <td>non-anginal</td>\n",
       "      <td>130.0</td>\n",
       "      <td>250.0</td>\n",
       "      <td>False</td>\n",
       "      <td>normal</td>\n",
       "      <td>187.0</td>\n",
       "      <td>False</td>\n",
       "      <td>3.5</td>\n",
       "      <td>downsloping</td>\n",
       "      <td>0.0</td>\n",
       "      <td>normal</td>\n",
       "      <td>0</td>\n",
       "    </tr>\n",
       "    <tr>\n",
       "      <th>4</th>\n",
       "      <td>5</td>\n",
       "      <td>41</td>\n",
       "      <td>Female</td>\n",
       "      <td>Cleveland</td>\n",
       "      <td>atypical angina</td>\n",
       "      <td>130.0</td>\n",
       "      <td>204.0</td>\n",
       "      <td>False</td>\n",
       "      <td>lv hypertrophy</td>\n",
       "      <td>172.0</td>\n",
       "      <td>False</td>\n",
       "      <td>1.4</td>\n",
       "      <td>upsloping</td>\n",
       "      <td>0.0</td>\n",
       "      <td>normal</td>\n",
       "      <td>0</td>\n",
       "    </tr>\n",
       "  </tbody>\n",
       "</table>\n",
       "</div>"
      ],
      "text/plain": [
       "   id  age     sex    dataset               cp  trestbps   chol    fbs  \\\n",
       "0   1   63    Male  Cleveland   typical angina     145.0  233.0   True   \n",
       "1   2   67    Male  Cleveland     asymptomatic     160.0  286.0  False   \n",
       "2   3   67    Male  Cleveland     asymptomatic     120.0  229.0  False   \n",
       "3   4   37    Male  Cleveland      non-anginal     130.0  250.0  False   \n",
       "4   5   41  Female  Cleveland  atypical angina     130.0  204.0  False   \n",
       "\n",
       "          restecg  thalch  exang  oldpeak        slope   ca  \\\n",
       "0  lv hypertrophy   150.0  False      2.3  downsloping  0.0   \n",
       "1  lv hypertrophy   108.0   True      1.5         flat  3.0   \n",
       "2  lv hypertrophy   129.0   True      2.6         flat  2.0   \n",
       "3          normal   187.0  False      3.5  downsloping  0.0   \n",
       "4  lv hypertrophy   172.0  False      1.4    upsloping  0.0   \n",
       "\n",
       "                thal  num  \n",
       "0       fixed defect    0  \n",
       "1             normal    2  \n",
       "2  reversable defect    1  \n",
       "3             normal    0  \n",
       "4             normal    0  "
      ]
     },
     "execution_count": 2,
     "metadata": {},
     "output_type": "execute_result"
    }
   ],
   "source": [
    "# load the data from csv file placed locally in our system\n",
    "df = pd.read_csv('heart_disease_uci.csv')\n",
    "\n",
    "# Display the first 5 rows of the dataset\n",
    "df.head()"
   ]
  },
  {
   "cell_type": "markdown",
   "metadata": {},
   "source": [
    "## Exploratory Data Analysis (EDA)\n",
    "\n",
    "### Explore each column"
   ]
  },
  {
   "cell_type": "code",
   "execution_count": 3,
   "metadata": {},
   "outputs": [
    {
     "name": "stdout",
     "output_type": "stream",
     "text": [
      "<class 'pandas.core.frame.DataFrame'>\n",
      "RangeIndex: 920 entries, 0 to 919\n",
      "Data columns (total 16 columns):\n",
      " #   Column    Non-Null Count  Dtype  \n",
      "---  ------    --------------  -----  \n",
      " 0   id        920 non-null    int64  \n",
      " 1   age       920 non-null    int64  \n",
      " 2   sex       920 non-null    object \n",
      " 3   dataset   920 non-null    object \n",
      " 4   cp        920 non-null    object \n",
      " 5   trestbps  861 non-null    float64\n",
      " 6   chol      890 non-null    float64\n",
      " 7   fbs       830 non-null    object \n",
      " 8   restecg   918 non-null    object \n",
      " 9   thalch    865 non-null    float64\n",
      " 10  exang     865 non-null    object \n",
      " 11  oldpeak   858 non-null    float64\n",
      " 12  slope     611 non-null    object \n",
      " 13  ca        309 non-null    float64\n",
      " 14  thal      434 non-null    object \n",
      " 15  num       920 non-null    int64  \n",
      "dtypes: float64(5), int64(3), object(8)\n",
      "memory usage: 115.1+ KB\n"
     ]
    }
   ],
   "source": [
    "# exploring the datatype of each columns\n",
    "df.info()"
   ]
  },
  {
   "cell_type": "code",
   "execution_count": 4,
   "metadata": {},
   "outputs": [
    {
     "data": {
      "text/plain": [
       "(920, 16)"
      ]
     },
     "execution_count": 4,
     "metadata": {},
     "output_type": "execute_result"
    }
   ],
   "source": [
    "# checking the datashape\n",
    "df.shape"
   ]
  },
  {
   "cell_type": "code",
   "execution_count": 5,
   "metadata": {},
   "outputs": [
    {
     "name": "stdout",
     "output_type": "stream",
     "text": [
      "( 1 , 920 )\n"
     ]
    }
   ],
   "source": [
    "# id column\n",
    "print(\"(\",df['id'].min(),\",\",df['id'].max(),\")\")"
   ]
  },
  {
   "cell_type": "markdown",
   "metadata": {},
   "source": [
    "### Let's explore the age column"
   ]
  },
  {
   "cell_type": "code",
   "execution_count": 6,
   "metadata": {},
   "outputs": [
    {
     "data": {
      "text/plain": [
       "count    920.000000\n",
       "mean      53.510870\n",
       "std        9.424685\n",
       "min       28.000000\n",
       "25%       47.000000\n",
       "50%       54.000000\n",
       "75%       60.000000\n",
       "max       77.000000\n",
       "Name: age, dtype: float64"
      ]
     },
     "execution_count": 6,
     "metadata": {},
     "output_type": "execute_result"
    }
   ],
   "source": [
    "# value count of age column\n",
    "df['age'].describe()"
   ]
  },
  {
   "cell_type": "code",
   "execution_count": 7,
   "metadata": {},
   "outputs": [
    {
     "name": "stdout",
     "output_type": "stream",
     "text": [
      "( 28 , 77 )\n"
     ]
    }
   ],
   "source": [
    "# age column\n",
    "print(\"(\",df['age'].min(),\",\",df['age'].max(),\")\")"
   ]
  },
  {
   "cell_type": "code",
   "execution_count": 8,
   "metadata": {},
   "outputs": [
    {
     "data": {
      "text/plain": [
       "<Axes: xlabel='age', ylabel='Count'>"
      ]
     },
     "execution_count": 8,
     "metadata": {},
     "output_type": "execute_result"
    },
    {
     "data": {
      "image/png": "[encoded data removed]",
      "text/plain": [
       "<Figure size 640x480 with 1 Axes>"
      ]
     },
     "metadata": {},
     "output_type": "display_data"
    }
   ],
   "source": [
    "# draw a histogram to see the distribution of age column\n",
    "sns.histplot(df['age'], kde=True)"
   ]
  },
  {
   "cell_type": "code",
   "execution_count": 9,
   "metadata": {},
   "outputs": [
    {
     "name": "stdout",
     "output_type": "stream",
     "text": [
      "Mean:  53.51086956521739\n",
      "Median:  54.0\n",
      "Mode:  54\n"
     ]
    },
    {
     "data": {
      "image/png": "[encoded data removed]",
      "text/plain": [
       "<Figure size 640x480 with 1 Axes>"
      ]
     },
     "metadata": {},
     "output_type": "display_data"
    }
   ],
   "source": [
    "# draw the mean, median and mode of age column using sns\n",
    "sns.histplot(df['age'], kde=True)\n",
    "plt.axvline(df['age'].mean(), color='red', label='mean')\n",
    "plt.axvline(df['age'].median(), color='green', label='median')\n",
    "plt.axvline(df['age'].mode()[0], color='blue', label='mode')\n",
    "\n",
    "# print the value of mean, median and mode\n",
    "print(\"Mean: \", df['age'].mean())\n",
    "print(\"Median: \", df['age'].median())\n",
    "print(\"Mode: \", df['age'].mode()[0])"
   ]
  },
  {
   "cell_type": "markdown",
   "metadata": {},
   "source": [
    "Let's explore the gender based distribution of the dataset of the age column."
   ]
  },
  {
   "cell_type": "code",
   "execution_count": 10,
   "metadata": {},
   "outputs": [
    {
     "data": {
      "application/vnd.plotly.v1+json": {
       "config": {
        "plotlyServerURL": "https://plot.ly"
       },
       "data": [
        {
         "alignmentgroup": "True",
         "bingroup": "x",
         "hovertemplate": "sex=Male<br>age=%{x}<br>count=%{y}<extra></extra>",
         "legendgroup": "Male",
         "marker": {
          "color": "#636efa",
          "pattern": {
           "shape": ""
          }
         },
         "name": "Male",
         "offsetgroup": "Male",
         "orientation": "v",
         "showlegend": true,
         "type": "histogram",
         "x": [
          63,
          67,
          67,
          37,
          56,
          63,
          53,
          57,
          56,
          44,
          52,
          57,
          48,
          54,
          49,
          64,
          58,
          58,
          60,
          43,
          40,
          60,
          64,
          59,
          44,
          42,
          43,
          57,
          55,
          61,
          40,
          59,
          58,
          51,
          50,
          53,
          65,
          44,
          44,
          60,
          54,
          50,
          41,
          54,
          51,
          58,
          54,
          60,
          60,
          54,
          59,
          46,
          67,
          62,
          65,
          44,
          60,
          48,
          58,
          45,
          39,
          68,
          52,
          44,
          47,
          66,
          62,
          52,
          59,
          52,
          48,
          45,
          34,
          49,
          54,
          59,
          57,
          61,
          39,
          56,
          52,
          41,
          58,
          63,
          65,
          48,
          51,
          55,
          65,
          54,
          44,
          54,
          51,
          29,
          51,
          70,
          62,
          35,
          51,
          59,
          59,
          52,
          64,
          58,
          47,
          57,
          41,
          45,
          52,
          55,
          64,
          70,
          51,
          58,
          60,
          68,
          46,
          77,
          48,
          57,
          52,
          35,
          70,
          53,
          64,
          57,
          52,
          56,
          43,
          53,
          48,
          42,
          59,
          42,
          66,
          54,
          69,
          50,
          51,
          43,
          67,
          69,
          59,
          57,
          43,
          45,
          58,
          50,
          55,
          38,
          41,
          52,
          56,
          59,
          53,
          47,
          54,
          66,
          49,
          54,
          56,
          46,
          42,
          41,
          61,
          67,
          58,
          47,
          52,
          62,
          57,
          58,
          64,
          43,
          70,
          57,
          44,
          61,
          42,
          52,
          59,
          40,
          42,
          61,
          66,
          46,
          59,
          64,
          57,
          57,
          47,
          35,
          61,
          58,
          58,
          56,
          56,
          67,
          44,
          63,
          41,
          59,
          45,
          68,
          57,
          38,
          28,
          29,
          29,
          32,
          32,
          33,
          34,
          34,
          35,
          35,
          36,
          36,
          36,
          36,
          37,
          37,
          37,
          37,
          38,
          38,
          39,
          39,
          39,
          39,
          39,
          39,
          39,
          39,
          39,
          40,
          40,
          40,
          40,
          40,
          41,
          41,
          41,
          41,
          42,
          42,
          42,
          42,
          42,
          42,
          43,
          44,
          44,
          44,
          45,
          45,
          45,
          45,
          46,
          46,
          46,
          46,
          46,
          46,
          47,
          47,
          47,
          48,
          48,
          48,
          48,
          49,
          49,
          49,
          49,
          50,
          50,
          50,
          50,
          50,
          51,
          51,
          51,
          52,
          52,
          52,
          52,
          53,
          53,
          53,
          53,
          53,
          53,
          54,
          54,
          54,
          54,
          54,
          54,
          54,
          54,
          54,
          55,
          55,
          55,
          55,
          55,
          55,
          55,
          56,
          56,
          56,
          56,
          57,
          58,
          58,
          58,
          58,
          59,
          59,
          59,
          59,
          60,
          61,
          62,
          31,
          34,
          35,
          36,
          37,
          38,
          38,
          38,
          40,
          41,
          41,
          43,
          46,
          46,
          46,
          47,
          47,
          48,
          48,
          48,
          49,
          49,
          50,
          52,
          54,
          54,
          55,
          57,
          58,
          60,
          63,
          65,
          32,
          38,
          39,
          43,
          45,
          46,
          46,
          48,
          48,
          48,
          48,
          50,
          52,
          52,
          53,
          54,
          54,
          54,
          54,
          54,
          55,
          56,
          57,
          58,
          58,
          41,
          43,
          44,
          44,
          46,
          49,
          49,
          51,
          52,
          52,
          52,
          52,
          53,
          53,
          54,
          55,
          55,
          55,
          56,
          56,
          58,
          59,
          59,
          65,
          66,
          41,
          43,
          44,
          47,
          49,
          49,
          50,
          50,
          52,
          52,
          56,
          65,
          32,
          34,
          35,
          36,
          38,
          38,
          38,
          38,
          40,
          41,
          42,
          42,
          43,
          43,
          43,
          45,
          46,
          46,
          47,
          47,
          47,
          47,
          48,
          50,
          50,
          50,
          51,
          51,
          51,
          51,
          51,
          51,
          52,
          52,
          52,
          52,
          53,
          53,
          53,
          53,
          53,
          53,
          53,
          53,
          54,
          54,
          54,
          55,
          55,
          55,
          55,
          56,
          56,
          56,
          56,
          56,
          56,
          56,
          56,
          57,
          57,
          57,
          57,
          57,
          57,
          58,
          58,
          58,
          59,
          59,
          59,
          59,
          59,
          60,
          60,
          60,
          60,
          60,
          60,
          61,
          61,
          61,
          61,
          61,
          61,
          61,
          61,
          61,
          62,
          62,
          62,
          62,
          62,
          63,
          63,
          63,
          63,
          63,
          64,
          65,
          65,
          65,
          65,
          66,
          67,
          68,
          68,
          69,
          69,
          70,
          70,
          72,
          74,
          63,
          44,
          60,
          55,
          66,
          66,
          65,
          60,
          60,
          60,
          56,
          59,
          62,
          63,
          57,
          62,
          63,
          46,
          63,
          60,
          58,
          64,
          63,
          74,
          52,
          69,
          51,
          60,
          56,
          55,
          54,
          77,
          63,
          55,
          52,
          64,
          60,
          60,
          58,
          59,
          61,
          40,
          61,
          41,
          57,
          63,
          59,
          51,
          59,
          42,
          55,
          62,
          56,
          53,
          68,
          53,
          60,
          62,
          59,
          51,
          61,
          57,
          56,
          58,
          69,
          67,
          58,
          65,
          63,
          55,
          57,
          65,
          54,
          72,
          75,
          49,
          51,
          60,
          58,
          61,
          67,
          62,
          65,
          63,
          69,
          51,
          62,
          55,
          75,
          40,
          67,
          58,
          60,
          63,
          35,
          62,
          43,
          63,
          68,
          65,
          48,
          63,
          64,
          61,
          50,
          59,
          55,
          45,
          65,
          61,
          49,
          72,
          50,
          64,
          55,
          63,
          59,
          56,
          62,
          74,
          54,
          57,
          62,
          76,
          70,
          48,
          48,
          61,
          66,
          68,
          55,
          62,
          71,
          74,
          53,
          58,
          75,
          56,
          58,
          64,
          54,
          54,
          59,
          55,
          57,
          61,
          41,
          71,
          38,
          55,
          56,
          69,
          64,
          72,
          69,
          56,
          62,
          67,
          57,
          69,
          51,
          48,
          69,
          69,
          64,
          57,
          53,
          37,
          67,
          74,
          63,
          58,
          61,
          64,
          58,
          60,
          57,
          55,
          55,
          56,
          57,
          61,
          61,
          58,
          74,
          68,
          62,
          53,
          62,
          46,
          62,
          55,
          58,
          62
         ],
         "xaxis": "x",
         "yaxis": "y"
        },
        {
         "alignmentgroup": "True",
         "bingroup": "x",
         "hovertemplate": "sex=Female<br>age=%{x}<br>count=%{y}<extra></extra>",
         "legendgroup": "Female",
         "marker": {
          "color": "#EF553B",
          "pattern": {
           "shape": ""
          }
         },
         "name": "Female",
         "offsetgroup": "Female",
         "orientation": "v",
         "showlegend": true,
         "type": "histogram",
         "x": [
          41,
          62,
          57,
          56,
          48,
          58,
          50,
          58,
          66,
          69,
          65,
          71,
          61,
          65,
          41,
          51,
          46,
          54,
          65,
          65,
          51,
          53,
          53,
          53,
          51,
          62,
          44,
          63,
          60,
          57,
          71,
          61,
          43,
          62,
          35,
          63,
          45,
          56,
          62,
          43,
          55,
          60,
          42,
          67,
          54,
          58,
          54,
          45,
          59,
          62,
          56,
          60,
          63,
          62,
          68,
          45,
          50,
          50,
          64,
          64,
          62,
          37,
          66,
          46,
          46,
          64,
          41,
          54,
          39,
          63,
          34,
          67,
          52,
          55,
          74,
          54,
          49,
          41,
          49,
          60,
          51,
          42,
          67,
          76,
          44,
          58,
          60,
          71,
          66,
          39,
          58,
          55,
          58,
          55,
          63,
          57,
          57,
          30,
          31,
          32,
          34,
          35,
          35,
          37,
          37,
          37,
          38,
          39,
          41,
          41,
          41,
          42,
          43,
          43,
          43,
          43,
          43,
          43,
          43,
          44,
          45,
          45,
          45,
          46,
          47,
          47,
          48,
          48,
          48,
          48,
          48,
          48,
          48,
          49,
          49,
          49,
          49,
          50,
          50,
          51,
          51,
          51,
          51,
          52,
          52,
          52,
          52,
          53,
          53,
          53,
          54,
          54,
          54,
          54,
          54,
          54,
          54,
          55,
          55,
          55,
          56,
          57,
          57,
          59,
          61,
          62,
          33,
          49,
          50,
          51,
          59,
          40,
          47,
          48,
          56,
          47,
          54,
          58,
          38,
          38,
          50,
          51,
          62,
          62,
          64,
          64,
          66,
          73,
          63,
          64,
          54,
          61,
          51,
          54
         ],
         "xaxis": "x",
         "yaxis": "y"
        }
       ],
       "layout": {
        "barmode": "relative",
        "legend": {
         "title": {
          "text": "sex"
         },
         "tracegroupgap": 0
        },
        "margin": {
         "t": 60
        },
        "template": {
         "data": {
          "bar": [
           {
            "error_x": {
             "color": "#2a3f5f"
            },
            "error_y": {
             "color": "#2a3f5f"
            },
            "marker": {
             "line": {
              "color": "#E5ECF6",
              "width": 0.5
             },
             "pattern": {
              "fillmode": "overlay",
              "size": 10,
              "solidity": 0.2
             }
            },
            "type": "bar"
           }
          ],
          "barpolar": [
           {
            "marker": {
             "line": {
              "color": "#E5ECF6",
              "width": 0.5
             },
             "pattern": {
              "fillmode": "overlay",
              "size": 10,
              "solidity": 0.2
             }
            },
            "type": "barpolar"
           }
          ],
          "carpet": [
           {
            "aaxis": {
             "endlinecolor": "#2a3f5f",
             "gridcolor": "white",
             "linecolor": "white",
             "minorgridcolor": "white",
             "startlinecolor": "#2a3f5f"
            },
            "baxis": {
             "endlinecolor": "#2a3f5f",
             "gridcolor": "white",
             "linecolor": "white",
             "minorgridcolor": "white",
             "startlinecolor": "#2a3f5f"
            },
            "type": "carpet"
           }
          ],
          "choropleth": [
           {
            "colorbar": {
             "outlinewidth": 0,
             "ticks": ""
            },
            "type": "choropleth"
           }
          ],
          "contour": [
           {
            "colorbar": {
             "outlinewidth": 0,
             "ticks": ""
            },
            "colorscale": [
             [
              0,
              "#0d0887"
             ],
             [
              0.1111111111111111,
              "#46039f"
             ],
             [
              0.2222222222222222,
              "#7201a8"
             ],
             [
              0.3333333333333333,
              "#9c179e"
             ],
             [
              0.4444444444444444,
              "#bd3786"
             ],
             [
              0.5555555555555556,
              "#d8576b"
             ],
             [
              0.6666666666666666,
              "#ed7953"
             ],
             [
              0.7777777777777778,
              "#fb9f3a"
             ],
             [
              0.8888888888888888,
              "#fdca26"
             ],
             [
              1,
              "#f0f921"
             ]
            ],
            "type": "contour"
           }
          ],
          "contourcarpet": [
           {
            "colorbar": {
             "outlinewidth": 0,
             "ticks": ""
            },
            "type": "contourcarpet"
           }
          ],
          "heatmap": [
           {
            "colorbar": {
             "outlinewidth": 0,
             "ticks": ""
            },
            "colorscale": [
             [
              0,
              "#0d0887"
             ],
             [
              0.1111111111111111,
              "#46039f"
             ],
             [
              0.2222222222222222,
              "#7201a8"
             ],
             [
              0.3333333333333333,
              "#9c179e"
             ],
             [
              0.4444444444444444,
              "#bd3786"
             ],
             [
              0.5555555555555556,
              "#d8576b"
             ],
             [
              0.6666666666666666,
              "#ed7953"
             ],
             [
              0.7777777777777778,
              "#fb9f3a"
             ],
             [
              0.8888888888888888,
              "#fdca26"
             ],
             [
              1,
              "#f0f921"
             ]
            ],
            "type": "heatmap"
           }
          ],
          "heatmapgl": [
           {
            "colorbar": {
             "outlinewidth": 0,
             "ticks": ""
            },
            "colorscale": [
             [
              0,
              "#0d0887"
             ],
             [
              0.1111111111111111,
              "#46039f"
             ],
             [
              0.2222222222222222,
              "#7201a8"
             ],
             [
              0.3333333333333333,
              "#9c179e"
             ],
             [
              0.4444444444444444,
              "#bd3786"
             ],
             [
              0.5555555555555556,
              "#d8576b"
             ],
             [
              0.6666666666666666,
              "#ed7953"
             ],
             [
              0.7777777777777778,
              "#fb9f3a"
             ],
             [
              0.8888888888888888,
              "#fdca26"
             ],
             [
              1,
              "#f0f921"
             ]
            ],
            "type": "heatmapgl"
           }
          ],
          "histogram": [
           {
            "marker": {
             "pattern": {
              "fillmode": "overlay",
              "size": 10,
              "solidity": 0.2
             }
            },
            "type": "histogram"
           }
          ],
          "histogram2d": [
           {
            "colorbar": {
             "outlinewidth": 0,
             "ticks": ""
            },
            "colorscale": [
             [
              0,
              "#0d0887"
             ],
             [
              0.1111111111111111,
              "#46039f"
             ],
             [
              0.2222222222222222,
              "#7201a8"
             ],
             [
              0.3333333333333333,
              "#9c179e"
             ],
             [
              0.4444444444444444,
              "#bd3786"
             ],
             [
              0.5555555555555556,
              "#d8576b"
             ],
             [
              0.6666666666666666,
              "#ed7953"
             ],
             [
              0.7777777777777778,
              "#fb9f3a"
             ],
             [
              0.8888888888888888,
              "#fdca26"
             ],
             [
              1,
              "#f0f921"
             ]
            ],
            "type": "histogram2d"
           }
          ],
          "histogram2dcontour": [
           {
            "colorbar": {
             "outlinewidth": 0,
             "ticks": ""
            },
            "colorscale": [
             [
              0,
              "#0d0887"
             ],
             [
              0.1111111111111111,
              "#46039f"
             ],
             [
              0.2222222222222222,
              "#7201a8"
             ],
             [
              0.3333333333333333,
              "#9c179e"
             ],
             [
              0.4444444444444444,
              "#bd3786"
             ],
             [
              0.5555555555555556,
              "#d8576b"
             ],
             [
              0.6666666666666666,
              "#ed7953"
             ],
             [
              0.7777777777777778,
              "#fb9f3a"
             ],
             [
              0.8888888888888888,
              "#fdca26"
             ],
             [
              1,
              "#f0f921"
             ]
            ],
            "type": "histogram2dcontour"
           }
          ],
          "mesh3d": [
           {
            "colorbar": {
             "outlinewidth": 0,
             "ticks": ""
            },
            "type": "mesh3d"
           }
          ],
          "parcoords": [
           {
            "line": {
             "colorbar": {
              "outlinewidth": 0,
              "ticks": ""
             }
            },
            "type": "parcoords"
           }
          ],
          "pie": [
           {
            "automargin": true,
            "type": "pie"
           }
          ],
          "scatter": [
           {
            "fillpattern": {
             "fillmode": "overlay",
             "size": 10,
             "solidity": 0.2
            },
            "type": "scatter"
           }
          ],
          "scatter3d": [
           {
            "line": {
             "colorbar": {
              "outlinewidth": 0,
              "ticks": ""
             }
            },
            "marker": {
             "colorbar": {
              "outlinewidth": 0,
              "ticks": ""
             }
            },
            "type": "scatter3d"
           }
          ],
          "scattercarpet": [
           {
            "marker": {
             "colorbar": {
              "outlinewidth": 0,
              "ticks": ""
             }
            },
            "type": "scattercarpet"
           }
          ],
          "scattergeo": [
           {
            "marker": {
             "colorbar": {
              "outlinewidth": 0,
              "ticks": ""
             }
            },
            "type": "scattergeo"
           }
          ],
          "scattergl": [
           {
            "marker": {
             "colorbar": {
              "outlinewidth": 0,
              "ticks": ""
             }
            },
            "type": "scattergl"
           }
          ],
          "scattermapbox": [
           {
            "marker": {
             "colorbar": {
              "outlinewidth": 0,
              "ticks": ""
             }
            },
            "type": "scattermapbox"
           }
          ],
          "scatterpolar": [
           {
            "marker": {
             "colorbar": {
              "outlinewidth": 0,
              "ticks": ""
             }
            },
            "type": "scatterpolar"
           }
          ],
          "scatterpolargl": [
           {
            "marker": {
             "colorbar": {
              "outlinewidth": 0,
              "ticks": ""
             }
            },
            "type": "scatterpolargl"
           }
          ],
          "scatterternary": [
           {
            "marker": {
             "colorbar": {
              "outlinewidth": 0,
              "ticks": ""
             }
            },
            "type": "scatterternary"
           }
          ],
          "surface": [
           {
            "colorbar": {
             "outlinewidth": 0,
             "ticks": ""
            },
            "colorscale": [
             [
              0,
              "#0d0887"
             ],
             [
              0.1111111111111111,
              "#46039f"
             ],
             [
              0.2222222222222222,
              "#7201a8"
             ],
             [
              0.3333333333333333,
              "#9c179e"
             ],
             [
              0.4444444444444444,
              "#bd3786"
             ],
             [
              0.5555555555555556,
              "#d8576b"
             ],
             [
              0.6666666666666666,
              "#ed7953"
             ],
             [
              0.7777777777777778,
              "#fb9f3a"
             ],
             [
              0.8888888888888888,
              "#fdca26"
             ],
             [
              1,
              "#f0f921"
             ]
            ],
            "type": "surface"
           }
          ],
          "table": [
           {
            "cells": {
             "fill": {
              "color": "#EBF0F8"
             },
             "line": {
              "color": "white"
             }
            },
            "header": {
             "fill": {
              "color": "#C8D4E3"
             },
             "line": {
              "color": "white"
             }
            },
            "type": "table"
           }
          ]
         },
         "layout": {
          "annotationdefaults": {
           "arrowcolor": "#2a3f5f",
           "arrowhead": 0,
           "arrowwidth": 1
          },
          "autotypenumbers": "strict",
          "coloraxis": {
           "colorbar": {
            "outlinewidth": 0,
            "ticks": ""
           }
          },
          "colorscale": {
           "diverging": [
            [
             0,
             "#8e0152"
            ],
            [
             0.1,
             "#c51b7d"
            ],
            [
             0.2,
             "#de77ae"
            ],
            [
             0.3,
             "#f1b6da"
            ],
            [
             0.4,
             "#fde0ef"
            ],
            [
             0.5,
             "#f7f7f7"
            ],
            [
             0.6,
             "#e6f5d0"
            ],
            [
             0.7,
             "#b8e186"
            ],
            [
             0.8,
             "#7fbc41"
            ],
            [
             0.9,
             "#4d9221"
            ],
            [
             1,
             "#276419"
            ]
           ],
           "sequential": [
            [
             0,
             "#0d0887"
            ],
            [
             0.1111111111111111,
             "#46039f"
            ],
            [
             0.2222222222222222,
             "#7201a8"
            ],
            [
             0.3333333333333333,
             "#9c179e"
            ],
            [
             0.4444444444444444,
             "#bd3786"
            ],
            [
             0.5555555555555556,
             "#d8576b"
            ],
            [
             0.6666666666666666,
             "#ed7953"
            ],
            [
             0.7777777777777778,
             "#fb9f3a"
            ],
            [
             0.8888888888888888,
             "#fdca26"
            ],
            [
             1,
             "#f0f921"
            ]
           ],
           "sequentialminus": [
            [
             0,
             "#0d0887"
            ],
            [
             0.1111111111111111,
             "#46039f"
            ],
            [
             0.2222222222222222,
             "#7201a8"
            ],
            [
             0.3333333333333333,
             "#9c179e"
            ],
            [
             0.4444444444444444,
             "#bd3786"
            ],
            [
             0.5555555555555556,
             "#d8576b"
            ],
            [
             0.6666666666666666,
             "#ed7953"
            ],
            [
             0.7777777777777778,
             "#fb9f3a"
            ],
            [
             0.8888888888888888,
             "#fdca26"
            ],
            [
             1,
             "#f0f921"
            ]
           ]
          },
          "colorway": [
           "#636efa",
           "#EF553B",
           "#00cc96",
           "#ab63fa",
           "#FFA15A",
           "#19d3f3",
           "#FF6692",
           "#B6E880",
           "#FF97FF",
           "#FECB52"
          ],
          "font": {
           "color": "#2a3f5f"
          },
          "geo": {
           "bgcolor": "white",
           "lakecolor": "white",
           "landcolor": "#E5ECF6",
           "showlakes": true,
           "showland": true,
           "subunitcolor": "white"
          },
          "hoverlabel": {
           "align": "left"
          },
          "hovermode": "closest",
          "mapbox": {
           "style": "light"
          },
          "paper_bgcolor": "white",
          "plot_bgcolor": "#E5ECF6",
          "polar": {
           "angularaxis": {
            "gridcolor": "white",
            "linecolor": "white",
            "ticks": ""
           },
           "bgcolor": "#E5ECF6",
           "radialaxis": {
            "gridcolor": "white",
            "linecolor": "white",
            "ticks": ""
           }
          },
          "scene": {
           "xaxis": {
            "backgroundcolor": "#E5ECF6",
            "gridcolor": "white",
            "gridwidth": 2,
            "linecolor": "white",
            "showbackground": true,
            "ticks": "",
            "zerolinecolor": "white"
           },
           "yaxis": {
            "backgroundcolor": "#E5ECF6",
            "gridcolor": "white",
            "gridwidth": 2,
            "linecolor": "white",
            "showbackground": true,
            "ticks": "",
            "zerolinecolor": "white"
           },
           "zaxis": {
            "backgroundcolor": "#E5ECF6",
            "gridcolor": "white",
            "gridwidth": 2,
            "linecolor": "white",
            "showbackground": true,
            "ticks": "",
            "zerolinecolor": "white"
           }
          },
          "shapedefaults": {
           "line": {
            "color": "#2a3f5f"
           }
          },
          "ternary": {
           "aaxis": {
            "gridcolor": "white",
            "linecolor": "white",
            "ticks": ""
           },
           "baxis": {
            "gridcolor": "white",
            "linecolor": "white",
            "ticks": ""
           },
           "bgcolor": "#E5ECF6",
           "caxis": {
            "gridcolor": "white",
            "linecolor": "white",
            "ticks": ""
           }
          },
          "title": {
           "x": 0.05
          },
          "xaxis": {
           "automargin": true,
           "gridcolor": "white",
           "linecolor": "white",
           "ticks": "",
           "title": {
            "standoff": 15
           },
           "zerolinecolor": "white",
           "zerolinewidth": 2
          },
          "yaxis": {
           "automargin": true,
           "gridcolor": "white",
           "linecolor": "white",
           "ticks": "",
           "title": {
            "standoff": 15
           },
           "zerolinecolor": "white",
           "zerolinewidth": 2
          }
         }
        },
        "xaxis": {
         "anchor": "y",
         "domain": [
          0,
          1
         ],
         "title": {
          "text": "age"
         }
        },
        "yaxis": {
         "anchor": "x",
         "domain": [
          0,
          1
         ],
         "title": {
          "text": "count"
         }
        }
       }
      }
     },
     "metadata": {},
     "output_type": "display_data"
    }
   ],
   "source": [
    "# Plot the histogram of age column using plotly and coloring this by sex.\n",
    "fig = px.histogram(df, x='age',color='sex')\n",
    "fig.show()"
   ]
  },
  {
   "cell_type": "code",
   "execution_count": 11,
   "metadata": {},
   "outputs": [
    {
     "data": {
      "text/plain": [
       "sex\n",
       "Male      726\n",
       "Female    194\n",
       "Name: count, dtype: int64"
      ]
     },
     "execution_count": 11,
     "metadata": {},
     "output_type": "execute_result"
    }
   ],
   "source": [
    "# Find the value count of sex column\n",
    "df[\"sex\"].value_counts()"
   ]
  },
  {
   "cell_type": "code",
   "execution_count": 12,
   "metadata": {},
   "outputs": [
    {
     "name": "stdout",
     "output_type": "stream",
     "text": [
      "Male percentage in the data : 78.91%\n",
      "Female percentage in the data : 21.09%\n",
      "Males are 274.23% more than females in the data\n"
     ]
    }
   ],
   "source": [
    "# Calculate the percentage of male and female value counts in dataset\n",
    "male_count = 726\n",
    "female_count = 194\n",
    "total_count = male_count + female_count\n",
    "\n",
    "# calculate percentage\n",
    "male_percentage = (male_count / total_count) * 100\n",
    "female_percentage = (female_count / total_count) * 100\n",
    "\n",
    "# display the result\n",
    "print(f\"Male percentage in the data : {male_percentage:.2f}%\")\n",
    "print(f\"Female percentage in the data : {female_percentage:.2f}%\")\n",
    "\n",
    "# difference \n",
    "difference_percentage = ((male_count - female_count) / female_count) * 100\n",
    "print(f\"Males are {difference_percentage:.2f}% more than females in the data\")"
   ]
  },
  {
   "cell_type": "code",
   "execution_count": 13,
   "metadata": {},
   "outputs": [
    {
     "data": {
      "text/plain": [
       "sex     age\n",
       "Female  54     15\n",
       "        51     11\n",
       "        62     10\n",
       "        43      9\n",
       "        48      9\n",
       "               ..\n",
       "Male    77      2\n",
       "        28      1\n",
       "        31      1\n",
       "        33      1\n",
       "        76      1\n",
       "Name: count, Length: 91, dtype: int64"
      ]
     },
     "execution_count": 13,
     "metadata": {},
     "output_type": "execute_result"
    }
   ],
   "source": [
    "# find the values count of age column grouping by sex column\n",
    "df.groupby('sex')['age'].value_counts()"
   ]
  },
  {
   "cell_type": "code",
   "execution_count": 14,
   "metadata": {},
   "outputs": [
    {
     "data": {
      "text/plain": [
       "array(['Cleveland', 'Hungary', 'Switzerland', 'VA Long Beach'],\n",
       "      dtype=object)"
      ]
     },
     "execution_count": 14,
     "metadata": {},
     "output_type": "execute_result"
    }
   ],
   "source": [
    "# Let's deal with the dataset column\n",
    "df[\"dataset\"].unique()"
   ]
  },
  {
   "cell_type": "code",
   "execution_count": 15,
   "metadata": {},
   "outputs": [
    {
     "data": {
      "text/plain": [
       "dataset\n",
       "Cleveland        304\n",
       "Hungary          293\n",
       "VA Long Beach    200\n",
       "Switzerland      123\n",
       "Name: count, dtype: int64"
      ]
     },
     "execution_count": 15,
     "metadata": {},
     "output_type": "execute_result"
    }
   ],
   "source": [
    "# Find unique value count in the dataset column\n",
    "df[\"dataset\"].value_counts()"
   ]
  },
  {
   "cell_type": "code",
   "execution_count": 16,
   "metadata": {},
   "outputs": [
    {
     "data": {
      "application/vnd.plotly.v1+json": {
       "config": {
        "plotlyServerURL": "https://plot.ly"
       },
       "data": [
        {
         "alignmentgroup": "True",
         "hovertemplate": "sex=Male<br>dataset=%{x}<br>count=%{y}<extra></extra>",
         "legendgroup": "Male",
         "marker": {
          "color": "#636efa",
          "pattern": {
           "shape": ""
          }
         },
         "name": "Male",
         "offsetgroup": "Male",
         "orientation": "v",
         "showlegend": true,
         "textposition": "auto",
         "type": "bar",
         "x": [
          "Cleveland",
          "Cleveland",
          "Cleveland",
          "Cleveland",
          "Cleveland",
          "Cleveland",
          "Cleveland",
          "Cleveland",
          "Cleveland",
          "Cleveland",
          "Cleveland",
          "Cleveland",
          "Cleveland",
          "Cleveland",
          "Cleveland",
          "Cleveland",
          "Cleveland",
          "Cleveland",
          "Cleveland",
          "Cleveland",
          "Cleveland",
          "Cleveland",
          "Cleveland",
          "Cleveland",
          "Cleveland",
          "Cleveland",
          "Cleveland",
          "Cleveland",
          "Cleveland",
          "Cleveland",
          "Cleveland",
          "Cleveland",
          "Cleveland",
          "Cleveland",
          "Cleveland",
          "Cleveland",
          "Cleveland",
          "Cleveland",
          "Cleveland",
          "Cleveland",
          "Cleveland",
          "Cleveland",
          "Cleveland",
          "Cleveland",
          "Cleveland",
          "Cleveland",
          "Cleveland",
          "Cleveland",
          "Cleveland",
          "Cleveland",
          "Cleveland",
          "Cleveland",
          "Cleveland",
          "Cleveland",
          "Cleveland",
          "Cleveland",
          "Cleveland",
          "Cleveland",
          "Cleveland",
          "Cleveland",
          "Cleveland",
          "Cleveland",
          "Cleveland",
          "Cleveland",
          "Cleveland",
          "Cleveland",
          "Cleveland",
          "Cleveland",
          "Cleveland",
          "Cleveland",
          "Cleveland",
          "Cleveland",
          "Cleveland",
          "Cleveland",
          "Cleveland",
          "Cleveland",
          "Cleveland",
          "Cleveland",
          "Cleveland",
          "Cleveland",
          "Cleveland",
          "Cleveland",
          "Cleveland",
          "Cleveland",
          "Cleveland",
          "Cleveland",
          "Cleveland",
          "Cleveland",
          "Cleveland",
          "Cleveland",
          "Cleveland",
          "Cleveland",
          "Cleveland",
          "Cleveland",
          "Cleveland",
          "Cleveland",
          "Cleveland",
          "Cleveland",
          "Cleveland",
          "Cleveland",
          "Cleveland",
          "Cleveland",
          "Cleveland",
          "Cleveland",
          "Cleveland",
          "Cleveland",
          "Cleveland",
          "Cleveland",
          "Cleveland",
          "Cleveland",
          "Cleveland",
          "Cleveland",
          "Cleveland",
          "Cleveland",
          "Cleveland",
          "Cleveland",
          "Cleveland",
          "Cleveland",
          "Cleveland",
          "Cleveland",
          "Cleveland",
          "Cleveland",
          "Cleveland",
          "Cleveland",
          "Cleveland",
          "Cleveland",
          "Cleveland",
          "Cleveland",
          "Cleveland",
          "Cleveland",
          "Cleveland",
          "Cleveland",
          "Cleveland",
          "Cleveland",
          "Cleveland",
          "Cleveland",
          "Cleveland",
          "Cleveland",
          "Cleveland",
          "Cleveland",
          "Cleveland",
          "Cleveland",
          "Cleveland",
          "Cleveland",
          "Cleveland",
          "Cleveland",
          "Cleveland",
          "Cleveland",
          "Cleveland",
          "Cleveland",
          "Cleveland",
          "Cleveland",
          "Cleveland",
          "Cleveland",
          "Cleveland",
          "Cleveland",
          "Cleveland",
          "Cleveland",
          "Cleveland",
          "Cleveland",
          "Cleveland",
          "Cleveland",
          "Cleveland",
          "Cleveland",
          "Cleveland",
          "Cleveland",
          "Cleveland",
          "Cleveland",
          "Cleveland",
          "Cleveland",
          "Cleveland",
          "Cleveland",
          "Cleveland",
          "Cleveland",
          "Cleveland",
          "Cleveland",
          "Cleveland",
          "Cleveland",
          "Cleveland",
          "Cleveland",
          "Cleveland",
          "Cleveland",
          "Cleveland",
          "Cleveland",
          "Cleveland",
          "Cleveland",
          "Cleveland",
          "Cleveland",
          "Cleveland",
          "Cleveland",
          "Cleveland",
          "Cleveland",
          "Cleveland",
          "Cleveland",
          "Cleveland",
          "Cleveland",
          "Cleveland",
          "Cleveland",
          "Cleveland",
          "Cleveland",
          "Cleveland",
          "Cleveland",
          "Cleveland",
          "Cleveland",
          "Cleveland",
          "Cleveland",
          "Cleveland",
          "Hungary",
          "Hungary",
          "Hungary",
          "Hungary",
          "Hungary",
          "Hungary",
          "Hungary",
          "Hungary",
          "Hungary",
          "Hungary",
          "Hungary",
          "Hungary",
          "Hungary",
          "Hungary",
          "Hungary",
          "Hungary",
          "Hungary",
          "Hungary",
          "Hungary",
          "Hungary",
          "Hungary",
          "Hungary",
          "Hungary",
          "Hungary",
          "Hungary",
          "Hungary",
          "Hungary",
          "Hungary",
          "Hungary",
          "Hungary",
          "Hungary",
          "Hungary",
          "Hungary",
          "Hungary",
          "Hungary",
          "Hungary",
          "Hungary",
          "Hungary",
          "Hungary",
          "Hungary",
          "Hungary",
          "Hungary",
          "Hungary",
          "Hungary",
          "Hungary",
          "Hungary",
          "Hungary",
          "Hungary",
          "Hungary",
          "Hungary",
          "Hungary",
          "Hungary",
          "Hungary",
          "Hungary",
          "Hungary",
          "Hungary",
          "Hungary",
          "Hungary",
          "Hungary",
          "Hungary",
          "Hungary",
          "Hungary",
          "Hungary",
          "Hungary",
          "Hungary",
          "Hungary",
          "Hungary",
          "Hungary",
          "Hungary",
          "Hungary",
          "Hungary",
          "Hungary",
          "Hungary",
          "Hungary",
          "Hungary",
          "Hungary",
          "Hungary",
          "Hungary",
          "Hungary",
          "Hungary",
          "Hungary",
          "Hungary",
          "Hungary",
          "Hungary",
          "Hungary",
          "Hungary",
          "Hungary",
          "Hungary",
          "Hungary",
          "Hungary",
          "Hungary",
          "Hungary",
          "Hungary",
          "Hungary",
          "Hungary",
          "Hungary",
          "Hungary",
          "Hungary",
          "Hungary",
          "Hungary",
          "Hungary",
          "Hungary",
          "Hungary",
          "Hungary",
          "Hungary",
          "Hungary",
          "Hungary",
          "Hungary",
          "Hungary",
          "Hungary",
          "Hungary",
          "Hungary",
          "Hungary",
          "Hungary",
          "Hungary",
          "Hungary",
          "Hungary",
          "Hungary",
          "Hungary",
          "Hungary",
          "Hungary",
          "Hungary",
          "Hungary",
          "Hungary",
          "Hungary",
          "Hungary",
          "Hungary",
          "Hungary",
          "Hungary",
          "Hungary",
          "Hungary",
          "Hungary",
          "Hungary",
          "Hungary",
          "Hungary",
          "Hungary",
          "Hungary",
          "Hungary",
          "Hungary",
          "Hungary",
          "Hungary",
          "Hungary",
          "Hungary",
          "Hungary",
          "Hungary",
          "Hungary",
          "Hungary",
          "Hungary",
          "Hungary",
          "Hungary",
          "Hungary",
          "Hungary",
          "Hungary",
          "Hungary",
          "Hungary",
          "Hungary",
          "Hungary",
          "Hungary",
          "Hungary",
          "Hungary",
          "Hungary",
          "Hungary",
          "Hungary",
          "Hungary",
          "Hungary",
          "Hungary",
          "Hungary",
          "Hungary",
          "Hungary",
          "Hungary",
          "Hungary",
          "Hungary",
          "Hungary",
          "Hungary",
          "Hungary",
          "Hungary",
          "Hungary",
          "Hungary",
          "Hungary",
          "Hungary",
          "Hungary",
          "Hungary",
          "Hungary",
          "Hungary",
          "Hungary",
          "Hungary",
          "Hungary",
          "Hungary",
          "Hungary",
          "Hungary",
          "Hungary",
          "Hungary",
          "Hungary",
          "Hungary",
          "Hungary",
          "Hungary",
          "Hungary",
          "Hungary",
          "Hungary",
          "Hungary",
          "Hungary",
          "Hungary",
          "Hungary",
          "Hungary",
          "Hungary",
          "Hungary",
          "Hungary",
          "Hungary",
          "Hungary",
          "Hungary",
          "Hungary",
          "Hungary",
          "Switzerland",
          "Switzerland",
          "Switzerland",
          "Switzerland",
          "Switzerland",
          "Switzerland",
          "Switzerland",
          "Switzerland",
          "Switzerland",
          "Switzerland",
          "Switzerland",
          "Switzerland",
          "Switzerland",
          "Switzerland",
          "Switzerland",
          "Switzerland",
          "Switzerland",
          "Switzerland",
          "Switzerland",
          "Switzerland",
          "Switzerland",
          "Switzerland",
          "Switzerland",
          "Switzerland",
          "Switzerland",
          "Switzerland",
          "Switzerland",
          "Switzerland",
          "Switzerland",
          "Switzerland",
          "Switzerland",
          "Switzerland",
          "Switzerland",
          "Switzerland",
          "Switzerland",
          "Switzerland",
          "Switzerland",
          "Switzerland",
          "Switzerland",
          "Switzerland",
          "Switzerland",
          "Switzerland",
          "Switzerland",
          "Switzerland",
          "Switzerland",
          "Switzerland",
          "Switzerland",
          "Switzerland",
          "Switzerland",
          "Switzerland",
          "Switzerland",
          "Switzerland",
          "Switzerland",
          "Switzerland",
          "Switzerland",
          "Switzerland",
          "Switzerland",
          "Switzerland",
          "Switzerland",
          "Switzerland",
          "Switzerland",
          "Switzerland",
          "Switzerland",
          "Switzerland",
          "Switzerland",
          "Switzerland",
          "Switzerland",
          "Switzerland",
          "Switzerland",
          "Switzerland",
          "Switzerland",
          "Switzerland",
          "Switzerland",
          "Switzerland",
          "Switzerland",
          "Switzerland",
          "Switzerland",
          "Switzerland",
          "Switzerland",
          "Switzerland",
          "Switzerland",
          "Switzerland",
          "Switzerland",
          "Switzerland",
          "Switzerland",
          "Switzerland",
          "Switzerland",
          "Switzerland",
          "Switzerland",
          "Switzerland",
          "Switzerland",
          "Switzerland",
          "Switzerland",
          "Switzerland",
          "Switzerland",
          "Switzerland",
          "Switzerland",
          "Switzerland",
          "Switzerland",
          "Switzerland",
          "Switzerland",
          "Switzerland",
          "Switzerland",
          "Switzerland",
          "Switzerland",
          "Switzerland",
          "Switzerland",
          "Switzerland",
          "Switzerland",
          "Switzerland",
          "Switzerland",
          "Switzerland",
          "Switzerland",
          "VA Long Beach",
          "VA Long Beach",
          "VA Long Beach",
          "VA Long Beach",
          "VA Long Beach",
          "VA Long Beach",
          "VA Long Beach",
          "VA Long Beach",
          "VA Long Beach",
          "VA Long Beach",
          "VA Long Beach",
          "VA Long Beach",
          "VA Long Beach",
          "VA Long Beach",
          "VA Long Beach",
          "VA Long Beach",
          "VA Long Beach",
          "VA Long Beach",
          "VA Long Beach",
          "VA Long Beach",
          "VA Long Beach",
          "VA Long Beach",
          "VA Long Beach",
          "VA Long Beach",
          "VA Long Beach",
          "VA Long Beach",
          "VA Long Beach",
          "VA Long Beach",
          "VA Long Beach",
          "VA Long Beach",
          "VA Long Beach",
          "VA Long Beach",
          "VA Long Beach",
          "VA Long Beach",
          "VA Long Beach",
          "VA Long Beach",
          "VA Long Beach",
          "VA Long Beach",
          "VA Long Beach",
          "VA Long Beach",
          "VA Long Beach",
          "VA Long Beach",
          "VA Long Beach",
          "VA Long Beach",
          "VA Long Beach",
          "VA Long Beach",
          "VA Long Beach",
          "VA Long Beach",
          "VA Long Beach",
          "VA Long Beach",
          "VA Long Beach",
          "VA Long Beach",
          "VA Long Beach",
          "VA Long Beach",
          "VA Long Beach",
          "VA Long Beach",
          "VA Long Beach",
          "VA Long Beach",
          "VA Long Beach",
          "VA Long Beach",
          "VA Long Beach",
          "VA Long Beach",
          "VA Long Beach",
          "VA Long Beach",
          "VA Long Beach",
          "VA Long Beach",
          "VA Long Beach",
          "VA Long Beach",
          "VA Long Beach",
          "VA Long Beach",
          "VA Long Beach",
          "VA Long Beach",
          "VA Long Beach",
          "VA Long Beach",
          "VA Long Beach",
          "VA Long Beach",
          "VA Long Beach",
          "VA Long Beach",
          "VA Long Beach",
          "VA Long Beach",
          "VA Long Beach",
          "VA Long Beach",
          "VA Long Beach",
          "VA Long Beach",
          "VA Long Beach",
          "VA Long Beach",
          "VA Long Beach",
          "VA Long Beach",
          "VA Long Beach",
          "VA Long Beach",
          "VA Long Beach",
          "VA Long Beach",
          "VA Long Beach",
          "VA Long Beach",
          "VA Long Beach",
          "VA Long Beach",
          "VA Long Beach",
          "VA Long Beach",
          "VA Long Beach",
          "VA Long Beach",
          "VA Long Beach",
          "VA Long Beach",
          "VA Long Beach",
          "VA Long Beach",
          "VA Long Beach",
          "VA Long Beach",
          "VA Long Beach",
          "VA Long Beach",
          "VA Long Beach",
          "VA Long Beach",
          "VA Long Beach",
          "VA Long Beach",
          "VA Long Beach",
          "VA Long Beach",
          "VA Long Beach",
          "VA Long Beach",
          "VA Long Beach",
          "VA Long Beach",
          "VA Long Beach",
          "VA Long Beach",
          "VA Long Beach",
          "VA Long Beach",
          "VA Long Beach",
          "VA Long Beach",
          "VA Long Beach",
          "VA Long Beach",
          "VA Long Beach",
          "VA Long Beach",
          "VA Long Beach",
          "VA Long Beach",
          "VA Long Beach",
          "VA Long Beach",
          "VA Long Beach",
          "VA Long Beach",
          "VA Long Beach",
          "VA Long Beach",
          "VA Long Beach",
          "VA Long Beach",
          "VA Long Beach",
          "VA Long Beach",
          "VA Long Beach",
          "VA Long Beach",
          "VA Long Beach",
          "VA Long Beach",
          "VA Long Beach",
          "VA Long Beach",
          "VA Long Beach",
          "VA Long Beach",
          "VA Long Beach",
          "VA Long Beach",
          "VA Long Beach",
          "VA Long Beach",
          "VA Long Beach",
          "VA Long Beach",
          "VA Long Beach",
          "VA Long Beach",
          "VA Long Beach",
          "VA Long Beach",
          "VA Long Beach",
          "VA Long Beach",
          "VA Long Beach",
          "VA Long Beach",
          "VA Long Beach",
          "VA Long Beach",
          "VA Long Beach",
          "VA Long Beach",
          "VA Long Beach",
          "VA Long Beach",
          "VA Long Beach",
          "VA Long Beach",
          "VA Long Beach",
          "VA Long Beach",
          "VA Long Beach",
          "VA Long Beach",
          "VA Long Beach",
          "VA Long Beach",
          "VA Long Beach",
          "VA Long Beach",
          "VA Long Beach",
          "VA Long Beach",
          "VA Long Beach",
          "VA Long Beach",
          "VA Long Beach",
          "VA Long Beach",
          "VA Long Beach",
          "VA Long Beach",
          "VA Long Beach",
          "VA Long Beach",
          "VA Long Beach",
          "VA Long Beach",
          "VA Long Beach",
          "VA Long Beach",
          "VA Long Beach",
          "VA Long Beach"
         ],
         "xaxis": "x",
         "y": [
          1,
          1,
          1,
          1,
          1,
          1,
          1,
          1,
          1,
          1,
          1,
          1,
          1,
          1,
          1,
          1,
          1,
          1,
          1,
          1,
          1,
          1,
          1,
          1,
          1,
          1,
          1,
          1,
          1,
          1,
          1,
          1,
          1,
          1,
          1,
          1,
          1,
          1,
          1,
          1,
          1,
          1,
          1,
          1,
          1,
          1,
          1,
          1,
          1,
          1,
          1,
          1,
          1,
          1,
          1,
          1,
          1,
          1,
          1,
          1,
          1,
          1,
          1,
          1,
          1,
          1,
          1,
          1,
          1,
          1,
          1,
          1,
          1,
          1,
          1,
          1,
          1,
          1,
          1,
          1,
          1,
          1,
          1,
          1,
          1,
          1,
          1,
          1,
          1,
          1,
          1,
          1,
          1,
          1,
          1,
          1,
          1,
          1,
          1,
          1,
          1,
          1,
          1,
          1,
          1,
          1,
          1,
          1,
          1,
          1,
          1,
          1,
          1,
          1,
          1,
          1,
          1,
          1,
          1,
          1,
          1,
          1,
          1,
          1,
          1,
          1,
          1,
          1,
          1,
          1,
          1,
          1,
          1,
          1,
          1,
          1,
          1,
          1,
          1,
          1,
          1,
          1,
          1,
          1,
          1,
          1,
          1,
          1,
          1,
          1,
          1,
          1,
          1,
          1,
          1,
          1,
          1,
          1,
          1,
          1,
          1,
          1,
          1,
          1,
          1,
          1,
          1,
          1,
          1,
          1,
          1,
          1,
          1,
          1,
          1,
          1,
          1,
          1,
          1,
          1,
          1,
          1,
          1,
          1,
          1,
          1,
          1,
          1,
          1,
          1,
          1,
          1,
          1,
          1,
          1,
          1,
          1,
          1,
          1,
          1,
          1,
          1,
          1,
          1,
          1,
          1,
          1,
          1,
          1,
          1,
          1,
          1,
          1,
          1,
          1,
          1,
          1,
          1,
          1,
          1,
          1,
          1,
          1,
          1,
          1,
          1,
          1,
          1,
          1,
          1,
          1,
          1,
          1,
          1,
          1,
          1,
          1,
          1,
          1,
          1,
          1,
          1,
          1,
          1,
          1,
          1,
          1,
          1,
          1,
          1,
          1,
          1,
          1,
          1,
          1,
          1,
          1,
          1,
          1,
          1,
          1,
          1,
          1,
          1,
          1,
          1,
          1,
          1,
          1,
          1,
          1,
          1,
          1,
          1,
          1,
          1,
          1,
          1,
          1,
          1,
          1,
          1,
          1,
          1,
          1,
          1,
          1,
          1,
          1,
          1,
          1,
          1,
          1,
          1,
          1,
          1,
          1,
          1,
          1,
          1,
          1,
          1,
          1,
          1,
          1,
          1,
          1,
          1,
          1,
          1,
          1,
          1,
          1,
          1,
          1,
          1,
          1,
          1,
          1,
          1,
          1,
          1,
          1,
          1,
          1,
          1,
          1,
          1,
          1,
          1,
          1,
          1,
          1,
          1,
          1,
          1,
          1,
          1,
          1,
          1,
          1,
          1,
          1,
          1,
          1,
          1,
          1,
          1,
          1,
          1,
          1,
          1,
          1,
          1,
          1,
          1,
          1,
          1,
          1,
          1,
          1,
          1,
          1,
          1,
          1,
          1,
          1,
          1,
          1,
          1,
          1,
          1,
          1,
          1,
          1,
          1,
          1,
          1,
          1,
          1,
          1,
          1,
          1,
          1,
          1,
          1,
          1,
          1,
          1,
          1,
          1,
          1,
          1,
          1,
          1,
          1,
          1,
          1,
          1,
          1,
          1,
          1,
          1,
          1,
          1,
          1,
          1,
          1,
          1,
          1,
          1,
          1,
          1,
          1,
          1,
          1,
          1,
          1,
          1,
          1,
          1,
          1,
          1,
          1,
          1,
          1,
          1,
          1,
          1,
          1,
          1,
          1,
          1,
          1,
          1,
          1,
          1,
          1,
          1,
          1,
          1,
          1,
          1,
          1,
          1,
          1,
          1,
          1,
          1,
          1,
          1,
          1,
          1,
          1,
          1,
          1,
          1,
          1,
          1,
          1,
          1,
          1,
          1,
          1,
          1,
          1,
          1,
          1,
          1,
          1,
          1,
          1,
          1,
          1,
          1,
          1,
          1,
          1,
          1,
          1,
          1,
          1,
          1,
          1,
          1,
          1,
          1,
          1,
          1,
          1,
          1,
          1,
          1,
          1,
          1,
          1,
          1,
          1,
          1,
          1,
          1,
          1,
          1,
          1,
          1,
          1,
          1,
          1,
          1,
          1,
          1,
          1,
          1,
          1,
          1,
          1,
          1,
          1,
          1,
          1,
          1,
          1,
          1,
          1,
          1,
          1,
          1,
          1,
          1,
          1,
          1,
          1,
          1,
          1,
          1,
          1,
          1,
          1,
          1,
          1,
          1,
          1,
          1,
          1,
          1,
          1,
          1,
          1,
          1,
          1,
          1,
          1,
          1,
          1,
          1,
          1,
          1,
          1,
          1,
          1,
          1,
          1,
          1,
          1,
          1,
          1,
          1,
          1,
          1,
          1,
          1,
          1,
          1,
          1,
          1,
          1,
          1,
          1,
          1,
          1,
          1,
          1,
          1,
          1,
          1,
          1,
          1,
          1,
          1,
          1,
          1,
          1,
          1,
          1,
          1,
          1,
          1,
          1,
          1,
          1,
          1,
          1,
          1,
          1,
          1,
          1,
          1,
          1,
          1,
          1,
          1,
          1,
          1,
          1,
          1,
          1,
          1,
          1,
          1,
          1,
          1,
          1,
          1,
          1,
          1,
          1,
          1,
          1,
          1,
          1,
          1,
          1,
          1,
          1,
          1,
          1,
          1,
          1,
          1,
          1,
          1,
          1,
          1,
          1,
          1,
          1,
          1,
          1,
          1,
          1,
          1,
          1,
          1,
          1,
          1,
          1,
          1,
          1,
          1,
          1,
          1,
          1,
          1,
          1,
          1,
          1,
          1,
          1,
          1,
          1,
          1,
          1,
          1,
          1,
          1,
          1,
          1,
          1,
          1,
          1,
          1,
          1,
          1,
          1,
          1,
          1,
          1,
          1,
          1,
          1,
          1,
          1,
          1,
          1,
          1,
          1,
          1,
          1,
          1,
          1,
          1,
          1,
          1,
          1,
          1,
          1,
          1,
          1,
          1,
          1,
          1,
          1,
          1,
          1,
          1,
          1,
          1,
          1,
          1,
          1,
          1,
          1,
          1,
          1,
          1,
          1
         ],
         "yaxis": "y"
        },
        {
         "alignmentgroup": "True",
         "hovertemplate": "sex=Female<br>dataset=%{x}<br>count=%{y}<extra></extra>",
         "legendgroup": "Female",
         "marker": {
          "color": "#EF553B",
          "pattern": {
           "shape": ""
          }
         },
         "name": "Female",
         "offsetgroup": "Female",
         "orientation": "v",
         "showlegend": true,
         "textposition": "auto",
         "type": "bar",
         "x": [
          "Cleveland",
          "Cleveland",
          "Cleveland",
          "Cleveland",
          "Cleveland",
          "Cleveland",
          "Cleveland",
          "Cleveland",
          "Cleveland",
          "Cleveland",
          "Cleveland",
          "Cleveland",
          "Cleveland",
          "Cleveland",
          "Cleveland",
          "Cleveland",
          "Cleveland",
          "Cleveland",
          "Cleveland",
          "Cleveland",
          "Cleveland",
          "Cleveland",
          "Cleveland",
          "Cleveland",
          "Cleveland",
          "Cleveland",
          "Cleveland",
          "Cleveland",
          "Cleveland",
          "Cleveland",
          "Cleveland",
          "Cleveland",
          "Cleveland",
          "Cleveland",
          "Cleveland",
          "Cleveland",
          "Cleveland",
          "Cleveland",
          "Cleveland",
          "Cleveland",
          "Cleveland",
          "Cleveland",
          "Cleveland",
          "Cleveland",
          "Cleveland",
          "Cleveland",
          "Cleveland",
          "Cleveland",
          "Cleveland",
          "Cleveland",
          "Cleveland",
          "Cleveland",
          "Cleveland",
          "Cleveland",
          "Cleveland",
          "Cleveland",
          "Cleveland",
          "Cleveland",
          "Cleveland",
          "Cleveland",
          "Cleveland",
          "Cleveland",
          "Cleveland",
          "Cleveland",
          "Cleveland",
          "Cleveland",
          "Cleveland",
          "Cleveland",
          "Cleveland",
          "Cleveland",
          "Cleveland",
          "Cleveland",
          "Cleveland",
          "Cleveland",
          "Cleveland",
          "Cleveland",
          "Cleveland",
          "Cleveland",
          "Cleveland",
          "Cleveland",
          "Cleveland",
          "Cleveland",
          "Cleveland",
          "Cleveland",
          "Cleveland",
          "Cleveland",
          "Cleveland",
          "Cleveland",
          "Cleveland",
          "Cleveland",
          "Cleveland",
          "Cleveland",
          "Cleveland",
          "Cleveland",
          "Cleveland",
          "Cleveland",
          "Cleveland",
          "Hungary",
          "Hungary",
          "Hungary",
          "Hungary",
          "Hungary",
          "Hungary",
          "Hungary",
          "Hungary",
          "Hungary",
          "Hungary",
          "Hungary",
          "Hungary",
          "Hungary",
          "Hungary",
          "Hungary",
          "Hungary",
          "Hungary",
          "Hungary",
          "Hungary",
          "Hungary",
          "Hungary",
          "Hungary",
          "Hungary",
          "Hungary",
          "Hungary",
          "Hungary",
          "Hungary",
          "Hungary",
          "Hungary",
          "Hungary",
          "Hungary",
          "Hungary",
          "Hungary",
          "Hungary",
          "Hungary",
          "Hungary",
          "Hungary",
          "Hungary",
          "Hungary",
          "Hungary",
          "Hungary",
          "Hungary",
          "Hungary",
          "Hungary",
          "Hungary",
          "Hungary",
          "Hungary",
          "Hungary",
          "Hungary",
          "Hungary",
          "Hungary",
          "Hungary",
          "Hungary",
          "Hungary",
          "Hungary",
          "Hungary",
          "Hungary",
          "Hungary",
          "Hungary",
          "Hungary",
          "Hungary",
          "Hungary",
          "Hungary",
          "Hungary",
          "Hungary",
          "Hungary",
          "Hungary",
          "Hungary",
          "Hungary",
          "Hungary",
          "Hungary",
          "Hungary",
          "Hungary",
          "Hungary",
          "Hungary",
          "Hungary",
          "Hungary",
          "Hungary",
          "Hungary",
          "Hungary",
          "Hungary",
          "Switzerland",
          "Switzerland",
          "Switzerland",
          "Switzerland",
          "Switzerland",
          "Switzerland",
          "Switzerland",
          "Switzerland",
          "Switzerland",
          "Switzerland",
          "VA Long Beach",
          "VA Long Beach",
          "VA Long Beach",
          "VA Long Beach",
          "VA Long Beach",
          "VA Long Beach"
         ],
         "xaxis": "x",
         "y": [
          1,
          1,
          1,
          1,
          1,
          1,
          1,
          1,
          1,
          1,
          1,
          1,
          1,
          1,
          1,
          1,
          1,
          1,
          1,
          1,
          1,
          1,
          1,
          1,
          1,
          1,
          1,
          1,
          1,
          1,
          1,
          1,
          1,
          1,
          1,
          1,
          1,
          1,
          1,
          1,
          1,
          1,
          1,
          1,
          1,
          1,
          1,
          1,
          1,
          1,
          1,
          1,
          1,
          1,
          1,
          1,
          1,
          1,
          1,
          1,
          1,
          1,
          1,
          1,
          1,
          1,
          1,
          1,
          1,
          1,
          1,
          1,
          1,
          1,
          1,
          1,
          1,
          1,
          1,
          1,
          1,
          1,
          1,
          1,
          1,
          1,
          1,
          1,
          1,
          1,
          1,
          1,
          1,
          1,
          1,
          1,
          1,
          1,
          1,
          1,
          1,
          1,
          1,
          1,
          1,
          1,
          1,
          1,
          1,
          1,
          1,
          1,
          1,
          1,
          1,
          1,
          1,
          1,
          1,
          1,
          1,
          1,
          1,
          1,
          1,
          1,
          1,
          1,
          1,
          1,
          1,
          1,
          1,
          1,
          1,
          1,
          1,
          1,
          1,
          1,
          1,
          1,
          1,
          1,
          1,
          1,
          1,
          1,
          1,
          1,
          1,
          1,
          1,
          1,
          1,
          1,
          1,
          1,
          1,
          1,
          1,
          1,
          1,
          1,
          1,
          1,
          1,
          1,
          1,
          1,
          1,
          1,
          1,
          1,
          1,
          1,
          1,
          1,
          1,
          1,
          1,
          1,
          1,
          1,
          1,
          1,
          1,
          1,
          1,
          1,
          1,
          1,
          1,
          1
         ],
         "yaxis": "y"
        }
       ],
       "layout": {
        "barmode": "relative",
        "legend": {
         "title": {
          "text": "sex"
         },
         "tracegroupgap": 0
        },
        "margin": {
         "t": 60
        },
        "template": {
         "data": {
          "bar": [
           {
            "error_x": {
             "color": "#2a3f5f"
            },
            "error_y": {
             "color": "#2a3f5f"
            },
            "marker": {
             "line": {
              "color": "#E5ECF6",
              "width": 0.5
             },
             "pattern": {
              "fillmode": "overlay",
              "size": 10,
              "solidity": 0.2
             }
            },
            "type": "bar"
           }
          ],
          "barpolar": [
           {
            "marker": {
             "line": {
              "color": "#E5ECF6",
              "width": 0.5
             },
             "pattern": {
              "fillmode": "overlay",
              "size": 10,
              "solidity": 0.2
             }
            },
            "type": "barpolar"
           }
          ],
          "carpet": [
           {
            "aaxis": {
             "endlinecolor": "#2a3f5f",
             "gridcolor": "white",
             "linecolor": "white",
             "minorgridcolor": "white",
             "startlinecolor": "#2a3f5f"
            },
            "baxis": {
             "endlinecolor": "#2a3f5f",
             "gridcolor": "white",
             "linecolor": "white",
             "minorgridcolor": "white",
             "startlinecolor": "#2a3f5f"
            },
            "type": "carpet"
           }
          ],
          "choropleth": [
           {
            "colorbar": {
             "outlinewidth": 0,
             "ticks": ""
            },
            "type": "choropleth"
           }
          ],
          "contour": [
           {
            "colorbar": {
             "outlinewidth": 0,
             "ticks": ""
            },
            "colorscale": [
             [
              0,
              "#0d0887"
             ],
             [
              0.1111111111111111,
              "#46039f"
             ],
             [
              0.2222222222222222,
              "#7201a8"
             ],
             [
              0.3333333333333333,
              "#9c179e"
             ],
             [
              0.4444444444444444,
              "#bd3786"
             ],
             [
              0.5555555555555556,
              "#d8576b"
             ],
             [
              0.6666666666666666,
              "#ed7953"
             ],
             [
              0.7777777777777778,
              "#fb9f3a"
             ],
             [
              0.8888888888888888,
              "#fdca26"
             ],
             [
              1,
              "#f0f921"
             ]
            ],
            "type": "contour"
           }
          ],
          "contourcarpet": [
           {
            "colorbar": {
             "outlinewidth": 0,
             "ticks": ""
            },
            "type": "contourcarpet"
           }
          ],
          "heatmap": [
           {
            "colorbar": {
             "outlinewidth": 0,
             "ticks": ""
            },
            "colorscale": [
             [
              0,
              "#0d0887"
             ],
             [
              0.1111111111111111,
              "#46039f"
             ],
             [
              0.2222222222222222,
              "#7201a8"
             ],
             [
              0.3333333333333333,
              "#9c179e"
             ],
             [
              0.4444444444444444,
              "#bd3786"
             ],
             [
              0.5555555555555556,
              "#d8576b"
             ],
             [
              0.6666666666666666,
              "#ed7953"
             ],
             [
              0.7777777777777778,
              "#fb9f3a"
             ],
             [
              0.8888888888888888,
              "#fdca26"
             ],
             [
              1,
              "#f0f921"
             ]
            ],
            "type": "heatmap"
           }
          ],
          "heatmapgl": [
           {
            "colorbar": {
             "outlinewidth": 0,
             "ticks": ""
            },
            "colorscale": [
             [
              0,
              "#0d0887"
             ],
             [
              0.1111111111111111,
              "#46039f"
             ],
             [
              0.2222222222222222,
              "#7201a8"
             ],
             [
              0.3333333333333333,
              "#9c179e"
             ],
             [
              0.4444444444444444,
              "#bd3786"
             ],
             [
              0.5555555555555556,
              "#d8576b"
             ],
             [
              0.6666666666666666,
              "#ed7953"
             ],
             [
              0.7777777777777778,
              "#fb9f3a"
             ],
             [
              0.8888888888888888,
              "#fdca26"
             ],
             [
              1,
              "#f0f921"
             ]
            ],
            "type": "heatmapgl"
           }
          ],
          "histogram": [
           {
            "marker": {
             "pattern": {
              "fillmode": "overlay",
              "size": 10,
              "solidity": 0.2
             }
            },
            "type": "histogram"
           }
          ],
          "histogram2d": [
           {
            "colorbar": {
             "outlinewidth": 0,
             "ticks": ""
            },
            "colorscale": [
             [
              0,
              "#0d0887"
             ],
             [
              0.1111111111111111,
              "#46039f"
             ],
             [
              0.2222222222222222,
              "#7201a8"
             ],
             [
              0.3333333333333333,
              "#9c179e"
             ],
             [
              0.4444444444444444,
              "#bd3786"
             ],
             [
              0.5555555555555556,
              "#d8576b"
             ],
             [
              0.6666666666666666,
              "#ed7953"
             ],
             [
              0.7777777777777778,
              "#fb9f3a"
             ],
             [
              0.8888888888888888,
              "#fdca26"
             ],
             [
              1,
              "#f0f921"
             ]
            ],
            "type": "histogram2d"
           }
          ],
          "histogram2dcontour": [
           {
            "colorbar": {
             "outlinewidth": 0,
             "ticks": ""
            },
            "colorscale": [
             [
              0,
              "#0d0887"
             ],
             [
              0.1111111111111111,
              "#46039f"
             ],
             [
              0.2222222222222222,
              "#7201a8"
             ],
             [
              0.3333333333333333,
              "#9c179e"
             ],
             [
              0.4444444444444444,
              "#bd3786"
             ],
             [
              0.5555555555555556,
              "#d8576b"
             ],
             [
              0.6666666666666666,
              "#ed7953"
             ],
             [
              0.7777777777777778,
              "#fb9f3a"
             ],
             [
              0.8888888888888888,
              "#fdca26"
             ],
             [
              1,
              "#f0f921"
             ]
            ],
            "type": "histogram2dcontour"
           }
          ],
          "mesh3d": [
           {
            "colorbar": {
             "outlinewidth": 0,
             "ticks": ""
            },
            "type": "mesh3d"
           }
          ],
          "parcoords": [
           {
            "line": {
             "colorbar": {
              "outlinewidth": 0,
              "ticks": ""
             }
            },
            "type": "parcoords"
           }
          ],
          "pie": [
           {
            "automargin": true,
            "type": "pie"
           }
          ],
          "scatter": [
           {
            "fillpattern": {
             "fillmode": "overlay",
             "size": 10,
             "solidity": 0.2
            },
            "type": "scatter"
           }
          ],
          "scatter3d": [
           {
            "line": {
             "colorbar": {
              "outlinewidth": 0,
              "ticks": ""
             }
            },
            "marker": {
             "colorbar": {
              "outlinewidth": 0,
              "ticks": ""
             }
            },
            "type": "scatter3d"
           }
          ],
          "scattercarpet": [
           {
            "marker": {
             "colorbar": {
              "outlinewidth": 0,
              "ticks": ""
             }
            },
            "type": "scattercarpet"
           }
          ],
          "scattergeo": [
           {
            "marker": {
             "colorbar": {
              "outlinewidth": 0,
              "ticks": ""
             }
            },
            "type": "scattergeo"
           }
          ],
          "scattergl": [
           {
            "marker": {
             "colorbar": {
              "outlinewidth": 0,
              "ticks": ""
             }
            },
            "type": "scattergl"
           }
          ],
          "scattermapbox": [
           {
            "marker": {
             "colorbar": {
              "outlinewidth": 0,
              "ticks": ""
             }
            },
            "type": "scattermapbox"
           }
          ],
          "scatterpolar": [
           {
            "marker": {
             "colorbar": {
              "outlinewidth": 0,
              "ticks": ""
             }
            },
            "type": "scatterpolar"
           }
          ],
          "scatterpolargl": [
           {
            "marker": {
             "colorbar": {
              "outlinewidth": 0,
              "ticks": ""
             }
            },
            "type": "scatterpolargl"
           }
          ],
          "scatterternary": [
           {
            "marker": {
             "colorbar": {
              "outlinewidth": 0,
              "ticks": ""
             }
            },
            "type": "scatterternary"
           }
          ],
          "surface": [
           {
            "colorbar": {
             "outlinewidth": 0,
             "ticks": ""
            },
            "colorscale": [
             [
              0,
              "#0d0887"
             ],
             [
              0.1111111111111111,
              "#46039f"
             ],
             [
              0.2222222222222222,
              "#7201a8"
             ],
             [
              0.3333333333333333,
              "#9c179e"
             ],
             [
              0.4444444444444444,
              "#bd3786"
             ],
             [
              0.5555555555555556,
              "#d8576b"
             ],
             [
              0.6666666666666666,
              "#ed7953"
             ],
             [
              0.7777777777777778,
              "#fb9f3a"
             ],
             [
              0.8888888888888888,
              "#fdca26"
             ],
             [
              1,
              "#f0f921"
             ]
            ],
            "type": "surface"
           }
          ],
          "table": [
           {
            "cells": {
             "fill": {
              "color": "#EBF0F8"
             },
             "line": {
              "color": "white"
             }
            },
            "header": {
             "fill": {
              "color": "#C8D4E3"
             },
             "line": {
              "color": "white"
             }
            },
            "type": "table"
           }
          ]
         },
         "layout": {
          "annotationdefaults": {
           "arrowcolor": "#2a3f5f",
           "arrowhead": 0,
           "arrowwidth": 1
          },
          "autotypenumbers": "strict",
          "coloraxis": {
           "colorbar": {
            "outlinewidth": 0,
            "ticks": ""
           }
          },
          "colorscale": {
           "diverging": [
            [
             0,
             "#8e0152"
            ],
            [
             0.1,
             "#c51b7d"
            ],
            [
             0.2,
             "#de77ae"
            ],
            [
             0.3,
             "#f1b6da"
            ],
            [
             0.4,
             "#fde0ef"
            ],
            [
             0.5,
             "#f7f7f7"
            ],
            [
             0.6,
             "#e6f5d0"
            ],
            [
             0.7,
             "#b8e186"
            ],
            [
             0.8,
             "#7fbc41"
            ],
            [
             0.9,
             "#4d9221"
            ],
            [
             1,
             "#276419"
            ]
           ],
           "sequential": [
            [
             0,
             "#0d0887"
            ],
            [
             0.1111111111111111,
             "#46039f"
            ],
            [
             0.2222222222222222,
             "#7201a8"
            ],
            [
             0.3333333333333333,
             "#9c179e"
            ],
            [
             0.4444444444444444,
             "#bd3786"
            ],
            [
             0.5555555555555556,
             "#d8576b"
            ],
            [
             0.6666666666666666,
             "#ed7953"
            ],
            [
             0.7777777777777778,
             "#fb9f3a"
            ],
            [
             0.8888888888888888,
             "#fdca26"
            ],
            [
             1,
             "#f0f921"
            ]
           ],
           "sequentialminus": [
            [
             0,
             "#0d0887"
            ],
            [
             0.1111111111111111,
             "#46039f"
            ],
            [
             0.2222222222222222,
             "#7201a8"
            ],
            [
             0.3333333333333333,
             "#9c179e"
            ],
            [
             0.4444444444444444,
             "#bd3786"
            ],
            [
             0.5555555555555556,
             "#d8576b"
            ],
            [
             0.6666666666666666,
             "#ed7953"
            ],
            [
             0.7777777777777778,
             "#fb9f3a"
            ],
            [
             0.8888888888888888,
             "#fdca26"
            ],
            [
             1,
             "#f0f921"
            ]
           ]
          },
          "colorway": [
           "#636efa",
           "#EF553B",
           "#00cc96",
           "#ab63fa",
           "#FFA15A",
           "#19d3f3",
           "#FF6692",
           "#B6E880",
           "#FF97FF",
           "#FECB52"
          ],
          "font": {
           "color": "#2a3f5f"
          },
          "geo": {
           "bgcolor": "white",
           "lakecolor": "white",
           "landcolor": "#E5ECF6",
           "showlakes": true,
           "showland": true,
           "subunitcolor": "white"
          },
          "hoverlabel": {
           "align": "left"
          },
          "hovermode": "closest",
          "mapbox": {
           "style": "light"
          },
          "paper_bgcolor": "white",
          "plot_bgcolor": "#E5ECF6",
          "polar": {
           "angularaxis": {
            "gridcolor": "white",
            "linecolor": "white",
            "ticks": ""
           },
           "bgcolor": "#E5ECF6",
           "radialaxis": {
            "gridcolor": "white",
            "linecolor": "white",
            "ticks": ""
           }
          },
          "scene": {
           "xaxis": {
            "backgroundcolor": "#E5ECF6",
            "gridcolor": "white",
            "gridwidth": 2,
            "linecolor": "white",
            "showbackground": true,
            "ticks": "",
            "zerolinecolor": "white"
           },
           "yaxis": {
            "backgroundcolor": "#E5ECF6",
            "gridcolor": "white",
            "gridwidth": 2,
            "linecolor": "white",
            "showbackground": true,
            "ticks": "",
            "zerolinecolor": "white"
           },
           "zaxis": {
            "backgroundcolor": "#E5ECF6",
            "gridcolor": "white",
            "gridwidth": 2,
            "linecolor": "white",
            "showbackground": true,
            "ticks": "",
            "zerolinecolor": "white"
           }
          },
          "shapedefaults": {
           "line": {
            "color": "#2a3f5f"
           }
          },
          "ternary": {
           "aaxis": {
            "gridcolor": "white",
            "linecolor": "white",
            "ticks": ""
           },
           "baxis": {
            "gridcolor": "white",
            "linecolor": "white",
            "ticks": ""
           },
           "bgcolor": "#E5ECF6",
           "caxis": {
            "gridcolor": "white",
            "linecolor": "white",
            "ticks": ""
           }
          },
          "title": {
           "x": 0.05
          },
          "xaxis": {
           "automargin": true,
           "gridcolor": "white",
           "linecolor": "white",
           "ticks": "",
           "title": {
            "standoff": 15
           },
           "zerolinecolor": "white",
           "zerolinewidth": 2
          },
          "yaxis": {
           "automargin": true,
           "gridcolor": "white",
           "linecolor": "white",
           "ticks": "",
           "title": {
            "standoff": 15
           },
           "zerolinecolor": "white",
           "zerolinewidth": 2
          }
         }
        },
        "xaxis": {
         "anchor": "y",
         "domain": [
          0,
          1
         ],
         "title": {
          "text": "dataset"
         }
        },
        "yaxis": {
         "anchor": "x",
         "domain": [
          0,
          1
         ],
         "title": {
          "text": "count"
         }
        }
       }
      }
     },
     "metadata": {},
     "output_type": "display_data"
    },
    {
     "data": {
      "text/plain": [
       "sex     dataset      \n",
       "Female  Cleveland         97\n",
       "        Hungary           81\n",
       "        Switzerland       10\n",
       "        VA Long Beach      6\n",
       "Male    Hungary          212\n",
       "        Cleveland        207\n",
       "        VA Long Beach    194\n",
       "        Switzerland      113\n",
       "Name: count, dtype: int64"
      ]
     },
     "execution_count": 16,
     "metadata": {},
     "output_type": "execute_result"
    }
   ],
   "source": [
    "# plot the count plot of dataset column\n",
    "# sns.countplot(data=df, x='dataset',hue='sex')\n",
    "\n",
    "# Better plots using plotly\n",
    "# plot the count plot of dataset column using plotly\n",
    "fig = px.bar(df, x='dataset' ,color='sex')\n",
    "fig.show()\n",
    "\n",
    "# print the value count of dataset column grouped by sex column\n",
    "df.groupby(\"sex\")['dataset'].value_counts()"
   ]
  },
  {
   "cell_type": "code",
   "execution_count": 17,
   "metadata": {},
   "outputs": [
    {
     "data": {
      "application/vnd.plotly.v1+json": {
       "config": {
        "plotlyServerURL": "https://plot.ly"
       },
       "data": [
        {
         "alignmentgroup": "True",
         "bingroup": "x",
         "hovertemplate": "dataset=Cleveland<br>age=%{x}<br>count=%{y}<extra></extra>",
         "legendgroup": "Cleveland",
         "marker": {
          "color": "#636efa",
          "pattern": {
           "shape": ""
          }
         },
         "name": "Cleveland",
         "offsetgroup": "Cleveland",
         "orientation": "v",
         "showlegend": true,
         "type": "histogram",
         "x": [
          63,
          67,
          67,
          37,
          41,
          56,
          62,
          57,
          63,
          53,
          57,
          56,
          56,
          44,
          52,
          57,
          48,
          54,
          48,
          49,
          64,
          58,
          58,
          58,
          60,
          50,
          58,
          66,
          43,
          40,
          69,
          60,
          64,
          59,
          44,
          42,
          43,
          57,
          55,
          61,
          65,
          40,
          71,
          59,
          61,
          58,
          51,
          50,
          65,
          53,
          41,
          65,
          44,
          44,
          60,
          54,
          50,
          41,
          54,
          51,
          51,
          46,
          58,
          54,
          54,
          60,
          60,
          54,
          59,
          46,
          65,
          67,
          62,
          65,
          44,
          65,
          60,
          51,
          48,
          58,
          45,
          53,
          39,
          68,
          52,
          44,
          47,
          53,
          53,
          51,
          66,
          62,
          62,
          44,
          63,
          52,
          59,
          60,
          52,
          48,
          45,
          34,
          57,
          71,
          49,
          54,
          59,
          57,
          61,
          39,
          61,
          56,
          52,
          43,
          62,
          41,
          58,
          35,
          63,
          65,
          48,
          63,
          51,
          55,
          65,
          45,
          56,
          54,
          44,
          62,
          54,
          51,
          29,
          51,
          43,
          55,
          70,
          62,
          35,
          51,
          59,
          59,
          52,
          64,
          58,
          47,
          57,
          41,
          45,
          60,
          52,
          42,
          67,
          55,
          64,
          70,
          51,
          58,
          60,
          68,
          46,
          77,
          54,
          58,
          48,
          57,
          52,
          54,
          35,
          45,
          70,
          53,
          59,
          62,
          64,
          57,
          52,
          56,
          43,
          53,
          48,
          56,
          42,
          59,
          60,
          63,
          42,
          66,
          54,
          69,
          50,
          51,
          43,
          62,
          68,
          67,
          69,
          45,
          50,
          59,
          50,
          64,
          57,
          64,
          43,
          45,
          58,
          50,
          55,
          62,
          37,
          38,
          41,
          66,
          52,
          56,
          46,
          46,
          64,
          59,
          41,
          54,
          39,
          53,
          63,
          34,
          47,
          67,
          54,
          66,
          52,
          55,
          49,
          74,
          54,
          54,
          56,
          46,
          49,
          42,
          41,
          41,
          49,
          61,
          60,
          67,
          58,
          47,
          52,
          62,
          57,
          58,
          64,
          51,
          43,
          42,
          67,
          76,
          70,
          57,
          44,
          58,
          60,
          44,
          61,
          42,
          52,
          59,
          40,
          42,
          61,
          66,
          46,
          71,
          59,
          64,
          66,
          39,
          57,
          58,
          57,
          47,
          55,
          35,
          61,
          58,
          58,
          58,
          56,
          56,
          67,
          55,
          44,
          63,
          63,
          41,
          59,
          57,
          45,
          68,
          57,
          57,
          38,
          28
         ],
         "xaxis": "x",
         "yaxis": "y"
        },
        {
         "alignmentgroup": "True",
         "bingroup": "x",
         "hovertemplate": "dataset=Hungary<br>age=%{x}<br>count=%{y}<extra></extra>",
         "legendgroup": "Hungary",
         "marker": {
          "color": "#EF553B",
          "pattern": {
           "shape": ""
          }
         },
         "name": "Hungary",
         "offsetgroup": "Hungary",
         "orientation": "v",
         "showlegend": true,
         "type": "histogram",
         "x": [
          29,
          29,
          30,
          31,
          32,
          32,
          32,
          33,
          34,
          34,
          34,
          35,
          35,
          35,
          35,
          36,
          36,
          36,
          36,
          37,
          37,
          37,
          37,
          37,
          37,
          37,
          38,
          38,
          38,
          39,
          39,
          39,
          39,
          39,
          39,
          39,
          39,
          39,
          39,
          40,
          40,
          40,
          40,
          40,
          41,
          41,
          41,
          41,
          41,
          41,
          41,
          42,
          42,
          42,
          42,
          42,
          42,
          42,
          43,
          43,
          43,
          43,
          43,
          43,
          43,
          43,
          44,
          44,
          44,
          44,
          45,
          45,
          45,
          45,
          45,
          45,
          45,
          46,
          46,
          46,
          46,
          46,
          46,
          46,
          47,
          47,
          47,
          47,
          47,
          48,
          48,
          48,
          48,
          48,
          48,
          48,
          48,
          48,
          48,
          48,
          49,
          49,
          49,
          49,
          49,
          49,
          49,
          49,
          50,
          50,
          50,
          50,
          50,
          50,
          50,
          51,
          51,
          51,
          51,
          51,
          51,
          51,
          52,
          52,
          52,
          52,
          52,
          52,
          52,
          52,
          53,
          53,
          53,
          53,
          53,
          53,
          53,
          53,
          53,
          54,
          54,
          54,
          54,
          54,
          54,
          54,
          54,
          54,
          54,
          54,
          54,
          54,
          54,
          54,
          54,
          55,
          55,
          55,
          55,
          55,
          55,
          55,
          55,
          55,
          55,
          56,
          56,
          56,
          56,
          56,
          57,
          57,
          57,
          58,
          58,
          58,
          58,
          59,
          59,
          59,
          59,
          59,
          60,
          61,
          61,
          62,
          62,
          31,
          33,
          34,
          35,
          36,
          37,
          38,
          38,
          38,
          40,
          41,
          41,
          43,
          46,
          46,
          46,
          47,
          47,
          48,
          48,
          48,
          49,
          49,
          49,
          50,
          50,
          51,
          52,
          54,
          54,
          55,
          57,
          58,
          59,
          60,
          63,
          65,
          32,
          38,
          39,
          40,
          43,
          45,
          46,
          46,
          48,
          48,
          48,
          48,
          50,
          52,
          52,
          53,
          54,
          54,
          54,
          54,
          54,
          55,
          56,
          57,
          58,
          58,
          41,
          43,
          44,
          44,
          46,
          47,
          48,
          49,
          49,
          51,
          52,
          52,
          52,
          52,
          53,
          53,
          54,
          55,
          55,
          55,
          56,
          56,
          56,
          58,
          59,
          59,
          65,
          66,
          41,
          43,
          44,
          47,
          47,
          49,
          49,
          50,
          50,
          52,
          52,
          54,
          56,
          58,
          65
         ],
         "xaxis": "x",
         "yaxis": "y"
        },
        {
         "alignmentgroup": "True",
         "bingroup": "x",
         "hovertemplate": "dataset=Switzerland<br>age=%{x}<br>count=%{y}<extra></extra>",
         "legendgroup": "Switzerland",
         "marker": {
          "color": "#00cc96",
          "pattern": {
           "shape": ""
          }
         },
         "name": "Switzerland",
         "offsetgroup": "Switzerland",
         "orientation": "v",
         "showlegend": true,
         "type": "histogram",
         "x": [
          32,
          34,
          35,
          36,
          38,
          38,
          38,
          38,
          38,
          38,
          40,
          41,
          42,
          42,
          43,
          43,
          43,
          45,
          46,
          46,
          47,
          47,
          47,
          47,
          48,
          50,
          50,
          50,
          50,
          51,
          51,
          51,
          51,
          51,
          51,
          51,
          52,
          52,
          52,
          52,
          53,
          53,
          53,
          53,
          53,
          53,
          53,
          53,
          54,
          54,
          54,
          55,
          55,
          55,
          55,
          56,
          56,
          56,
          56,
          56,
          56,
          56,
          56,
          57,
          57,
          57,
          57,
          57,
          57,
          58,
          58,
          58,
          59,
          59,
          59,
          59,
          59,
          60,
          60,
          60,
          60,
          60,
          60,
          61,
          61,
          61,
          61,
          61,
          61,
          61,
          61,
          61,
          62,
          62,
          62,
          62,
          62,
          62,
          62,
          63,
          63,
          63,
          63,
          63,
          64,
          64,
          64,
          65,
          65,
          65,
          65,
          66,
          66,
          67,
          68,
          68,
          69,
          69,
          70,
          70,
          72,
          73,
          74
         ],
         "xaxis": "x",
         "yaxis": "y"
        },
        {
         "alignmentgroup": "True",
         "bingroup": "x",
         "hovertemplate": "dataset=VA Long Beach<br>age=%{x}<br>count=%{y}<extra></extra>",
         "legendgroup": "VA Long Beach",
         "marker": {
          "color": "#ab63fa",
          "pattern": {
           "shape": ""
          }
         },
         "name": "VA Long Beach",
         "offsetgroup": "VA Long Beach",
         "orientation": "v",
         "showlegend": true,
         "type": "histogram",
         "x": [
          63,
          44,
          60,
          55,
          66,
          66,
          65,
          60,
          60,
          60,
          56,
          59,
          62,
          63,
          57,
          62,
          63,
          46,
          63,
          60,
          58,
          64,
          63,
          74,
          52,
          69,
          51,
          60,
          56,
          55,
          54,
          77,
          63,
          55,
          52,
          64,
          60,
          60,
          58,
          59,
          61,
          40,
          61,
          41,
          57,
          63,
          59,
          51,
          59,
          42,
          55,
          63,
          62,
          56,
          53,
          68,
          53,
          60,
          62,
          59,
          51,
          61,
          57,
          56,
          58,
          69,
          67,
          58,
          65,
          63,
          55,
          57,
          65,
          54,
          72,
          75,
          49,
          51,
          60,
          64,
          58,
          61,
          67,
          62,
          65,
          63,
          69,
          51,
          62,
          55,
          75,
          40,
          67,
          58,
          60,
          63,
          35,
          62,
          43,
          63,
          68,
          65,
          48,
          63,
          64,
          61,
          50,
          59,
          55,
          45,
          65,
          61,
          49,
          72,
          50,
          64,
          55,
          63,
          59,
          56,
          62,
          74,
          54,
          57,
          62,
          76,
          54,
          70,
          61,
          48,
          48,
          61,
          66,
          68,
          55,
          62,
          71,
          74,
          53,
          58,
          75,
          56,
          58,
          64,
          54,
          54,
          59,
          55,
          57,
          61,
          41,
          71,
          38,
          55,
          56,
          69,
          64,
          72,
          69,
          56,
          62,
          67,
          57,
          69,
          51,
          48,
          69,
          69,
          64,
          57,
          53,
          37,
          67,
          74,
          63,
          58,
          61,
          64,
          58,
          60,
          57,
          55,
          55,
          56,
          57,
          61,
          61,
          58,
          74,
          68,
          51,
          62,
          53,
          62,
          46,
          54,
          62,
          55,
          58,
          62
         ],
         "xaxis": "x",
         "yaxis": "y"
        }
       ],
       "layout": {
        "barmode": "relative",
        "legend": {
         "title": {
          "text": "dataset"
         },
         "tracegroupgap": 0
        },
        "margin": {
         "t": 60
        },
        "template": {
         "data": {
          "bar": [
           {
            "error_x": {
             "color": "#2a3f5f"
            },
            "error_y": {
             "color": "#2a3f5f"
            },
            "marker": {
             "line": {
              "color": "#E5ECF6",
              "width": 0.5
             },
             "pattern": {
              "fillmode": "overlay",
              "size": 10,
              "solidity": 0.2
             }
            },
            "type": "bar"
           }
          ],
          "barpolar": [
           {
            "marker": {
             "line": {
              "color": "#E5ECF6",
              "width": 0.5
             },
             "pattern": {
              "fillmode": "overlay",
              "size": 10,
              "solidity": 0.2
             }
            },
            "type": "barpolar"
           }
          ],
          "carpet": [
           {
            "aaxis": {
             "endlinecolor": "#2a3f5f",
             "gridcolor": "white",
             "linecolor": "white",
             "minorgridcolor": "white",
             "startlinecolor": "#2a3f5f"
            },
            "baxis": {
             "endlinecolor": "#2a3f5f",
             "gridcolor": "white",
             "linecolor": "white",
             "minorgridcolor": "white",
             "startlinecolor": "#2a3f5f"
            },
            "type": "carpet"
           }
          ],
          "choropleth": [
           {
            "colorbar": {
             "outlinewidth": 0,
             "ticks": ""
            },
            "type": "choropleth"
           }
          ],
          "contour": [
           {
            "colorbar": {
             "outlinewidth": 0,
             "ticks": ""
            },
            "colorscale": [
             [
              0,
              "#0d0887"
             ],
             [
              0.1111111111111111,
              "#46039f"
             ],
             [
              0.2222222222222222,
              "#7201a8"
             ],
             [
              0.3333333333333333,
              "#9c179e"
             ],
             [
              0.4444444444444444,
              "#bd3786"
             ],
             [
              0.5555555555555556,
              "#d8576b"
             ],
             [
              0.6666666666666666,
              "#ed7953"
             ],
             [
              0.7777777777777778,
              "#fb9f3a"
             ],
             [
              0.8888888888888888,
              "#fdca26"
             ],
             [
              1,
              "#f0f921"
             ]
            ],
            "type": "contour"
           }
          ],
          "contourcarpet": [
           {
            "colorbar": {
             "outlinewidth": 0,
             "ticks": ""
            },
            "type": "contourcarpet"
           }
          ],
          "heatmap": [
           {
            "colorbar": {
             "outlinewidth": 0,
             "ticks": ""
            },
            "colorscale": [
             [
              0,
              "#0d0887"
             ],
             [
              0.1111111111111111,
              "#46039f"
             ],
             [
              0.2222222222222222,
              "#7201a8"
             ],
             [
              0.3333333333333333,
              "#9c179e"
             ],
             [
              0.4444444444444444,
              "#bd3786"
             ],
             [
              0.5555555555555556,
              "#d8576b"
             ],
             [
              0.6666666666666666,
              "#ed7953"
             ],
             [
              0.7777777777777778,
              "#fb9f3a"
             ],
             [
              0.8888888888888888,
              "#fdca26"
             ],
             [
              1,
              "#f0f921"
             ]
            ],
            "type": "heatmap"
           }
          ],
          "heatmapgl": [
           {
            "colorbar": {
             "outlinewidth": 0,
             "ticks": ""
            },
            "colorscale": [
             [
              0,
              "#0d0887"
             ],
             [
              0.1111111111111111,
              "#46039f"
             ],
             [
              0.2222222222222222,
              "#7201a8"
             ],
             [
              0.3333333333333333,
              "#9c179e"
             ],
             [
              0.4444444444444444,
              "#bd3786"
             ],
             [
              0.5555555555555556,
              "#d8576b"
             ],
             [
              0.6666666666666666,
              "#ed7953"
             ],
             [
              0.7777777777777778,
              "#fb9f3a"
             ],
             [
              0.8888888888888888,
              "#fdca26"
             ],
             [
              1,
              "#f0f921"
             ]
            ],
            "type": "heatmapgl"
           }
          ],
          "histogram": [
           {
            "marker": {
             "pattern": {
              "fillmode": "overlay",
              "size": 10,
              "solidity": 0.2
             }
            },
            "type": "histogram"
           }
          ],
          "histogram2d": [
           {
            "colorbar": {
             "outlinewidth": 0,
             "ticks": ""
            },
            "colorscale": [
             [
              0,
              "#0d0887"
             ],
             [
              0.1111111111111111,
              "#46039f"
             ],
             [
              0.2222222222222222,
              "#7201a8"
             ],
             [
              0.3333333333333333,
              "#9c179e"
             ],
             [
              0.4444444444444444,
              "#bd3786"
             ],
             [
              0.5555555555555556,
              "#d8576b"
             ],
             [
              0.6666666666666666,
              "#ed7953"
             ],
             [
              0.7777777777777778,
              "#fb9f3a"
             ],
             [
              0.8888888888888888,
              "#fdca26"
             ],
             [
              1,
              "#f0f921"
             ]
            ],
            "type": "histogram2d"
           }
          ],
          "histogram2dcontour": [
           {
            "colorbar": {
             "outlinewidth": 0,
             "ticks": ""
            },
            "colorscale": [
             [
              0,
              "#0d0887"
             ],
             [
              0.1111111111111111,
              "#46039f"
             ],
             [
              0.2222222222222222,
              "#7201a8"
             ],
             [
              0.3333333333333333,
              "#9c179e"
             ],
             [
              0.4444444444444444,
              "#bd3786"
             ],
             [
              0.5555555555555556,
              "#d8576b"
             ],
             [
              0.6666666666666666,
              "#ed7953"
             ],
             [
              0.7777777777777778,
              "#fb9f3a"
             ],
             [
              0.8888888888888888,
              "#fdca26"
             ],
             [
              1,
              "#f0f921"
             ]
            ],
            "type": "histogram2dcontour"
           }
          ],
          "mesh3d": [
           {
            "colorbar": {
             "outlinewidth": 0,
             "ticks": ""
            },
            "type": "mesh3d"
           }
          ],
          "parcoords": [
           {
            "line": {
             "colorbar": {
              "outlinewidth": 0,
              "ticks": ""
             }
            },
            "type": "parcoords"
           }
          ],
          "pie": [
           {
            "automargin": true,
            "type": "pie"
           }
          ],
          "scatter": [
           {
            "fillpattern": {
             "fillmode": "overlay",
             "size": 10,
             "solidity": 0.2
            },
            "type": "scatter"
           }
          ],
          "scatter3d": [
           {
            "line": {
             "colorbar": {
              "outlinewidth": 0,
              "ticks": ""
             }
            },
            "marker": {
             "colorbar": {
              "outlinewidth": 0,
              "ticks": ""
             }
            },
            "type": "scatter3d"
           }
          ],
          "scattercarpet": [
           {
            "marker": {
             "colorbar": {
              "outlinewidth": 0,
              "ticks": ""
             }
            },
            "type": "scattercarpet"
           }
          ],
          "scattergeo": [
           {
            "marker": {
             "colorbar": {
              "outlinewidth": 0,
              "ticks": ""
             }
            },
            "type": "scattergeo"
           }
          ],
          "scattergl": [
           {
            "marker": {
             "colorbar": {
              "outlinewidth": 0,
              "ticks": ""
             }
            },
            "type": "scattergl"
           }
          ],
          "scattermapbox": [
           {
            "marker": {
             "colorbar": {
              "outlinewidth": 0,
              "ticks": ""
             }
            },
            "type": "scattermapbox"
           }
          ],
          "scatterpolar": [
           {
            "marker": {
             "colorbar": {
              "outlinewidth": 0,
              "ticks": ""
             }
            },
            "type": "scatterpolar"
           }
          ],
          "scatterpolargl": [
           {
            "marker": {
             "colorbar": {
              "outlinewidth": 0,
              "ticks": ""
             }
            },
            "type": "scatterpolargl"
           }
          ],
          "scatterternary": [
           {
            "marker": {
             "colorbar": {
              "outlinewidth": 0,
              "ticks": ""
             }
            },
            "type": "scatterternary"
           }
          ],
          "surface": [
           {
            "colorbar": {
             "outlinewidth": 0,
             "ticks": ""
            },
            "colorscale": [
             [
              0,
              "#0d0887"
             ],
             [
              0.1111111111111111,
              "#46039f"
             ],
             [
              0.2222222222222222,
              "#7201a8"
             ],
             [
              0.3333333333333333,
              "#9c179e"
             ],
             [
              0.4444444444444444,
              "#bd3786"
             ],
             [
              0.5555555555555556,
              "#d8576b"
             ],
             [
              0.6666666666666666,
              "#ed7953"
             ],
             [
              0.7777777777777778,
              "#fb9f3a"
             ],
             [
              0.8888888888888888,
              "#fdca26"
             ],
             [
              1,
              "#f0f921"
             ]
            ],
            "type": "surface"
           }
          ],
          "table": [
           {
            "cells": {
             "fill": {
              "color": "#EBF0F8"
             },
             "line": {
              "color": "white"
             }
            },
            "header": {
             "fill": {
              "color": "#C8D4E3"
             },
             "line": {
              "color": "white"
             }
            },
            "type": "table"
           }
          ]
         },
         "layout": {
          "annotationdefaults": {
           "arrowcolor": "#2a3f5f",
           "arrowhead": 0,
           "arrowwidth": 1
          },
          "autotypenumbers": "strict",
          "coloraxis": {
           "colorbar": {
            "outlinewidth": 0,
            "ticks": ""
           }
          },
          "colorscale": {
           "diverging": [
            [
             0,
             "#8e0152"
            ],
            [
             0.1,
             "#c51b7d"
            ],
            [
             0.2,
             "#de77ae"
            ],
            [
             0.3,
             "#f1b6da"
            ],
            [
             0.4,
             "#fde0ef"
            ],
            [
             0.5,
             "#f7f7f7"
            ],
            [
             0.6,
             "#e6f5d0"
            ],
            [
             0.7,
             "#b8e186"
            ],
            [
             0.8,
             "#7fbc41"
            ],
            [
             0.9,
             "#4d9221"
            ],
            [
             1,
             "#276419"
            ]
           ],
           "sequential": [
            [
             0,
             "#0d0887"
            ],
            [
             0.1111111111111111,
             "#46039f"
            ],
            [
             0.2222222222222222,
             "#7201a8"
            ],
            [
             0.3333333333333333,
             "#9c179e"
            ],
            [
             0.4444444444444444,
             "#bd3786"
            ],
            [
             0.5555555555555556,
             "#d8576b"
            ],
            [
             0.6666666666666666,
             "#ed7953"
            ],
            [
             0.7777777777777778,
             "#fb9f3a"
            ],
            [
             0.8888888888888888,
             "#fdca26"
            ],
            [
             1,
             "#f0f921"
            ]
           ],
           "sequentialminus": [
            [
             0,
             "#0d0887"
            ],
            [
             0.1111111111111111,
             "#46039f"
            ],
            [
             0.2222222222222222,
             "#7201a8"
            ],
            [
             0.3333333333333333,
             "#9c179e"
            ],
            [
             0.4444444444444444,
             "#bd3786"
            ],
            [
             0.5555555555555556,
             "#d8576b"
            ],
            [
             0.6666666666666666,
             "#ed7953"
            ],
            [
             0.7777777777777778,
             "#fb9f3a"
            ],
            [
             0.8888888888888888,
             "#fdca26"
            ],
            [
             1,
             "#f0f921"
            ]
           ]
          },
          "colorway": [
           "#636efa",
           "#EF553B",
           "#00cc96",
           "#ab63fa",
           "#FFA15A",
           "#19d3f3",
           "#FF6692",
           "#B6E880",
           "#FF97FF",
           "#FECB52"
          ],
          "font": {
           "color": "#2a3f5f"
          },
          "geo": {
           "bgcolor": "white",
           "lakecolor": "white",
           "landcolor": "#E5ECF6",
           "showlakes": true,
           "showland": true,
           "subunitcolor": "white"
          },
          "hoverlabel": {
           "align": "left"
          },
          "hovermode": "closest",
          "mapbox": {
           "style": "light"
          },
          "paper_bgcolor": "white",
          "plot_bgcolor": "#E5ECF6",
          "polar": {
           "angularaxis": {
            "gridcolor": "white",
            "linecolor": "white",
            "ticks": ""
           },
           "bgcolor": "#E5ECF6",
           "radialaxis": {
            "gridcolor": "white",
            "linecolor": "white",
            "ticks": ""
           }
          },
          "scene": {
           "xaxis": {
            "backgroundcolor": "#E5ECF6",
            "gridcolor": "white",
            "gridwidth": 2,
            "linecolor": "white",
            "showbackground": true,
            "ticks": "",
            "zerolinecolor": "white"
           },
           "yaxis": {
            "backgroundcolor": "#E5ECF6",
            "gridcolor": "white",
            "gridwidth": 2,
            "linecolor": "white",
            "showbackground": true,
            "ticks": "",
            "zerolinecolor": "white"
           },
           "zaxis": {
            "backgroundcolor": "#E5ECF6",
            "gridcolor": "white",
            "gridwidth": 2,
            "linecolor": "white",
            "showbackground": true,
            "ticks": "",
            "zerolinecolor": "white"
           }
          },
          "shapedefaults": {
           "line": {
            "color": "#2a3f5f"
           }
          },
          "ternary": {
           "aaxis": {
            "gridcolor": "white",
            "linecolor": "white",
            "ticks": ""
           },
           "baxis": {
            "gridcolor": "white",
            "linecolor": "white",
            "ticks": ""
           },
           "bgcolor": "#E5ECF6",
           "caxis": {
            "gridcolor": "white",
            "linecolor": "white",
            "ticks": ""
           }
          },
          "title": {
           "x": 0.05
          },
          "xaxis": {
           "automargin": true,
           "gridcolor": "white",
           "linecolor": "white",
           "ticks": "",
           "title": {
            "standoff": 15
           },
           "zerolinecolor": "white",
           "zerolinewidth": 2
          },
          "yaxis": {
           "automargin": true,
           "gridcolor": "white",
           "linecolor": "white",
           "ticks": "",
           "title": {
            "standoff": 15
           },
           "zerolinecolor": "white",
           "zerolinewidth": 2
          }
         }
        },
        "xaxis": {
         "anchor": "y",
         "domain": [
          0,
          1
         ],
         "title": {
          "text": "age"
         }
        },
        "yaxis": {
         "anchor": "x",
         "domain": [
          0,
          1
         ],
         "title": {
          "text": "count"
         }
        }
       }
      }
     },
     "metadata": {},
     "output_type": "display_data"
    },
    {
     "name": "stdout",
     "output_type": "stream",
     "text": [
      "Mean:  dataset\n",
      "Cleveland        54.351974\n",
      "Hungary          47.894198\n",
      "Switzerland      55.317073\n",
      "VA Long Beach    59.350000\n",
      "Name: age, dtype: float64\n",
      "-------------------------------------------------------------------\n",
      "Median:  dataset\n",
      "Cleveland        55.5\n",
      "Hungary          49.0\n",
      "Switzerland      56.0\n",
      "VA Long Beach    60.0\n",
      "Name: age, dtype: float64\n",
      "-------------------------------------------------------------------\n",
      "Mode:  dataset\n",
      "Cleveland              58\n",
      "Hungary                54\n",
      "Switzerland            61\n",
      "VA Long Beach    [62, 63]\n",
      "Name: age, dtype: object\n"
     ]
    }
   ],
   "source": [
    "# make a plot of age column using plot ly and coloring this by dataset column\n",
    "fig = px.histogram(df, x='age',color='dataset')\n",
    "fig.show()\n",
    "\n",
    "# print the mean, median and mode of age column grouped by dataset column\n",
    "print(\"Mean: \", df.groupby('dataset')['age'].mean())\n",
    "print(\"-------------------------------------------------------------------\")\n",
    "print(\"Median: \", df.groupby('dataset')['age'].median())\n",
    "print(\"-------------------------------------------------------------------\")\n",
    "print(\"Mode: \", df.groupby('dataset')['age'].agg(pd.Series.mode))"
   ]
  },
  {
   "cell_type": "markdown",
   "metadata": {},
   "source": [
    "### Let's explore the cp (Chest Pain) column"
   ]
  },
  {
   "cell_type": "code",
   "execution_count": 18,
   "metadata": {},
   "outputs": [
    {
     "data": {
      "text/plain": [
       "cp\n",
       "asymptomatic       496\n",
       "non-anginal        204\n",
       "atypical angina    174\n",
       "typical angina      46\n",
       "Name: count, dtype: int64"
      ]
     },
     "execution_count": 18,
     "metadata": {},
     "output_type": "execute_result"
    }
   ],
   "source": [
    "# value count of cp column\n",
    "df[\"cp\"].value_counts()"
   ]
  },
  {
   "cell_type": "code",
   "execution_count": 19,
   "metadata": {},
   "outputs": [
    {
     "data": {
      "application/vnd.plotly.v1+json": {
       "config": {
        "plotlyServerURL": "https://plot.ly"
       },
       "data": [
        {
         "alignmentgroup": "True",
         "bingroup": "x",
         "hovertemplate": "cp=typical angina<br>age=%{x}<br>count=%{y}<extra></extra>",
         "legendgroup": "typical angina",
         "marker": {
          "color": "#636efa",
          "pattern": {
           "shape": ""
          }
         },
         "name": "typical angina",
         "offsetgroup": "typical angina",
         "orientation": "v",
         "showlegend": true,
         "type": "histogram",
         "x": [
          63,
          64,
          58,
          66,
          69,
          40,
          51,
          34,
          52,
          65,
          59,
          52,
          42,
          59,
          69,
          59,
          38,
          56,
          61,
          60,
          59,
          64,
          45,
          30,
          35,
          43,
          47,
          54,
          57,
          62,
          34,
          43,
          46,
          55,
          32,
          62,
          62,
          67,
          67,
          65,
          49,
          62,
          61,
          68,
          74,
          62
         ],
         "xaxis": "x",
         "yaxis": "y"
        },
        {
         "alignmentgroup": "True",
         "bingroup": "x",
         "hovertemplate": "cp=asymptomatic<br>age=%{x}<br>count=%{y}<extra></extra>",
         "legendgroup": "asymptomatic",
         "marker": {
          "color": "#EF553B",
          "pattern": {
           "shape": ""
          }
         },
         "name": "asymptomatic",
         "offsetgroup": "asymptomatic",
         "orientation": "v",
         "showlegend": true,
         "type": "histogram",
         "x": [
          67,
          67,
          62,
          57,
          63,
          53,
          57,
          54,
          60,
          43,
          40,
          60,
          59,
          42,
          43,
          57,
          55,
          65,
          61,
          50,
          65,
          44,
          60,
          54,
          41,
          51,
          58,
          54,
          60,
          59,
          67,
          62,
          65,
          44,
          60,
          58,
          45,
          53,
          53,
          66,
          62,
          52,
          59,
          60,
          48,
          45,
          57,
          59,
          61,
          39,
          61,
          56,
          43,
          35,
          63,
          65,
          48,
          63,
          55,
          56,
          54,
          62,
          51,
          70,
          35,
          57,
          42,
          55,
          64,
          70,
          51,
          58,
          60,
          77,
          58,
          57,
          35,
          53,
          59,
          62,
          64,
          57,
          52,
          56,
          48,
          56,
          60,
          51,
          43,
          62,
          67,
          45,
          50,
          64,
          43,
          45,
          58,
          50,
          62,
          66,
          52,
          46,
          64,
          59,
          53,
          63,
          47,
          54,
          66,
          55,
          54,
          56,
          46,
          49,
          67,
          58,
          47,
          52,
          57,
          58,
          64,
          43,
          67,
          61,
          42,
          52,
          40,
          61,
          66,
          46,
          71,
          58,
          57,
          55,
          61,
          58,
          58,
          44,
          63,
          63,
          59,
          57,
          68,
          57,
          35,
          37,
          37,
          37,
          39,
          39,
          41,
          42,
          44,
          44,
          45,
          45,
          45,
          46,
          46,
          46,
          46,
          47,
          48,
          48,
          48,
          49,
          49,
          50,
          50,
          50,
          51,
          52,
          53,
          53,
          53,
          54,
          55,
          55,
          56,
          57,
          58,
          59,
          61,
          61,
          31,
          33,
          37,
          38,
          38,
          38,
          40,
          41,
          41,
          43,
          46,
          46,
          46,
          47,
          48,
          48,
          48,
          49,
          50,
          51,
          52,
          54,
          54,
          55,
          59,
          60,
          63,
          65,
          32,
          38,
          39,
          40,
          45,
          46,
          46,
          48,
          48,
          48,
          48,
          50,
          52,
          52,
          53,
          54,
          54,
          54,
          54,
          55,
          56,
          57,
          58,
          41,
          43,
          44,
          48,
          49,
          49,
          52,
          52,
          52,
          52,
          53,
          54,
          55,
          56,
          56,
          59,
          59,
          65,
          66,
          41,
          43,
          44,
          47,
          47,
          49,
          49,
          50,
          50,
          52,
          52,
          56,
          65,
          34,
          35,
          36,
          38,
          38,
          38,
          38,
          40,
          41,
          42,
          42,
          43,
          43,
          43,
          46,
          46,
          47,
          47,
          48,
          50,
          50,
          50,
          50,
          51,
          51,
          51,
          51,
          51,
          51,
          51,
          52,
          52,
          52,
          52,
          53,
          53,
          53,
          53,
          54,
          54,
          54,
          55,
          55,
          55,
          56,
          56,
          56,
          56,
          56,
          57,
          57,
          57,
          57,
          57,
          58,
          58,
          58,
          59,
          59,
          59,
          59,
          60,
          60,
          60,
          60,
          60,
          61,
          61,
          61,
          61,
          61,
          61,
          61,
          61,
          62,
          62,
          62,
          62,
          63,
          63,
          63,
          63,
          63,
          64,
          64,
          64,
          65,
          65,
          65,
          65,
          66,
          66,
          68,
          68,
          69,
          69,
          70,
          70,
          63,
          44,
          60,
          55,
          65,
          59,
          62,
          57,
          62,
          63,
          46,
          63,
          60,
          58,
          64,
          69,
          51,
          60,
          56,
          54,
          77,
          63,
          64,
          60,
          60,
          58,
          59,
          40,
          61,
          41,
          57,
          63,
          59,
          51,
          62,
          53,
          68,
          53,
          59,
          51,
          61,
          57,
          58,
          65,
          57,
          54,
          75,
          60,
          64,
          58,
          61,
          67,
          62,
          65,
          63,
          69,
          51,
          62,
          75,
          67,
          58,
          60,
          63,
          43,
          65,
          63,
          64,
          61,
          50,
          59,
          55,
          65,
          72,
          50,
          64,
          55,
          63,
          59,
          56,
          74,
          54,
          57,
          54,
          70,
          48,
          66,
          55,
          75,
          64,
          59,
          55,
          57,
          61,
          41,
          71,
          38,
          55,
          56,
          69,
          64,
          72,
          69,
          56,
          62,
          67,
          57,
          69,
          51,
          48,
          69,
          64,
          53,
          67,
          58,
          61,
          64,
          58,
          60,
          57,
          55,
          56,
          57,
          74,
          51,
          62,
          53,
          62,
          46,
          54,
          55,
          58
         ],
         "xaxis": "x",
         "yaxis": "y"
        },
        {
         "alignmentgroup": "True",
         "bingroup": "x",
         "hovertemplate": "cp=non-anginal<br>age=%{x}<br>count=%{y}<extra></extra>",
         "legendgroup": "non-anginal",
         "marker": {
          "color": "#00cc96",
          "pattern": {
           "shape": ""
          }
         },
         "name": "non-anginal",
         "offsetgroup": "non-anginal",
         "orientation": "v",
         "showlegend": true,
         "type": "histogram",
         "x": [
          37,
          56,
          52,
          57,
          48,
          58,
          50,
          58,
          64,
          44,
          61,
          59,
          58,
          51,
          65,
          53,
          50,
          54,
          46,
          54,
          60,
          54,
          46,
          65,
          65,
          51,
          39,
          68,
          44,
          47,
          53,
          51,
          62,
          44,
          63,
          71,
          49,
          57,
          62,
          58,
          51,
          54,
          51,
          43,
          51,
          64,
          58,
          47,
          41,
          60,
          67,
          68,
          54,
          48,
          52,
          70,
          43,
          53,
          42,
          69,
          50,
          68,
          57,
          64,
          37,
          41,
          41,
          54,
          39,
          67,
          52,
          49,
          54,
          60,
          51,
          42,
          76,
          44,
          44,
          59,
          42,
          66,
          39,
          47,
          67,
          38,
          33,
          36,
          36,
          36,
          37,
          37,
          38,
          39,
          39,
          39,
          40,
          40,
          40,
          42,
          42,
          42,
          43,
          45,
          46,
          46,
          47,
          48,
          48,
          49,
          49,
          51,
          51,
          51,
          52,
          52,
          53,
          53,
          54,
          54,
          55,
          55,
          56,
          56,
          56,
          58,
          59,
          59,
          60,
          47,
          49,
          49,
          50,
          58,
          54,
          58,
          47,
          51,
          53,
          54,
          38,
          38,
          45,
          47,
          47,
          53,
          53,
          56,
          56,
          56,
          57,
          59,
          60,
          61,
          62,
          72,
          73,
          66,
          66,
          60,
          60,
          63,
          63,
          74,
          52,
          55,
          55,
          52,
          61,
          59,
          42,
          55,
          60,
          56,
          69,
          72,
          51,
          55,
          40,
          35,
          63,
          68,
          48,
          45,
          49,
          62,
          62,
          76,
          48,
          62,
          71,
          53,
          58,
          56,
          58,
          54,
          69,
          37,
          74,
          55,
          61,
          61,
          58,
          68
         ],
         "xaxis": "x",
         "yaxis": "y"
        },
        {
         "alignmentgroup": "True",
         "bingroup": "x",
         "hovertemplate": "cp=atypical angina<br>age=%{x}<br>count=%{y}<extra></extra>",
         "legendgroup": "atypical angina",
         "marker": {
          "color": "#ab63fa",
          "pattern": {
           "shape": ""
          }
         },
         "name": "atypical angina",
         "offsetgroup": "atypical angina",
         "orientation": "v",
         "showlegend": true,
         "type": "histogram",
         "x": [
          41,
          56,
          56,
          44,
          48,
          49,
          58,
          71,
          41,
          44,
          48,
          52,
          52,
          54,
          41,
          45,
          44,
          29,
          55,
          62,
          59,
          52,
          45,
          46,
          54,
          45,
          63,
          66,
          54,
          50,
          55,
          46,
          34,
          74,
          49,
          42,
          41,
          41,
          62,
          70,
          57,
          58,
          57,
          35,
          58,
          56,
          56,
          55,
          41,
          57,
          28,
          29,
          29,
          31,
          32,
          32,
          32,
          34,
          34,
          34,
          35,
          35,
          36,
          37,
          37,
          38,
          38,
          39,
          39,
          39,
          39,
          39,
          40,
          40,
          41,
          41,
          41,
          41,
          41,
          41,
          42,
          42,
          42,
          43,
          43,
          43,
          43,
          43,
          43,
          44,
          44,
          45,
          45,
          45,
          46,
          47,
          47,
          48,
          48,
          48,
          48,
          48,
          48,
          49,
          49,
          49,
          49,
          50,
          50,
          50,
          50,
          51,
          51,
          51,
          52,
          52,
          52,
          52,
          52,
          53,
          53,
          53,
          53,
          54,
          54,
          54,
          54,
          54,
          54,
          54,
          54,
          54,
          54,
          54,
          54,
          55,
          55,
          55,
          55,
          55,
          55,
          56,
          57,
          58,
          58,
          59,
          59,
          62,
          35,
          36,
          57,
          44,
          55,
          56,
          58,
          58,
          53,
          53,
          55,
          74,
          60,
          56,
          63,
          56,
          62,
          58,
          63,
          55,
          61,
          61,
          54,
          57,
          63,
          62
         ],
         "xaxis": "x",
         "yaxis": "y"
        }
       ],
       "layout": {
        "barmode": "relative",
        "legend": {
         "title": {
          "text": "cp"
         },
         "tracegroupgap": 0
        },
        "margin": {
         "t": 60
        },
        "template": {
         "data": {
          "bar": [
           {
            "error_x": {
             "color": "#2a3f5f"
            },
            "error_y": {
             "color": "#2a3f5f"
            },
            "marker": {
             "line": {
              "color": "#E5ECF6",
              "width": 0.5
             },
             "pattern": {
              "fillmode": "overlay",
              "size": 10,
              "solidity": 0.2
             }
            },
            "type": "bar"
           }
          ],
          "barpolar": [
           {
            "marker": {
             "line": {
              "color": "#E5ECF6",
              "width": 0.5
             },
             "pattern": {
              "fillmode": "overlay",
              "size": 10,
              "solidity": 0.2
             }
            },
            "type": "barpolar"
           }
          ],
          "carpet": [
           {
            "aaxis": {
             "endlinecolor": "#2a3f5f",
             "gridcolor": "white",
             "linecolor": "white",
             "minorgridcolor": "white",
             "startlinecolor": "#2a3f5f"
            },
            "baxis": {
             "endlinecolor": "#2a3f5f",
             "gridcolor": "white",
             "linecolor": "white",
             "minorgridcolor": "white",
             "startlinecolor": "#2a3f5f"
            },
            "type": "carpet"
           }
          ],
          "choropleth": [
           {
            "colorbar": {
             "outlinewidth": 0,
             "ticks": ""
            },
            "type": "choropleth"
           }
          ],
          "contour": [
           {
            "colorbar": {
             "outlinewidth": 0,
             "ticks": ""
            },
            "colorscale": [
             [
              0,
              "#0d0887"
             ],
             [
              0.1111111111111111,
              "#46039f"
             ],
             [
              0.2222222222222222,
              "#7201a8"
             ],
             [
              0.3333333333333333,
              "#9c179e"
             ],
             [
              0.4444444444444444,
              "#bd3786"
             ],
             [
              0.5555555555555556,
              "#d8576b"
             ],
             [
              0.6666666666666666,
              "#ed7953"
             ],
             [
              0.7777777777777778,
              "#fb9f3a"
             ],
             [
              0.8888888888888888,
              "#fdca26"
             ],
             [
              1,
              "#f0f921"
             ]
            ],
            "type": "contour"
           }
          ],
          "contourcarpet": [
           {
            "colorbar": {
             "outlinewidth": 0,
             "ticks": ""
            },
            "type": "contourcarpet"
           }
          ],
          "heatmap": [
           {
            "colorbar": {
             "outlinewidth": 0,
             "ticks": ""
            },
            "colorscale": [
             [
              0,
              "#0d0887"
             ],
             [
              0.1111111111111111,
              "#46039f"
             ],
             [
              0.2222222222222222,
              "#7201a8"
             ],
             [
              0.3333333333333333,
              "#9c179e"
             ],
             [
              0.4444444444444444,
              "#bd3786"
             ],
             [
              0.5555555555555556,
              "#d8576b"
             ],
             [
              0.6666666666666666,
              "#ed7953"
             ],
             [
              0.7777777777777778,
              "#fb9f3a"
             ],
             [
              0.8888888888888888,
              "#fdca26"
             ],
             [
              1,
              "#f0f921"
             ]
            ],
            "type": "heatmap"
           }
          ],
          "heatmapgl": [
           {
            "colorbar": {
             "outlinewidth": 0,
             "ticks": ""
            },
            "colorscale": [
             [
              0,
              "#0d0887"
             ],
             [
              0.1111111111111111,
              "#46039f"
             ],
             [
              0.2222222222222222,
              "#7201a8"
             ],
             [
              0.3333333333333333,
              "#9c179e"
             ],
             [
              0.4444444444444444,
              "#bd3786"
             ],
             [
              0.5555555555555556,
              "#d8576b"
             ],
             [
              0.6666666666666666,
              "#ed7953"
             ],
             [
              0.7777777777777778,
              "#fb9f3a"
             ],
             [
              0.8888888888888888,
              "#fdca26"
             ],
             [
              1,
              "#f0f921"
             ]
            ],
            "type": "heatmapgl"
           }
          ],
          "histogram": [
           {
            "marker": {
             "pattern": {
              "fillmode": "overlay",
              "size": 10,
              "solidity": 0.2
             }
            },
            "type": "histogram"
           }
          ],
          "histogram2d": [
           {
            "colorbar": {
             "outlinewidth": 0,
             "ticks": ""
            },
            "colorscale": [
             [
              0,
              "#0d0887"
             ],
             [
              0.1111111111111111,
              "#46039f"
             ],
             [
              0.2222222222222222,
              "#7201a8"
             ],
             [
              0.3333333333333333,
              "#9c179e"
             ],
             [
              0.4444444444444444,
              "#bd3786"
             ],
             [
              0.5555555555555556,
              "#d8576b"
             ],
             [
              0.6666666666666666,
              "#ed7953"
             ],
             [
              0.7777777777777778,
              "#fb9f3a"
             ],
             [
              0.8888888888888888,
              "#fdca26"
             ],
             [
              1,
              "#f0f921"
             ]
            ],
            "type": "histogram2d"
           }
          ],
          "histogram2dcontour": [
           {
            "colorbar": {
             "outlinewidth": 0,
             "ticks": ""
            },
            "colorscale": [
             [
              0,
              "#0d0887"
             ],
             [
              0.1111111111111111,
              "#46039f"
             ],
             [
              0.2222222222222222,
              "#7201a8"
             ],
             [
              0.3333333333333333,
              "#9c179e"
             ],
             [
              0.4444444444444444,
              "#bd3786"
             ],
             [
              0.5555555555555556,
              "#d8576b"
             ],
             [
              0.6666666666666666,
              "#ed7953"
             ],
             [
              0.7777777777777778,
              "#fb9f3a"
             ],
             [
              0.8888888888888888,
              "#fdca26"
             ],
             [
              1,
              "#f0f921"
             ]
            ],
            "type": "histogram2dcontour"
           }
          ],
          "mesh3d": [
           {
            "colorbar": {
             "outlinewidth": 0,
             "ticks": ""
            },
            "type": "mesh3d"
           }
          ],
          "parcoords": [
           {
            "line": {
             "colorbar": {
              "outlinewidth": 0,
              "ticks": ""
             }
            },
            "type": "parcoords"
           }
          ],
          "pie": [
           {
            "automargin": true,
            "type": "pie"
           }
          ],
          "scatter": [
           {
            "fillpattern": {
             "fillmode": "overlay",
             "size": 10,
             "solidity": 0.2
            },
            "type": "scatter"
           }
          ],
          "scatter3d": [
           {
            "line": {
             "colorbar": {
              "outlinewidth": 0,
              "ticks": ""
             }
            },
            "marker": {
             "colorbar": {
              "outlinewidth": 0,
              "ticks": ""
             }
            },
            "type": "scatter3d"
           }
          ],
          "scattercarpet": [
           {
            "marker": {
             "colorbar": {
              "outlinewidth": 0,
              "ticks": ""
             }
            },
            "type": "scattercarpet"
           }
          ],
          "scattergeo": [
           {
            "marker": {
             "colorbar": {
              "outlinewidth": 0,
              "ticks": ""
             }
            },
            "type": "scattergeo"
           }
          ],
          "scattergl": [
           {
            "marker": {
             "colorbar": {
              "outlinewidth": 0,
              "ticks": ""
             }
            },
            "type": "scattergl"
           }
          ],
          "scattermapbox": [
           {
            "marker": {
             "colorbar": {
              "outlinewidth": 0,
              "ticks": ""
             }
            },
            "type": "scattermapbox"
           }
          ],
          "scatterpolar": [
           {
            "marker": {
             "colorbar": {
              "outlinewidth": 0,
              "ticks": ""
             }
            },
            "type": "scatterpolar"
           }
          ],
          "scatterpolargl": [
           {
            "marker": {
             "colorbar": {
              "outlinewidth": 0,
              "ticks": ""
             }
            },
            "type": "scatterpolargl"
           }
          ],
          "scatterternary": [
           {
            "marker": {
             "colorbar": {
              "outlinewidth": 0,
              "ticks": ""
             }
            },
            "type": "scatterternary"
           }
          ],
          "surface": [
           {
            "colorbar": {
             "outlinewidth": 0,
             "ticks": ""
            },
            "colorscale": [
             [
              0,
              "#0d0887"
             ],
             [
              0.1111111111111111,
              "#46039f"
             ],
             [
              0.2222222222222222,
              "#7201a8"
             ],
             [
              0.3333333333333333,
              "#9c179e"
             ],
             [
              0.4444444444444444,
              "#bd3786"
             ],
             [
              0.5555555555555556,
              "#d8576b"
             ],
             [
              0.6666666666666666,
              "#ed7953"
             ],
             [
              0.7777777777777778,
              "#fb9f3a"
             ],
             [
              0.8888888888888888,
              "#fdca26"
             ],
             [
              1,
              "#f0f921"
             ]
            ],
            "type": "surface"
           }
          ],
          "table": [
           {
            "cells": {
             "fill": {
              "color": "#EBF0F8"
             },
             "line": {
              "color": "white"
             }
            },
            "header": {
             "fill": {
              "color": "#C8D4E3"
             },
             "line": {
              "color": "white"
             }
            },
            "type": "table"
           }
          ]
         },
         "layout": {
          "annotationdefaults": {
           "arrowcolor": "#2a3f5f",
           "arrowhead": 0,
           "arrowwidth": 1
          },
          "autotypenumbers": "strict",
          "coloraxis": {
           "colorbar": {
            "outlinewidth": 0,
            "ticks": ""
           }
          },
          "colorscale": {
           "diverging": [
            [
             0,
             "#8e0152"
            ],
            [
             0.1,
             "#c51b7d"
            ],
            [
             0.2,
             "#de77ae"
            ],
            [
             0.3,
             "#f1b6da"
            ],
            [
             0.4,
             "#fde0ef"
            ],
            [
             0.5,
             "#f7f7f7"
            ],
            [
             0.6,
             "#e6f5d0"
            ],
            [
             0.7,
             "#b8e186"
            ],
            [
             0.8,
             "#7fbc41"
            ],
            [
             0.9,
             "#4d9221"
            ],
            [
             1,
             "#276419"
            ]
           ],
           "sequential": [
            [
             0,
             "#0d0887"
            ],
            [
             0.1111111111111111,
             "#46039f"
            ],
            [
             0.2222222222222222,
             "#7201a8"
            ],
            [
             0.3333333333333333,
             "#9c179e"
            ],
            [
             0.4444444444444444,
             "#bd3786"
            ],
            [
             0.5555555555555556,
             "#d8576b"
            ],
            [
             0.6666666666666666,
             "#ed7953"
            ],
            [
             0.7777777777777778,
             "#fb9f3a"
            ],
            [
             0.8888888888888888,
             "#fdca26"
            ],
            [
             1,
             "#f0f921"
            ]
           ],
           "sequentialminus": [
            [
             0,
             "#0d0887"
            ],
            [
             0.1111111111111111,
             "#46039f"
            ],
            [
             0.2222222222222222,
             "#7201a8"
            ],
            [
             0.3333333333333333,
             "#9c179e"
            ],
            [
             0.4444444444444444,
             "#bd3786"
            ],
            [
             0.5555555555555556,
             "#d8576b"
            ],
            [
             0.6666666666666666,
             "#ed7953"
            ],
            [
             0.7777777777777778,
             "#fb9f3a"
            ],
            [
             0.8888888888888888,
             "#fdca26"
            ],
            [
             1,
             "#f0f921"
            ]
           ]
          },
          "colorway": [
           "#636efa",
           "#EF553B",
           "#00cc96",
           "#ab63fa",
           "#FFA15A",
           "#19d3f3",
           "#FF6692",
           "#B6E880",
           "#FF97FF",
           "#FECB52"
          ],
          "font": {
           "color": "#2a3f5f"
          },
          "geo": {
           "bgcolor": "white",
           "lakecolor": "white",
           "landcolor": "#E5ECF6",
           "showlakes": true,
           "showland": true,
           "subunitcolor": "white"
          },
          "hoverlabel": {
           "align": "left"
          },
          "hovermode": "closest",
          "mapbox": {
           "style": "light"
          },
          "paper_bgcolor": "white",
          "plot_bgcolor": "#E5ECF6",
          "polar": {
           "angularaxis": {
            "gridcolor": "white",
            "linecolor": "white",
            "ticks": ""
           },
           "bgcolor": "#E5ECF6",
           "radialaxis": {
            "gridcolor": "white",
            "linecolor": "white",
            "ticks": ""
           }
          },
          "scene": {
           "xaxis": {
            "backgroundcolor": "#E5ECF6",
            "gridcolor": "white",
            "gridwidth": 2,
            "linecolor": "white",
            "showbackground": true,
            "ticks": "",
            "zerolinecolor": "white"
           },
           "yaxis": {
            "backgroundcolor": "#E5ECF6",
            "gridcolor": "white",
            "gridwidth": 2,
            "linecolor": "white",
            "showbackground": true,
            "ticks": "",
            "zerolinecolor": "white"
           },
           "zaxis": {
            "backgroundcolor": "#E5ECF6",
            "gridcolor": "white",
            "gridwidth": 2,
            "linecolor": "white",
            "showbackground": true,
            "ticks": "",
            "zerolinecolor": "white"
           }
          },
          "shapedefaults": {
           "line": {
            "color": "#2a3f5f"
           }
          },
          "ternary": {
           "aaxis": {
            "gridcolor": "white",
            "linecolor": "white",
            "ticks": ""
           },
           "baxis": {
            "gridcolor": "white",
            "linecolor": "white",
            "ticks": ""
           },
           "bgcolor": "#E5ECF6",
           "caxis": {
            "gridcolor": "white",
            "linecolor": "white",
            "ticks": ""
           }
          },
          "title": {
           "x": 0.05
          },
          "xaxis": {
           "automargin": true,
           "gridcolor": "white",
           "linecolor": "white",
           "ticks": "",
           "title": {
            "standoff": 15
           },
           "zerolinecolor": "white",
           "zerolinewidth": 2
          },
          "yaxis": {
           "automargin": true,
           "gridcolor": "white",
           "linecolor": "white",
           "ticks": "",
           "title": {
            "standoff": 15
           },
           "zerolinecolor": "white",
           "zerolinewidth": 2
          }
         }
        },
        "xaxis": {
         "anchor": "y",
         "domain": [
          0,
          1
         ],
         "title": {
          "text": "age"
         }
        },
        "yaxis": {
         "anchor": "x",
         "domain": [
          0,
          1
         ],
         "title": {
          "text": "count"
         }
        }
       }
      }
     },
     "metadata": {},
     "output_type": "display_data"
    }
   ],
   "source": [
    "# draw the plot of age column grouped by cp column using plotly\n",
    "fig = px.histogram(df, x='age',color='cp')\n",
    "fig.show()"
   ]
  },
  {
   "cell_type": "code",
   "execution_count": 20,
   "metadata": {},
   "outputs": [
    {
     "data": {
      "text/plain": [
       "<Axes: xlabel='cp', ylabel='count'>"
      ]
     },
     "execution_count": 20,
     "metadata": {},
     "output_type": "execute_result"
    },
    {
     "data": {
      "image/png": "[encoded data removed]",
      "text/plain": [
       "<Figure size 640x480 with 1 Axes>"
      ]
     },
     "metadata": {},
     "output_type": "display_data"
    }
   ],
   "source": [
    "# Count plot of cp column by sex column\n",
    "sns.countplot(data=df, x='cp',hue='sex')\n"
   ]
  },
  {
   "cell_type": "code",
   "execution_count": 21,
   "metadata": {},
   "outputs": [
    {
     "data": {
      "text/plain": [
       "<Axes: xlabel='cp', ylabel='count'>"
      ]
     },
     "execution_count": 21,
     "metadata": {},
     "output_type": "execute_result"
    },
    {
     "data": {
      "image/png": "[encoded data removed]",
      "text/plain": [
       "<Figure size 640x480 with 1 Axes>"
      ]
     },
     "metadata": {},
     "output_type": "display_data"
    }
   ],
   "source": [
    "# Count plot of cp column by dataset column\n",
    "sns.countplot(data=df, x='cp',hue='dataset')\n"
   ]
  },
  {
   "cell_type": "markdown",
   "metadata": {},
   "source": [
    "### Let's explore the trestbps (Resting Blood Pressure) column\n",
    "\n",
    "The normal resting blood pressure is 120/80 mm Hg.\n",
    "\n",
    "`What will happen if blood pressure is high or low and then you can bin the data based on those values.`"
   ]
  },
  {
   "cell_type": "code",
   "execution_count": 22,
   "metadata": {},
   "outputs": [
    {
     "data": {
      "text/plain": [
       "count    861.000000\n",
       "mean     132.132404\n",
       "std       19.066070\n",
       "min        0.000000\n",
       "25%      120.000000\n",
       "50%      130.000000\n",
       "75%      140.000000\n",
       "max      200.000000\n",
       "Name: trestbps, dtype: float64"
      ]
     },
     "execution_count": 22,
     "metadata": {},
     "output_type": "execute_result"
    }
   ],
   "source": [
    "# Find the value count of tresbps column\n",
    "df['trestbps'].describe()"
   ]
  },
  {
   "cell_type": "code",
   "execution_count": 23,
   "metadata": {},
   "outputs": [
    {
     "data": {
      "text/plain": [
       "<Axes: xlabel='trestbps', ylabel='Count'>"
      ]
     },
     "execution_count": 23,
     "metadata": {},
     "output_type": "execute_result"
    },
    {
     "data": {
      "image/png": "[encoded data removed]",
      "text/plain": [
       "<Figure size 640x480 with 1 Axes>"
      ]
     },
     "metadata": {},
     "output_type": "display_data"
    }
   ],
   "source": [
    "# Hisplot of trestbps column\n",
    "sns.histplot(df['trestbps'], kde=True)"
   ]
  },
  {
   "cell_type": "markdown",
   "metadata": {},
   "source": [
    "---"
   ]
  },
  {
   "cell_type": "markdown",
   "metadata": {},
   "source": [
    "## <span style=\"color:yellow; font-size:150%; font-weight:bold\">Dealing with Missing Values</span>"
   ]
  },
  {
   "cell_type": "markdown",
   "metadata": {},
   "source": [
    "We are going to make a function to deal with missing values."
   ]
  },
  {
   "cell_type": "code",
   "execution_count": 24,
   "metadata": {},
   "outputs": [
    {
     "data": {
      "text/plain": [
       "ca          611\n",
       "thal        486\n",
       "slope       309\n",
       "fbs          90\n",
       "oldpeak      62\n",
       "trestbps     59\n",
       "exang        55\n",
       "thalch       55\n",
       "chol         30\n",
       "restecg       2\n",
       "dtype: int64"
      ]
     },
     "execution_count": 24,
     "metadata": {},
     "output_type": "execute_result"
    }
   ],
   "source": [
    "df.isnull().sum()[df.isnull().sum() > 0].sort_values(ascending=False)"
   ]
  },
  {
   "cell_type": "code",
   "execution_count": 25,
   "metadata": {},
   "outputs": [
    {
     "data": {
      "text/plain": [
       "['trestbps',\n",
       " 'chol',\n",
       " 'fbs',\n",
       " 'restecg',\n",
       " 'thalch',\n",
       " 'exang',\n",
       " 'oldpeak',\n",
       " 'slope',\n",
       " 'ca',\n",
       " 'thal']"
      ]
     },
     "execution_count": 25,
     "metadata": {},
     "output_type": "execute_result"
    }
   ],
   "source": [
    "\n",
    "missing_data_cols = df.isnull().sum()[df.isnull().sum() > 0].index.tolist()\n",
    "missing_data_cols"
   ]
  },
  {
   "cell_type": "code",
   "execution_count": 26,
   "metadata": {},
   "outputs": [],
   "source": [
    "categorical_cols = ['thal', 'ca', 'slope', 'exang', 'restecg','fbs', 'cp', 'sex', 'num']\n",
    "bool_cols = ['fbs', 'exang']\n",
    "numeric_cols = ['oldpeak', 'thalch', 'chol', 'trestbps', 'age']"
   ]
  },
  {
   "cell_type": "code",
   "execution_count": 27,
   "metadata": {},
   "outputs": [],
   "source": [
    "# define the function to impute the missing values in thal column\n",
    "\n",
    "def impute_categorical_missing_data(passed_col):\n",
    "    \n",
    "    df_null = df[df[passed_col].isnull()]\n",
    "    df_not_null = df[df[passed_col].notnull()]\n",
    "\n",
    "    X = df_not_null.drop(passed_col, axis=1)\n",
    "    y = df_not_null[passed_col]\n",
    "    \n",
    "    other_missing_cols = [col for col in missing_data_cols if col != passed_col]\n",
    "    \n",
    "    label_encoder = LabelEncoder()\n",
    "\n",
    "    for col in X.columns:\n",
    "        if X[col].dtype == 'object' or X[col].dtype == 'category':\n",
    "            X[col] = label_encoder.fit_transform(X[col])\n",
    "\n",
    "    if passed_col in bool_cols:\n",
    "        y = label_encoder.fit_transform(y)\n",
    "        \n",
    "    iterative_imputer = IterativeImputer(estimator=RandomForestRegressor(random_state=42), add_indicator=True)\n",
    "\n",
    "    for col in other_missing_cols:\n",
    "        if X[col].isnull().sum() > 0:\n",
    "            col_with_missing_values = X[col].values.reshape(-1, 1)\n",
    "            imputed_values = iterative_imputer.fit_transform(col_with_missing_values)\n",
    "            X[col] = imputed_values[:, 0]\n",
    "        else:\n",
    "            pass\n",
    "    \n",
    "    X_train, X_test, y_train, y_test = train_test_split(X, y, test_size=0.2, random_state=42)\n",
    "\n",
    "    rf_classifier = RandomForestClassifier()\n",
    "\n",
    "    rf_classifier.fit(X_train, y_train)\n",
    "\n",
    "    y_pred = rf_classifier.predict(X_test)\n",
    "\n",
    "    acc_score = accuracy_score(y_test, y_pred)\n",
    "\n",
    "    print(\"The feature '\"+ passed_col+ \"' has been imputed with\", round((acc_score * 100), 2), \"accuracy\\n\")\n",
    "\n",
    "    X = df_null.drop(passed_col, axis=1)\n",
    "\n",
    "    for col in X.columns:\n",
    "        if X[col].dtype == 'object' or X[col].dtype == 'category':\n",
    "            X[col] = label_encoder.fit_transform(X[col])\n",
    "\n",
    "    for col in other_missing_cols:\n",
    "        if X[col].isnull().sum() > 0:\n",
    "            col_with_missing_values = X[col].values.reshape(-1, 1)\n",
    "            imputed_values = iterative_imputer.fit_transform(col_with_missing_values)\n",
    "            X[col] = imputed_values[:, 0]\n",
    "        else:\n",
    "            pass\n",
    "                \n",
    "    if len(df_null) > 0: \n",
    "        df_null[passed_col] = rf_classifier.predict(X)\n",
    "        if passed_col in bool_cols:\n",
    "            df_null[passed_col] = df_null[passed_col].map({0: False, 1: True})\n",
    "        else:\n",
    "            pass\n",
    "    else:\n",
    "        pass\n",
    "\n",
    "    df_combined = pd.concat([df_not_null, df_null])\n",
    "    \n",
    "    return df_combined[passed_col]\n",
    "\n",
    "\n",
    "# For continuous columns\n",
    "def impute_continuous_missing_data(passed_col):\n",
    "    \n",
    "    df_null = df[df[passed_col].isnull()]\n",
    "    df_not_null = df[df[passed_col].notnull()]\n",
    "\n",
    "    X = df_not_null.drop(passed_col, axis=1)\n",
    "    y = df_not_null[passed_col]\n",
    "    \n",
    "    other_missing_cols = [col for col in missing_data_cols if col != passed_col]\n",
    "    \n",
    "    label_encoder = LabelEncoder()\n",
    "\n",
    "    for col in X.columns:\n",
    "        if X[col].dtype == 'object' or X[col].dtype == 'category':\n",
    "            X[col] = label_encoder.fit_transform(X[col])\n",
    "    \n",
    "    iterative_imputer = IterativeImputer(estimator=RandomForestRegressor(random_state=42), add_indicator=True)\n",
    "\n",
    "    for col in other_missing_cols:\n",
    "        if X[col].isnull().sum() > 0:\n",
    "            col_with_missing_values = X[col].values.reshape(-1, 1)\n",
    "            imputed_values = iterative_imputer.fit_transform(col_with_missing_values)\n",
    "            X[col] = imputed_values[:, 0]\n",
    "        else:\n",
    "            pass\n",
    "    \n",
    "    X_train, X_test, y_train, y_test = train_test_split(X, y, test_size=0.2, random_state=42)\n",
    "\n",
    "    rf_regressor = RandomForestRegressor()\n",
    "\n",
    "    rf_regressor.fit(X_train, y_train)\n",
    "\n",
    "    y_pred = rf_regressor.predict(X_test)\n",
    "\n",
    "    print(\"MAE =\", mean_absolute_error(y_test, y_pred), \"\\n\")\n",
    "    # print(\"RMSE =\", mean_squared_error(y_test, y_pred, squared=False), \"\\n\")\n",
    "    print(\"R2 =\", r2_score(y_test, y_pred), \"\\n\")\n",
    "\n",
    "    X = df_null.drop(passed_col, axis=1)\n",
    "\n",
    "    for col in X.columns:\n",
    "        if X[col].dtype == 'object' or X[col].dtype == 'category':\n",
    "            X[col] = label_encoder.fit_transform(X[col])\n",
    "\n",
    "    for col in other_missing_cols:\n",
    "        if X[col].isnull().sum() > 0:\n",
    "            col_with_missing_values = X[col].values.reshape(-1, 1)\n",
    "            imputed_values = iterative_imputer.fit_transform(col_with_missing_values)\n",
    "            X[col] = imputed_values[:, 0]\n",
    "        else:\n",
    "            pass\n",
    "                \n",
    "    if len(df_null) > 0: \n",
    "        df_null[passed_col] = rf_regressor.predict(X)\n",
    "    else:\n",
    "        pass\n",
    "\n",
    "    df_combined = pd.concat([df_not_null, df_null])\n",
    "    \n",
    "    return df_combined[passed_col]"
   ]
  },
  {
   "cell_type": "code",
   "execution_count": 28,
   "metadata": {},
   "outputs": [
    {
     "name": "stdout",
     "output_type": "stream",
     "text": [
      "Missing Values trestbps : 6.41%\n",
      "MAE = 13.179075144508671 \n",
      "\n",
      "R2 = 0.07011722667965292 \n",
      "\n",
      "Missing Values chol : 3.26%\n",
      "MAE = 45.36898876404494 \n",
      "\n",
      "R2 = 0.6770790187017135 \n",
      "\n",
      "Missing Values fbs : 9.78%\n",
      "The feature 'fbs' has been imputed with 79.52 accuracy\n",
      "\n",
      "Missing Values restecg : 0.22%\n",
      "The feature 'restecg' has been imputed with 63.04 accuracy\n",
      "\n",
      "Missing Values thalch : 5.98%\n",
      "MAE = 16.611387283236994 \n",
      "\n",
      "R2 = 0.3278317903226231 \n",
      "\n",
      "Missing Values exang : 5.98%\n",
      "The feature 'exang' has been imputed with 79.19 accuracy\n",
      "\n",
      "Missing Values oldpeak : 6.74%\n",
      "MAE = 0.5621395348837208 \n",
      "\n",
      "R2 = 0.40544486590042017 \n",
      "\n",
      "Missing Values slope : 33.59%\n",
      "The feature 'slope' has been imputed with 67.48 accuracy\n",
      "\n",
      "Missing Values ca : 66.41%\n",
      "The feature 'ca' has been imputed with 67.74 accuracy\n",
      "\n",
      "Missing Values thal : 52.83%\n",
      "The feature 'thal' has been imputed with 74.71 accuracy\n",
      "\n"
     ]
    }
   ],
   "source": [
    "# impute missing values using our functions\n",
    "for col in missing_data_cols:\n",
    "    print(\"Missing Values\", col, \":\", str(round((df[col].isnull().sum() / len(df)) * 100, 2))+\"%\")\n",
    "    if col in categorical_cols:\n",
    "        df[col] = impute_categorical_missing_data(col)\n",
    "    elif col in numeric_cols:\n",
    "        df[col] = impute_continuous_missing_data(col)\n",
    "    else:\n",
    "        pass"
   ]
  },
  {
   "cell_type": "code",
   "execution_count": 29,
   "metadata": {},
   "outputs": [
    {
     "data": {
      "text/plain": [
       "id          0\n",
       "age         0\n",
       "sex         0\n",
       "dataset     0\n",
       "cp          0\n",
       "trestbps    0\n",
       "chol        0\n",
       "fbs         0\n",
       "restecg     0\n",
       "thalch      0\n",
       "exang       0\n",
       "oldpeak     0\n",
       "slope       0\n",
       "ca          0\n",
       "thal        0\n",
       "num         0\n",
       "dtype: int64"
      ]
     },
     "execution_count": 29,
     "metadata": {},
     "output_type": "execute_result"
    }
   ],
   "source": [
    "df.isnull().sum()"
   ]
  },
  {
   "cell_type": "markdown",
   "metadata": {},
   "source": [
    "## <span style=\"color:yellow; font-size:150%; font-weight:bold\">Dealing with Outliers</span>"
   ]
  },
  {
   "cell_type": "code",
   "execution_count": 30,
   "metadata": {},
   "outputs": [
    {
     "data": {
      "image/png": "[encoded data removed]",
      "text/plain": [
       "<Figure size 2500x2500 with 5 Axes>"
      ]
     },
     "metadata": {},
     "output_type": "display_data"
    }
   ],
   "source": [
    "# create box plots for all numeric columns using for loop and subplot\n",
    "plt.figure(figsize=(25,25))\n",
    "\n",
    "color = ['red','green','blue','orange','purple']\n",
    "\n",
    "for i,col in enumerate(numeric_cols):\n",
    "    plt.subplot(3,2,i+1)\n",
    "    sns.boxplot(x=df[col],color=color[i])\n",
    "    plt.title(col)\n",
    "    \n",
    "plt.show()"
   ]
  },
  {
   "cell_type": "code",
   "execution_count": 31,
   "metadata": {},
   "outputs": [
    {
     "data": {
      "application/vnd.plotly.v1+json": {
       "config": {
        "plotlyServerURL": "https://plot.ly"
       },
       "data": [
        {
         "alignmentgroup": "True",
         "hovertemplate": "oldpeak=%{y}<extra></extra>",
         "legendgroup": "",
         "marker": {
          "color": "red"
         },
         "name": "",
         "notched": false,
         "offsetgroup": "",
         "orientation": "v",
         "showlegend": false,
         "type": "box",
         "x0": " ",
         "xaxis": "x",
         "y": [
          2.3,
          1.5,
          2.6,
          3.5,
          1.4,
          0.8,
          3.6,
          0.6,
          1.4,
          3.1,
          0.4,
          1.3,
          0.6,
          0,
          0.5,
          1.6,
          1,
          1.2,
          0.2,
          0.6,
          1.8,
          1,
          1.8,
          3.2,
          2.4,
          1.6,
          0,
          2.6,
          1.5,
          2,
          1.8,
          1.4,
          0,
          0.5,
          0.4,
          0,
          2.5,
          0.6,
          1.2,
          1,
          1,
          1.4,
          0.4,
          1.6,
          0,
          2.5,
          0.6,
          2.6,
          0.8,
          1.2,
          0,
          0.4,
          0,
          0,
          1.4,
          2.2,
          0.6,
          0,
          0.5,
          1.4,
          1.2,
          1.4,
          2.2,
          0,
          1.4,
          2.8,
          3,
          1.6,
          3.4,
          3.6,
          0.8,
          0.2,
          1.8,
          0.6,
          0,
          0.8,
          2.8,
          1.5,
          0.2,
          0.8,
          3,
          0.4,
          0,
          1.6,
          0.2,
          0,
          0,
          0,
          0,
          0.5,
          0.4,
          6.2,
          1.8,
          0.6,
          0,
          0,
          1.2,
          2.6,
          0.8,
          0,
          0,
          0,
          0,
          0,
          2,
          0,
          0,
          0.4,
          3.6,
          1.2,
          1,
          1.2,
          0,
          3,
          1.2,
          0,
          0,
          1.4,
          1.8,
          2.8,
          0,
          4,
          1.2,
          5.6,
          1.4,
          0.6,
          4,
          2.8,
          0,
          0,
          0.4,
          0,
          0,
          0,
          0.2,
          1.4,
          2.6,
          1.4,
          1.6,
          2.4,
          0,
          0.2,
          0,
          1.8,
          0.6,
          0,
          1,
          0,
          0,
          0,
          1.2,
          0.6,
          1.6,
          0.8,
          2.2,
          2.4,
          1.6,
          0,
          1.2,
          1,
          0,
          0,
          1.6,
          1,
          0,
          0,
          0,
          0,
          0,
          0,
          2.9,
          0,
          0,
          1.2,
          2,
          1.2,
          0.1,
          2.1,
          1.9,
          0,
          0.5,
          1.9,
          0.8,
          4.2,
          0,
          0,
          0.8,
          0,
          0,
          2,
          0,
          4.2,
          0.1,
          1.9,
          1.5,
          0.9,
          0.1,
          0.2,
          1.1,
          0,
          0,
          0,
          0.2,
          0.2,
          0,
          0,
          3,
          0.9,
          0,
          1.4,
          0,
          3.8,
          2,
          1,
          0,
          1.9,
          0,
          0,
          2,
          0,
          0,
          0,
          0,
          2,
          1.8,
          0.7,
          0.1,
          0,
          0,
          0.1,
          0.1,
          3.4,
          0.8,
          0.2,
          0,
          3.2,
          1.6,
          0.8,
          0,
          0,
          0,
          0,
          0,
          2.6,
          0,
          1,
          0.1,
          1,
          1,
          0,
          1.5,
          2,
          0.2,
          0.6,
          1.2,
          0,
          0.3,
          1.1,
          0,
          0.3,
          0.3,
          0,
          0.9,
          0,
          3.6,
          1.8,
          1,
          2.2,
          0,
          0,
          1.9,
          2.3,
          1.8,
          1.6,
          0.8,
          0.6,
          0,
          0,
          0,
          0.6,
          3,
          0,
          2,
          0,
          0,
          4.4,
          2.8,
          0.4,
          0,
          0,
          0.8,
          1.2,
          2.8,
          4,
          0,
          0,
          1,
          0.2,
          1.2,
          3.4,
          1.2,
          0,
          0,
          0,
          0,
          0,
          0,
          0,
          0,
          0,
          0,
          0,
          0,
          0,
          0,
          0,
          0,
          0,
          0,
          0,
          1,
          0,
          0,
          0,
          0,
          0,
          0,
          0,
          0,
          0,
          0,
          0,
          0,
          0,
          2,
          1,
          0,
          0,
          0,
          0,
          0,
          0,
          0,
          0,
          0,
          0,
          0,
          0,
          0,
          0,
          0,
          0,
          0,
          0,
          0,
          0,
          0,
          0,
          0,
          1.5,
          0,
          0,
          0,
          0,
          0,
          0,
          0,
          0,
          0,
          0,
          0,
          1,
          0,
          0,
          0,
          0,
          0,
          0,
          0,
          0,
          0,
          0,
          0,
          0,
          0,
          1,
          0,
          0,
          1,
          2,
          0,
          0,
          0,
          2,
          0,
          0,
          0,
          2,
          0,
          1,
          0,
          0,
          0,
          0,
          0,
          0,
          0,
          0,
          0,
          0,
          1,
          0,
          0,
          1,
          0,
          0,
          0,
          0,
          0,
          0,
          0,
          2,
          0.5,
          0,
          0,
          0,
          0,
          0,
          0,
          1.5,
          0,
          0,
          0,
          0,
          0,
          2,
          0,
          0,
          0,
          0,
          3,
          0,
          0,
          1,
          0,
          1.5,
          0,
          0,
          0,
          0,
          2,
          0,
          0,
          0,
          1,
          0,
          0,
          0,
          1,
          0,
          0,
          0,
          0,
          0,
          0,
          0,
          0,
          0,
          0.5,
          0,
          0,
          0,
          1,
          0,
          1,
          0.8,
          0,
          0,
          0,
          0,
          0,
          1,
          0,
          1,
          0,
          0,
          0,
          1,
          0,
          0,
          1,
          1.5,
          1,
          0,
          0,
          3,
          1.5,
          0,
          0,
          2.5,
          1,
          0,
          1,
          2,
          0,
          0,
          1,
          1,
          1.5,
          0,
          2,
          1,
          1,
          0,
          0,
          0,
          0,
          1,
          2,
          0,
          2,
          3,
          1,
          0,
          1.5,
          1,
          0,
          1.5,
          0,
          1,
          0,
          2,
          0,
          1,
          0,
          0,
          2,
          3,
          1.5,
          2,
          2,
          0,
          1.5,
          0,
          1.5,
          1,
          1,
          0,
          2,
          1.5,
          1,
          3,
          0,
          2,
          2,
          1,
          3,
          2,
          2,
          0,
          1.5,
          1,
          1,
          2,
          1,
          1,
          2,
          4,
          0,
          1.5,
          1.5,
          0,
          2,
          2,
          1,
          1.5,
          2,
          2,
          0,
          0,
          2,
          1,
          3,
          2,
          0,
          2,
          3,
          0,
          2,
          5,
          2.5,
          2,
          2.5,
          0,
          3,
          1,
          1,
          0.7,
          0.2,
          0.9940000000000002,
          1,
          2.8,
          0,
          -1.1,
          0,
          0,
          1.5859999999999994,
          0,
          1.6,
          -1.5,
          0,
          1.5,
          2,
          0.5,
          -0.1,
          -2.6,
          1.5,
          0,
          1,
          2.1,
          0,
          0,
          0,
          0.5,
          0,
          0.7,
          1.5,
          0,
          0,
          -0.7,
          0,
          0,
          2.2,
          0,
          2,
          1,
          0.24,
          0,
          0.7,
          0,
          0,
          0,
          1.5,
          1,
          2,
          0,
          3,
          1.5,
          0.2,
          0.1,
          0.3,
          0,
          0,
          -2,
          0,
          -1,
          -1,
          0,
          1,
          1.8,
          0.3,
          1.4,
          2,
          0,
          2,
          0.7,
          0.5,
          1,
          0,
          2.6,
          0,
          0,
          0.9,
          1,
          2.4,
          0.1,
          1.1,
          0.5,
          0.5,
          0.4,
          0,
          1.5,
          1.4,
          0,
          0,
          2.5,
          0,
          2,
          1,
          0,
          1.7,
          -0.8,
          0,
          2.5,
          -0.5,
          2,
          -0.9,
          2,
          2,
          3.7,
          0,
          1,
          1.1,
          1.3,
          0,
          1.9119999999999993,
          1,
          2.1699999999999995,
          0,
          2,
          0,
          0,
          1.8,
          0,
          2.4589999999999996,
          0,
          2,
          1.6,
          0,
          1.3,
          3,
          0,
          1.5,
          2.5,
          1.3,
          -0.5,
          0,
          1.5,
          2,
          0.5,
          0,
          1,
          0.5,
          1.9889999999999992,
          1,
          0,
          2.5,
          2,
          1.5,
          0,
          1,
          2,
          0,
          2.120999999999999,
          3,
          1,
          1.6329999999999998,
          0.5,
          1.5,
          2.6830000000000003,
          1.9409999999999998,
          2,
          1,
          1.5,
          2,
          1,
          2.0709999999999997,
          2,
          2.396999999999999,
          1.5,
          0,
          0,
          1.5,
          0,
          3.206000000000001,
          0,
          1.3,
          0,
          2,
          0,
          2.5,
          2.334,
          1.6,
          2,
          0,
          3,
          1.5,
          3.047000000000001,
          2.2359999999999993,
          0,
          1.597,
          2,
          2,
          2.5,
          2,
          2.5,
          2.5,
          1.5,
          2.180999999999999,
          2.511,
          1.4409999999999996,
          2,
          1.6229999999999996,
          3,
          1,
          0,
          3,
          3.091,
          2.5,
          1,
          1,
          3,
          0,
          1,
          4,
          2,
          2,
          1.6389999999999998,
          3,
          2.480999999999999,
          3,
          0,
          1.5,
          0,
          2.0739999999999994,
          2,
          1.6139999999999999,
          1.8399999999999996,
          0.5,
          3,
          0,
          1.5,
          1,
          1,
          0.5,
          4,
          1,
          1,
          0,
          1.7509999999999997,
          2.866,
          1.7769999999999992,
          3.059,
          1.7189999999999994,
          1.7630000000000001,
          3.2520000000000007,
          0,
          2,
          2.5,
          2.1029999999999998,
          2.438,
          4,
          2,
          0,
          2.5109999999999992,
          3.5,
          1.5,
          3,
          0,
          2.5169999999999995,
          0,
          1.5,
          1.5,
          2.158,
          2,
          0,
          2.963,
          2.7680000000000002,
          2.1640000000000006,
          0,
          2,
          2.6029999999999998,
          2.428,
          4,
          2.3819999999999992,
          2.415999999999999,
          2,
          2.4429999999999987,
          2,
          2.786,
          1.5,
          0,
          1.5,
          2.5,
          2,
          2.866000000000001,
          0.5,
          1.5,
          2.428,
          2.5369999999999995,
          3,
          3.2929999999999997,
          3,
          2.9130000000000003,
          1.7549999999999997,
          1.5,
          0,
          2.528999999999999,
          2.4429999999999996,
          0.8,
          2,
          1,
          2,
          0,
          2.4949999999999997,
          0,
          2,
          0,
          1,
          0.5,
          0,
          2.473999999999999,
          1.7,
          1.5,
          1,
          2.484999999999999,
          0,
          0,
          1.5,
          0,
          1,
          3,
          1.5,
          0,
          0,
          0,
          2.3279999999999994,
          0,
          2.2259999999999995,
          0
         ],
         "y0": " ",
         "yaxis": "y"
        }
       ],
       "layout": {
        "boxmode": "group",
        "legend": {
         "tracegroupgap": 0
        },
        "margin": {
         "t": 60
        },
        "template": {
         "data": {
          "bar": [
           {
            "error_x": {
             "color": "#2a3f5f"
            },
            "error_y": {
             "color": "#2a3f5f"
            },
            "marker": {
             "line": {
              "color": "#E5ECF6",
              "width": 0.5
             },
             "pattern": {
              "fillmode": "overlay",
              "size": 10,
              "solidity": 0.2
             }
            },
            "type": "bar"
           }
          ],
          "barpolar": [
           {
            "marker": {
             "line": {
              "color": "#E5ECF6",
              "width": 0.5
             },
             "pattern": {
              "fillmode": "overlay",
              "size": 10,
              "solidity": 0.2
             }
            },
            "type": "barpolar"
           }
          ],
          "carpet": [
           {
            "aaxis": {
             "endlinecolor": "#2a3f5f",
             "gridcolor": "white",
             "linecolor": "white",
             "minorgridcolor": "white",
             "startlinecolor": "#2a3f5f"
            },
            "baxis": {
             "endlinecolor": "#2a3f5f",
             "gridcolor": "white",
             "linecolor": "white",
             "minorgridcolor": "white",
             "startlinecolor": "#2a3f5f"
            },
            "type": "carpet"
           }
          ],
          "choropleth": [
           {
            "colorbar": {
             "outlinewidth": 0,
             "ticks": ""
            },
            "type": "choropleth"
           }
          ],
          "contour": [
           {
            "colorbar": {
             "outlinewidth": 0,
             "ticks": ""
            },
            "colorscale": [
             [
              0,
              "#0d0887"
             ],
             [
              0.1111111111111111,
              "#46039f"
             ],
             [
              0.2222222222222222,
              "#7201a8"
             ],
             [
              0.3333333333333333,
              "#9c179e"
             ],
             [
              0.4444444444444444,
              "#bd3786"
             ],
             [
              0.5555555555555556,
              "#d8576b"
             ],
             [
              0.6666666666666666,
              "#ed7953"
             ],
             [
              0.7777777777777778,
              "#fb9f3a"
             ],
             [
              0.8888888888888888,
              "#fdca26"
             ],
             [
              1,
              "#f0f921"
             ]
            ],
            "type": "contour"
           }
          ],
          "contourcarpet": [
           {
            "colorbar": {
             "outlinewidth": 0,
             "ticks": ""
            },
            "type": "contourcarpet"
           }
          ],
          "heatmap": [
           {
            "colorbar": {
             "outlinewidth": 0,
             "ticks": ""
            },
            "colorscale": [
             [
              0,
              "#0d0887"
             ],
             [
              0.1111111111111111,
              "#46039f"
             ],
             [
              0.2222222222222222,
              "#7201a8"
             ],
             [
              0.3333333333333333,
              "#9c179e"
             ],
             [
              0.4444444444444444,
              "#bd3786"
             ],
             [
              0.5555555555555556,
              "#d8576b"
             ],
             [
              0.6666666666666666,
              "#ed7953"
             ],
             [
              0.7777777777777778,
              "#fb9f3a"
             ],
             [
              0.8888888888888888,
              "#fdca26"
             ],
             [
              1,
              "#f0f921"
             ]
            ],
            "type": "heatmap"
           }
          ],
          "heatmapgl": [
           {
            "colorbar": {
             "outlinewidth": 0,
             "ticks": ""
            },
            "colorscale": [
             [
              0,
              "#0d0887"
             ],
             [
              0.1111111111111111,
              "#46039f"
             ],
             [
              0.2222222222222222,
              "#7201a8"
             ],
             [
              0.3333333333333333,
              "#9c179e"
             ],
             [
              0.4444444444444444,
              "#bd3786"
             ],
             [
              0.5555555555555556,
              "#d8576b"
             ],
             [
              0.6666666666666666,
              "#ed7953"
             ],
             [
              0.7777777777777778,
              "#fb9f3a"
             ],
             [
              0.8888888888888888,
              "#fdca26"
             ],
             [
              1,
              "#f0f921"
             ]
            ],
            "type": "heatmapgl"
           }
          ],
          "histogram": [
           {
            "marker": {
             "pattern": {
              "fillmode": "overlay",
              "size": 10,
              "solidity": 0.2
             }
            },
            "type": "histogram"
           }
          ],
          "histogram2d": [
           {
            "colorbar": {
             "outlinewidth": 0,
             "ticks": ""
            },
            "colorscale": [
             [
              0,
              "#0d0887"
             ],
             [
              0.1111111111111111,
              "#46039f"
             ],
             [
              0.2222222222222222,
              "#7201a8"
             ],
             [
              0.3333333333333333,
              "#9c179e"
             ],
             [
              0.4444444444444444,
              "#bd3786"
             ],
             [
              0.5555555555555556,
              "#d8576b"
             ],
             [
              0.6666666666666666,
              "#ed7953"
             ],
             [
              0.7777777777777778,
              "#fb9f3a"
             ],
             [
              0.8888888888888888,
              "#fdca26"
             ],
             [
              1,
              "#f0f921"
             ]
            ],
            "type": "histogram2d"
           }
          ],
          "histogram2dcontour": [
           {
            "colorbar": {
             "outlinewidth": 0,
             "ticks": ""
            },
            "colorscale": [
             [
              0,
              "#0d0887"
             ],
             [
              0.1111111111111111,
              "#46039f"
             ],
             [
              0.2222222222222222,
              "#7201a8"
             ],
             [
              0.3333333333333333,
              "#9c179e"
             ],
             [
              0.4444444444444444,
              "#bd3786"
             ],
             [
              0.5555555555555556,
              "#d8576b"
             ],
             [
              0.6666666666666666,
              "#ed7953"
             ],
             [
              0.7777777777777778,
              "#fb9f3a"
             ],
             [
              0.8888888888888888,
              "#fdca26"
             ],
             [
              1,
              "#f0f921"
             ]
            ],
            "type": "histogram2dcontour"
           }
          ],
          "mesh3d": [
           {
            "colorbar": {
             "outlinewidth": 0,
             "ticks": ""
            },
            "type": "mesh3d"
           }
          ],
          "parcoords": [
           {
            "line": {
             "colorbar": {
              "outlinewidth": 0,
              "ticks": ""
             }
            },
            "type": "parcoords"
           }
          ],
          "pie": [
           {
            "automargin": true,
            "type": "pie"
           }
          ],
          "scatter": [
           {
            "fillpattern": {
             "fillmode": "overlay",
             "size": 10,
             "solidity": 0.2
            },
            "type": "scatter"
           }
          ],
          "scatter3d": [
           {
            "line": {
             "colorbar": {
              "outlinewidth": 0,
              "ticks": ""
             }
            },
            "marker": {
             "colorbar": {
              "outlinewidth": 0,
              "ticks": ""
             }
            },
            "type": "scatter3d"
           }
          ],
          "scattercarpet": [
           {
            "marker": {
             "colorbar": {
              "outlinewidth": 0,
              "ticks": ""
             }
            },
            "type": "scattercarpet"
           }
          ],
          "scattergeo": [
           {
            "marker": {
             "colorbar": {
              "outlinewidth": 0,
              "ticks": ""
             }
            },
            "type": "scattergeo"
           }
          ],
          "scattergl": [
           {
            "marker": {
             "colorbar": {
              "outlinewidth": 0,
              "ticks": ""
             }
            },
            "type": "scattergl"
           }
          ],
          "scattermapbox": [
           {
            "marker": {
             "colorbar": {
              "outlinewidth": 0,
              "ticks": ""
             }
            },
            "type": "scattermapbox"
           }
          ],
          "scatterpolar": [
           {
            "marker": {
             "colorbar": {
              "outlinewidth": 0,
              "ticks": ""
             }
            },
            "type": "scatterpolar"
           }
          ],
          "scatterpolargl": [
           {
            "marker": {
             "colorbar": {
              "outlinewidth": 0,
              "ticks": ""
             }
            },
            "type": "scatterpolargl"
           }
          ],
          "scatterternary": [
           {
            "marker": {
             "colorbar": {
              "outlinewidth": 0,
              "ticks": ""
             }
            },
            "type": "scatterternary"
           }
          ],
          "surface": [
           {
            "colorbar": {
             "outlinewidth": 0,
             "ticks": ""
            },
            "colorscale": [
             [
              0,
              "#0d0887"
             ],
             [
              0.1111111111111111,
              "#46039f"
             ],
             [
              0.2222222222222222,
              "#7201a8"
             ],
             [
              0.3333333333333333,
              "#9c179e"
             ],
             [
              0.4444444444444444,
              "#bd3786"
             ],
             [
              0.5555555555555556,
              "#d8576b"
             ],
             [
              0.6666666666666666,
              "#ed7953"
             ],
             [
              0.7777777777777778,
              "#fb9f3a"
             ],
             [
              0.8888888888888888,
              "#fdca26"
             ],
             [
              1,
              "#f0f921"
             ]
            ],
            "type": "surface"
           }
          ],
          "table": [
           {
            "cells": {
             "fill": {
              "color": "#EBF0F8"
             },
             "line": {
              "color": "white"
             }
            },
            "header": {
             "fill": {
              "color": "#C8D4E3"
             },
             "line": {
              "color": "white"
             }
            },
            "type": "table"
           }
          ]
         },
         "layout": {
          "annotationdefaults": {
           "arrowcolor": "#2a3f5f",
           "arrowhead": 0,
           "arrowwidth": 1
          },
          "autotypenumbers": "strict",
          "coloraxis": {
           "colorbar": {
            "outlinewidth": 0,
            "ticks": ""
           }
          },
          "colorscale": {
           "diverging": [
            [
             0,
             "#8e0152"
            ],
            [
             0.1,
             "#c51b7d"
            ],
            [
             0.2,
             "#de77ae"
            ],
            [
             0.3,
             "#f1b6da"
            ],
            [
             0.4,
             "#fde0ef"
            ],
            [
             0.5,
             "#f7f7f7"
            ],
            [
             0.6,
             "#e6f5d0"
            ],
            [
             0.7,
             "#b8e186"
            ],
            [
             0.8,
             "#7fbc41"
            ],
            [
             0.9,
             "#4d9221"
            ],
            [
             1,
             "#276419"
            ]
           ],
           "sequential": [
            [
             0,
             "#0d0887"
            ],
            [
             0.1111111111111111,
             "#46039f"
            ],
            [
             0.2222222222222222,
             "#7201a8"
            ],
            [
             0.3333333333333333,
             "#9c179e"
            ],
            [
             0.4444444444444444,
             "#bd3786"
            ],
            [
             0.5555555555555556,
             "#d8576b"
            ],
            [
             0.6666666666666666,
             "#ed7953"
            ],
            [
             0.7777777777777778,
             "#fb9f3a"
            ],
            [
             0.8888888888888888,
             "#fdca26"
            ],
            [
             1,
             "#f0f921"
            ]
           ],
           "sequentialminus": [
            [
             0,
             "#0d0887"
            ],
            [
             0.1111111111111111,
             "#46039f"
            ],
            [
             0.2222222222222222,
             "#7201a8"
            ],
            [
             0.3333333333333333,
             "#9c179e"
            ],
            [
             0.4444444444444444,
             "#bd3786"
            ],
            [
             0.5555555555555556,
             "#d8576b"
            ],
            [
             0.6666666666666666,
             "#ed7953"
            ],
            [
             0.7777777777777778,
             "#fb9f3a"
            ],
            [
             0.8888888888888888,
             "#fdca26"
            ],
            [
             1,
             "#f0f921"
            ]
           ]
          },
          "colorway": [
           "#636efa",
           "#EF553B",
           "#00cc96",
           "#ab63fa",
           "#FFA15A",
           "#19d3f3",
           "#FF6692",
           "#B6E880",
           "#FF97FF",
           "#FECB52"
          ],
          "font": {
           "color": "#2a3f5f"
          },
          "geo": {
           "bgcolor": "white",
           "lakecolor": "white",
           "landcolor": "#E5ECF6",
           "showlakes": true,
           "showland": true,
           "subunitcolor": "white"
          },
          "hoverlabel": {
           "align": "left"
          },
          "hovermode": "closest",
          "mapbox": {
           "style": "light"
          },
          "paper_bgcolor": "white",
          "plot_bgcolor": "#E5ECF6",
          "polar": {
           "angularaxis": {
            "gridcolor": "white",
            "linecolor": "white",
            "ticks": ""
           },
           "bgcolor": "#E5ECF6",
           "radialaxis": {
            "gridcolor": "white",
            "linecolor": "white",
            "ticks": ""
           }
          },
          "scene": {
           "xaxis": {
            "backgroundcolor": "#E5ECF6",
            "gridcolor": "white",
            "gridwidth": 2,
            "linecolor": "white",
            "showbackground": true,
            "ticks": "",
            "zerolinecolor": "white"
           },
           "yaxis": {
            "backgroundcolor": "#E5ECF6",
            "gridcolor": "white",
            "gridwidth": 2,
            "linecolor": "white",
            "showbackground": true,
            "ticks": "",
            "zerolinecolor": "white"
           },
           "zaxis": {
            "backgroundcolor": "#E5ECF6",
            "gridcolor": "white",
            "gridwidth": 2,
            "linecolor": "white",
            "showbackground": true,
            "ticks": "",
            "zerolinecolor": "white"
           }
          },
          "shapedefaults": {
           "line": {
            "color": "#2a3f5f"
           }
          },
          "ternary": {
           "aaxis": {
            "gridcolor": "white",
            "linecolor": "white",
            "ticks": ""
           },
           "baxis": {
            "gridcolor": "white",
            "linecolor": "white",
            "ticks": ""
           },
           "bgcolor": "#E5ECF6",
           "caxis": {
            "gridcolor": "white",
            "linecolor": "white",
            "ticks": ""
           }
          },
          "title": {
           "x": 0.05
          },
          "xaxis": {
           "automargin": true,
           "gridcolor": "white",
           "linecolor": "white",
           "ticks": "",
           "title": {
            "standoff": 15
           },
           "zerolinecolor": "white",
           "zerolinewidth": 2
          },
          "yaxis": {
           "automargin": true,
           "gridcolor": "white",
           "linecolor": "white",
           "ticks": "",
           "title": {
            "standoff": 15
           },
           "zerolinecolor": "white",
           "zerolinewidth": 2
          }
         }
        },
        "xaxis": {
         "anchor": "y",
         "domain": [
          0,
          1
         ]
        },
        "yaxis": {
         "anchor": "x",
         "domain": [
          0,
          1
         ],
         "title": {
          "text": "oldpeak"
         }
        }
       }
      }
     },
     "metadata": {},
     "output_type": "display_data"
    },
    {
     "data": {
      "application/vnd.plotly.v1+json": {
       "config": {
        "plotlyServerURL": "https://plot.ly"
       },
       "data": [
        {
         "alignmentgroup": "True",
         "hovertemplate": "thalch=%{y}<extra></extra>",
         "legendgroup": "",
         "marker": {
          "color": "green"
         },
         "name": "",
         "notched": false,
         "offsetgroup": "",
         "orientation": "v",
         "showlegend": false,
         "type": "box",
         "x0": " ",
         "xaxis": "x",
         "y": [
          150,
          108,
          129,
          187,
          172,
          178,
          160,
          163,
          147,
          155,
          148,
          153,
          142,
          173,
          162,
          174,
          168,
          160,
          139,
          171,
          144,
          162,
          160,
          173,
          132,
          158,
          172,
          114,
          171,
          114,
          151,
          160,
          158,
          161,
          179,
          178,
          120,
          112,
          132,
          137,
          114,
          178,
          162,
          157,
          169,
          165,
          123,
          128,
          157,
          152,
          168,
          140,
          153,
          188,
          144,
          109,
          163,
          158,
          152,
          125,
          142,
          160,
          131,
          170,
          113,
          142,
          155,
          165,
          140,
          147,
          148,
          163,
          99,
          158,
          177,
          151,
          141,
          142,
          180,
          111,
          148,
          143,
          182,
          150,
          172,
          180,
          156,
          115,
          160,
          149,
          151,
          145,
          146,
          175,
          172,
          161,
          142,
          157,
          158,
          186,
          185,
          174,
          159,
          130,
          139,
          156,
          162,
          150,
          140,
          140,
          146,
          144,
          190,
          136,
          97,
          132,
          165,
          182,
          132,
          127,
          150,
          154,
          143,
          111,
          174,
          175,
          133,
          126,
          170,
          163,
          147,
          154,
          202,
          186,
          165,
          161,
          125,
          103,
          130,
          166,
          164,
          159,
          184,
          131,
          154,
          152,
          124,
          179,
          170,
          160,
          178,
          122,
          160,
          145,
          96,
          109,
          173,
          171,
          170,
          151,
          156,
          162,
          158,
          122,
          175,
          168,
          169,
          159,
          156,
          138,
          112,
          111,
          143,
          157,
          132,
          88,
          147,
          105,
          162,
          173,
          166,
          150,
          178,
          145,
          161,
          179,
          194,
          120,
          195,
          146,
          163,
          122,
          143,
          106,
          115,
          125,
          131,
          152,
          162,
          125,
          159,
          154,
          173,
          133,
          161,
          147,
          130,
          126,
          155,
          154,
          170,
          182,
          168,
          165,
          160,
          162,
          172,
          152,
          122,
          182,
          172,
          167,
          179,
          95,
          169,
          192,
          143,
          172,
          108,
          132,
          169,
          117,
          126,
          121,
          163,
          116,
          103,
          144,
          162,
          162,
          153,
          163,
          163,
          145,
          96,
          71,
          156,
          118,
          168,
          140,
          126,
          105,
          105,
          157,
          181,
          173,
          142,
          116,
          143,
          141,
          149,
          152,
          171,
          169,
          125,
          125,
          156,
          134,
          181,
          150,
          138,
          138,
          120,
          125,
          162,
          155,
          152,
          152,
          164,
          131,
          143,
          179,
          130,
          174,
          161,
          140,
          146,
          144,
          163,
          169,
          150,
          166,
          144,
          144,
          136,
          182,
          90,
          123,
          132,
          141,
          115,
          174,
          173,
          185,
          160,
          170,
          170,
          150,
          165,
          184,
          155,
          185,
          190,
          168,
          150,
          185,
          150,
          180,
          168,
          180,
          184,
          178,
          172,
          130,
          142,
          184,
          98,
          150,
          168,
          158,
          129,
          150,
          130,
          180,
          146,
          160,
          145,
          120,
          106,
          170,
          160,
          132,
          140,
          150,
          172,
          138,
          167,
          188,
          142,
          180,
          150,
          160,
          170,
          144,
          142,
          137,
          150,
          155,
          136,
          152,
          146,
          170,
          142,
          165,
          175,
          176,
          118,
          154,
          175,
          138,
          115,
          142,
          135,
          170,
          170,
          180,
          144,
          122,
          110,
          140,
          144,
          90,
          165,
          150,
          116,
          140,
          140,
          120,
          135,
          145,
          150,
          174,
          125,
          146.92,
          148,
          120,
          125,
          175,
          110,
          130,
          100,
          160,
          118,
          138,
          160,
          160,
          164,
          135,
          174,
          172,
          132,
          130,
          145,
          110,
          160,
          170,
          116,
          135,
          140,
          170,
          120,
          160,
          120,
          145,
          150,
          100,
          148,
          140,
          139,
          140,
          118,
          138,
          165,
          170,
          127,
          142,
          130,
          132,
          162,
          140,
          112,
          148,
          155,
          138,
          140,
          150,
          155,
          140,
          130,
          130,
          137,
          142,
          154,
          110,
          130,
          175,
          137,
          122,
          134,
          160,
          155,
          150,
          137,
          150,
          155,
          160,
          134,
          140,
          110,
          164,
          100,
          114,
          128,
          140,
          98,
          126,
          140,
          150,
          110,
          160,
          100,
          124,
          150,
          120,
          100,
          140,
          135,
          120,
          115,
          116,
          152,
          153,
          150,
          180,
          140,
          160,
          130,
          166,
          170,
          134,
          152,
          170,
          138,
          130,
          150,
          124,
          125,
          145,
          98,
          110,
          115,
          103,
          156,
          175,
          170,
          140,
          150,
          150,
          120,
          140,
          122,
          130,
          145,
          140,
          130,
          125,
          115,
          87,
          130,
          150,
          150,
          130,
          155,
          130,
          115,
          112,
          150,
          102,
          92,
          99,
          121,
          150,
          126,
          116,
          150,
          91,
          125,
          118,
          142,
          128,
          125,
          92,
          92,
          140,
          130,
          120,
          150,
          100,
          175,
          170,
          108,
          120,
          140,
          150,
          96,
          110,
          124,
          82,
          130,
          120,
          105,
          136,
          143,
          96,
          150,
          124,
          122,
          99,
          125,
          119,
          112,
          94,
          118,
          135,
          135,
          98,
          158,
          96,
          122,
          140,
          125,
          134,
          94,
          100,
          150,
          110,
          115,
          127,
          154,
          130,
          125,
          166,
          156,
          179,
          128,
          150,
          120,
          144,
          176,
          128,
          99,
          122,
          145,
          140,
          138,
          133,
          113,
          120,
          118,
          149,
          124,
          128,
          110,
          120,
          156,
          139,
          127,
          92,
          104,
          170,
          163,
          60,
          126,
          120,
          128,
          122,
          82,
          95,
          120,
          115,
          122,
          120,
          120,
          135,
          141,
          155,
          110,
          150,
          150,
          155,
          92,
          83,
          97,
          98,
          99,
          82,
          100,
          148,
          103,
          121,
          148,
          131,
          120,
          100,
          98,
          182,
          138,
          100,
          105,
          175,
          94,
          115,
          119,
          115,
          143,
          110,
          130,
          63,
          99,
          149,
          70,
          110,
          113,
          105,
          115,
          77,
          105,
          117,
          145,
          143,
          123,
          134,
          72,
          128,
          72,
          78,
          109,
          149,
          86,
          154,
          98,
          140,
          145,
          114,
          93,
          67,
          154,
          122,
          90,
          108,
          125,
          120,
          136,
          130,
          125.2,
          92,
          157,
          114,
          121,
          123,
          112,
          127,
          140,
          149,
          99,
          120,
          105,
          140,
          141,
          157,
          140,
          117,
          120,
          124.86,
          148,
          86,
          84,
          125,
          120,
          118,
          124,
          106,
          111,
          122.91,
          180,
          129,
          127.03,
          140,
          120,
          133.23,
          125.2,
          110,
          105,
          155,
          110,
          122,
          125.96,
          133,
          114.9,
          131,
          80,
          165,
          86,
          111,
          115.13,
          84,
          117,
          107,
          128,
          160,
          125,
          123.67,
          97,
          161,
          106,
          130,
          140,
          117.79,
          124.6,
          120,
          119.19,
          108,
          148,
          123,
          110,
          118,
          125,
          106,
          122.08,
          128.43,
          180,
          144,
          129.73,
          140,
          102,
          108,
          145,
          122.92,
          110,
          140,
          69,
          148,
          130,
          130,
          140,
          138,
          140,
          131.38,
          112,
          140.35,
          112,
          80,
          150,
          110,
          119.59,
          88,
          149.32,
          150,
          120,
          160,
          132,
          120,
          110,
          121,
          128,
          135,
          120,
          117,
          150,
          139.52,
          126.3,
          129.94,
          130.32,
          121.42,
          118.59,
          119.47,
          102,
          140,
          135,
          116.26,
          123.14,
          130,
          112,
          100,
          123.17,
          120,
          105,
          129,
          120,
          132.95,
          162,
          100,
          140,
          124.5,
          73,
          86,
          120.24,
          118.3,
          160,
          118,
          112,
          112.36,
          126.29,
          102,
          134.68,
          133.94,
          154,
          120.79,
          160,
          122.77,
          128,
          115,
          105,
          110,
          119,
          124.22,
          135,
          130,
          119.98,
          125.35,
          120,
          122.78,
          119,
          122.62,
          118.71,
          159,
          84,
          125.94,
          122.94,
          120,
          122,
          165,
          122,
          94,
          123.26,
          110,
          150,
          130,
          113,
          140,
          100,
          133.34,
          127,
          98,
          96,
          124.16,
          98,
          118,
          112,
          151,
          96,
          108,
          128,
          138,
          126,
          154,
          119.93,
          100,
          117.76,
          93
         ],
         "y0": " ",
         "yaxis": "y"
        }
       ],
       "layout": {
        "boxmode": "group",
        "legend": {
         "tracegroupgap": 0
        },
        "margin": {
         "t": 60
        },
        "template": {
         "data": {
          "bar": [
           {
            "error_x": {
             "color": "#2a3f5f"
            },
            "error_y": {
             "color": "#2a3f5f"
            },
            "marker": {
             "line": {
              "color": "#E5ECF6",
              "width": 0.5
             },
             "pattern": {
              "fillmode": "overlay",
              "size": 10,
              "solidity": 0.2
             }
            },
            "type": "bar"
           }
          ],
          "barpolar": [
           {
            "marker": {
             "line": {
              "color": "#E5ECF6",
              "width": 0.5
             },
             "pattern": {
              "fillmode": "overlay",
              "size": 10,
              "solidity": 0.2
             }
            },
            "type": "barpolar"
           }
          ],
          "carpet": [
           {
            "aaxis": {
             "endlinecolor": "#2a3f5f",
             "gridcolor": "white",
             "linecolor": "white",
             "minorgridcolor": "white",
             "startlinecolor": "#2a3f5f"
            },
            "baxis": {
             "endlinecolor": "#2a3f5f",
             "gridcolor": "white",
             "linecolor": "white",
             "minorgridcolor": "white",
             "startlinecolor": "#2a3f5f"
            },
            "type": "carpet"
           }
          ],
          "choropleth": [
           {
            "colorbar": {
             "outlinewidth": 0,
             "ticks": ""
            },
            "type": "choropleth"
           }
          ],
          "contour": [
           {
            "colorbar": {
             "outlinewidth": 0,
             "ticks": ""
            },
            "colorscale": [
             [
              0,
              "#0d0887"
             ],
             [
              0.1111111111111111,
              "#46039f"
             ],
             [
              0.2222222222222222,
              "#7201a8"
             ],
             [
              0.3333333333333333,
              "#9c179e"
             ],
             [
              0.4444444444444444,
              "#bd3786"
             ],
             [
              0.5555555555555556,
              "#d8576b"
             ],
             [
              0.6666666666666666,
              "#ed7953"
             ],
             [
              0.7777777777777778,
              "#fb9f3a"
             ],
             [
              0.8888888888888888,
              "#fdca26"
             ],
             [
              1,
              "#f0f921"
             ]
            ],
            "type": "contour"
           }
          ],
          "contourcarpet": [
           {
            "colorbar": {
             "outlinewidth": 0,
             "ticks": ""
            },
            "type": "contourcarpet"
           }
          ],
          "heatmap": [
           {
            "colorbar": {
             "outlinewidth": 0,
             "ticks": ""
            },
            "colorscale": [
             [
              0,
              "#0d0887"
             ],
             [
              0.1111111111111111,
              "#46039f"
             ],
             [
              0.2222222222222222,
              "#7201a8"
             ],
             [
              0.3333333333333333,
              "#9c179e"
             ],
             [
              0.4444444444444444,
              "#bd3786"
             ],
             [
              0.5555555555555556,
              "#d8576b"
             ],
             [
              0.6666666666666666,
              "#ed7953"
             ],
             [
              0.7777777777777778,
              "#fb9f3a"
             ],
             [
              0.8888888888888888,
              "#fdca26"
             ],
             [
              1,
              "#f0f921"
             ]
            ],
            "type": "heatmap"
           }
          ],
          "heatmapgl": [
           {
            "colorbar": {
             "outlinewidth": 0,
             "ticks": ""
            },
            "colorscale": [
             [
              0,
              "#0d0887"
             ],
             [
              0.1111111111111111,
              "#46039f"
             ],
             [
              0.2222222222222222,
              "#7201a8"
             ],
             [
              0.3333333333333333,
              "#9c179e"
             ],
             [
              0.4444444444444444,
              "#bd3786"
             ],
             [
              0.5555555555555556,
              "#d8576b"
             ],
             [
              0.6666666666666666,
              "#ed7953"
             ],
             [
              0.7777777777777778,
              "#fb9f3a"
             ],
             [
              0.8888888888888888,
              "#fdca26"
             ],
             [
              1,
              "#f0f921"
             ]
            ],
            "type": "heatmapgl"
           }
          ],
          "histogram": [
           {
            "marker": {
             "pattern": {
              "fillmode": "overlay",
              "size": 10,
              "solidity": 0.2
             }
            },
            "type": "histogram"
           }
          ],
          "histogram2d": [
           {
            "colorbar": {
             "outlinewidth": 0,
             "ticks": ""
            },
            "colorscale": [
             [
              0,
              "#0d0887"
             ],
             [
              0.1111111111111111,
              "#46039f"
             ],
             [
              0.2222222222222222,
              "#7201a8"
             ],
             [
              0.3333333333333333,
              "#9c179e"
             ],
             [
              0.4444444444444444,
              "#bd3786"
             ],
             [
              0.5555555555555556,
              "#d8576b"
             ],
             [
              0.6666666666666666,
              "#ed7953"
             ],
             [
              0.7777777777777778,
              "#fb9f3a"
             ],
             [
              0.8888888888888888,
              "#fdca26"
             ],
             [
              1,
              "#f0f921"
             ]
            ],
            "type": "histogram2d"
           }
          ],
          "histogram2dcontour": [
           {
            "colorbar": {
             "outlinewidth": 0,
             "ticks": ""
            },
            "colorscale": [
             [
              0,
              "#0d0887"
             ],
             [
              0.1111111111111111,
              "#46039f"
             ],
             [
              0.2222222222222222,
              "#7201a8"
             ],
             [
              0.3333333333333333,
              "#9c179e"
             ],
             [
              0.4444444444444444,
              "#bd3786"
             ],
             [
              0.5555555555555556,
              "#d8576b"
             ],
             [
              0.6666666666666666,
              "#ed7953"
             ],
             [
              0.7777777777777778,
              "#fb9f3a"
             ],
             [
              0.8888888888888888,
              "#fdca26"
             ],
             [
              1,
              "#f0f921"
             ]
            ],
            "type": "histogram2dcontour"
           }
          ],
          "mesh3d": [
           {
            "colorbar": {
             "outlinewidth": 0,
             "ticks": ""
            },
            "type": "mesh3d"
           }
          ],
          "parcoords": [
           {
            "line": {
             "colorbar": {
              "outlinewidth": 0,
              "ticks": ""
             }
            },
            "type": "parcoords"
           }
          ],
          "pie": [
           {
            "automargin": true,
            "type": "pie"
           }
          ],
          "scatter": [
           {
            "fillpattern": {
             "fillmode": "overlay",
             "size": 10,
             "solidity": 0.2
            },
            "type": "scatter"
           }
          ],
          "scatter3d": [
           {
            "line": {
             "colorbar": {
              "outlinewidth": 0,
              "ticks": ""
             }
            },
            "marker": {
             "colorbar": {
              "outlinewidth": 0,
              "ticks": ""
             }
            },
            "type": "scatter3d"
           }
          ],
          "scattercarpet": [
           {
            "marker": {
             "colorbar": {
              "outlinewidth": 0,
              "ticks": ""
             }
            },
            "type": "scattercarpet"
           }
          ],
          "scattergeo": [
           {
            "marker": {
             "colorbar": {
              "outlinewidth": 0,
              "ticks": ""
             }
            },
            "type": "scattergeo"
           }
          ],
          "scattergl": [
           {
            "marker": {
             "colorbar": {
              "outlinewidth": 0,
              "ticks": ""
             }
            },
            "type": "scattergl"
           }
          ],
          "scattermapbox": [
           {
            "marker": {
             "colorbar": {
              "outlinewidth": 0,
              "ticks": ""
             }
            },
            "type": "scattermapbox"
           }
          ],
          "scatterpolar": [
           {
            "marker": {
             "colorbar": {
              "outlinewidth": 0,
              "ticks": ""
             }
            },
            "type": "scatterpolar"
           }
          ],
          "scatterpolargl": [
           {
            "marker": {
             "colorbar": {
              "outlinewidth": 0,
              "ticks": ""
             }
            },
            "type": "scatterpolargl"
           }
          ],
          "scatterternary": [
           {
            "marker": {
             "colorbar": {
              "outlinewidth": 0,
              "ticks": ""
             }
            },
            "type": "scatterternary"
           }
          ],
          "surface": [
           {
            "colorbar": {
             "outlinewidth": 0,
             "ticks": ""
            },
            "colorscale": [
             [
              0,
              "#0d0887"
             ],
             [
              0.1111111111111111,
              "#46039f"
             ],
             [
              0.2222222222222222,
              "#7201a8"
             ],
             [
              0.3333333333333333,
              "#9c179e"
             ],
             [
              0.4444444444444444,
              "#bd3786"
             ],
             [
              0.5555555555555556,
              "#d8576b"
             ],
             [
              0.6666666666666666,
              "#ed7953"
             ],
             [
              0.7777777777777778,
              "#fb9f3a"
             ],
             [
              0.8888888888888888,
              "#fdca26"
             ],
             [
              1,
              "#f0f921"
             ]
            ],
            "type": "surface"
           }
          ],
          "table": [
           {
            "cells": {
             "fill": {
              "color": "#EBF0F8"
             },
             "line": {
              "color": "white"
             }
            },
            "header": {
             "fill": {
              "color": "#C8D4E3"
             },
             "line": {
              "color": "white"
             }
            },
            "type": "table"
           }
          ]
         },
         "layout": {
          "annotationdefaults": {
           "arrowcolor": "#2a3f5f",
           "arrowhead": 0,
           "arrowwidth": 1
          },
          "autotypenumbers": "strict",
          "coloraxis": {
           "colorbar": {
            "outlinewidth": 0,
            "ticks": ""
           }
          },
          "colorscale": {
           "diverging": [
            [
             0,
             "#8e0152"
            ],
            [
             0.1,
             "#c51b7d"
            ],
            [
             0.2,
             "#de77ae"
            ],
            [
             0.3,
             "#f1b6da"
            ],
            [
             0.4,
             "#fde0ef"
            ],
            [
             0.5,
             "#f7f7f7"
            ],
            [
             0.6,
             "#e6f5d0"
            ],
            [
             0.7,
             "#b8e186"
            ],
            [
             0.8,
             "#7fbc41"
            ],
            [
             0.9,
             "#4d9221"
            ],
            [
             1,
             "#276419"
            ]
           ],
           "sequential": [
            [
             0,
             "#0d0887"
            ],
            [
             0.1111111111111111,
             "#46039f"
            ],
            [
             0.2222222222222222,
             "#7201a8"
            ],
            [
             0.3333333333333333,
             "#9c179e"
            ],
            [
             0.4444444444444444,
             "#bd3786"
            ],
            [
             0.5555555555555556,
             "#d8576b"
            ],
            [
             0.6666666666666666,
             "#ed7953"
            ],
            [
             0.7777777777777778,
             "#fb9f3a"
            ],
            [
             0.8888888888888888,
             "#fdca26"
            ],
            [
             1,
             "#f0f921"
            ]
           ],
           "sequentialminus": [
            [
             0,
             "#0d0887"
            ],
            [
             0.1111111111111111,
             "#46039f"
            ],
            [
             0.2222222222222222,
             "#7201a8"
            ],
            [
             0.3333333333333333,
             "#9c179e"
            ],
            [
             0.4444444444444444,
             "#bd3786"
            ],
            [
             0.5555555555555556,
             "#d8576b"
            ],
            [
             0.6666666666666666,
             "#ed7953"
            ],
            [
             0.7777777777777778,
             "#fb9f3a"
            ],
            [
             0.8888888888888888,
             "#fdca26"
            ],
            [
             1,
             "#f0f921"
            ]
           ]
          },
          "colorway": [
           "#636efa",
           "#EF553B",
           "#00cc96",
           "#ab63fa",
           "#FFA15A",
           "#19d3f3",
           "#FF6692",
           "#B6E880",
           "#FF97FF",
           "#FECB52"
          ],
          "font": {
           "color": "#2a3f5f"
          },
          "geo": {
           "bgcolor": "white",
           "lakecolor": "white",
           "landcolor": "#E5ECF6",
           "showlakes": true,
           "showland": true,
           "subunitcolor": "white"
          },
          "hoverlabel": {
           "align": "left"
          },
          "hovermode": "closest",
          "mapbox": {
           "style": "light"
          },
          "paper_bgcolor": "white",
          "plot_bgcolor": "#E5ECF6",
          "polar": {
           "angularaxis": {
            "gridcolor": "white",
            "linecolor": "white",
            "ticks": ""
           },
           "bgcolor": "#E5ECF6",
           "radialaxis": {
            "gridcolor": "white",
            "linecolor": "white",
            "ticks": ""
           }
          },
          "scene": {
           "xaxis": {
            "backgroundcolor": "#E5ECF6",
            "gridcolor": "white",
            "gridwidth": 2,
            "linecolor": "white",
            "showbackground": true,
            "ticks": "",
            "zerolinecolor": "white"
           },
           "yaxis": {
            "backgroundcolor": "#E5ECF6",
            "gridcolor": "white",
            "gridwidth": 2,
            "linecolor": "white",
            "showbackground": true,
            "ticks": "",
            "zerolinecolor": "white"
           },
           "zaxis": {
            "backgroundcolor": "#E5ECF6",
            "gridcolor": "white",
            "gridwidth": 2,
            "linecolor": "white",
            "showbackground": true,
            "ticks": "",
            "zerolinecolor": "white"
           }
          },
          "shapedefaults": {
           "line": {
            "color": "#2a3f5f"
           }
          },
          "ternary": {
           "aaxis": {
            "gridcolor": "white",
            "linecolor": "white",
            "ticks": ""
           },
           "baxis": {
            "gridcolor": "white",
            "linecolor": "white",
            "ticks": ""
           },
           "bgcolor": "#E5ECF6",
           "caxis": {
            "gridcolor": "white",
            "linecolor": "white",
            "ticks": ""
           }
          },
          "title": {
           "x": 0.05
          },
          "xaxis": {
           "automargin": true,
           "gridcolor": "white",
           "linecolor": "white",
           "ticks": "",
           "title": {
            "standoff": 15
           },
           "zerolinecolor": "white",
           "zerolinewidth": 2
          },
          "yaxis": {
           "automargin": true,
           "gridcolor": "white",
           "linecolor": "white",
           "ticks": "",
           "title": {
            "standoff": 15
           },
           "zerolinecolor": "white",
           "zerolinewidth": 2
          }
         }
        },
        "xaxis": {
         "anchor": "y",
         "domain": [
          0,
          1
         ]
        },
        "yaxis": {
         "anchor": "x",
         "domain": [
          0,
          1
         ],
         "title": {
          "text": "thalch"
         }
        }
       }
      }
     },
     "metadata": {},
     "output_type": "display_data"
    },
    {
     "data": {
      "application/vnd.plotly.v1+json": {
       "config": {
        "plotlyServerURL": "https://plot.ly"
       },
       "data": [
        {
         "alignmentgroup": "True",
         "hovertemplate": "chol=%{y}<extra></extra>",
         "legendgroup": "",
         "marker": {
          "color": "blue"
         },
         "name": "",
         "notched": false,
         "offsetgroup": "",
         "orientation": "v",
         "showlegend": false,
         "type": "box",
         "x0": " ",
         "xaxis": "x",
         "y": [
          233,
          286,
          229,
          250,
          204,
          236,
          268,
          354,
          254,
          203,
          192,
          294,
          256,
          263,
          199,
          168,
          229,
          239,
          275,
          266,
          211,
          283,
          284,
          224,
          206,
          219,
          340,
          226,
          247,
          167,
          239,
          230,
          335,
          234,
          233,
          226,
          177,
          276,
          353,
          243,
          225,
          199,
          302,
          212,
          330,
          230,
          175,
          243,
          417,
          197,
          198,
          177,
          290,
          219,
          253,
          266,
          233,
          172,
          273,
          213,
          305,
          177,
          216,
          304,
          188,
          282,
          185,
          232,
          326,
          231,
          269,
          254,
          267,
          248,
          197,
          360,
          258,
          308,
          245,
          270,
          208,
          264,
          321,
          274,
          325,
          235,
          257,
          216,
          234,
          256,
          302,
          164,
          231,
          141,
          252,
          255,
          239,
          258,
          201,
          222,
          260,
          182,
          303,
          265,
          188,
          309,
          177,
          229,
          260,
          219,
          307,
          249,
          186,
          341,
          263,
          203,
          211,
          183,
          330,
          254,
          256,
          407,
          222,
          217,
          282,
          234,
          288,
          239,
          220,
          209,
          258,
          227,
          204,
          261,
          213,
          250,
          174,
          281,
          198,
          245,
          221,
          288,
          205,
          309,
          240,
          243,
          289,
          250,
          308,
          318,
          298,
          265,
          564,
          289,
          246,
          322,
          299,
          300,
          293,
          277,
          197,
          304,
          214,
          248,
          255,
          207,
          223,
          288,
          282,
          160,
          269,
          226,
          249,
          394,
          212,
          274,
          233,
          184,
          315,
          246,
          274,
          409,
          244,
          270,
          305,
          195,
          240,
          246,
          283,
          254,
          196,
          298,
          247,
          294,
          211,
          299,
          234,
          236,
          244,
          273,
          254,
          325,
          126,
          313,
          211,
          309,
          259,
          200,
          262,
          244,
          215,
          231,
          214,
          228,
          230,
          193,
          204,
          243,
          303,
          271,
          268,
          267,
          199,
          282,
          269,
          210,
          204,
          277,
          206,
          212,
          196,
          327,
          149,
          269,
          201,
          286,
          283,
          249,
          271,
          295,
          235,
          306,
          269,
          234,
          178,
          237,
          234,
          275,
          212,
          208,
          201,
          218,
          263,
          295,
          303,
          209,
          223,
          197,
          245,
          261,
          242,
          319,
          240,
          226,
          166,
          315,
          204,
          218,
          223,
          180,
          207,
          228,
          311,
          149,
          204,
          227,
          278,
          220,
          232,
          197,
          335,
          253,
          205,
          192,
          203,
          318,
          225,
          220,
          221,
          240,
          212,
          342,
          169,
          187,
          197,
          157,
          176,
          241,
          264,
          193,
          131,
          236,
          175,
          132,
          243,
          238.33,
          237,
          219,
          198,
          225,
          254,
          298,
          161,
          214,
          220,
          160,
          167,
          308,
          264,
          166,
          340,
          209,
          160,
          260,
          211,
          173,
          283,
          194,
          223,
          315,
          275,
          297,
          292,
          182,
          241.79,
          200,
          204,
          263.82,
          241,
          339,
          147,
          273,
          307,
          275,
          289,
          215,
          281,
          225.97,
          250,
          184,
          245,
          291,
          295,
          269,
          250,
          211,
          196,
          198,
          268,
          228,
          147,
          358,
          223,
          201,
          215,
          249,
          266,
          186,
          214.94,
          207,
          218,
          184,
          215,
          412,
          237,
          229.06,
          297,
          224,
          212.64,
          225,
          224,
          238,
          275,
          230,
          163,
          238,
          240,
          280,
          257,
          224.76,
          249,
          263,
          276,
          308,
          237.47,
          284,
          195,
          163,
          254,
          227,
          225.01,
          245,
          238,
          211,
          207.7,
          206.71,
          201,
          207,
          253,
          187,
          297,
          224.92,
          202,
          328,
          168,
          216,
          209,
          129,
          215,
          194,
          190,
          220,
          200,
          188,
          224,
          179,
          210,
          221.57,
          272,
          180,
          284,
          100,
          196,
          259,
          468,
          216,
          274,
          228.8,
          320,
          195,
          260,
          182,
          243,
          221,
          230,
          273,
          253,
          309,
          230,
          312,
          171,
          208,
          238,
          246,
          195,
          305,
          217,
          226.04,
          365,
          344,
          320,
          394,
          256,
          196,
          326,
          277,
          220,
          270,
          229,
          219,
          184,
          225.12,
          276,
          85,
          308,
          347,
          260,
          230,
          251,
          179,
          222,
          188,
          287,
          318,
          213,
          231.61,
          246,
          294,
          292,
          193,
          271,
          270,
          246,
          156,
          257,
          267,
          207,
          196,
          282,
          117,
          466,
          289,
          237,
          247,
          202,
          186,
          277,
          193,
          226,
          263,
          260,
          268,
          180,
          265,
          206,
          288,
          264,
          303,
          225,
          216,
          224,
          201,
          265,
          213,
          338,
          248,
          223,
          306,
          529,
          264.9,
          280,
          392,
          291,
          219,
          231,
          222,
          275,
          193,
          329,
          355,
          233,
          182,
          258.32,
          246,
          237,
          242,
          603,
          305.08,
          198,
          268,
          213,
          255,
          211,
          263,
          172,
          175,
          288,
          290,
          272,
          248,
          214,
          341,
          234,
          160,
          342,
          298,
          404,
          246,
          518,
          285,
          216,
          295,
          292,
          248,
          279,
          230,
          388,
          164,
          320.34,
          264,
          263,
          265.02,
          336,
          288,
          491,
          205,
          291,
          212,
          222,
          231,
          341,
          266,
          331,
          294,
          342,
          393,
          275,
          0,
          0,
          0,
          0,
          0,
          0,
          0,
          0,
          0,
          0,
          0,
          0,
          0,
          0,
          0,
          0,
          0,
          0,
          0,
          0,
          0,
          0,
          0,
          0,
          0,
          0,
          0,
          0,
          0,
          0,
          0,
          0,
          0,
          0,
          0,
          0,
          0,
          0,
          0,
          0,
          0,
          0,
          0,
          0,
          0,
          0,
          0,
          0,
          0,
          0,
          0,
          0,
          0,
          0,
          0,
          0,
          0,
          0,
          0,
          0,
          0,
          0,
          0,
          0,
          0,
          0,
          0,
          0,
          0,
          0,
          0,
          0,
          0,
          0,
          0,
          0,
          0,
          0,
          0,
          0,
          0,
          0,
          0,
          0,
          0,
          0,
          0,
          0,
          0,
          0,
          0,
          0,
          0,
          0,
          0,
          0,
          0,
          0,
          0,
          0,
          0,
          0,
          0,
          0,
          0,
          0,
          0,
          0,
          0,
          0,
          0,
          0,
          0,
          0,
          0,
          0,
          0,
          0,
          0,
          0,
          0,
          0,
          0,
          260,
          209,
          218,
          228,
          213,
          0,
          236,
          0,
          0,
          267,
          166,
          0,
          0,
          0,
          0,
          220,
          177,
          236,
          0,
          0,
          0,
          0,
          0,
          0,
          0,
          0,
          0,
          186,
          100,
          228,
          0,
          171,
          230,
          0,
          0,
          0,
          281,
          0,
          203,
          0,
          0,
          0,
          0,
          0,
          277,
          0,
          233,
          0,
          0,
          240,
          0,
          0,
          153,
          224,
          0,
          0,
          0,
          316,
          0,
          0,
          218,
          0,
          311,
          0,
          0,
          0,
          270,
          0,
          0,
          217,
          214,
          214,
          252,
          220,
          214,
          203,
          0,
          339,
          216,
          276,
          458,
          241,
          384,
          297,
          248,
          308,
          208,
          227,
          210,
          245,
          225,
          240,
          0,
          198,
          195,
          267,
          161,
          258,
          0,
          0,
          195,
          235,
          0,
          305,
          223,
          282,
          349,
          246.78,
          160,
          236,
          312,
          283,
          142,
          211,
          218,
          306,
          186,
          252,
          222,
          0,
          0,
          258,
          202,
          197,
          204,
          230.16,
          274,
          192,
          298,
          272,
          220,
          200,
          261,
          181,
          260,
          220,
          221,
          216,
          175,
          219,
          310,
          208,
          232,
          273,
          203,
          182,
          274,
          204,
          270,
          292,
          171,
          221,
          289,
          217,
          223,
          255.29,
          193,
          260.81,
          210,
          282,
          170,
          369,
          173,
          289,
          252.6,
          233.56,
          216,
          271,
          244,
          285,
          243,
          240,
          219,
          237,
          165,
          213,
          287,
          258,
          256,
          186,
          264,
          259.54,
          226,
          203,
          207,
          284,
          337,
          219,
          310,
          254,
          258,
          254,
          300,
          170,
          310,
          333,
          139,
          223,
          385,
          254
         ],
         "y0": " ",
         "yaxis": "y"
        }
       ],
       "layout": {
        "boxmode": "group",
        "legend": {
         "tracegroupgap": 0
        },
        "margin": {
         "t": 60
        },
        "template": {
         "data": {
          "bar": [
           {
            "error_x": {
             "color": "#2a3f5f"
            },
            "error_y": {
             "color": "#2a3f5f"
            },
            "marker": {
             "line": {
              "color": "#E5ECF6",
              "width": 0.5
             },
             "pattern": {
              "fillmode": "overlay",
              "size": 10,
              "solidity": 0.2
             }
            },
            "type": "bar"
           }
          ],
          "barpolar": [
           {
            "marker": {
             "line": {
              "color": "#E5ECF6",
              "width": 0.5
             },
             "pattern": {
              "fillmode": "overlay",
              "size": 10,
              "solidity": 0.2
             }
            },
            "type": "barpolar"
           }
          ],
          "carpet": [
           {
            "aaxis": {
             "endlinecolor": "#2a3f5f",
             "gridcolor": "white",
             "linecolor": "white",
             "minorgridcolor": "white",
             "startlinecolor": "#2a3f5f"
            },
            "baxis": {
             "endlinecolor": "#2a3f5f",
             "gridcolor": "white",
             "linecolor": "white",
             "minorgridcolor": "white",
             "startlinecolor": "#2a3f5f"
            },
            "type": "carpet"
           }
          ],
          "choropleth": [
           {
            "colorbar": {
             "outlinewidth": 0,
             "ticks": ""
            },
            "type": "choropleth"
           }
          ],
          "contour": [
           {
            "colorbar": {
             "outlinewidth": 0,
             "ticks": ""
            },
            "colorscale": [
             [
              0,
              "#0d0887"
             ],
             [
              0.1111111111111111,
              "#46039f"
             ],
             [
              0.2222222222222222,
              "#7201a8"
             ],
             [
              0.3333333333333333,
              "#9c179e"
             ],
             [
              0.4444444444444444,
              "#bd3786"
             ],
             [
              0.5555555555555556,
              "#d8576b"
             ],
             [
              0.6666666666666666,
              "#ed7953"
             ],
             [
              0.7777777777777778,
              "#fb9f3a"
             ],
             [
              0.8888888888888888,
              "#fdca26"
             ],
             [
              1,
              "#f0f921"
             ]
            ],
            "type": "contour"
           }
          ],
          "contourcarpet": [
           {
            "colorbar": {
             "outlinewidth": 0,
             "ticks": ""
            },
            "type": "contourcarpet"
           }
          ],
          "heatmap": [
           {
            "colorbar": {
             "outlinewidth": 0,
             "ticks": ""
            },
            "colorscale": [
             [
              0,
              "#0d0887"
             ],
             [
              0.1111111111111111,
              "#46039f"
             ],
             [
              0.2222222222222222,
              "#7201a8"
             ],
             [
              0.3333333333333333,
              "#9c179e"
             ],
             [
              0.4444444444444444,
              "#bd3786"
             ],
             [
              0.5555555555555556,
              "#d8576b"
             ],
             [
              0.6666666666666666,
              "#ed7953"
             ],
             [
              0.7777777777777778,
              "#fb9f3a"
             ],
             [
              0.8888888888888888,
              "#fdca26"
             ],
             [
              1,
              "#f0f921"
             ]
            ],
            "type": "heatmap"
           }
          ],
          "heatmapgl": [
           {
            "colorbar": {
             "outlinewidth": 0,
             "ticks": ""
            },
            "colorscale": [
             [
              0,
              "#0d0887"
             ],
             [
              0.1111111111111111,
              "#46039f"
             ],
             [
              0.2222222222222222,
              "#7201a8"
             ],
             [
              0.3333333333333333,
              "#9c179e"
             ],
             [
              0.4444444444444444,
              "#bd3786"
             ],
             [
              0.5555555555555556,
              "#d8576b"
             ],
             [
              0.6666666666666666,
              "#ed7953"
             ],
             [
              0.7777777777777778,
              "#fb9f3a"
             ],
             [
              0.8888888888888888,
              "#fdca26"
             ],
             [
              1,
              "#f0f921"
             ]
            ],
            "type": "heatmapgl"
           }
          ],
          "histogram": [
           {
            "marker": {
             "pattern": {
              "fillmode": "overlay",
              "size": 10,
              "solidity": 0.2
             }
            },
            "type": "histogram"
           }
          ],
          "histogram2d": [
           {
            "colorbar": {
             "outlinewidth": 0,
             "ticks": ""
            },
            "colorscale": [
             [
              0,
              "#0d0887"
             ],
             [
              0.1111111111111111,
              "#46039f"
             ],
             [
              0.2222222222222222,
              "#7201a8"
             ],
             [
              0.3333333333333333,
              "#9c179e"
             ],
             [
              0.4444444444444444,
              "#bd3786"
             ],
             [
              0.5555555555555556,
              "#d8576b"
             ],
             [
              0.6666666666666666,
              "#ed7953"
             ],
             [
              0.7777777777777778,
              "#fb9f3a"
             ],
             [
              0.8888888888888888,
              "#fdca26"
             ],
             [
              1,
              "#f0f921"
             ]
            ],
            "type": "histogram2d"
           }
          ],
          "histogram2dcontour": [
           {
            "colorbar": {
             "outlinewidth": 0,
             "ticks": ""
            },
            "colorscale": [
             [
              0,
              "#0d0887"
             ],
             [
              0.1111111111111111,
              "#46039f"
             ],
             [
              0.2222222222222222,
              "#7201a8"
             ],
             [
              0.3333333333333333,
              "#9c179e"
             ],
             [
              0.4444444444444444,
              "#bd3786"
             ],
             [
              0.5555555555555556,
              "#d8576b"
             ],
             [
              0.6666666666666666,
              "#ed7953"
             ],
             [
              0.7777777777777778,
              "#fb9f3a"
             ],
             [
              0.8888888888888888,
              "#fdca26"
             ],
             [
              1,
              "#f0f921"
             ]
            ],
            "type": "histogram2dcontour"
           }
          ],
          "mesh3d": [
           {
            "colorbar": {
             "outlinewidth": 0,
             "ticks": ""
            },
            "type": "mesh3d"
           }
          ],
          "parcoords": [
           {
            "line": {
             "colorbar": {
              "outlinewidth": 0,
              "ticks": ""
             }
            },
            "type": "parcoords"
           }
          ],
          "pie": [
           {
            "automargin": true,
            "type": "pie"
           }
          ],
          "scatter": [
           {
            "fillpattern": {
             "fillmode": "overlay",
             "size": 10,
             "solidity": 0.2
            },
            "type": "scatter"
           }
          ],
          "scatter3d": [
           {
            "line": {
             "colorbar": {
              "outlinewidth": 0,
              "ticks": ""
             }
            },
            "marker": {
             "colorbar": {
              "outlinewidth": 0,
              "ticks": ""
             }
            },
            "type": "scatter3d"
           }
          ],
          "scattercarpet": [
           {
            "marker": {
             "colorbar": {
              "outlinewidth": 0,
              "ticks": ""
             }
            },
            "type": "scattercarpet"
           }
          ],
          "scattergeo": [
           {
            "marker": {
             "colorbar": {
              "outlinewidth": 0,
              "ticks": ""
             }
            },
            "type": "scattergeo"
           }
          ],
          "scattergl": [
           {
            "marker": {
             "colorbar": {
              "outlinewidth": 0,
              "ticks": ""
             }
            },
            "type": "scattergl"
           }
          ],
          "scattermapbox": [
           {
            "marker": {
             "colorbar": {
              "outlinewidth": 0,
              "ticks": ""
             }
            },
            "type": "scattermapbox"
           }
          ],
          "scatterpolar": [
           {
            "marker": {
             "colorbar": {
              "outlinewidth": 0,
              "ticks": ""
             }
            },
            "type": "scatterpolar"
           }
          ],
          "scatterpolargl": [
           {
            "marker": {
             "colorbar": {
              "outlinewidth": 0,
              "ticks": ""
             }
            },
            "type": "scatterpolargl"
           }
          ],
          "scatterternary": [
           {
            "marker": {
             "colorbar": {
              "outlinewidth": 0,
              "ticks": ""
             }
            },
            "type": "scatterternary"
           }
          ],
          "surface": [
           {
            "colorbar": {
             "outlinewidth": 0,
             "ticks": ""
            },
            "colorscale": [
             [
              0,
              "#0d0887"
             ],
             [
              0.1111111111111111,
              "#46039f"
             ],
             [
              0.2222222222222222,
              "#7201a8"
             ],
             [
              0.3333333333333333,
              "#9c179e"
             ],
             [
              0.4444444444444444,
              "#bd3786"
             ],
             [
              0.5555555555555556,
              "#d8576b"
             ],
             [
              0.6666666666666666,
              "#ed7953"
             ],
             [
              0.7777777777777778,
              "#fb9f3a"
             ],
             [
              0.8888888888888888,
              "#fdca26"
             ],
             [
              1,
              "#f0f921"
             ]
            ],
            "type": "surface"
           }
          ],
          "table": [
           {
            "cells": {
             "fill": {
              "color": "#EBF0F8"
             },
             "line": {
              "color": "white"
             }
            },
            "header": {
             "fill": {
              "color": "#C8D4E3"
             },
             "line": {
              "color": "white"
             }
            },
            "type": "table"
           }
          ]
         },
         "layout": {
          "annotationdefaults": {
           "arrowcolor": "#2a3f5f",
           "arrowhead": 0,
           "arrowwidth": 1
          },
          "autotypenumbers": "strict",
          "coloraxis": {
           "colorbar": {
            "outlinewidth": 0,
            "ticks": ""
           }
          },
          "colorscale": {
           "diverging": [
            [
             0,
             "#8e0152"
            ],
            [
             0.1,
             "#c51b7d"
            ],
            [
             0.2,
             "#de77ae"
            ],
            [
             0.3,
             "#f1b6da"
            ],
            [
             0.4,
             "#fde0ef"
            ],
            [
             0.5,
             "#f7f7f7"
            ],
            [
             0.6,
             "#e6f5d0"
            ],
            [
             0.7,
             "#b8e186"
            ],
            [
             0.8,
             "#7fbc41"
            ],
            [
             0.9,
             "#4d9221"
            ],
            [
             1,
             "#276419"
            ]
           ],
           "sequential": [
            [
             0,
             "#0d0887"
            ],
            [
             0.1111111111111111,
             "#46039f"
            ],
            [
             0.2222222222222222,
             "#7201a8"
            ],
            [
             0.3333333333333333,
             "#9c179e"
            ],
            [
             0.4444444444444444,
             "#bd3786"
            ],
            [
             0.5555555555555556,
             "#d8576b"
            ],
            [
             0.6666666666666666,
             "#ed7953"
            ],
            [
             0.7777777777777778,
             "#fb9f3a"
            ],
            [
             0.8888888888888888,
             "#fdca26"
            ],
            [
             1,
             "#f0f921"
            ]
           ],
           "sequentialminus": [
            [
             0,
             "#0d0887"
            ],
            [
             0.1111111111111111,
             "#46039f"
            ],
            [
             0.2222222222222222,
             "#7201a8"
            ],
            [
             0.3333333333333333,
             "#9c179e"
            ],
            [
             0.4444444444444444,
             "#bd3786"
            ],
            [
             0.5555555555555556,
             "#d8576b"
            ],
            [
             0.6666666666666666,
             "#ed7953"
            ],
            [
             0.7777777777777778,
             "#fb9f3a"
            ],
            [
             0.8888888888888888,
             "#fdca26"
            ],
            [
             1,
             "#f0f921"
            ]
           ]
          },
          "colorway": [
           "#636efa",
           "#EF553B",
           "#00cc96",
           "#ab63fa",
           "#FFA15A",
           "#19d3f3",
           "#FF6692",
           "#B6E880",
           "#FF97FF",
           "#FECB52"
          ],
          "font": {
           "color": "#2a3f5f"
          },
          "geo": {
           "bgcolor": "white",
           "lakecolor": "white",
           "landcolor": "#E5ECF6",
           "showlakes": true,
           "showland": true,
           "subunitcolor": "white"
          },
          "hoverlabel": {
           "align": "left"
          },
          "hovermode": "closest",
          "mapbox": {
           "style": "light"
          },
          "paper_bgcolor": "white",
          "plot_bgcolor": "#E5ECF6",
          "polar": {
           "angularaxis": {
            "gridcolor": "white",
            "linecolor": "white",
            "ticks": ""
           },
           "bgcolor": "#E5ECF6",
           "radialaxis": {
            "gridcolor": "white",
            "linecolor": "white",
            "ticks": ""
           }
          },
          "scene": {
           "xaxis": {
            "backgroundcolor": "#E5ECF6",
            "gridcolor": "white",
            "gridwidth": 2,
            "linecolor": "white",
            "showbackground": true,
            "ticks": "",
            "zerolinecolor": "white"
           },
           "yaxis": {
            "backgroundcolor": "#E5ECF6",
            "gridcolor": "white",
            "gridwidth": 2,
            "linecolor": "white",
            "showbackground": true,
            "ticks": "",
            "zerolinecolor": "white"
           },
           "zaxis": {
            "backgroundcolor": "#E5ECF6",
            "gridcolor": "white",
            "gridwidth": 2,
            "linecolor": "white",
            "showbackground": true,
            "ticks": "",
            "zerolinecolor": "white"
           }
          },
          "shapedefaults": {
           "line": {
            "color": "#2a3f5f"
           }
          },
          "ternary": {
           "aaxis": {
            "gridcolor": "white",
            "linecolor": "white",
            "ticks": ""
           },
           "baxis": {
            "gridcolor": "white",
            "linecolor": "white",
            "ticks": ""
           },
           "bgcolor": "#E5ECF6",
           "caxis": {
            "gridcolor": "white",
            "linecolor": "white",
            "ticks": ""
           }
          },
          "title": {
           "x": 0.05
          },
          "xaxis": {
           "automargin": true,
           "gridcolor": "white",
           "linecolor": "white",
           "ticks": "",
           "title": {
            "standoff": 15
           },
           "zerolinecolor": "white",
           "zerolinewidth": 2
          },
          "yaxis": {
           "automargin": true,
           "gridcolor": "white",
           "linecolor": "white",
           "ticks": "",
           "title": {
            "standoff": 15
           },
           "zerolinecolor": "white",
           "zerolinewidth": 2
          }
         }
        },
        "xaxis": {
         "anchor": "y",
         "domain": [
          0,
          1
         ]
        },
        "yaxis": {
         "anchor": "x",
         "domain": [
          0,
          1
         ],
         "title": {
          "text": "chol"
         }
        }
       }
      }
     },
     "metadata": {},
     "output_type": "display_data"
    },
    {
     "data": {
      "application/vnd.plotly.v1+json": {
       "config": {
        "plotlyServerURL": "https://plot.ly"
       },
       "data": [
        {
         "alignmentgroup": "True",
         "hovertemplate": "trestbps=%{y}<extra></extra>",
         "legendgroup": "",
         "marker": {
          "color": "orange"
         },
         "name": "",
         "notched": false,
         "offsetgroup": "",
         "orientation": "v",
         "showlegend": false,
         "type": "box",
         "x0": " ",
         "xaxis": "x",
         "y": [
          145,
          160,
          120,
          130,
          130,
          120,
          140,
          120,
          130,
          140,
          140,
          140,
          130,
          120,
          172,
          150,
          110,
          140,
          130,
          130,
          110,
          150,
          120,
          132,
          130,
          120,
          120,
          150,
          150,
          110,
          140,
          117,
          140,
          135,
          130,
          140,
          120,
          150,
          132,
          150,
          150,
          140,
          160,
          150,
          130,
          112,
          110,
          150,
          140,
          130,
          105,
          120,
          112,
          130,
          130,
          124,
          140,
          110,
          125,
          125,
          130,
          142,
          128,
          135,
          120,
          145,
          140,
          150,
          170,
          150,
          155,
          125,
          120,
          110,
          110,
          160,
          125,
          140,
          130,
          150,
          104,
          130,
          140,
          180,
          120,
          140,
          138,
          128,
          138,
          130,
          120,
          160,
          130,
          108,
          135,
          128,
          110,
          150,
          134,
          122,
          115,
          118,
          128,
          110,
          120,
          108,
          140,
          128,
          120,
          118,
          145,
          125,
          118,
          132,
          130,
          135,
          140,
          138,
          130,
          135,
          130,
          150,
          100,
          140,
          138,
          130,
          200,
          110,
          120,
          124,
          120,
          94,
          130,
          140,
          122,
          135,
          145,
          120,
          120,
          125,
          140,
          170,
          128,
          125,
          105,
          108,
          165,
          112,
          128,
          102,
          152,
          102,
          115,
          160,
          120,
          130,
          140,
          125,
          140,
          118,
          101,
          125,
          110,
          100,
          124,
          132,
          138,
          132,
          126,
          112,
          160,
          142,
          174,
          140,
          145,
          152,
          108,
          132,
          130,
          130,
          124,
          134,
          148,
          178,
          158,
          140,
          120,
          160,
          192,
          140,
          129,
          140,
          132,
          138,
          120,
          100,
          160,
          138,
          120,
          160,
          110,
          180,
          150,
          140,
          110,
          142,
          128,
          144,
          130,
          150,
          120,
          120,
          130,
          178,
          112,
          120,
          105,
          138,
          130,
          138,
          112,
          108,
          94,
          123,
          108,
          118,
          112,
          152,
          110,
          112,
          136,
          180,
          118,
          120,
          160,
          122,
          130,
          120,
          134,
          120,
          110,
          126,
          130,
          134,
          120,
          120,
          100,
          110,
          125,
          128,
          110,
          146,
          128,
          120,
          115,
          120,
          106,
          140,
          156,
          124,
          118,
          136,
          150,
          120,
          138,
          136,
          128,
          126,
          152,
          130,
          140,
          160,
          140,
          112,
          134,
          170,
          146,
          138,
          154,
          130,
          110,
          130,
          128,
          122,
          148,
          114,
          170,
          125,
          130,
          120,
          152,
          132,
          120,
          140,
          124,
          120,
          164,
          140,
          110,
          144,
          130,
          130,
          138,
          130,
          120,
          140,
          170,
          100,
          105,
          110,
          125,
          120,
          130,
          150,
          98,
          120,
          140,
          120,
          150,
          120,
          112,
          130,
          150,
          120,
          130,
          130,
          130,
          130,
          120,
          130,
          120,
          140,
          145,
          110,
          120,
          120,
          120,
          130,
          190,
          120,
          160,
          110,
          130,
          130,
          140,
          130,
          130,
          140,
          110,
          125,
          130,
          120,
          120,
          125,
          112,
          115,
          120,
          120,
          150,
          120,
          160,
          140,
          100,
          120,
          120,
          120,
          120,
          150,
          150,
          142,
          120,
          120,
          130,
          150,
          130,
          180,
          132,
          140,
          135,
          120,
          140,
          130,
          140,
          120,
          150,
          110,
          110,
          180,
          140,
          130,
          110,
          160,
          140,
          133.25,
          120,
          120,
          120,
          108,
          120,
          150,
          100,
          130,
          140,
          110,
          110,
          110,
          124,
          130,
          100,
          140,
          120,
          140,
          110,
          120,
          120,
          140,
          170,
          140,
          150,
          160,
          110,
          130,
          150,
          125,
          130,
          130,
          120,
          140,
          125,
          130,
          120,
          140,
          160,
          140,
          113,
          140,
          120,
          120,
          140,
          120,
          124,
          130,
          140,
          120,
          120,
          120,
          130,
          140,
          150,
          160,
          120,
          110,
          120,
          120,
          160,
          160,
          120,
          150,
          150,
          110,
          122,
          130,
          120,
          140,
          145,
          110,
          120,
          120,
          140,
          130,
          130,
          130,
          130,
          120,
          130,
          180,
          140,
          130,
          130,
          140,
          135,
          130,
          140,
          130,
          180,
          140,
          120,
          130,
          125,
          160,
          140,
          120,
          100,
          140,
          110,
          120,
          140,
          110,
          120,
          92,
          120,
          110,
          120,
          150,
          110,
          118,
          120,
          140,
          150,
          106,
          120,
          160,
          160,
          115,
          130,
          140,
          145,
          160,
          130,
          125,
          125,
          140,
          140,
          130,
          130,
          100,
          150,
          140,
          118,
          110,
          110,
          150,
          120,
          130,
          120,
          130,
          122,
          160,
          160,
          160,
          130,
          120,
          170,
          120,
          120,
          130,
          130,
          140,
          200,
          140,
          150,
          150,
          160,
          130,
          130,
          120,
          150,
          130,
          140,
          135,
          138,
          130,
          140,
          135,
          112,
          130,
          140,
          160,
          145,
          180,
          140,
          140,
          160,
          145,
          120,
          150,
          170,
          136,
          130,
          140,
          170,
          140,
          120,
          140,
          135,
          120,
          160,
          128,
          150,
          140,
          140,
          140,
          160,
          130,
          155,
          180,
          130,
          95,
          115,
          123.23,
          110,
          105,
          110,
          100,
          115,
          135,
          150,
          95,
          125,
          105,
          145,
          100,
          115,
          140,
          110,
          100,
          115,
          110,
          155,
          110,
          160,
          115,
          160,
          115,
          120,
          145,
          120,
          110,
          120,
          130,
          130,
          140,
          95,
          130,
          135,
          165,
          95,
          120,
          130,
          105,
          160,
          120,
          125,
          130,
          80,
          120,
          130,
          180,
          140,
          115,
          120,
          140,
          120,
          125,
          155,
          115,
          120,
          120,
          125,
          140,
          105,
          110,
          140,
          140,
          160,
          95,
          115,
          130,
          170,
          125,
          110,
          120,
          125,
          135,
          115,
          125,
          130,
          135,
          160,
          160,
          200,
          105,
          110,
          125,
          130,
          130,
          150,
          150,
          160,
          140,
          120,
          120,
          160,
          115,
          115,
          150,
          100,
          140,
          150,
          150,
          185,
          200,
          95,
          110,
          115,
          145,
          155,
          160,
          155,
          150,
          145,
          135,
          145,
          135,
          142.58,
          115,
          140,
          160,
          160,
          145,
          140,
          130,
          132,
          142,
          110,
          120,
          150,
          180,
          120,
          160,
          126,
          140,
          110,
          139.5,
          128,
          120,
          170,
          110,
          126,
          152,
          116,
          120,
          130,
          137.05,
          128,
          130,
          130.13,
          130,
          120,
          128.93,
          127.53,
          124,
          160,
          0,
          122,
          144,
          131.11,
          120,
          140.01,
          154,
          120,
          125,
          137.3,
          104,
          145.87,
          136,
          122,
          128,
          128.69,
          134,
          120,
          143.75,
          152,
          124,
          126,
          138,
          154,
          137.89,
          138.14,
          178,
          127.95,
          110,
          130,
          170,
          126,
          140,
          142,
          120,
          137.46,
          140.18,
          110,
          140,
          131.03,
          136,
          120,
          170,
          130,
          132.58,
          142,
          142,
          132,
          146,
          160,
          135,
          136,
          130,
          140,
          128.26,
          158,
          134.97,
          136,
          106,
          120,
          110,
          135.29,
          160,
          128.26,
          112,
          122,
          130,
          150,
          150,
          102,
          96,
          130,
          120,
          144,
          124,
          150,
          128.98,
          128.09,
          131.79,
          133.02,
          132.12,
          128.58,
          138.4,
          116,
          110,
          125,
          135.08,
          144.15,
          150,
          130,
          110,
          136.28,
          104,
          138,
          170,
          140,
          133.54,
          132,
          142,
          112,
          144.22,
          172,
          120,
          135.78,
          141.44,
          155,
          150,
          160,
          144.36,
          135.96,
          134,
          135.57,
          136.97,
          140,
          136.69,
          144,
          129.7,
          150,
          130,
          110,
          158,
          128,
          146.33,
          150,
          160,
          146.07,
          143.06,
          147.76,
          140.09,
          156,
          148.01,
          131.76,
          140,
          122,
          139.56,
          142.23,
          180,
          124,
          118,
          140,
          140,
          139.23,
          100,
          190,
          130,
          160,
          130,
          122,
          135.59,
          120,
          130,
          130,
          137.44,
          120,
          150,
          155,
          134,
          114,
          160,
          144,
          158,
          134,
          127,
          142.5,
          122,
          149.34,
          120
         ],
         "y0": " ",
         "yaxis": "y"
        }
       ],
       "layout": {
        "boxmode": "group",
        "legend": {
         "tracegroupgap": 0
        },
        "margin": {
         "t": 60
        },
        "template": {
         "data": {
          "bar": [
           {
            "error_x": {
             "color": "#2a3f5f"
            },
            "error_y": {
             "color": "#2a3f5f"
            },
            "marker": {
             "line": {
              "color": "#E5ECF6",
              "width": 0.5
             },
             "pattern": {
              "fillmode": "overlay",
              "size": 10,
              "solidity": 0.2
             }
            },
            "type": "bar"
           }
          ],
          "barpolar": [
           {
            "marker": {
             "line": {
              "color": "#E5ECF6",
              "width": 0.5
             },
             "pattern": {
              "fillmode": "overlay",
              "size": 10,
              "solidity": 0.2
             }
            },
            "type": "barpolar"
           }
          ],
          "carpet": [
           {
            "aaxis": {
             "endlinecolor": "#2a3f5f",
             "gridcolor": "white",
             "linecolor": "white",
             "minorgridcolor": "white",
             "startlinecolor": "#2a3f5f"
            },
            "baxis": {
             "endlinecolor": "#2a3f5f",
             "gridcolor": "white",
             "linecolor": "white",
             "minorgridcolor": "white",
             "startlinecolor": "#2a3f5f"
            },
            "type": "carpet"
           }
          ],
          "choropleth": [
           {
            "colorbar": {
             "outlinewidth": 0,
             "ticks": ""
            },
            "type": "choropleth"
           }
          ],
          "contour": [
           {
            "colorbar": {
             "outlinewidth": 0,
             "ticks": ""
            },
            "colorscale": [
             [
              0,
              "#0d0887"
             ],
             [
              0.1111111111111111,
              "#46039f"
             ],
             [
              0.2222222222222222,
              "#7201a8"
             ],
             [
              0.3333333333333333,
              "#9c179e"
             ],
             [
              0.4444444444444444,
              "#bd3786"
             ],
             [
              0.5555555555555556,
              "#d8576b"
             ],
             [
              0.6666666666666666,
              "#ed7953"
             ],
             [
              0.7777777777777778,
              "#fb9f3a"
             ],
             [
              0.8888888888888888,
              "#fdca26"
             ],
             [
              1,
              "#f0f921"
             ]
            ],
            "type": "contour"
           }
          ],
          "contourcarpet": [
           {
            "colorbar": {
             "outlinewidth": 0,
             "ticks": ""
            },
            "type": "contourcarpet"
           }
          ],
          "heatmap": [
           {
            "colorbar": {
             "outlinewidth": 0,
             "ticks": ""
            },
            "colorscale": [
             [
              0,
              "#0d0887"
             ],
             [
              0.1111111111111111,
              "#46039f"
             ],
             [
              0.2222222222222222,
              "#7201a8"
             ],
             [
              0.3333333333333333,
              "#9c179e"
             ],
             [
              0.4444444444444444,
              "#bd3786"
             ],
             [
              0.5555555555555556,
              "#d8576b"
             ],
             [
              0.6666666666666666,
              "#ed7953"
             ],
             [
              0.7777777777777778,
              "#fb9f3a"
             ],
             [
              0.8888888888888888,
              "#fdca26"
             ],
             [
              1,
              "#f0f921"
             ]
            ],
            "type": "heatmap"
           }
          ],
          "heatmapgl": [
           {
            "colorbar": {
             "outlinewidth": 0,
             "ticks": ""
            },
            "colorscale": [
             [
              0,
              "#0d0887"
             ],
             [
              0.1111111111111111,
              "#46039f"
             ],
             [
              0.2222222222222222,
              "#7201a8"
             ],
             [
              0.3333333333333333,
              "#9c179e"
             ],
             [
              0.4444444444444444,
              "#bd3786"
             ],
             [
              0.5555555555555556,
              "#d8576b"
             ],
             [
              0.6666666666666666,
              "#ed7953"
             ],
             [
              0.7777777777777778,
              "#fb9f3a"
             ],
             [
              0.8888888888888888,
              "#fdca26"
             ],
             [
              1,
              "#f0f921"
             ]
            ],
            "type": "heatmapgl"
           }
          ],
          "histogram": [
           {
            "marker": {
             "pattern": {
              "fillmode": "overlay",
              "size": 10,
              "solidity": 0.2
             }
            },
            "type": "histogram"
           }
          ],
          "histogram2d": [
           {
            "colorbar": {
             "outlinewidth": 0,
             "ticks": ""
            },
            "colorscale": [
             [
              0,
              "#0d0887"
             ],
             [
              0.1111111111111111,
              "#46039f"
             ],
             [
              0.2222222222222222,
              "#7201a8"
             ],
             [
              0.3333333333333333,
              "#9c179e"
             ],
             [
              0.4444444444444444,
              "#bd3786"
             ],
             [
              0.5555555555555556,
              "#d8576b"
             ],
             [
              0.6666666666666666,
              "#ed7953"
             ],
             [
              0.7777777777777778,
              "#fb9f3a"
             ],
             [
              0.8888888888888888,
              "#fdca26"
             ],
             [
              1,
              "#f0f921"
             ]
            ],
            "type": "histogram2d"
           }
          ],
          "histogram2dcontour": [
           {
            "colorbar": {
             "outlinewidth": 0,
             "ticks": ""
            },
            "colorscale": [
             [
              0,
              "#0d0887"
             ],
             [
              0.1111111111111111,
              "#46039f"
             ],
             [
              0.2222222222222222,
              "#7201a8"
             ],
             [
              0.3333333333333333,
              "#9c179e"
             ],
             [
              0.4444444444444444,
              "#bd3786"
             ],
             [
              0.5555555555555556,
              "#d8576b"
             ],
             [
              0.6666666666666666,
              "#ed7953"
             ],
             [
              0.7777777777777778,
              "#fb9f3a"
             ],
             [
              0.8888888888888888,
              "#fdca26"
             ],
             [
              1,
              "#f0f921"
             ]
            ],
            "type": "histogram2dcontour"
           }
          ],
          "mesh3d": [
           {
            "colorbar": {
             "outlinewidth": 0,
             "ticks": ""
            },
            "type": "mesh3d"
           }
          ],
          "parcoords": [
           {
            "line": {
             "colorbar": {
              "outlinewidth": 0,
              "ticks": ""
             }
            },
            "type": "parcoords"
           }
          ],
          "pie": [
           {
            "automargin": true,
            "type": "pie"
           }
          ],
          "scatter": [
           {
            "fillpattern": {
             "fillmode": "overlay",
             "size": 10,
             "solidity": 0.2
            },
            "type": "scatter"
           }
          ],
          "scatter3d": [
           {
            "line": {
             "colorbar": {
              "outlinewidth": 0,
              "ticks": ""
             }
            },
            "marker": {
             "colorbar": {
              "outlinewidth": 0,
              "ticks": ""
             }
            },
            "type": "scatter3d"
           }
          ],
          "scattercarpet": [
           {
            "marker": {
             "colorbar": {
              "outlinewidth": 0,
              "ticks": ""
             }
            },
            "type": "scattercarpet"
           }
          ],
          "scattergeo": [
           {
            "marker": {
             "colorbar": {
              "outlinewidth": 0,
              "ticks": ""
             }
            },
            "type": "scattergeo"
           }
          ],
          "scattergl": [
           {
            "marker": {
             "colorbar": {
              "outlinewidth": 0,
              "ticks": ""
             }
            },
            "type": "scattergl"
           }
          ],
          "scattermapbox": [
           {
            "marker": {
             "colorbar": {
              "outlinewidth": 0,
              "ticks": ""
             }
            },
            "type": "scattermapbox"
           }
          ],
          "scatterpolar": [
           {
            "marker": {
             "colorbar": {
              "outlinewidth": 0,
              "ticks": ""
             }
            },
            "type": "scatterpolar"
           }
          ],
          "scatterpolargl": [
           {
            "marker": {
             "colorbar": {
              "outlinewidth": 0,
              "ticks": ""
             }
            },
            "type": "scatterpolargl"
           }
          ],
          "scatterternary": [
           {
            "marker": {
             "colorbar": {
              "outlinewidth": 0,
              "ticks": ""
             }
            },
            "type": "scatterternary"
           }
          ],
          "surface": [
           {
            "colorbar": {
             "outlinewidth": 0,
             "ticks": ""
            },
            "colorscale": [
             [
              0,
              "#0d0887"
             ],
             [
              0.1111111111111111,
              "#46039f"
             ],
             [
              0.2222222222222222,
              "#7201a8"
             ],
             [
              0.3333333333333333,
              "#9c179e"
             ],
             [
              0.4444444444444444,
              "#bd3786"
             ],
             [
              0.5555555555555556,
              "#d8576b"
             ],
             [
              0.6666666666666666,
              "#ed7953"
             ],
             [
              0.7777777777777778,
              "#fb9f3a"
             ],
             [
              0.8888888888888888,
              "#fdca26"
             ],
             [
              1,
              "#f0f921"
             ]
            ],
            "type": "surface"
           }
          ],
          "table": [
           {
            "cells": {
             "fill": {
              "color": "#EBF0F8"
             },
             "line": {
              "color": "white"
             }
            },
            "header": {
             "fill": {
              "color": "#C8D4E3"
             },
             "line": {
              "color": "white"
             }
            },
            "type": "table"
           }
          ]
         },
         "layout": {
          "annotationdefaults": {
           "arrowcolor": "#2a3f5f",
           "arrowhead": 0,
           "arrowwidth": 1
          },
          "autotypenumbers": "strict",
          "coloraxis": {
           "colorbar": {
            "outlinewidth": 0,
            "ticks": ""
           }
          },
          "colorscale": {
           "diverging": [
            [
             0,
             "#8e0152"
            ],
            [
             0.1,
             "#c51b7d"
            ],
            [
             0.2,
             "#de77ae"
            ],
            [
             0.3,
             "#f1b6da"
            ],
            [
             0.4,
             "#fde0ef"
            ],
            [
             0.5,
             "#f7f7f7"
            ],
            [
             0.6,
             "#e6f5d0"
            ],
            [
             0.7,
             "#b8e186"
            ],
            [
             0.8,
             "#7fbc41"
            ],
            [
             0.9,
             "#4d9221"
            ],
            [
             1,
             "#276419"
            ]
           ],
           "sequential": [
            [
             0,
             "#0d0887"
            ],
            [
             0.1111111111111111,
             "#46039f"
            ],
            [
             0.2222222222222222,
             "#7201a8"
            ],
            [
             0.3333333333333333,
             "#9c179e"
            ],
            [
             0.4444444444444444,
             "#bd3786"
            ],
            [
             0.5555555555555556,
             "#d8576b"
            ],
            [
             0.6666666666666666,
             "#ed7953"
            ],
            [
             0.7777777777777778,
             "#fb9f3a"
            ],
            [
             0.8888888888888888,
             "#fdca26"
            ],
            [
             1,
             "#f0f921"
            ]
           ],
           "sequentialminus": [
            [
             0,
             "#0d0887"
            ],
            [
             0.1111111111111111,
             "#46039f"
            ],
            [
             0.2222222222222222,
             "#7201a8"
            ],
            [
             0.3333333333333333,
             "#9c179e"
            ],
            [
             0.4444444444444444,
             "#bd3786"
            ],
            [
             0.5555555555555556,
             "#d8576b"
            ],
            [
             0.6666666666666666,
             "#ed7953"
            ],
            [
             0.7777777777777778,
             "#fb9f3a"
            ],
            [
             0.8888888888888888,
             "#fdca26"
            ],
            [
             1,
             "#f0f921"
            ]
           ]
          },
          "colorway": [
           "#636efa",
           "#EF553B",
           "#00cc96",
           "#ab63fa",
           "#FFA15A",
           "#19d3f3",
           "#FF6692",
           "#B6E880",
           "#FF97FF",
           "#FECB52"
          ],
          "font": {
           "color": "#2a3f5f"
          },
          "geo": {
           "bgcolor": "white",
           "lakecolor": "white",
           "landcolor": "#E5ECF6",
           "showlakes": true,
           "showland": true,
           "subunitcolor": "white"
          },
          "hoverlabel": {
           "align": "left"
          },
          "hovermode": "closest",
          "mapbox": {
           "style": "light"
          },
          "paper_bgcolor": "white",
          "plot_bgcolor": "#E5ECF6",
          "polar": {
           "angularaxis": {
            "gridcolor": "white",
            "linecolor": "white",
            "ticks": ""
           },
           "bgcolor": "#E5ECF6",
           "radialaxis": {
            "gridcolor": "white",
            "linecolor": "white",
            "ticks": ""
           }
          },
          "scene": {
           "xaxis": {
            "backgroundcolor": "#E5ECF6",
            "gridcolor": "white",
            "gridwidth": 2,
            "linecolor": "white",
            "showbackground": true,
            "ticks": "",
            "zerolinecolor": "white"
           },
           "yaxis": {
            "backgroundcolor": "#E5ECF6",
            "gridcolor": "white",
            "gridwidth": 2,
            "linecolor": "white",
            "showbackground": true,
            "ticks": "",
            "zerolinecolor": "white"
           },
           "zaxis": {
            "backgroundcolor": "#E5ECF6",
            "gridcolor": "white",
            "gridwidth": 2,
            "linecolor": "white",
            "showbackground": true,
            "ticks": "",
            "zerolinecolor": "white"
           }
          },
          "shapedefaults": {
           "line": {
            "color": "#2a3f5f"
           }
          },
          "ternary": {
           "aaxis": {
            "gridcolor": "white",
            "linecolor": "white",
            "ticks": ""
           },
           "baxis": {
            "gridcolor": "white",
            "linecolor": "white",
            "ticks": ""
           },
           "bgcolor": "#E5ECF6",
           "caxis": {
            "gridcolor": "white",
            "linecolor": "white",
            "ticks": ""
           }
          },
          "title": {
           "x": 0.05
          },
          "xaxis": {
           "automargin": true,
           "gridcolor": "white",
           "linecolor": "white",
           "ticks": "",
           "title": {
            "standoff": 15
           },
           "zerolinecolor": "white",
           "zerolinewidth": 2
          },
          "yaxis": {
           "automargin": true,
           "gridcolor": "white",
           "linecolor": "white",
           "ticks": "",
           "title": {
            "standoff": 15
           },
           "zerolinecolor": "white",
           "zerolinewidth": 2
          }
         }
        },
        "xaxis": {
         "anchor": "y",
         "domain": [
          0,
          1
         ]
        },
        "yaxis": {
         "anchor": "x",
         "domain": [
          0,
          1
         ],
         "title": {
          "text": "trestbps"
         }
        }
       }
      }
     },
     "metadata": {},
     "output_type": "display_data"
    },
    {
     "data": {
      "application/vnd.plotly.v1+json": {
       "config": {
        "plotlyServerURL": "https://plot.ly"
       },
       "data": [
        {
         "alignmentgroup": "True",
         "hovertemplate": "age=%{y}<extra></extra>",
         "legendgroup": "",
         "marker": {
          "color": "purple"
         },
         "name": "",
         "notched": false,
         "offsetgroup": "",
         "orientation": "v",
         "showlegend": false,
         "type": "box",
         "x0": " ",
         "xaxis": "x",
         "y": [
          63,
          67,
          67,
          37,
          41,
          56,
          62,
          57,
          63,
          53,
          57,
          56,
          56,
          44,
          52,
          57,
          48,
          54,
          48,
          49,
          64,
          58,
          58,
          58,
          60,
          50,
          58,
          66,
          43,
          40,
          69,
          60,
          64,
          59,
          44,
          42,
          43,
          57,
          55,
          61,
          65,
          40,
          71,
          59,
          61,
          58,
          51,
          50,
          65,
          53,
          41,
          65,
          44,
          44,
          60,
          54,
          50,
          41,
          54,
          51,
          51,
          46,
          58,
          54,
          54,
          60,
          60,
          54,
          59,
          46,
          65,
          67,
          62,
          65,
          44,
          65,
          60,
          51,
          48,
          58,
          45,
          53,
          39,
          68,
          52,
          44,
          47,
          53,
          53,
          51,
          66,
          62,
          62,
          44,
          63,
          52,
          59,
          60,
          52,
          48,
          45,
          34,
          57,
          71,
          49,
          54,
          59,
          57,
          61,
          39,
          61,
          56,
          52,
          43,
          62,
          41,
          58,
          35,
          63,
          65,
          48,
          63,
          51,
          55,
          65,
          45,
          56,
          54,
          44,
          62,
          54,
          51,
          29,
          51,
          43,
          55,
          70,
          62,
          35,
          51,
          59,
          59,
          52,
          64,
          58,
          47,
          57,
          41,
          45,
          60,
          52,
          42,
          67,
          55,
          64,
          70,
          51,
          58,
          60,
          68,
          46,
          77,
          54,
          58,
          48,
          57,
          52,
          54,
          35,
          45,
          70,
          53,
          59,
          62,
          64,
          57,
          52,
          56,
          43,
          53,
          48,
          56,
          42,
          59,
          60,
          63,
          42,
          66,
          54,
          69,
          50,
          51,
          43,
          62,
          68,
          67,
          69,
          45,
          50,
          59,
          50,
          64,
          57,
          64,
          43,
          45,
          58,
          50,
          55,
          62,
          37,
          38,
          41,
          66,
          52,
          56,
          46,
          46,
          64,
          59,
          41,
          54,
          39,
          53,
          63,
          34,
          47,
          67,
          54,
          66,
          52,
          55,
          49,
          74,
          54,
          54,
          56,
          46,
          49,
          42,
          41,
          41,
          49,
          61,
          60,
          67,
          58,
          47,
          52,
          62,
          57,
          58,
          64,
          51,
          43,
          42,
          67,
          76,
          70,
          57,
          44,
          58,
          60,
          44,
          61,
          42,
          52,
          59,
          40,
          42,
          61,
          66,
          46,
          71,
          59,
          64,
          66,
          39,
          57,
          58,
          57,
          47,
          55,
          35,
          61,
          58,
          58,
          58,
          56,
          56,
          67,
          55,
          44,
          63,
          63,
          41,
          59,
          57,
          45,
          68,
          57,
          57,
          38,
          28,
          29,
          29,
          30,
          31,
          32,
          32,
          32,
          33,
          34,
          34,
          34,
          35,
          35,
          35,
          35,
          36,
          36,
          36,
          36,
          37,
          37,
          37,
          37,
          37,
          37,
          37,
          38,
          38,
          38,
          39,
          39,
          39,
          39,
          39,
          39,
          39,
          39,
          39,
          39,
          40,
          40,
          40,
          40,
          40,
          41,
          41,
          41,
          41,
          41,
          41,
          41,
          42,
          42,
          42,
          42,
          42,
          42,
          42,
          43,
          43,
          43,
          43,
          43,
          43,
          43,
          43,
          44,
          44,
          44,
          44,
          45,
          45,
          45,
          45,
          45,
          45,
          45,
          46,
          46,
          46,
          46,
          46,
          46,
          46,
          47,
          47,
          47,
          47,
          47,
          48,
          48,
          48,
          48,
          48,
          48,
          48,
          48,
          48,
          48,
          48,
          49,
          49,
          49,
          49,
          49,
          49,
          49,
          49,
          50,
          50,
          50,
          50,
          50,
          50,
          50,
          51,
          51,
          51,
          51,
          51,
          51,
          51,
          52,
          52,
          52,
          52,
          52,
          52,
          52,
          52,
          53,
          53,
          53,
          53,
          53,
          53,
          53,
          53,
          53,
          54,
          54,
          54,
          54,
          54,
          54,
          54,
          54,
          54,
          54,
          54,
          54,
          54,
          54,
          54,
          54,
          55,
          55,
          55,
          55,
          55,
          55,
          55,
          55,
          55,
          55,
          56,
          56,
          56,
          56,
          56,
          57,
          57,
          57,
          58,
          58,
          58,
          58,
          59,
          59,
          59,
          59,
          59,
          60,
          61,
          61,
          62,
          62,
          31,
          33,
          34,
          35,
          36,
          37,
          38,
          38,
          38,
          40,
          41,
          41,
          43,
          46,
          46,
          46,
          47,
          47,
          48,
          48,
          48,
          49,
          49,
          49,
          50,
          50,
          51,
          52,
          54,
          54,
          55,
          57,
          58,
          59,
          60,
          63,
          65,
          32,
          38,
          39,
          40,
          43,
          45,
          46,
          46,
          48,
          48,
          48,
          48,
          50,
          52,
          52,
          53,
          54,
          54,
          54,
          54,
          54,
          55,
          56,
          57,
          58,
          58,
          41,
          43,
          44,
          44,
          46,
          47,
          48,
          49,
          49,
          51,
          52,
          52,
          52,
          52,
          53,
          53,
          54,
          55,
          55,
          55,
          56,
          56,
          56,
          58,
          59,
          59,
          65,
          66,
          41,
          43,
          44,
          47,
          47,
          49,
          49,
          50,
          50,
          52,
          52,
          54,
          56,
          58,
          65,
          32,
          34,
          35,
          36,
          38,
          38,
          38,
          38,
          38,
          38,
          40,
          41,
          42,
          42,
          43,
          43,
          43,
          45,
          46,
          46,
          47,
          47,
          47,
          47,
          48,
          50,
          50,
          50,
          50,
          51,
          51,
          51,
          51,
          51,
          51,
          51,
          52,
          52,
          52,
          52,
          53,
          53,
          53,
          53,
          53,
          53,
          53,
          53,
          54,
          54,
          54,
          55,
          55,
          55,
          55,
          56,
          56,
          56,
          56,
          56,
          56,
          56,
          56,
          57,
          57,
          57,
          57,
          57,
          57,
          58,
          58,
          58,
          59,
          59,
          59,
          59,
          59,
          60,
          60,
          60,
          60,
          60,
          60,
          61,
          61,
          61,
          61,
          61,
          61,
          61,
          61,
          61,
          62,
          62,
          62,
          62,
          62,
          62,
          62,
          63,
          63,
          63,
          63,
          63,
          64,
          64,
          64,
          65,
          65,
          65,
          65,
          66,
          66,
          67,
          68,
          68,
          69,
          69,
          70,
          70,
          72,
          73,
          74,
          63,
          44,
          60,
          55,
          66,
          66,
          65,
          60,
          60,
          60,
          56,
          59,
          62,
          63,
          57,
          62,
          63,
          46,
          63,
          60,
          58,
          64,
          63,
          74,
          52,
          69,
          51,
          60,
          56,
          55,
          54,
          77,
          63,
          55,
          52,
          64,
          60,
          60,
          58,
          59,
          61,
          40,
          61,
          41,
          57,
          63,
          59,
          51,
          59,
          42,
          55,
          63,
          62,
          56,
          53,
          68,
          53,
          60,
          62,
          59,
          51,
          61,
          57,
          56,
          58,
          69,
          67,
          58,
          65,
          63,
          55,
          57,
          65,
          54,
          72,
          75,
          49,
          51,
          60,
          64,
          58,
          61,
          67,
          62,
          65,
          63,
          69,
          51,
          62,
          55,
          75,
          40,
          67,
          58,
          60,
          63,
          35,
          62,
          43,
          63,
          68,
          65,
          48,
          63,
          64,
          61,
          50,
          59,
          55,
          45,
          65,
          61,
          49,
          72,
          50,
          64,
          55,
          63,
          59,
          56,
          62,
          74,
          54,
          57,
          62,
          76,
          54,
          70,
          61,
          48,
          48,
          61,
          66,
          68,
          55,
          62,
          71,
          74,
          53,
          58,
          75,
          56,
          58,
          64,
          54,
          54,
          59,
          55,
          57,
          61,
          41,
          71,
          38,
          55,
          56,
          69,
          64,
          72,
          69,
          56,
          62,
          67,
          57,
          69,
          51,
          48,
          69,
          69,
          64,
          57,
          53,
          37,
          67,
          74,
          63,
          58,
          61,
          64,
          58,
          60,
          57,
          55,
          55,
          56,
          57,
          61,
          61,
          58,
          74,
          68,
          51,
          62,
          53,
          62,
          46,
          54,
          62,
          55,
          58,
          62
         ],
         "y0": " ",
         "yaxis": "y"
        }
       ],
       "layout": {
        "boxmode": "group",
        "legend": {
         "tracegroupgap": 0
        },
        "margin": {
         "t": 60
        },
        "template": {
         "data": {
          "bar": [
           {
            "error_x": {
             "color": "#2a3f5f"
            },
            "error_y": {
             "color": "#2a3f5f"
            },
            "marker": {
             "line": {
              "color": "#E5ECF6",
              "width": 0.5
             },
             "pattern": {
              "fillmode": "overlay",
              "size": 10,
              "solidity": 0.2
             }
            },
            "type": "bar"
           }
          ],
          "barpolar": [
           {
            "marker": {
             "line": {
              "color": "#E5ECF6",
              "width": 0.5
             },
             "pattern": {
              "fillmode": "overlay",
              "size": 10,
              "solidity": 0.2
             }
            },
            "type": "barpolar"
           }
          ],
          "carpet": [
           {
            "aaxis": {
             "endlinecolor": "#2a3f5f",
             "gridcolor": "white",
             "linecolor": "white",
             "minorgridcolor": "white",
             "startlinecolor": "#2a3f5f"
            },
            "baxis": {
             "endlinecolor": "#2a3f5f",
             "gridcolor": "white",
             "linecolor": "white",
             "minorgridcolor": "white",
             "startlinecolor": "#2a3f5f"
            },
            "type": "carpet"
           }
          ],
          "choropleth": [
           {
            "colorbar": {
             "outlinewidth": 0,
             "ticks": ""
            },
            "type": "choropleth"
           }
          ],
          "contour": [
           {
            "colorbar": {
             "outlinewidth": 0,
             "ticks": ""
            },
            "colorscale": [
             [
              0,
              "#0d0887"
             ],
             [
              0.1111111111111111,
              "#46039f"
             ],
             [
              0.2222222222222222,
              "#7201a8"
             ],
             [
              0.3333333333333333,
              "#9c179e"
             ],
             [
              0.4444444444444444,
              "#bd3786"
             ],
             [
              0.5555555555555556,
              "#d8576b"
             ],
             [
              0.6666666666666666,
              "#ed7953"
             ],
             [
              0.7777777777777778,
              "#fb9f3a"
             ],
             [
              0.8888888888888888,
              "#fdca26"
             ],
             [
              1,
              "#f0f921"
             ]
            ],
            "type": "contour"
           }
          ],
          "contourcarpet": [
           {
            "colorbar": {
             "outlinewidth": 0,
             "ticks": ""
            },
            "type": "contourcarpet"
           }
          ],
          "heatmap": [
           {
            "colorbar": {
             "outlinewidth": 0,
             "ticks": ""
            },
            "colorscale": [
             [
              0,
              "#0d0887"
             ],
             [
              0.1111111111111111,
              "#46039f"
             ],
             [
              0.2222222222222222,
              "#7201a8"
             ],
             [
              0.3333333333333333,
              "#9c179e"
             ],
             [
              0.4444444444444444,
              "#bd3786"
             ],
             [
              0.5555555555555556,
              "#d8576b"
             ],
             [
              0.6666666666666666,
              "#ed7953"
             ],
             [
              0.7777777777777778,
              "#fb9f3a"
             ],
             [
              0.8888888888888888,
              "#fdca26"
             ],
             [
              1,
              "#f0f921"
             ]
            ],
            "type": "heatmap"
           }
          ],
          "heatmapgl": [
           {
            "colorbar": {
             "outlinewidth": 0,
             "ticks": ""
            },
            "colorscale": [
             [
              0,
              "#0d0887"
             ],
             [
              0.1111111111111111,
              "#46039f"
             ],
             [
              0.2222222222222222,
              "#7201a8"
             ],
             [
              0.3333333333333333,
              "#9c179e"
             ],
             [
              0.4444444444444444,
              "#bd3786"
             ],
             [
              0.5555555555555556,
              "#d8576b"
             ],
             [
              0.6666666666666666,
              "#ed7953"
             ],
             [
              0.7777777777777778,
              "#fb9f3a"
             ],
             [
              0.8888888888888888,
              "#fdca26"
             ],
             [
              1,
              "#f0f921"
             ]
            ],
            "type": "heatmapgl"
           }
          ],
          "histogram": [
           {
            "marker": {
             "pattern": {
              "fillmode": "overlay",
              "size": 10,
              "solidity": 0.2
             }
            },
            "type": "histogram"
           }
          ],
          "histogram2d": [
           {
            "colorbar": {
             "outlinewidth": 0,
             "ticks": ""
            },
            "colorscale": [
             [
              0,
              "#0d0887"
             ],
             [
              0.1111111111111111,
              "#46039f"
             ],
             [
              0.2222222222222222,
              "#7201a8"
             ],
             [
              0.3333333333333333,
              "#9c179e"
             ],
             [
              0.4444444444444444,
              "#bd3786"
             ],
             [
              0.5555555555555556,
              "#d8576b"
             ],
             [
              0.6666666666666666,
              "#ed7953"
             ],
             [
              0.7777777777777778,
              "#fb9f3a"
             ],
             [
              0.8888888888888888,
              "#fdca26"
             ],
             [
              1,
              "#f0f921"
             ]
            ],
            "type": "histogram2d"
           }
          ],
          "histogram2dcontour": [
           {
            "colorbar": {
             "outlinewidth": 0,
             "ticks": ""
            },
            "colorscale": [
             [
              0,
              "#0d0887"
             ],
             [
              0.1111111111111111,
              "#46039f"
             ],
             [
              0.2222222222222222,
              "#7201a8"
             ],
             [
              0.3333333333333333,
              "#9c179e"
             ],
             [
              0.4444444444444444,
              "#bd3786"
             ],
             [
              0.5555555555555556,
              "#d8576b"
             ],
             [
              0.6666666666666666,
              "#ed7953"
             ],
             [
              0.7777777777777778,
              "#fb9f3a"
             ],
             [
              0.8888888888888888,
              "#fdca26"
             ],
             [
              1,
              "#f0f921"
             ]
            ],
            "type": "histogram2dcontour"
           }
          ],
          "mesh3d": [
           {
            "colorbar": {
             "outlinewidth": 0,
             "ticks": ""
            },
            "type": "mesh3d"
           }
          ],
          "parcoords": [
           {
            "line": {
             "colorbar": {
              "outlinewidth": 0,
              "ticks": ""
             }
            },
            "type": "parcoords"
           }
          ],
          "pie": [
           {
            "automargin": true,
            "type": "pie"
           }
          ],
          "scatter": [
           {
            "fillpattern": {
             "fillmode": "overlay",
             "size": 10,
             "solidity": 0.2
            },
            "type": "scatter"
           }
          ],
          "scatter3d": [
           {
            "line": {
             "colorbar": {
              "outlinewidth": 0,
              "ticks": ""
             }
            },
            "marker": {
             "colorbar": {
              "outlinewidth": 0,
              "ticks": ""
             }
            },
            "type": "scatter3d"
           }
          ],
          "scattercarpet": [
           {
            "marker": {
             "colorbar": {
              "outlinewidth": 0,
              "ticks": ""
             }
            },
            "type": "scattercarpet"
           }
          ],
          "scattergeo": [
           {
            "marker": {
             "colorbar": {
              "outlinewidth": 0,
              "ticks": ""
             }
            },
            "type": "scattergeo"
           }
          ],
          "scattergl": [
           {
            "marker": {
             "colorbar": {
              "outlinewidth": 0,
              "ticks": ""
             }
            },
            "type": "scattergl"
           }
          ],
          "scattermapbox": [
           {
            "marker": {
             "colorbar": {
              "outlinewidth": 0,
              "ticks": ""
             }
            },
            "type": "scattermapbox"
           }
          ],
          "scatterpolar": [
           {
            "marker": {
             "colorbar": {
              "outlinewidth": 0,
              "ticks": ""
             }
            },
            "type": "scatterpolar"
           }
          ],
          "scatterpolargl": [
           {
            "marker": {
             "colorbar": {
              "outlinewidth": 0,
              "ticks": ""
             }
            },
            "type": "scatterpolargl"
           }
          ],
          "scatterternary": [
           {
            "marker": {
             "colorbar": {
              "outlinewidth": 0,
              "ticks": ""
             }
            },
            "type": "scatterternary"
           }
          ],
          "surface": [
           {
            "colorbar": {
             "outlinewidth": 0,
             "ticks": ""
            },
            "colorscale": [
             [
              0,
              "#0d0887"
             ],
             [
              0.1111111111111111,
              "#46039f"
             ],
             [
              0.2222222222222222,
              "#7201a8"
             ],
             [
              0.3333333333333333,
              "#9c179e"
             ],
             [
              0.4444444444444444,
              "#bd3786"
             ],
             [
              0.5555555555555556,
              "#d8576b"
             ],
             [
              0.6666666666666666,
              "#ed7953"
             ],
             [
              0.7777777777777778,
              "#fb9f3a"
             ],
             [
              0.8888888888888888,
              "#fdca26"
             ],
             [
              1,
              "#f0f921"
             ]
            ],
            "type": "surface"
           }
          ],
          "table": [
           {
            "cells": {
             "fill": {
              "color": "#EBF0F8"
             },
             "line": {
              "color": "white"
             }
            },
            "header": {
             "fill": {
              "color": "#C8D4E3"
             },
             "line": {
              "color": "white"
             }
            },
            "type": "table"
           }
          ]
         },
         "layout": {
          "annotationdefaults": {
           "arrowcolor": "#2a3f5f",
           "arrowhead": 0,
           "arrowwidth": 1
          },
          "autotypenumbers": "strict",
          "coloraxis": {
           "colorbar": {
            "outlinewidth": 0,
            "ticks": ""
           }
          },
          "colorscale": {
           "diverging": [
            [
             0,
             "#8e0152"
            ],
            [
             0.1,
             "#c51b7d"
            ],
            [
             0.2,
             "#de77ae"
            ],
            [
             0.3,
             "#f1b6da"
            ],
            [
             0.4,
             "#fde0ef"
            ],
            [
             0.5,
             "#f7f7f7"
            ],
            [
             0.6,
             "#e6f5d0"
            ],
            [
             0.7,
             "#b8e186"
            ],
            [
             0.8,
             "#7fbc41"
            ],
            [
             0.9,
             "#4d9221"
            ],
            [
             1,
             "#276419"
            ]
           ],
           "sequential": [
            [
             0,
             "#0d0887"
            ],
            [
             0.1111111111111111,
             "#46039f"
            ],
            [
             0.2222222222222222,
             "#7201a8"
            ],
            [
             0.3333333333333333,
             "#9c179e"
            ],
            [
             0.4444444444444444,
             "#bd3786"
            ],
            [
             0.5555555555555556,
             "#d8576b"
            ],
            [
             0.6666666666666666,
             "#ed7953"
            ],
            [
             0.7777777777777778,
             "#fb9f3a"
            ],
            [
             0.8888888888888888,
             "#fdca26"
            ],
            [
             1,
             "#f0f921"
            ]
           ],
           "sequentialminus": [
            [
             0,
             "#0d0887"
            ],
            [
             0.1111111111111111,
             "#46039f"
            ],
            [
             0.2222222222222222,
             "#7201a8"
            ],
            [
             0.3333333333333333,
             "#9c179e"
            ],
            [
             0.4444444444444444,
             "#bd3786"
            ],
            [
             0.5555555555555556,
             "#d8576b"
            ],
            [
             0.6666666666666666,
             "#ed7953"
            ],
            [
             0.7777777777777778,
             "#fb9f3a"
            ],
            [
             0.8888888888888888,
             "#fdca26"
            ],
            [
             1,
             "#f0f921"
            ]
           ]
          },
          "colorway": [
           "#636efa",
           "#EF553B",
           "#00cc96",
           "#ab63fa",
           "#FFA15A",
           "#19d3f3",
           "#FF6692",
           "#B6E880",
           "#FF97FF",
           "#FECB52"
          ],
          "font": {
           "color": "#2a3f5f"
          },
          "geo": {
           "bgcolor": "white",
           "lakecolor": "white",
           "landcolor": "#E5ECF6",
           "showlakes": true,
           "showland": true,
           "subunitcolor": "white"
          },
          "hoverlabel": {
           "align": "left"
          },
          "hovermode": "closest",
          "mapbox": {
           "style": "light"
          },
          "paper_bgcolor": "white",
          "plot_bgcolor": "#E5ECF6",
          "polar": {
           "angularaxis": {
            "gridcolor": "white",
            "linecolor": "white",
            "ticks": ""
           },
           "bgcolor": "#E5ECF6",
           "radialaxis": {
            "gridcolor": "white",
            "linecolor": "white",
            "ticks": ""
           }
          },
          "scene": {
           "xaxis": {
            "backgroundcolor": "#E5ECF6",
            "gridcolor": "white",
            "gridwidth": 2,
            "linecolor": "white",
            "showbackground": true,
            "ticks": "",
            "zerolinecolor": "white"
           },
           "yaxis": {
            "backgroundcolor": "#E5ECF6",
            "gridcolor": "white",
            "gridwidth": 2,
            "linecolor": "white",
            "showbackground": true,
            "ticks": "",
            "zerolinecolor": "white"
           },
           "zaxis": {
            "backgroundcolor": "#E5ECF6",
            "gridcolor": "white",
            "gridwidth": 2,
            "linecolor": "white",
            "showbackground": true,
            "ticks": "",
            "zerolinecolor": "white"
           }
          },
          "shapedefaults": {
           "line": {
            "color": "#2a3f5f"
           }
          },
          "ternary": {
           "aaxis": {
            "gridcolor": "white",
            "linecolor": "white",
            "ticks": ""
           },
           "baxis": {
            "gridcolor": "white",
            "linecolor": "white",
            "ticks": ""
           },
           "bgcolor": "#E5ECF6",
           "caxis": {
            "gridcolor": "white",
            "linecolor": "white",
            "ticks": ""
           }
          },
          "title": {
           "x": 0.05
          },
          "xaxis": {
           "automargin": true,
           "gridcolor": "white",
           "linecolor": "white",
           "ticks": "",
           "title": {
            "standoff": 15
           },
           "zerolinecolor": "white",
           "zerolinewidth": 2
          },
          "yaxis": {
           "automargin": true,
           "gridcolor": "white",
           "linecolor": "white",
           "ticks": "",
           "title": {
            "standoff": 15
           },
           "zerolinecolor": "white",
           "zerolinewidth": 2
          }
         }
        },
        "xaxis": {
         "anchor": "y",
         "domain": [
          0,
          1
         ]
        },
        "yaxis": {
         "anchor": "x",
         "domain": [
          0,
          1
         ],
         "title": {
          "text": "age"
         }
        }
       }
      }
     },
     "metadata": {},
     "output_type": "display_data"
    }
   ],
   "source": [
    "# create box plots for all numeric columns using plotly\n",
    "\n",
    "for col in numeric_cols:\n",
    "    fig = px.box(df, y=col, color_discrete_sequence=[color[numeric_cols.index(col)]])\n",
    "    fig.show()"
   ]
  },
  {
   "cell_type": "code",
   "execution_count": 32,
   "metadata": {},
   "outputs": [
    {
     "data": {
      "text/html": [
       "<div>\n",
       "<style scoped>\n",
       "    .dataframe tbody tr th:only-of-type {\n",
       "        vertical-align: middle;\n",
       "    }\n",
       "\n",
       "    .dataframe tbody tr th {\n",
       "        vertical-align: top;\n",
       "    }\n",
       "\n",
       "    .dataframe thead th {\n",
       "        text-align: right;\n",
       "    }\n",
       "</style>\n",
       "<table border=\"1\" class=\"dataframe\">\n",
       "  <thead>\n",
       "    <tr style=\"text-align: right;\">\n",
       "      <th></th>\n",
       "      <th>id</th>\n",
       "      <th>age</th>\n",
       "      <th>sex</th>\n",
       "      <th>dataset</th>\n",
       "      <th>cp</th>\n",
       "      <th>trestbps</th>\n",
       "      <th>chol</th>\n",
       "      <th>fbs</th>\n",
       "      <th>restecg</th>\n",
       "      <th>thalch</th>\n",
       "      <th>exang</th>\n",
       "      <th>oldpeak</th>\n",
       "      <th>slope</th>\n",
       "      <th>ca</th>\n",
       "      <th>thal</th>\n",
       "      <th>num</th>\n",
       "    </tr>\n",
       "  </thead>\n",
       "  <tbody>\n",
       "    <tr>\n",
       "      <th>753</th>\n",
       "      <td>754</td>\n",
       "      <td>55</td>\n",
       "      <td>Male</td>\n",
       "      <td>VA Long Beach</td>\n",
       "      <td>non-anginal</td>\n",
       "      <td>0.0</td>\n",
       "      <td>0.0</td>\n",
       "      <td>False</td>\n",
       "      <td>normal</td>\n",
       "      <td>155.0</td>\n",
       "      <td>False</td>\n",
       "      <td>1.5</td>\n",
       "      <td>flat</td>\n",
       "      <td>2.0</td>\n",
       "      <td>reversable defect</td>\n",
       "      <td>3</td>\n",
       "    </tr>\n",
       "  </tbody>\n",
       "</table>\n",
       "</div>"
      ],
      "text/plain": [
       "      id  age   sex        dataset           cp  trestbps  chol    fbs  \\\n",
       "753  754   55  Male  VA Long Beach  non-anginal       0.0   0.0  False   \n",
       "\n",
       "    restecg  thalch  exang  oldpeak slope   ca               thal  num  \n",
       "753  normal   155.0  False      1.5  flat  2.0  reversable defect    3  "
      ]
     },
     "execution_count": 32,
     "metadata": {},
     "output_type": "execute_result"
    }
   ],
   "source": [
    "# print the row from df where trestbps value is 0\n",
    "df[df['trestbps'] == 0]"
   ]
  },
  {
   "cell_type": "code",
   "execution_count": 33,
   "metadata": {},
   "outputs": [],
   "source": [
    "# Remove the row where trestbps value is 0\n",
    "df = df[df['trestbps'] != 0]"
   ]
  },
  {
   "cell_type": "code",
   "execution_count": 34,
   "metadata": {},
   "outputs": [
    {
     "data": {
      "text/html": [
       "<div>\n",
       "<style scoped>\n",
       "    .dataframe tbody tr th:only-of-type {\n",
       "        vertical-align: middle;\n",
       "    }\n",
       "\n",
       "    .dataframe tbody tr th {\n",
       "        vertical-align: top;\n",
       "    }\n",
       "\n",
       "    .dataframe thead th {\n",
       "        text-align: right;\n",
       "    }\n",
       "</style>\n",
       "<table border=\"1\" class=\"dataframe\">\n",
       "  <thead>\n",
       "    <tr style=\"text-align: right;\">\n",
       "      <th></th>\n",
       "      <th>id</th>\n",
       "      <th>age</th>\n",
       "      <th>sex</th>\n",
       "      <th>dataset</th>\n",
       "      <th>cp</th>\n",
       "      <th>trestbps</th>\n",
       "      <th>chol</th>\n",
       "      <th>fbs</th>\n",
       "      <th>restecg</th>\n",
       "      <th>thalch</th>\n",
       "      <th>exang</th>\n",
       "      <th>oldpeak</th>\n",
       "      <th>slope</th>\n",
       "      <th>ca</th>\n",
       "      <th>thal</th>\n",
       "      <th>num</th>\n",
       "    </tr>\n",
       "  </thead>\n",
       "  <tbody>\n",
       "    <tr>\n",
       "      <th>597</th>\n",
       "      <td>598</td>\n",
       "      <td>32</td>\n",
       "      <td>Male</td>\n",
       "      <td>Switzerland</td>\n",
       "      <td>typical angina</td>\n",
       "      <td>95.00</td>\n",
       "      <td>0.0</td>\n",
       "      <td>False</td>\n",
       "      <td>normal</td>\n",
       "      <td>127.00</td>\n",
       "      <td>False</td>\n",
       "      <td>0.700</td>\n",
       "      <td>upsloping</td>\n",
       "      <td>0.0</td>\n",
       "      <td>reversable defect</td>\n",
       "      <td>1</td>\n",
       "    </tr>\n",
       "    <tr>\n",
       "      <th>598</th>\n",
       "      <td>599</td>\n",
       "      <td>34</td>\n",
       "      <td>Male</td>\n",
       "      <td>Switzerland</td>\n",
       "      <td>asymptomatic</td>\n",
       "      <td>115.00</td>\n",
       "      <td>0.0</td>\n",
       "      <td>False</td>\n",
       "      <td>normal</td>\n",
       "      <td>154.00</td>\n",
       "      <td>False</td>\n",
       "      <td>0.200</td>\n",
       "      <td>upsloping</td>\n",
       "      <td>0.0</td>\n",
       "      <td>reversable defect</td>\n",
       "      <td>1</td>\n",
       "    </tr>\n",
       "    <tr>\n",
       "      <th>599</th>\n",
       "      <td>600</td>\n",
       "      <td>35</td>\n",
       "      <td>Male</td>\n",
       "      <td>Switzerland</td>\n",
       "      <td>asymptomatic</td>\n",
       "      <td>123.23</td>\n",
       "      <td>0.0</td>\n",
       "      <td>False</td>\n",
       "      <td>normal</td>\n",
       "      <td>130.00</td>\n",
       "      <td>True</td>\n",
       "      <td>0.994</td>\n",
       "      <td>flat</td>\n",
       "      <td>0.0</td>\n",
       "      <td>reversable defect</td>\n",
       "      <td>3</td>\n",
       "    </tr>\n",
       "    <tr>\n",
       "      <th>600</th>\n",
       "      <td>601</td>\n",
       "      <td>36</td>\n",
       "      <td>Male</td>\n",
       "      <td>Switzerland</td>\n",
       "      <td>asymptomatic</td>\n",
       "      <td>110.00</td>\n",
       "      <td>0.0</td>\n",
       "      <td>False</td>\n",
       "      <td>normal</td>\n",
       "      <td>125.00</td>\n",
       "      <td>True</td>\n",
       "      <td>1.000</td>\n",
       "      <td>flat</td>\n",
       "      <td>0.0</td>\n",
       "      <td>fixed defect</td>\n",
       "      <td>1</td>\n",
       "    </tr>\n",
       "    <tr>\n",
       "      <th>601</th>\n",
       "      <td>602</td>\n",
       "      <td>38</td>\n",
       "      <td>Female</td>\n",
       "      <td>Switzerland</td>\n",
       "      <td>asymptomatic</td>\n",
       "      <td>105.00</td>\n",
       "      <td>0.0</td>\n",
       "      <td>False</td>\n",
       "      <td>normal</td>\n",
       "      <td>166.00</td>\n",
       "      <td>False</td>\n",
       "      <td>2.800</td>\n",
       "      <td>upsloping</td>\n",
       "      <td>0.0</td>\n",
       "      <td>normal</td>\n",
       "      <td>2</td>\n",
       "    </tr>\n",
       "    <tr>\n",
       "      <th>...</th>\n",
       "      <td>...</td>\n",
       "      <td>...</td>\n",
       "      <td>...</td>\n",
       "      <td>...</td>\n",
       "      <td>...</td>\n",
       "      <td>...</td>\n",
       "      <td>...</td>\n",
       "      <td>...</td>\n",
       "      <td>...</td>\n",
       "      <td>...</td>\n",
       "      <td>...</td>\n",
       "      <td>...</td>\n",
       "      <td>...</td>\n",
       "      <td>...</td>\n",
       "      <td>...</td>\n",
       "      <td>...</td>\n",
       "    </tr>\n",
       "    <tr>\n",
       "      <th>818</th>\n",
       "      <td>819</td>\n",
       "      <td>43</td>\n",
       "      <td>Male</td>\n",
       "      <td>VA Long Beach</td>\n",
       "      <td>asymptomatic</td>\n",
       "      <td>122.00</td>\n",
       "      <td>0.0</td>\n",
       "      <td>False</td>\n",
       "      <td>normal</td>\n",
       "      <td>120.00</td>\n",
       "      <td>False</td>\n",
       "      <td>0.500</td>\n",
       "      <td>upsloping</td>\n",
       "      <td>0.0</td>\n",
       "      <td>reversable defect</td>\n",
       "      <td>1</td>\n",
       "    </tr>\n",
       "    <tr>\n",
       "      <th>819</th>\n",
       "      <td>820</td>\n",
       "      <td>63</td>\n",
       "      <td>Male</td>\n",
       "      <td>VA Long Beach</td>\n",
       "      <td>non-anginal</td>\n",
       "      <td>130.00</td>\n",
       "      <td>0.0</td>\n",
       "      <td>True</td>\n",
       "      <td>st-t abnormality</td>\n",
       "      <td>160.00</td>\n",
       "      <td>False</td>\n",
       "      <td>3.000</td>\n",
       "      <td>flat</td>\n",
       "      <td>0.0</td>\n",
       "      <td>reversable defect</td>\n",
       "      <td>0</td>\n",
       "    </tr>\n",
       "    <tr>\n",
       "      <th>822</th>\n",
       "      <td>823</td>\n",
       "      <td>48</td>\n",
       "      <td>Male</td>\n",
       "      <td>VA Long Beach</td>\n",
       "      <td>non-anginal</td>\n",
       "      <td>102.00</td>\n",
       "      <td>0.0</td>\n",
       "      <td>False</td>\n",
       "      <td>st-t abnormality</td>\n",
       "      <td>110.00</td>\n",
       "      <td>True</td>\n",
       "      <td>1.000</td>\n",
       "      <td>downsloping</td>\n",
       "      <td>1.0</td>\n",
       "      <td>reversable defect</td>\n",
       "      <td>1</td>\n",
       "    </tr>\n",
       "    <tr>\n",
       "      <th>839</th>\n",
       "      <td>840</td>\n",
       "      <td>56</td>\n",
       "      <td>Male</td>\n",
       "      <td>VA Long Beach</td>\n",
       "      <td>asymptomatic</td>\n",
       "      <td>135.08</td>\n",
       "      <td>0.0</td>\n",
       "      <td>False</td>\n",
       "      <td>lv hypertrophy</td>\n",
       "      <td>116.26</td>\n",
       "      <td>True</td>\n",
       "      <td>2.103</td>\n",
       "      <td>downsloping</td>\n",
       "      <td>1.0</td>\n",
       "      <td>reversable defect</td>\n",
       "      <td>1</td>\n",
       "    </tr>\n",
       "    <tr>\n",
       "      <th>840</th>\n",
       "      <td>841</td>\n",
       "      <td>62</td>\n",
       "      <td>Male</td>\n",
       "      <td>VA Long Beach</td>\n",
       "      <td>non-anginal</td>\n",
       "      <td>144.15</td>\n",
       "      <td>0.0</td>\n",
       "      <td>True</td>\n",
       "      <td>st-t abnormality</td>\n",
       "      <td>123.14</td>\n",
       "      <td>False</td>\n",
       "      <td>2.438</td>\n",
       "      <td>downsloping</td>\n",
       "      <td>2.0</td>\n",
       "      <td>reversable defect</td>\n",
       "      <td>2</td>\n",
       "    </tr>\n",
       "  </tbody>\n",
       "</table>\n",
       "<p>171 rows × 16 columns</p>\n",
       "</div>"
      ],
      "text/plain": [
       "      id  age     sex        dataset              cp  trestbps  chol    fbs  \\\n",
       "597  598   32    Male    Switzerland  typical angina     95.00   0.0  False   \n",
       "598  599   34    Male    Switzerland    asymptomatic    115.00   0.0  False   \n",
       "599  600   35    Male    Switzerland    asymptomatic    123.23   0.0  False   \n",
       "600  601   36    Male    Switzerland    asymptomatic    110.00   0.0  False   \n",
       "601  602   38  Female    Switzerland    asymptomatic    105.00   0.0  False   \n",
       "..   ...  ...     ...            ...             ...       ...   ...    ...   \n",
       "818  819   43    Male  VA Long Beach    asymptomatic    122.00   0.0  False   \n",
       "819  820   63    Male  VA Long Beach     non-anginal    130.00   0.0   True   \n",
       "822  823   48    Male  VA Long Beach     non-anginal    102.00   0.0  False   \n",
       "839  840   56    Male  VA Long Beach    asymptomatic    135.08   0.0  False   \n",
       "840  841   62    Male  VA Long Beach     non-anginal    144.15   0.0   True   \n",
       "\n",
       "              restecg  thalch  exang  oldpeak        slope   ca  \\\n",
       "597            normal  127.00  False    0.700    upsloping  0.0   \n",
       "598            normal  154.00  False    0.200    upsloping  0.0   \n",
       "599            normal  130.00   True    0.994         flat  0.0   \n",
       "600            normal  125.00   True    1.000         flat  0.0   \n",
       "601            normal  166.00  False    2.800    upsloping  0.0   \n",
       "..                ...     ...    ...      ...          ...  ...   \n",
       "818            normal  120.00  False    0.500    upsloping  0.0   \n",
       "819  st-t abnormality  160.00  False    3.000         flat  0.0   \n",
       "822  st-t abnormality  110.00   True    1.000  downsloping  1.0   \n",
       "839    lv hypertrophy  116.26   True    2.103  downsloping  1.0   \n",
       "840  st-t abnormality  123.14  False    2.438  downsloping  2.0   \n",
       "\n",
       "                  thal  num  \n",
       "597  reversable defect    1  \n",
       "598  reversable defect    1  \n",
       "599  reversable defect    3  \n",
       "600       fixed defect    1  \n",
       "601             normal    2  \n",
       "..                 ...  ...  \n",
       "818  reversable defect    1  \n",
       "819  reversable defect    0  \n",
       "822  reversable defect    1  \n",
       "839  reversable defect    1  \n",
       "840  reversable defect    2  \n",
       "\n",
       "[171 rows x 16 columns]"
      ]
     },
     "execution_count": 34,
     "metadata": {},
     "output_type": "execute_result"
    }
   ],
   "source": [
    "# print the row from df where chol value is 0\n",
    "df[df['chol'] == 0]"
   ]
  },
  {
   "cell_type": "markdown",
   "metadata": {},
   "source": [
    "## <span style=\"color:yellow; font-size:150%; font-weight:bold\">Machine Learning</span>"
   ]
  },
  {
   "cell_type": "code",
   "execution_count": 35,
   "metadata": {},
   "outputs": [
    {
     "name": "stdout",
     "output_type": "stream",
     "text": [
      "<class 'pandas.core.frame.DataFrame'>\n",
      "Index: 919 entries, 0 to 919\n",
      "Data columns (total 16 columns):\n",
      " #   Column    Non-Null Count  Dtype  \n",
      "---  ------    --------------  -----  \n",
      " 0   id        919 non-null    int64  \n",
      " 1   age       919 non-null    int64  \n",
      " 2   sex       919 non-null    object \n",
      " 3   dataset   919 non-null    object \n",
      " 4   cp        919 non-null    object \n",
      " 5   trestbps  919 non-null    float64\n",
      " 6   chol      919 non-null    float64\n",
      " 7   fbs       919 non-null    object \n",
      " 8   restecg   919 non-null    object \n",
      " 9   thalch    919 non-null    float64\n",
      " 10  exang     919 non-null    object \n",
      " 11  oldpeak   919 non-null    float64\n",
      " 12  slope     919 non-null    object \n",
      " 13  ca        919 non-null    float64\n",
      " 14  thal      919 non-null    object \n",
      " 15  num       919 non-null    int64  \n",
      "dtypes: float64(5), int64(3), object(8)\n",
      "memory usage: 122.1+ KB\n"
     ]
    }
   ],
   "source": [
    "df.info()"
   ]
  },
  {
   "cell_type": "code",
   "execution_count": 36,
   "metadata": {},
   "outputs": [
    {
     "data": {
      "text/plain": [
       "num\n",
       "0    411\n",
       "1    265\n",
       "2    109\n",
       "3    106\n",
       "4     28\n",
       "Name: count, dtype: int64"
      ]
     },
     "execution_count": 36,
     "metadata": {},
     "output_type": "execute_result"
    }
   ],
   "source": [
    "df.num.value_counts()"
   ]
  },
  {
   "cell_type": "markdown",
   "metadata": {},
   "source": [
    "The target column is `num` which is the predicted attribute. We will use this column to predict whether a person has heart disease or not. \n",
    "The unique values in the target column are:[0, 1, 2, 3, 4]\n",
    "\n",
    "* `0 = No heart disease`\n",
    "* `1 = mild heart disease`\n",
    "* `2 = moderate heart disease`\n",
    "* `3 = severe heart disease`\n",
    "* `4 = critical heart disease`"
   ]
  },
  {
   "cell_type": "code",
   "execution_count": 37,
   "metadata": {},
   "outputs": [
    {
     "name": "stdout",
     "output_type": "stream",
     "text": [
      "['thal', 'ca', 'slope', 'exang', 'restecg', 'fbs', 'cp', 'sex', 'num']\n"
     ]
    }
   ],
   "source": [
    "print(categorical_cols)\n"
   ]
  },
  {
   "cell_type": "code",
   "execution_count": 38,
   "metadata": {},
   "outputs": [],
   "source": [
    "# Split the data into features and target\n",
    "X = df.drop('num', axis=1)\n",
    "y = df['num']\n",
    "\n",
    "# encode X data using separate label encoder for all categorical  columns and save it for inverse transformation\n",
    "# thal_lable_encoder = LabelEncoder()\n",
    "# ca_lable_encoder = LabelEncoder()\n",
    "# slope_lable_encoder = LabelEncoder()\n",
    "# exang_lable_encoder = LabelEncoder()\n",
    "# restecg_lable_encoder = LabelEncoder()\n",
    "# fbs_lable_encoder = LabelEncoder()\n",
    "# cp_lable_encoder = LabelEncoder()\n",
    "# sex_lable_encoder = LabelEncoder()\n",
    "\n",
    "# X['thal'] = thal_lable_encoder.fit_transform(X['thal'])\n",
    "# X['ca'] = ca_lable_encoder.fit_transform(X['ca'])\n",
    "# X['slope'] = slope_lable_encoder.fit_transform(X['slope'])\n",
    "# X['exang'] = exang_lable_encoder.fit_transform(X['exang'])\n",
    "# X['restecg'] = restecg_lable_encoder.fit_transform(X['restecg'])\n",
    "# X['fbs'] = fbs_lable_encoder.fit_transform(X['fbs'])\n",
    "# X['cp'] = cp_lable_encoder.fit_transform(X['cp'])\n",
    "# X['sex'] = sex_lable_encoder.fit_transform(X['sex'])\n",
    "\n",
    "# encode X data using separate label encoder for all categorical  columns and save it for inverse transformation\n",
    "label_encoder = LabelEncoder()\n",
    "\n",
    "for col in X.columns:\n",
    "    if X[col].dtype == 'object' or X[col].dtype == 'category':\n",
    "        X[col] = label_encoder.fit_transform(X[col])\n",
    "    else:\n",
    "        pass    \n",
    "\n",
    "\n",
    "# Split the data into training and testing data\n",
    "X_train, X_test, y_train, y_test = train_test_split(X, y, test_size=0.2, random_state=42)\n",
    "\n"
   ]
  },
  {
   "cell_type": "markdown",
   "metadata": {},
   "source": [
    "Enlist all the models that you will use to predict the heart disease. These models should be classifer for multi-class classification.\n",
    "\n",
    "1. Logistic regression\n",
    "2. KNN\n",
    "3. NB\n",
    "4. SVM\n",
    "5. Desicion Tree\n",
    "6. Random Forest\n",
    "7. XGBoost\n",
    "8. Gradient Boosting\n",
    "9. AdaBoost\n",
    "10. lightGBM"
   ]
  },
  {
   "cell_type": "code",
   "execution_count": 39,
   "metadata": {},
   "outputs": [],
   "source": [
    "# import all models\n",
    "from sklearn.linear_model import LogisticRegression\n",
    "from sklearn.neighbors import KNeighborsClassifier\n",
    "from sklearn.svm import SVC\n",
    "from sklearn.tree import DecisionTreeClassifier, plot_tree\n",
    "from sklearn.ensemble import RandomForestClassifier, AdaBoostClassifier, GradientBoostingClassifier\n",
    "from xgboost import XGBClassifier\n",
    "from sklearn.naive_bayes import GaussianNB\n",
    "# from lightgbm import LGBMClassifer\n",
    "\n",
    "\n",
    "\n",
    "# import pipeline\n",
    "from sklearn.pipeline import Pipeline\n",
    "\n",
    "# import metrics\n",
    "from sklearn.metrics import accuracy_score, classification_report, confusion_matrix\n",
    "\n"
   ]
  },
  {
   "cell_type": "code",
   "execution_count": 40,
   "metadata": {},
   "outputs": [
    {
     "name": "stdout",
     "output_type": "stream",
     "text": [
      "Model: Random Forest\n",
      "Cross-validation Accuracy: 0.6625850340136055\n",
      "Test Accuracy: 0.6358695652173914\n",
      "\n",
      "Model: Gradient Boosting\n",
      "Cross-validation Accuracy: 0.6598639455782312\n",
      "Test Accuracy: 0.6521739130434783\n",
      "\n",
      "Model: Support Vector Machine\n",
      "Cross-validation Accuracy: 0.582312925170068\n",
      "Test Accuracy: 0.5815217391304348\n",
      "\n",
      "Model: Logistic Regression\n",
      "Cross-validation Accuracy: 0.5210884353741496\n",
      "Test Accuracy: 0.4891304347826087\n",
      "\n",
      "Model: K-Nearest Neighbors\n",
      "Cross-validation Accuracy: 0.5850340136054422\n",
      "Test Accuracy: 0.592391304347826\n",
      "\n",
      "Model: Decision Tree\n",
      "Cross-validation Accuracy: 0.6108843537414966\n",
      "Test Accuracy: 0.6141304347826086\n",
      "\n",
      "Model: AdaBoost\n",
      "Cross-validation Accuracy: 0.6612244897959184\n",
      "Test Accuracy: 0.6141304347826086\n",
      "\n",
      "Model XGBoost encountered an error: 'super' object has no attribute '__sklearn_tags__'\n",
      "Model: Naive Bayes\n",
      "Cross-validation Accuracy: 0.5768707482993196\n",
      "Test Accuracy: 0.5380434782608695\n",
      "\n",
      "Best Model: Pipeline(steps=[('model', GradientBoostingClassifier(random_state=42))])\n"
     ]
    }
   ],
   "source": [
    "# Create a list of models to evaluate\n",
    "models = [\n",
    "    ('Random Forest', RandomForestClassifier(random_state=42)),\n",
    "    ('Gradient Boosting', GradientBoostingClassifier(random_state=42)),\n",
    "    ('Support Vector Machine', SVC(random_state=42)),\n",
    "    ('Logistic Regression', LogisticRegression(random_state=42)),\n",
    "    ('K-Nearest Neighbors', KNeighborsClassifier()),\n",
    "    ('Decision Tree', DecisionTreeClassifier(random_state=42)),\n",
    "    ('AdaBoost', AdaBoostClassifier(random_state=42)),\n",
    "    ('XGBoost', XGBClassifier(random_state=42)),\n",
    "    ('Naive Bayes', GaussianNB())   \n",
    "]\n",
    "\n",
    "best_model = None\n",
    "best_accuracy = 0.0\n",
    "\n",
    "# Iterate over the models and evaluate their performance\n",
    "for name, model in models:\n",
    "    try:\n",
    "        # Create a pipeline for each model\n",
    "        pipeline = Pipeline([\n",
    "            ('model', model)\n",
    "        ])\n",
    "\n",
    "        # Perform cross-validation\n",
    "        scores = cross_val_score(pipeline, X_train, y_train, cv=5)\n",
    "\n",
    "        # Calculate mean accuracy\n",
    "        mean_accuracy = scores.mean()\n",
    "\n",
    "        # Fit the pipeline on the training data\n",
    "        pipeline.fit(X_train, y_train)\n",
    "\n",
    "        # Make predictions on the test data\n",
    "        y_pred = pipeline.predict(X_test)\n",
    "\n",
    "        # Calculate accuracy score\n",
    "        accuracy = accuracy_score(y_test, y_pred)\n",
    "\n",
    "        # Print the performance metrics\n",
    "        print(\"Model:\", name)\n",
    "        print(\"Cross-validation Accuracy:\", mean_accuracy)\n",
    "        print(\"Test Accuracy:\", accuracy)\n",
    "        print()\n",
    "\n",
    "        # Check if the current model has the best accuracy\n",
    "        if accuracy > best_accuracy:\n",
    "            best_accuracy = accuracy\n",
    "            best_model = pipeline\n",
    "    except Exception as e:\n",
    "        print(f\"Model {name} encountered an error: {e}\")\n",
    "\n",
    "# Retrieve the best model\n",
    "print(\"Best Model:\", best_model)"
   ]
  },
  {
   "cell_type": "code",
   "execution_count": 41,
   "metadata": {},
   "outputs": [],
   "source": [
    "# save the best model\n",
    "import pickle\n",
    "pickle.dump(best_model, open('heart_disease_model.pkl', 'wb'))"
   ]
  },
  {
   "cell_type": "markdown",
   "metadata": {},
   "source": [
    "#### Output\n",
    "1. The minimum age to have a heart disease starts from 28 years old.\n",
    "2. Most of the people get the heart disease at the age of 53-54 years.\n",
    "3. Most of the males and females get the heart disease at the age of 54-55 years.\n",
    "4. Male percentage in the data : 78.91%\n",
    "5. Female percentage in the data : 21.09%\n",
    "6. Males are 274.23% more than females in the data\n",
    "7. We have highest number of people from Cleveland (304) and lowest from Switzerland (123).\n",
    "    1. The highest number of females are from Cleveland (97) and lowest from VA Long Beach (6).\n",
    "    2. The highest number of males are from Hungary (212) and lowest from Switzerland (113).\n",
    "8. The average age of the people in each country differs as in Cleveland ratio of age is higher than Hungary people.\n",
    "9. `Obervation of cp column`\n",
    "10. `Write down he steps of Imputing missing vaiues and why did you choose those steps`\n",
    "11. `How did you deal with outliers, write the information Step by Steps`\n",
    "12. `Explore all other columns and write their outputs.`\n",
    "13. `write down the observations from model output.`\n",
    "\n",
    "   "
   ]
  },
  {
   "cell_type": "markdown",
   "metadata": {},
   "source": [
    "# **Assignment Alert** How can you improve the accuracy of this or any other model?\n",
    "`Hints`:\n",
    "1. Feature Engineering\n",
    "2. Feature Selection instead of 14 use 12, 10, or 8, or 6, features.\n",
    "3. Data Pre—processing (Scaling and Normalization).\n",
    "4. Hyperparameter Tuning.\n",
    "    1. Ensemble Learning (Stacking, Bagging, Boosting) increase their depth.\n",
    "5. Use different models"
   ]
  },
  {
   "cell_type": "code",
   "execution_count": null,
   "metadata": {},
   "outputs": [],
   "source": []
  }
 ],
 "metadata": {
  "kernelspec": {
   "display_name": "python_ml",
   "language": "python",
   "name": "python3"
  },
  "language_info": {
   "codemirror_mode": {
    "name": "ipython",
    "version": 3
   },
   "file_extension": ".py",
   "mimetype": "text/x-python",
   "name": "python",
   "nbconvert_exporter": "python",
   "pygments_lexer": "ipython3",
   "version": "3.11.11"
  }
 },
 "nbformat": 4,
 "nbformat_minor": 2
}
