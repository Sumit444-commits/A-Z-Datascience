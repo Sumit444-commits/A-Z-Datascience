{
 "cells": [
  {
   "cell_type": "markdown",
   "metadata": {},
   "source": [
    "# Feature Scaling methods"
   ]
  },
  {
   "cell_type": "code",
   "execution_count": 2,
   "metadata": {},
   "outputs": [
    {
     "name": "stdout",
     "output_type": "stream",
     "text": [
      "Collecting scikit-learn\n",
      "  Downloading scikit_learn-1.5.2-cp312-cp312-win_amd64.whl.metadata (13 kB)\n",
      "Requirement already satisfied: numpy>=1.19.5 in c:\\users\\sumit sharma\\.conda\\envs\\ml_env\\lib\\site-packages (from scikit-learn) (2.1.1)\n",
      "Requirement already satisfied: scipy>=1.6.0 in c:\\users\\sumit sharma\\.conda\\envs\\ml_env\\lib\\site-packages (from scikit-learn) (1.14.1)\n",
      "Collecting joblib>=1.2.0 (from scikit-learn)\n",
      "  Using cached joblib-1.4.2-py3-none-any.whl.metadata (5.4 kB)\n",
      "Collecting threadpoolctl>=3.1.0 (from scikit-learn)\n",
      "  Downloading threadpoolctl-3.5.0-py3-none-any.whl.metadata (13 kB)\n",
      "Downloading scikit_learn-1.5.2-cp312-cp312-win_amd64.whl (11.0 MB)\n",
      "   ---------------------------------------- 0.0/11.0 MB ? eta -:--:--\n",
      "   - -------------------------------------- 0.5/11.0 MB 3.4 MB/s eta 0:00:04\n",
      "   -- ------------------------------------- 0.8/11.0 MB 2.1 MB/s eta 0:00:05\n",
      "   -- ------------------------------------- 0.8/11.0 MB 2.1 MB/s eta 0:00:05\n",
      "   --- ------------------------------------ 1.0/11.0 MB 1.1 MB/s eta 0:00:09\n",
      "   --- ------------------------------------ 1.0/11.0 MB 1.1 MB/s eta 0:00:09\n",
      "   --- ------------------------------------ 1.0/11.0 MB 1.1 MB/s eta 0:00:09\n",
      "   ---- ----------------------------------- 1.3/11.0 MB 849.0 kB/s eta 0:00:12\n",
      "   ----- ---------------------------------- 1.6/11.0 MB 838.6 kB/s eta 0:00:12\n",
      "   ----- ---------------------------------- 1.6/11.0 MB 838.6 kB/s eta 0:00:12\n",
      "   ------ --------------------------------- 1.8/11.0 MB 805.4 kB/s eta 0:00:12\n",
      "   ------ --------------------------------- 1.8/11.0 MB 805.4 kB/s eta 0:00:12\n",
      "   ------- -------------------------------- 2.1/11.0 MB 798.9 kB/s eta 0:00:12\n",
      "   -------- ------------------------------- 2.4/11.0 MB 794.1 kB/s eta 0:00:11\n",
      "   -------- ------------------------------- 2.4/11.0 MB 794.1 kB/s eta 0:00:11\n",
      "   --------- ------------------------------ 2.6/11.0 MB 794.6 kB/s eta 0:00:11\n",
      "   ---------- ----------------------------- 2.9/11.0 MB 787.7 kB/s eta 0:00:11\n",
      "   ---------- ----------------------------- 2.9/11.0 MB 787.7 kB/s eta 0:00:11\n",
      "   ---------- ----------------------------- 2.9/11.0 MB 787.7 kB/s eta 0:00:11\n",
      "   ----------- ---------------------------- 3.1/11.0 MB 741.1 kB/s eta 0:00:11\n",
      "   ----------- ---------------------------- 3.1/11.0 MB 741.1 kB/s eta 0:00:11\n",
      "   ----------- ---------------------------- 3.1/11.0 MB 741.1 kB/s eta 0:00:11\n",
      "   ----------- ---------------------------- 3.1/11.0 MB 741.1 kB/s eta 0:00:11\n",
      "   ----------- ---------------------------- 3.1/11.0 MB 741.1 kB/s eta 0:00:11\n",
      "   ----------- ---------------------------- 3.1/11.0 MB 741.1 kB/s eta 0:00:11\n",
      "   ----------- ---------------------------- 3.1/11.0 MB 741.1 kB/s eta 0:00:11\n",
      "   ----------- ---------------------------- 3.1/11.0 MB 741.1 kB/s eta 0:00:11\n",
      "   ----------- ---------------------------- 3.1/11.0 MB 741.1 kB/s eta 0:00:11\n",
      "   ----------- ---------------------------- 3.1/11.0 MB 741.1 kB/s eta 0:00:11\n",
      "   ----------- ---------------------------- 3.1/11.0 MB 741.1 kB/s eta 0:00:11\n",
      "   ------------ --------------------------- 3.4/11.0 MB 497.1 kB/s eta 0:00:16\n",
      "   ------------ --------------------------- 3.4/11.0 MB 497.1 kB/s eta 0:00:16\n",
      "   ------------ --------------------------- 3.4/11.0 MB 497.1 kB/s eta 0:00:16\n",
      "   ------------ --------------------------- 3.4/11.0 MB 497.1 kB/s eta 0:00:16\n",
      "   ------------ --------------------------- 3.4/11.0 MB 497.1 kB/s eta 0:00:16\n",
      "   ------------ --------------------------- 3.4/11.0 MB 497.1 kB/s eta 0:00:16\n",
      "   ------------ --------------------------- 3.4/11.0 MB 497.1 kB/s eta 0:00:16\n",
      "   ------------ --------------------------- 3.4/11.0 MB 497.1 kB/s eta 0:00:16\n",
      "   ------------- -------------------------- 3.7/11.0 MB 432.7 kB/s eta 0:00:17\n",
      "   ------------- -------------------------- 3.7/11.0 MB 432.7 kB/s eta 0:00:17\n",
      "   -------------- ------------------------- 3.9/11.0 MB 439.0 kB/s eta 0:00:17\n",
      "   -------------- ------------------------- 3.9/11.0 MB 439.0 kB/s eta 0:00:17\n",
      "   --------------- ------------------------ 4.2/11.0 MB 448.6 kB/s eta 0:00:16\n",
      "   ---------------- ----------------------- 4.5/11.0 MB 466.0 kB/s eta 0:00:15\n",
      "   ----------------- ---------------------- 4.7/11.0 MB 481.8 kB/s eta 0:00:14\n",
      "   ----------------- ---------------------- 4.7/11.0 MB 481.8 kB/s eta 0:00:14\n",
      "   ------------------ --------------------- 5.0/11.0 MB 483.2 kB/s eta 0:00:13\n",
      "   ------------------- -------------------- 5.2/11.0 MB 496.5 kB/s eta 0:00:12\n",
      "   ------------------- -------------------- 5.2/11.0 MB 496.5 kB/s eta 0:00:12\n",
      "   -------------------- ------------------- 5.5/11.0 MB 505.3 kB/s eta 0:00:11\n",
      "   -------------------- ------------------- 5.5/11.0 MB 505.3 kB/s eta 0:00:11\n",
      "   -------------------- ------------------- 5.8/11.0 MB 509.9 kB/s eta 0:00:11\n",
      "   --------------------- ------------------ 6.0/11.0 MB 520.6 kB/s eta 0:00:10\n",
      "   --------------------- ------------------ 6.0/11.0 MB 520.6 kB/s eta 0:00:10\n",
      "   ---------------------- ----------------- 6.3/11.0 MB 522.9 kB/s eta 0:00:09\n",
      "   ---------------------- ----------------- 6.3/11.0 MB 522.9 kB/s eta 0:00:09\n",
      "   ----------------------- ---------------- 6.6/11.0 MB 529.1 kB/s eta 0:00:09\n",
      "   ------------------------ --------------- 6.8/11.0 MB 539.8 kB/s eta 0:00:08\n",
      "   ------------------------ --------------- 6.8/11.0 MB 539.8 kB/s eta 0:00:08\n",
      "   ------------------------- -------------- 7.1/11.0 MB 545.9 kB/s eta 0:00:08\n",
      "   -------------------------- ------------- 7.3/11.0 MB 553.1 kB/s eta 0:00:07\n",
      "   -------------------------- ------------- 7.3/11.0 MB 553.1 kB/s eta 0:00:07\n",
      "   --------------------------- ------------ 7.6/11.0 MB 553.3 kB/s eta 0:00:07\n",
      "   --------------------------- ------------ 7.6/11.0 MB 553.3 kB/s eta 0:00:07\n",
      "   ---------------------------- ----------- 7.9/11.0 MB 559.9 kB/s eta 0:00:06\n",
      "   ----------------------------- ---------- 8.1/11.0 MB 566.1 kB/s eta 0:00:06\n",
      "   ----------------------------- ---------- 8.1/11.0 MB 566.1 kB/s eta 0:00:06\n",
      "   ------------------------------ --------- 8.4/11.0 MB 566.5 kB/s eta 0:00:05\n",
      "   ------------------------------ --------- 8.4/11.0 MB 566.5 kB/s eta 0:00:05\n",
      "   ------------------------------- -------- 8.7/11.0 MB 573.0 kB/s eta 0:00:05\n",
      "   -------------------------------- ------- 8.9/11.0 MB 579.7 kB/s eta 0:00:04\n",
      "   -------------------------------- ------- 8.9/11.0 MB 579.7 kB/s eta 0:00:04\n",
      "   --------------------------------- ------ 9.2/11.0 MB 581.5 kB/s eta 0:00:04\n",
      "   --------------------------------- ------ 9.2/11.0 MB 581.5 kB/s eta 0:00:04\n",
      "   ---------------------------------- ----- 9.4/11.0 MB 581.4 kB/s eta 0:00:03\n",
      "   ---------------------------------- ----- 9.4/11.0 MB 581.4 kB/s eta 0:00:03\n",
      "   ----------------------------------- ---- 9.7/11.0 MB 584.1 kB/s eta 0:00:03\n",
      "   ------------------------------------ --- 10.0/11.0 MB 589.5 kB/s eta 0:00:02\n",
      "   ------------------------------------ --- 10.0/11.0 MB 589.5 kB/s eta 0:00:02\n",
      "   ------------------------------------- -- 10.2/11.0 MB 590.8 kB/s eta 0:00:02\n",
      "   -------------------------------------- - 10.5/11.0 MB 595.9 kB/s eta 0:00:01\n",
      "   -------------------------------------- - 10.5/11.0 MB 595.9 kB/s eta 0:00:01\n",
      "   ---------------------------------------  10.7/11.0 MB 596.5 kB/s eta 0:00:01\n",
      "   ---------------------------------------  10.7/11.0 MB 596.5 kB/s eta 0:00:01\n",
      "   ---------------------------------------- 11.0/11.0 MB 596.2 kB/s eta 0:00:00\n",
      "Using cached joblib-1.4.2-py3-none-any.whl (301 kB)\n",
      "Downloading threadpoolctl-3.5.0-py3-none-any.whl (18 kB)\n",
      "Installing collected packages: threadpoolctl, joblib, scikit-learn\n",
      "Successfully installed joblib-1.4.2 scikit-learn-1.5.2 threadpoolctl-3.5.0\n"
     ]
    }
   ],
   "source": [
    "# library install\n",
    "!pip install scikit-learn"
   ]
  },
  {
   "cell_type": "markdown",
   "metadata": {},
   "source": [
    "## Min-Max Scaling"
   ]
  },
  {
   "cell_type": "code",
   "execution_count": 6,
   "metadata": {},
   "outputs": [
    {
     "name": "stdout",
     "output_type": "stream",
     "text": [
      "   Value\n",
      "0     10\n",
      "1     20\n",
      "2     30\n",
      "3     40\n",
      "4     50\n",
      "   Value  Scaled Value\n",
      "0     10          0.00\n",
      "1     20          0.25\n",
      "2     30          0.50\n",
      "3     40          0.75\n",
      "4     50          1.00\n"
     ]
    }
   ],
   "source": [
    "import pandas as pd\n",
    "from sklearn.preprocessing import MinMaxScaler\n",
    "\n",
    "# sample data\n",
    "data = {'Value': [ 10, 20, 30, 40, 50]}\n",
    "df = pd.DataFrame(data)\n",
    "print(df)\n",
    "\n"
   ]
  },
  {
   "cell_type": "code",
   "execution_count": 7,
   "metadata": {},
   "outputs": [
    {
     "name": "stdout",
     "output_type": "stream",
     "text": [
      "   Value  Scaled Value\n",
      "0     10          0.00\n",
      "1     20          0.25\n",
      "2     30          0.50\n",
      "3     40          0.75\n",
      "4     50          1.00\n"
     ]
    }
   ],
   "source": [
    "# MinMax Scaler\n",
    "scaler = MinMaxScaler()\n",
    "df[\"Scaled Value\"] = scaler.fit_transform(df[[\"Value\"]])\n",
    "print(df)"
   ]
  },
  {
   "cell_type": "markdown",
   "metadata": {},
   "source": [
    "## Standard Scaling (Z-Score Scaling)"
   ]
  },
  {
   "cell_type": "code",
   "execution_count": 9,
   "metadata": {},
   "outputs": [
    {
     "name": "stdout",
     "output_type": "stream",
     "text": [
      "   Value\n",
      "0     10\n",
      "1     20\n",
      "2     30\n",
      "3     40\n",
      "4     50\n"
     ]
    }
   ],
   "source": [
    "import pandas as pd\n",
    "from sklearn.preprocessing import StandardScaler\n",
    "\n",
    "# sample data\n",
    "data = {'Value': [ 10, 20, 30, 40, 50]}\n",
    "df = pd.DataFrame(data)\n",
    "print(df)"
   ]
  },
  {
   "cell_type": "code",
   "execution_count": 11,
   "metadata": {},
   "outputs": [
    {
     "name": "stdout",
     "output_type": "stream",
     "text": [
      "   Value  Scaled Value\n",
      "0     10     -1.414214\n",
      "1     20     -0.707107\n",
      "2     30      0.000000\n",
      "3     40      0.707107\n",
      "4     50      1.414214\n"
     ]
    }
   ],
   "source": [
    "# Standard Scaler\n",
    "scaler = StandardScaler()\n",
    "df[\"Scaled Value\"] = scaler.fit_transform(df[[\"Value\"]])\n",
    "print(df)"
   ]
  },
  {
   "cell_type": "markdown",
   "metadata": {},
   "source": [
    "# Robust Scaling"
   ]
  },
  {
   "cell_type": "code",
   "execution_count": 12,
   "metadata": {},
   "outputs": [
    {
     "name": "stdout",
     "output_type": "stream",
     "text": [
      "   Value\n",
      "0     10\n",
      "1     20\n",
      "2     30\n",
      "3   1000\n",
      "4     50\n"
     ]
    }
   ],
   "source": [
    "from sklearn.preprocessing import RobustScaler\n",
    "\n",
    "# sample data\n",
    "data = {'Value': [ 10, 20, 30, 1000, 50]}\n",
    "df = pd.DataFrame(data)\n",
    "print(df)"
   ]
  },
  {
   "cell_type": "code",
   "execution_count": 13,
   "metadata": {},
   "outputs": [
    {
     "name": "stdout",
     "output_type": "stream",
     "text": [
      "   Value  Scaled Value\n",
      "0     10     -0.666667\n",
      "1     20     -0.333333\n",
      "2     30      0.000000\n",
      "3   1000     32.333333\n",
      "4     50      0.666667\n"
     ]
    }
   ],
   "source": [
    "# Robust Scaler\n",
    "scaler = RobustScaler()\n",
    "df[\"Scaled Value\"] = scaler.fit_transform(df[[\"Value\"]])\n",
    "print(df)"
   ]
  },
  {
   "cell_type": "markdown",
   "metadata": {},
   "source": [
    "# Logrothmic Scaling"
   ]
  },
  {
   "cell_type": "code",
   "execution_count": 14,
   "metadata": {},
   "outputs": [
    {
     "name": "stdout",
     "output_type": "stream",
     "text": [
      "    Value\n",
      "0    1000\n",
      "1   20000\n",
      "2   30000\n",
      "3  100000\n",
      "4   50000\n",
      "    Value  scaled log  scaled log2  scaled log10\n",
      "0    1000    6.907755     9.965784      3.000000\n",
      "1   20000    9.903488    14.287712      4.301030\n",
      "2   30000   10.308953    14.872675      4.477121\n",
      "3  100000   11.512925    16.609640      5.000000\n",
      "4   50000   10.819778    15.609640      4.698970\n"
     ]
    }
   ],
   "source": [
    "import numpy as np\n",
    "import pandas as pd\n",
    "\n",
    "# random data with outlier\n",
    "data = {'Value': [ 1000, 20000, 30000, 100000, 50000]}\n",
    "df= pd.DataFrame(data)\n",
    "print(df)\n",
    "\n",
    "# log transformation\n",
    "df[\"scaled log\"] = np.log(df[[\"Value\"]])   \n",
    "df[\"scaled log2\"] = np.log2(df[[\"Value\"]])   \n",
    "df[\"scaled log10\"] = np.log10(df[[\"Value\"]])   \n",
    "\n",
    "print(df)"
   ]
  }
 ],
 "metadata": {
  "kernelspec": {
   "display_name": "ml_env",
   "language": "python",
   "name": "python3"
  },
  "language_info": {
   "codemirror_mode": {
    "name": "ipython",
    "version": 3
   },
   "file_extension": ".py",
   "mimetype": "text/x-python",
   "name": "python",
   "nbconvert_exporter": "python",
   "pygments_lexer": "ipython3",
   "version": "3.12.5"
  }
 },
 "nbformat": 4,
 "nbformat_minor": 2
}
