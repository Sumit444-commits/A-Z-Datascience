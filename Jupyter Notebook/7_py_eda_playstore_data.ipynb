{
 "cells": [
  {
   "cell_type": "markdown",
   "metadata": {},
   "source": [
    "# Google Play Store EDA\n",
    "> dataset is downloaded from [https://www.kaggle.com/datasets/lava18/google-play-store-apps?resource=download](https://www.kaggle.com/datasets/lava18/google-play-store-apps?resource=download)"
   ]
  },
  {
   "cell_type": "code",
   "execution_count": 27,
   "metadata": {},
   "outputs": [],
   "source": [
    "import pandas as pd\n",
    "import seaborn as sns\n",
    "import matplotlib.pyplot as plt\n",
    "import numpy as np\n"
   ]
  },
  {
   "cell_type": "code",
   "execution_count": 28,
   "metadata": {},
   "outputs": [],
   "source": [
    "# reading the dataset\n",
    "df = pd.read_csv('../Datasets/googleplaystore.csv')"
   ]
  },
  {
   "cell_type": "code",
   "execution_count": 82,
   "metadata": {},
   "outputs": [],
   "source": [
    "# max column & rows printing\n",
    "pd.set_option(\"display.max_columns\",None)\n",
    "pd.set_option(\"display.max_rows\",None)"
   ]
  },
  {
   "cell_type": "markdown",
   "metadata": {},
   "source": [
    "## Meaning of each column name\n",
    "1. App: Name of app\n",
    "2. Category: category of app e.g: Game, Music,etc\n",
    "3. Rating: Rating of app 0-5 good or bad\n",
    "4. Reviews: Number of reviews of app\n",
    "5. Size: Size of app in MB\n",
    "6. Installs: Number of users or downloaders or  installers of an app\n",
    "7. Type: Type of app e.g: Paid, Free, Trial, etc\n",
    "8. Price: Price of app in USD, rupees etc\n",
    "9. Content Rating: Content rating of app or type of users e.g: Everyone, Teen, Mature, etc\n",
    "10. Genres: Genres of app e.g: Action, Adventure, Puzzle, etc\n",
    "11. Last Updated: Last updated date of app\n",
    "12. Current Ver: Current version of app\n",
    "13. Android Ver: Minimum android version required to install app\n"
   ]
  },
  {
   "cell_type": "code",
   "execution_count": 29,
   "metadata": {},
   "outputs": [],
   "source": [
    "# import ydata_profiling as yp\n",
    "# report  = yp.ProfileReport(df)\n",
    "# report.to_file(output_file='../Outputs/googleplaystore_report.html')"
   ]
  },
  {
   "cell_type": "code",
   "execution_count": 70,
   "metadata": {},
   "outputs": [
    {
     "data": {
      "text/html": [
       "<div>\n",
       "<style scoped>\n",
       "    .dataframe tbody tr th:only-of-type {\n",
       "        vertical-align: middle;\n",
       "    }\n",
       "\n",
       "    .dataframe tbody tr th {\n",
       "        vertical-align: top;\n",
       "    }\n",
       "\n",
       "    .dataframe thead th {\n",
       "        text-align: right;\n",
       "    }\n",
       "</style>\n",
       "<table border=\"1\" class=\"dataframe\">\n",
       "  <thead>\n",
       "    <tr style=\"text-align: right;\">\n",
       "      <th></th>\n",
       "      <th>App</th>\n",
       "      <th>Category</th>\n",
       "      <th>Rating</th>\n",
       "      <th>Reviews</th>\n",
       "      <th>Size</th>\n",
       "      <th>Installs</th>\n",
       "      <th>Type</th>\n",
       "      <th>Price</th>\n",
       "      <th>Content Rating</th>\n",
       "      <th>Genres</th>\n",
       "      <th>Last Updated</th>\n",
       "      <th>Current Ver</th>\n",
       "      <th>Android Ver</th>\n",
       "    </tr>\n",
       "  </thead>\n",
       "  <tbody>\n",
       "    <tr>\n",
       "      <th>6197</th>\n",
       "      <td>ScorePal</td>\n",
       "      <td>TOOLS</td>\n",
       "      <td>4.5</td>\n",
       "      <td>1439</td>\n",
       "      <td>15M</td>\n",
       "      <td>10,000+</td>\n",
       "      <td>Free</td>\n",
       "      <td>0</td>\n",
       "      <td>Everyone</td>\n",
       "      <td>Tools</td>\n",
       "      <td>July 9, 2018</td>\n",
       "      <td>2.10.7</td>\n",
       "      <td>4.3 and up</td>\n",
       "    </tr>\n",
       "    <tr>\n",
       "      <th>8976</th>\n",
       "      <td>SportLook</td>\n",
       "      <td>PHOTOGRAPHY</td>\n",
       "      <td>2.5</td>\n",
       "      <td>1283</td>\n",
       "      <td>8.2M</td>\n",
       "      <td>100,000+</td>\n",
       "      <td>Free</td>\n",
       "      <td>0</td>\n",
       "      <td>Everyone</td>\n",
       "      <td>Photography</td>\n",
       "      <td>June 21, 2018</td>\n",
       "      <td>1.2.7</td>\n",
       "      <td>4.1 and up</td>\n",
       "    </tr>\n",
       "  </tbody>\n",
       "</table>\n",
       "</div>"
      ],
      "text/plain": [
       "            App     Category  Rating  Reviews  Size  Installs  Type Price  \\\n",
       "6197   ScorePal        TOOLS     4.5     1439   15M   10,000+  Free     0   \n",
       "8976  SportLook  PHOTOGRAPHY     2.5     1283  8.2M  100,000+  Free     0   \n",
       "\n",
       "     Content Rating       Genres   Last Updated Current Ver Android Ver  \n",
       "6197       Everyone        Tools   July 9, 2018      2.10.7  4.3 and up  \n",
       "8976       Everyone  Photography  June 21, 2018       1.2.7  4.1 and up  "
      ]
     },
     "execution_count": 70,
     "metadata": {},
     "output_type": "execute_result"
    }
   ],
   "source": [
    "df.sample(2)"
   ]
  },
  {
   "cell_type": "markdown",
   "metadata": {},
   "source": [
    "## Find numeric variables columns and convert them to numeric\n",
    "3. Size\n",
    "4. Installs\n",
    "5. Price"
   ]
  },
  {
   "cell_type": "code",
   "execution_count": 43,
   "metadata": {},
   "outputs": [
    {
     "data": {
      "text/plain": [
       "Size\n",
       "Varies with device    1695\n",
       "11M                    198\n",
       "12M                    196\n",
       "14M                    194\n",
       "13M                    191\n",
       "                      ... \n",
       "253k                     1\n",
       "992k                     1\n",
       "658k                     1\n",
       "73k                      1\n",
       "246k                     1\n",
       "Name: count, Length: 461, dtype: int64"
      ]
     },
     "execution_count": 43,
     "metadata": {},
     "output_type": "execute_result"
    }
   ],
   "source": [
    "df[\"Size\"].value_counts()\n",
    "\n"
   ]
  },
  {
   "cell_type": "code",
   "execution_count": 32,
   "metadata": {},
   "outputs": [],
   "source": [
    "df2 = df.copy()"
   ]
  },
  {
   "cell_type": "code",
   "execution_count": 33,
   "metadata": {},
   "outputs": [
    {
     "name": "stderr",
     "output_type": "stream",
     "text": [
      "C:\\Users\\Sumit Sharma\\AppData\\Local\\Temp\\ipykernel_9956\\2320433042.py:1: FutureWarning: A value is trying to be set on a copy of a DataFrame or Series through chained assignment using an inplace method.\n",
      "The behavior will change in pandas 3.0. This inplace method will never work because the intermediate object on which we are setting values always behaves as a copy.\n",
      "\n",
      "For example, when doing 'df[col].method(value, inplace=True)', try using 'df.method({col: value}, inplace=True)' or df[col] = df[col].method(value) instead, to perform the operation inplace on the original object.\n",
      "\n",
      "\n",
      "  df2[\"Size\"].replace(\"Varies with device\", np.nan, inplace=True)# replacing \"Varies with device\" with \"NaN\"\n"
     ]
    }
   ],
   "source": [
    "df2[\"Size\"].replace(\"Varies with device\", np.nan, inplace=True)# replacing \"Varies with device\" with \"NaN\"\n",
    "\n"
   ]
  },
  {
   "cell_type": "code",
   "execution_count": 97,
   "metadata": {},
   "outputs": [
    {
     "data": {
      "text/plain": [
       "App               0.000000\n",
       "Category          0.000000\n",
       "Rating            0.000000\n",
       "Reviews           0.000000\n",
       "Size              0.000000\n",
       "Installs          0.000000\n",
       "Type              0.000000\n",
       "Price             0.000000\n",
       "Content Rating    0.000000\n",
       "Genres            0.000000\n",
       "Last Updated      0.000000\n",
       "Current Ver       0.073794\n",
       "Android Ver       0.018448\n",
       "dtype: float64"
      ]
     },
     "execution_count": 97,
     "metadata": {},
     "output_type": "execute_result"
    }
   ],
   "source": [
    "# finding percentage of missing values in each column\n",
    "df2.isnull().sum() / len(df2) * 100"
   ]
  },
  {
   "cell_type": "code",
   "execution_count": 62,
   "metadata": {},
   "outputs": [],
   "source": [
    "# converting kb to mb in Size column and removing \"M\" from the values\n",
    "\n",
    "df2[\"Size\"]=df2[\"Size\"].str.replace(\"k\",\"000\")\n",
    "df2[\"Size\"]=df2[\"Size\"].str.replace(\"M\",\"\")\n",
    "df2[\"Size\"] = df2[\"Size\"].astype(float)"
   ]
  },
  {
   "cell_type": "code",
   "execution_count": 63,
   "metadata": {},
   "outputs": [
    {
     "name": "stderr",
     "output_type": "stream",
     "text": [
      "C:\\Users\\Sumit Sharma\\AppData\\Local\\Temp\\ipykernel_9956\\4085963516.py:2: FutureWarning: A value is trying to be set on a copy of a DataFrame or Series through chained assignment using an inplace method.\n",
      "The behavior will change in pandas 3.0. This inplace method will never work because the intermediate object on which we are setting values always behaves as a copy.\n",
      "\n",
      "For example, when doing 'df[col].method(value, inplace=True)', try using 'df.method({col: value}, inplace=True)' or df[col] = df[col].method(value) instead, to perform the operation inplace on the original object.\n",
      "\n",
      "\n",
      "  df2[\"Size\"].fillna(df2[\"Size\"].mean(),inplace=True)\n"
     ]
    }
   ],
   "source": [
    "# Replacing NaN values from Size column with the mean of the column\n",
    "df2[\"Size\"].fillna(df2[\"Size\"].mean(),inplace=True)\n"
   ]
  },
  {
   "cell_type": "code",
   "execution_count": 66,
   "metadata": {},
   "outputs": [
    {
     "name": "stderr",
     "output_type": "stream",
     "text": [
      "C:\\Users\\Sumit Sharma\\AppData\\Local\\Temp\\ipykernel_9956\\3446113160.py:2: FutureWarning: A value is trying to be set on a copy of a DataFrame or Series through chained assignment using an inplace method.\n",
      "The behavior will change in pandas 3.0. This inplace method will never work because the intermediate object on which we are setting values always behaves as a copy.\n",
      "\n",
      "For example, when doing 'df[col].method(value, inplace=True)', try using 'df.method({col: value}, inplace=True)' or df[col] = df[col].method(value) instead, to perform the operation inplace on the original object.\n",
      "\n",
      "\n",
      "  df2[\"Rating\"].fillna(df2[\"Rating\"].mean(),inplace=True)\n"
     ]
    }
   ],
   "source": [
    "# Replacing NaN values from Rating column with the mean of the column\n",
    "df2[\"Rating\"].fillna(df2[\"Rating\"].mean(),inplace=True)"
   ]
  },
  {
   "cell_type": "code",
   "execution_count": 100,
   "metadata": {},
   "outputs": [
    {
     "name": "stdout",
     "output_type": "stream",
     "text": [
      "<class 'pandas.core.frame.DataFrame'>\n",
      "RangeIndex: 10841 entries, 0 to 10840\n",
      "Data columns (total 13 columns):\n",
      " #   Column          Non-Null Count  Dtype  \n",
      "---  ------          --------------  -----  \n",
      " 0   App             10841 non-null  object \n",
      " 1   Category        10841 non-null  object \n",
      " 2   Rating          10841 non-null  float64\n",
      " 3   Reviews         10841 non-null  int64  \n",
      " 4   Size            10841 non-null  float64\n",
      " 5   Installs        10841 non-null  int64  \n",
      " 6   Type            10841 non-null  object \n",
      " 7   Price           10841 non-null  float64\n",
      " 8   Content Rating  10841 non-null  object \n",
      " 9   Genres          10841 non-null  object \n",
      " 10  Last Updated    10841 non-null  object \n",
      " 11  Current Ver     10841 non-null  object \n",
      " 12  Android Ver     10841 non-null  object \n",
      "dtypes: float64(3), int64(2), object(8)\n",
      "memory usage: 1.1+ MB\n"
     ]
    }
   ],
   "source": [
    "df2.info()"
   ]
  },
  {
   "cell_type": "code",
   "execution_count": 69,
   "metadata": {},
   "outputs": [],
   "source": [
    "# Replacing +, from Installs column\n",
    "df2[\"Installs\"]=df2[\"Installs\"].str.replace(\"+\",\"\")\n",
    "df2[\"Installs\"]=df2[\"Installs\"].str.replace(\",\",\"\")"
   ]
  },
  {
   "cell_type": "code",
   "execution_count": 73,
   "metadata": {},
   "outputs": [],
   "source": [
    "df2[\"Installs\"] = df2[\"Installs\"].astype(int)"
   ]
  },
  {
   "cell_type": "code",
   "execution_count": 75,
   "metadata": {},
   "outputs": [],
   "source": [
    "# Replacing $ sign from Price column\n",
    "df2[\"Price\"]=df2[\"Price\"].str.replace(\"$\",\"\")"
   ]
  },
  {
   "cell_type": "code",
   "execution_count": 76,
   "metadata": {},
   "outputs": [],
   "source": [
    "df2[\"Price\"] = df2[\"Price\"].astype(float)"
   ]
  },
  {
   "cell_type": "code",
   "execution_count": 91,
   "metadata": {},
   "outputs": [],
   "source": [
    "# Completing category column\n",
    "df2[\"Category\"].fillna(\"Smart_Home_Device\",inplace=True)"
   ]
  },
  {
   "cell_type": "code",
   "execution_count": 99,
   "metadata": {},
   "outputs": [
    {
     "name": "stderr",
     "output_type": "stream",
     "text": [
      "C:\\Users\\Sumit Sharma\\AppData\\Local\\Temp\\ipykernel_9956\\1109045734.py:2: FutureWarning: A value is trying to be set on a copy of a DataFrame or Series through chained assignment using an inplace method.\n",
      "The behavior will change in pandas 3.0. This inplace method will never work because the intermediate object on which we are setting values always behaves as a copy.\n",
      "\n",
      "For example, when doing 'df[col].method(value, inplace=True)', try using 'df.method({col: value}, inplace=True)' or df[col] = df[col].method(value) instead, to perform the operation inplace on the original object.\n",
      "\n",
      "\n",
      "  df2[\"Genres\"].fillna(\"Digital Photo Frame\",inplace=True)\n"
     ]
    }
   ],
   "source": [
    "# Completing genere column\n",
    "df2[\"Genres\"].fillna(\"Digital Photo Frame\",inplace=True)"
   ]
  },
  {
   "cell_type": "code",
   "execution_count": 92,
   "metadata": {},
   "outputs": [
    {
     "data": {
      "text/plain": [
       "10470        COMMUNICATION\n",
       "10471      PERSONALIZATION\n",
       "10472    Smart Home Device\n",
       "10473                TOOLS\n",
       "10474        COMMUNICATION\n",
       "10475                TOOLS\n",
       "10476            LIFESTYLE\n",
       "10477      PERSONALIZATION\n",
       "10478               FAMILY\n",
       "10479        COMMUNICATION\n",
       "10480               FAMILY\n",
       "Name: Category, dtype: object"
      ]
     },
     "execution_count": 92,
     "metadata": {},
     "output_type": "execute_result"
    }
   ],
   "source": [
    "df2[\"Category\"].loc[10470:10480]"
   ]
  },
  {
   "cell_type": "code",
   "execution_count": 96,
   "metadata": {},
   "outputs": [],
   "source": [
    "# Replacing NaN values from type column with the mode of the column\n",
    "df2[\"Type\"] = df2[\"Type\"].fillna(df2[\"Type\"].mode()[0])"
   ]
  },
  {
   "cell_type": "code",
   "execution_count": 98,
   "metadata": {},
   "outputs": [],
   "source": [
    "# Replacing NaN values from type column with the mode of the column\n",
    "df2[\"Current Ver\"] = df2[\"Current Ver\"].fillna(df2[\"Current Ver\"].mode()[0])\n",
    "df2[\"Android Ver\"] = df2[\"Android Ver\"].fillna(df2[\"Android Ver\"].mode()[0])\n"
   ]
  },
  {
   "cell_type": "code",
   "execution_count": 101,
   "metadata": {},
   "outputs": [],
   "source": [
    "df2.to_excel(\"../Datasets/norm_googleplaystore.xlsx\")"
   ]
  }
 ],
 "metadata": {
  "kernelspec": {
   "display_name": "ml_env",
   "language": "python",
   "name": "python3"
  },
  "language_info": {
   "codemirror_mode": {
    "name": "ipython",
    "version": 3
   },
   "file_extension": ".py",
   "mimetype": "text/x-python",
   "name": "python",
   "nbconvert_exporter": "python",
   "pygments_lexer": "ipython3",
   "version": "3.12.5"
  }
 },
 "nbformat": 4,
 "nbformat_minor": 2
}
