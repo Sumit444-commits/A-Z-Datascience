{
 "cells": [
  {
   "cell_type": "markdown",
   "metadata": {},
   "source": [
    "# EDA with `ydata-profiling`"
   ]
  },
  {
   "cell_type": "code",
   "execution_count": 1,
   "metadata": {},
   "outputs": [
    {
     "name": "stderr",
     "output_type": "stream",
     "text": [
      "c:\\Users\\Sumit Sharma\\.conda\\envs\\ydata-profiling\\lib\\site-packages\\tqdm\\auto.py:21: TqdmWarning: IProgress not found. Please update jupyter and ipywidgets. See https://ipywidgets.readthedocs.io/en/stable/user_install.html\n",
      "  from .autonotebook import tqdm as notebook_tqdm\n"
     ]
    }
   ],
   "source": [
    "# imports \n",
    "import pandas as pd\n",
    "import numpy as np\n",
    "import seaborn as sns\n",
    "import ydata_profiling as yp"
   ]
  },
  {
   "cell_type": "code",
   "execution_count": 2,
   "metadata": {},
   "outputs": [],
   "source": [
    "# load data\n",
    "df = sns.load_dataset(\"titanic\")"
   ]
  },
  {
   "cell_type": "code",
   "execution_count": 3,
   "metadata": {},
   "outputs": [
    {
     "name": "stderr",
     "output_type": "stream",
     "text": [
      "Summarize dataset: 100%|██████████| 41/41 [00:16<00:00,  2.44it/s, Completed]                    \n",
      "Generate report structure: 100%|██████████| 1/1 [00:22<00:00, 22.35s/it]\n",
      "Render HTML: 100%|██████████| 1/1 [00:07<00:00,  7.85s/it]\n",
      "Export report to file: 100%|██████████| 1/1 [00:00<00:00, 50.00it/s]\n"
     ]
    }
   ],
   "source": [
    "# ydata profiling report\n",
    "profile = yp.ProfileReport(df)\n",
    "profile.to_file(output_file=\"../Outputs/ydata_titanic.html\")"
   ]
  },
  {
   "cell_type": "markdown",
   "metadata": {},
   "source": [
    "## EDA report using ydata-profiling on Pakistan Population dataset"
   ]
  },
  {
   "cell_type": "code",
   "execution_count": 5,
   "metadata": {},
   "outputs": [],
   "source": [
    "# loading pakistan population dataset\n",
    "PoP = pd.read_csv(\"../Datasets/population_of_pakistan.csv\")"
   ]
  },
  {
   "cell_type": "code",
   "execution_count": 6,
   "metadata": {},
   "outputs": [
    {
     "name": "stderr",
     "output_type": "stream",
     "text": [
      "Summarize dataset: 100%|██████████| 319/319 [02:39<00:00,  2.00it/s, Completed]                                                     \n",
      "Generate report structure: 100%|██████████| 1/1 [00:44<00:00, 44.51s/it]\n",
      "Render HTML: 100%|██████████| 1/1 [00:32<00:00, 32.20s/it]\n",
      "Export report to file: 100%|██████████| 1/1 [00:00<00:00,  4.07it/s]\n"
     ]
    }
   ],
   "source": [
    "report = yp.ProfileReport(PoP)\n",
    "report.to_file(output_file=\"../Outputs/ydata_population_of_pakistan.html\")"
   ]
  }
 ],
 "metadata": {
  "kernelspec": {
   "display_name": "ydata-profiling",
   "language": "python",
   "name": "python3"
  },
  "language_info": {
   "codemirror_mode": {
    "name": "ipython",
    "version": 3
   },
   "file_extension": ".py",
   "mimetype": "text/x-python",
   "name": "python",
   "nbconvert_exporter": "python",
   "pygments_lexer": "ipython3",
   "version": "3.10.0"
  }
 },
 "nbformat": 4,
 "nbformat_minor": 2
}
