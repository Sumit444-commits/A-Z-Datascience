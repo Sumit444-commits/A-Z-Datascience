{
 "cells": [
  {
   "cell_type": "markdown",
   "metadata": {},
   "source": [
    "# Outliers\n",
    "\n",
    "Z_score method"
   ]
  },
  {
   "cell_type": "code",
   "execution_count": 1,
   "metadata": {},
   "outputs": [],
   "source": [
    "import pandas as pd\n",
    "import numpy as np\n"
   ]
  },
  {
   "cell_type": "code",
   "execution_count": 6,
   "metadata": {},
   "outputs": [
    {
     "name": "stdout",
     "output_type": "stream",
     "text": [
      "Original DataFrame:\n",
      "    Age\n",
      "0    20\n",
      "1    21\n",
      "2    22\n",
      "3    23\n",
      "4    24\n",
      "5    25\n",
      "6    26\n",
      "7    27\n",
      "8    28\n",
      "9    29\n",
      "10  120\n",
      "\n",
      "Z-score of the said data:\n",
      "    Age   z_score\n",
      "0    20 -0.455531\n",
      "1    21 -0.420974\n",
      "2    22 -0.386416\n",
      "3    23 -0.351859\n",
      "4    24 -0.317301\n",
      "5    25 -0.282744\n",
      "6    26 -0.248186\n",
      "7    27 -0.213628\n",
      "8    28 -0.179071\n",
      "9    29 -0.144513\n",
      "10  120  3.000224\n",
      "Here is the outliers based on the z-score threshold of 3:     Age   z_score\n",
      "10  120  3.000224\n"
     ]
    }
   ],
   "source": [
    "data = pd.DataFrame({'Age': [20, 21, 22, 23, 24, 25, 26, 27, 28, 29,120]})\n",
    "print(\"Original DataFrame:\")\n",
    "print(data)\n",
    "\n",
    "mean = data['Age'].mean()\n",
    "std = data['Age'].std()\n",
    "data['z_score'] = (data['Age'] - mean)/std\n",
    "\n",
    "print(\"\\nZ-score of the said data:\")\n",
    "print(data)\n",
    "\n",
    "print(f\"Here is the outliers based on the z-score threshold of 3: {data[data['z_score'] > 3]}\")"
   ]
  },
  {
   "cell_type": "code",
   "execution_count": 7,
   "metadata": {},
   "outputs": [
    {
     "name": "stdout",
     "output_type": "stream",
     "text": [
      "\n",
      "New DataFrame after removing outliers:\n",
      "   Age   z_score\n",
      "0   20 -0.455531\n",
      "1   21 -0.420974\n",
      "2   22 -0.386416\n",
      "3   23 -0.351859\n",
      "4   24 -0.317301\n",
      "5   25 -0.282744\n",
      "6   26 -0.248186\n",
      "7   27 -0.213628\n",
      "8   28 -0.179071\n",
      "9   29 -0.144513\n"
     ]
    }
   ],
   "source": [
    "# removing outliers\n",
    "data = data[data['z_score'] < 3]\n",
    "print(\"\\nNew DataFrame after removing outliers:\")\n",
    "print(data)"
   ]
  },
  {
   "cell_type": "markdown",
   "metadata": {},
   "source": [
    "## removing outlier using library scipy"
   ]
  },
  {
   "cell_type": "code",
   "execution_count": 9,
   "metadata": {},
   "outputs": [
    {
     "name": "stdout",
     "output_type": "stream",
     "text": [
      "Original DataFrame:\n",
      "    Age\n",
      "0    20\n",
      "1    21\n",
      "2    22\n",
      "3    23\n",
      "4    24\n",
      "5    25\n",
      "6    26\n",
      "7    27\n",
      "8    28\n",
      "9    29\n",
      "10  120\n",
      "\n",
      "Z-score of the said data:\n",
      "0     0.477765\n",
      "1     0.441521\n",
      "2     0.405277\n",
      "3     0.369033\n",
      "4     0.332788\n",
      "5     0.296544\n",
      "6     0.260300\n",
      "7     0.224055\n",
      "8     0.187811\n",
      "9     0.151567\n",
      "10    3.146661\n",
      "Name: Age, dtype: float64\n",
      "Here is the outliers based on the z-score threshold of 2.5:     Age\n",
      "10  120\n",
      "\n",
      "New DataFrame after removing outliers:\n",
      "   Age\n",
      "0   20\n",
      "1   21\n",
      "2   22\n",
      "3   23\n",
      "4   24\n",
      "5   25\n",
      "6   26\n",
      "7   27\n",
      "8   28\n",
      "9   29\n"
     ]
    }
   ],
   "source": [
    "from scipy import stats\n",
    "\n",
    "data = pd.DataFrame({'Age': [20, 21, 22, 23, 24, 25, 26, 27, 28, 29,120]})\n",
    "print(\"Original DataFrame:\")\n",
    "print(data)\n",
    "\n",
    "z_scores = np.abs(stats.zscore(data['Age']))\n",
    "print(\"\\nZ-score of the said data:\")\n",
    "print(z_scores)\n",
    "\n",
    "threshold = 2.5\n",
    "print(f\"Here is the outliers based on the z-score threshold of 2.5: {data[z_scores > 2.5]}\")\n",
    "\n",
    "print(\"\\nNew DataFrame after removing outliers:\")\n",
    "data = data[z_scores < 2.5]\n",
    "print(data)\n"
   ]
  },
  {
   "cell_type": "markdown",
   "metadata": {},
   "source": [
    "## K-Means Clustering"
   ]
  },
  {
   "cell_type": "code",
   "execution_count": 20,
   "metadata": {},
   "outputs": [
    {
     "name": "stdout",
     "output_type": "stream",
     "text": [
      "Outliers: [[30, 30], [31, 31], [32, 32]]\n",
      "Data: [[2, 2], [3, 3], [3, 4], [30, 30], [31, 31], [32, 32]]\n",
      "New Data: [[2, 2], [3, 3], [3, 4]]\n"
     ]
    }
   ],
   "source": [
    "from sklearn.cluster import KMeans\n",
    "\n",
    "data = [[2,2],[3,3],[3,4],[30,30],[31,31],[32,32]]\n",
    "\n",
    "# apply k-means\n",
    "kmeans = KMeans(n_clusters=2, n_init=10)\n",
    "kmeans.fit(data)\n",
    "\n",
    "# Predict the cluster \n",
    "labels = kmeans.predict(data)\n",
    "\n",
    "# identify the clusters based on cluster labels\n",
    "outliers = [data[i] for i, label in enumerate(labels) if label == 1]\n",
    "print(f\"Outliers: {outliers}\")\n",
    "print(f\"Data: {data}\")\n",
    "\n",
    "# remove outliers\n",
    "data = [data[i] for i, label in enumerate(labels) if label == 0]\n",
    "print(f\"New Data: {data}\")"
   ]
  }
 ],
 "metadata": {
  "kernelspec": {
   "display_name": "python_ml",
   "language": "python",
   "name": "python3"
  },
  "language_info": {
   "codemirror_mode": {
    "name": "ipython",
    "version": 3
   },
   "file_extension": ".py",
   "mimetype": "text/x-python",
   "name": "python",
   "nbconvert_exporter": "python",
   "pygments_lexer": "ipython3",
   "version": "3.11.11"
  }
 },
 "nbformat": 4,
 "nbformat_minor": 2
}
