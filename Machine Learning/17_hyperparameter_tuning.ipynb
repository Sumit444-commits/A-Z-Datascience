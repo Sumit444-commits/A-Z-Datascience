{
 "cells": [
  {
   "cell_type": "markdown",
   "metadata": {},
   "source": [
    "# Hyperparameter Tuning\n",
    "\n",
    "Hyperperameter tuning is the process of finding the best combination of hyperparameters for a given model.\n",
    "**Types** :\n",
    "- Grid Search: Exhaustive search over all possible combinations of hyperparameters.\n",
    "- Random Search: Randomly sample combinations of hyperparameters from a given distribution.\n",
    "- Bayesian Optimization: Model the objective function and search for the maximum.\n",
    "- Gradient-based Optimization: Use gradient descent to find the minimum of the objective function.\n"
   ]
  },
  {
   "cell_type": "markdown",
   "metadata": {},
   "source": [
    "# Cross Validation\n",
    "Cross validation is a technique used to evaluate the performance of a model on unseen data. It is used to check how well the\n",
    "model generalizes to new data."
   ]
  },
  {
   "cell_type": "code",
   "execution_count": 1,
   "metadata": {},
   "outputs": [],
   "source": [
    "from sklearn.ensemble import RandomForestClassifier\n",
    "from sklearn.model_selection import train_test_split, GridSearchCV\n",
    "from sklearn.metrics import accuracy_score, classification_report, confusion_matrix\n"
   ]
  },
  {
   "cell_type": "code",
   "execution_count": 6,
   "metadata": {},
   "outputs": [],
   "source": [
    "# load the data set\n",
    "from sklearn.datasets import load_iris\n",
    "iris = load_iris()\n",
    "X = iris.data\n",
    "Y = iris.target"
   ]
  },
  {
   "cell_type": "code",
   "execution_count": 7,
   "metadata": {},
   "outputs": [
    {
     "name": "stdout",
     "output_type": "stream",
     "text": [
      "Fitting 5 folds for each of 252 candidates, totalling 1260 fits\n"
     ]
    },
    {
     "name": "stderr",
     "output_type": "stream",
     "text": [
      "c:\\Users\\Sumit Sharma\\.conda\\envs\\python_ml\\Lib\\site-packages\\sklearn\\model_selection\\_validation.py:528: FitFailedWarning: \n",
      "420 fits failed out of a total of 1260.\n",
      "The score on these train-test partitions for these parameters will be set to nan.\n",
      "If these failures are not expected, you can try to debug them by setting error_score='raise'.\n",
      "\n",
      "Below are more details about the failures:\n",
      "--------------------------------------------------------------------------------\n",
      "344 fits failed with the following error:\n",
      "Traceback (most recent call last):\n",
      "  File \"c:\\Users\\Sumit Sharma\\.conda\\envs\\python_ml\\Lib\\site-packages\\sklearn\\model_selection\\_validation.py\", line 866, in _fit_and_score\n",
      "    estimator.fit(X_train, y_train, **fit_params)\n",
      "  File \"c:\\Users\\Sumit Sharma\\.conda\\envs\\python_ml\\Lib\\site-packages\\sklearn\\base.py\", line 1382, in wrapper\n",
      "    estimator._validate_params()\n",
      "  File \"c:\\Users\\Sumit Sharma\\.conda\\envs\\python_ml\\Lib\\site-packages\\sklearn\\base.py\", line 436, in _validate_params\n",
      "    validate_parameter_constraints(\n",
      "  File \"c:\\Users\\Sumit Sharma\\.conda\\envs\\python_ml\\Lib\\site-packages\\sklearn\\utils\\_param_validation.py\", line 98, in validate_parameter_constraints\n",
      "    raise InvalidParameterError(\n",
      "sklearn.utils._param_validation.InvalidParameterError: The 'max_features' parameter of RandomForestClassifier must be an int in the range [1, inf), a float in the range (0.0, 1.0], a str among {'sqrt', 'log2'} or None. Got 'auto' instead.\n",
      "\n",
      "--------------------------------------------------------------------------------\n",
      "76 fits failed with the following error:\n",
      "Traceback (most recent call last):\n",
      "  File \"c:\\Users\\Sumit Sharma\\.conda\\envs\\python_ml\\Lib\\site-packages\\sklearn\\model_selection\\_validation.py\", line 866, in _fit_and_score\n",
      "    estimator.fit(X_train, y_train, **fit_params)\n",
      "  File \"c:\\Users\\Sumit Sharma\\.conda\\envs\\python_ml\\Lib\\site-packages\\sklearn\\base.py\", line 1382, in wrapper\n",
      "    estimator._validate_params()\n",
      "  File \"c:\\Users\\Sumit Sharma\\.conda\\envs\\python_ml\\Lib\\site-packages\\sklearn\\base.py\", line 436, in _validate_params\n",
      "    validate_parameter_constraints(\n",
      "  File \"c:\\Users\\Sumit Sharma\\.conda\\envs\\python_ml\\Lib\\site-packages\\sklearn\\utils\\_param_validation.py\", line 98, in validate_parameter_constraints\n",
      "    raise InvalidParameterError(\n",
      "sklearn.utils._param_validation.InvalidParameterError: The 'max_features' parameter of RandomForestClassifier must be an int in the range [1, inf), a float in the range (0.0, 1.0], a str among {'log2', 'sqrt'} or None. Got 'auto' instead.\n",
      "\n",
      "  warnings.warn(some_fits_failed_message, FitFailedWarning)\n",
      "c:\\Users\\Sumit Sharma\\.conda\\envs\\python_ml\\Lib\\site-packages\\sklearn\\model_selection\\_search.py:1107: UserWarning: One or more of the test scores are non-finite: [       nan        nan        nan        nan        nan        nan\n",
      " 0.96666667 0.95333333 0.96666667 0.96666667 0.96666667 0.96666667\n",
      " 0.95333333 0.96666667 0.96666667 0.96       0.96       0.96\n",
      "        nan        nan        nan        nan        nan        nan\n",
      " 0.96       0.96666667 0.96       0.96       0.96666667 0.96\n",
      " 0.96       0.96       0.96       0.96666667 0.96666667 0.96666667\n",
      "        nan        nan        nan        nan        nan        nan\n",
      " 0.96666667 0.96666667 0.96       0.96       0.96       0.96666667\n",
      " 0.96       0.96666667 0.96       0.96666667 0.96       0.96\n",
      "        nan        nan        nan        nan        nan        nan\n",
      " 0.96       0.96       0.96666667 0.96666667 0.96       0.96\n",
      " 0.95333333 0.95333333 0.96666667 0.96666667 0.96       0.96666667\n",
      "        nan        nan        nan        nan        nan        nan\n",
      " 0.96666667 0.96       0.96       0.96666667 0.96       0.96\n",
      " 0.95333333 0.95333333 0.96666667 0.96       0.96       0.96666667\n",
      "        nan        nan        nan        nan        nan        nan\n",
      " 0.96       0.96       0.96666667 0.96       0.96666667 0.96\n",
      " 0.96       0.96       0.96       0.96666667 0.96666667 0.96666667\n",
      "        nan        nan        nan        nan        nan        nan\n",
      " 0.96       0.96       0.96666667 0.96       0.96666667 0.96666667\n",
      " 0.96       0.96       0.96666667 0.96666667 0.96666667 0.96\n",
      "        nan        nan        nan        nan        nan        nan\n",
      " 0.96666667 0.96       0.96666667 0.96666667 0.96666667 0.96\n",
      " 0.96       0.95333333 0.96666667 0.96       0.96666667 0.96666667\n",
      "        nan        nan        nan        nan        nan        nan\n",
      " 0.96666667 0.96       0.96666667 0.96666667 0.96666667 0.96\n",
      " 0.96666667 0.96666667 0.96666667 0.96666667 0.96       0.96666667\n",
      "        nan        nan        nan        nan        nan        nan\n",
      " 0.96       0.96       0.96666667 0.96666667 0.96666667 0.96666667\n",
      " 0.95333333 0.96666667 0.96666667 0.96       0.96666667 0.96666667\n",
      "        nan        nan        nan        nan        nan        nan\n",
      " 0.95333333 0.96666667 0.96       0.96       0.96666667 0.96666667\n",
      " 0.94666667 0.95333333 0.96666667 0.96666667 0.96       0.96666667\n",
      "        nan        nan        nan        nan        nan        nan\n",
      " 0.94       0.96666667 0.96666667 0.96       0.96666667 0.96666667\n",
      " 0.96666667 0.96       0.96666667 0.96666667 0.96666667 0.96666667\n",
      "        nan        nan        nan        nan        nan        nan\n",
      " 0.96666667 0.96       0.96666667 0.96666667 0.96666667 0.96\n",
      " 0.96       0.96666667 0.96666667 0.96       0.96666667 0.96666667\n",
      "        nan        nan        nan        nan        nan        nan\n",
      " 0.96666667 0.96       0.96       0.96       0.96666667 0.96666667\n",
      " 0.95333333 0.96666667 0.96666667 0.96666667 0.96       0.96      ]\n",
      "  warnings.warn(\n"
     ]
    },
    {
     "name": "stdout",
     "output_type": "stream",
     "text": [
      "Best parameters: {'criterion': 'gini', 'max_depth': 4, 'max_features': 'sqrt', 'n_estimators': 50}\n"
     ]
    }
   ],
   "source": [
    "# select the model\n",
    "model = RandomForestClassifier()\n",
    "\n",
    "# create the model parameter grid\n",
    "param_grid = {\n",
    "    'n_estimators': [50,100,200,300,400,500],\n",
    "    'max_features': ['auto','sqrt','log2'],\n",
    "    'max_depth': [4,5,6,7,8,9,10],\n",
    "    'criterion': ['gini','entropy']\n",
    "}\n",
    "\n",
    "# create the grid search object\n",
    "grid = GridSearchCV(\n",
    "    estimator=model,\n",
    "    param_grid=param_grid,\n",
    "    cv=5,\n",
    "    scoring='accuracy',\n",
    "    verbose=1,\n",
    "    n_jobs=-1\n",
    "    )\n",
    "\n",
    "# fit the model\n",
    "grid.fit(X,Y)\n",
    "\n",
    "#print the best parameters\n",
    "print(f\"Best parameters: {grid.best_params_}\")"
   ]
  },
  {
   "cell_type": "code",
   "execution_count": 8,
   "metadata": {},
   "outputs": [
    {
     "name": "stdout",
     "output_type": "stream",
     "text": [
      "Fitting 5 folds for each of 42 candidates, totalling 210 fits\n",
      "Best parameters: {'max_depth': 4, 'n_estimators': 100}\n"
     ]
    }
   ],
   "source": [
    "# create the model parameter grid\n",
    "param_grid = {\n",
    "    'n_estimators': [50,100,200,300,400,500],\n",
    "    'max_depth': [4,5,6,7,8,9,10],\n",
    "}\n",
    "\n",
    "# create the grid search object\n",
    "grid = GridSearchCV(\n",
    "    estimator=model,\n",
    "    param_grid=param_grid,\n",
    "    cv=5,\n",
    "    scoring='accuracy',\n",
    "    verbose=1,\n",
    "    n_jobs=-1\n",
    "    )\n",
    "\n",
    "# fit the model\n",
    "grid.fit(X,Y)\n",
    "\n",
    "#print the best parameters\n",
    "print(f\"Best parameters: {grid.best_params_}\")"
   ]
  },
  {
   "cell_type": "code",
   "execution_count": 11,
   "metadata": {},
   "outputs": [
    {
     "name": "stdout",
     "output_type": "stream",
     "text": [
      "Fitting 5 folds for each of 10 candidates, totalling 50 fits\n"
     ]
    },
    {
     "name": "stderr",
     "output_type": "stream",
     "text": [
      "c:\\Users\\Sumit Sharma\\.conda\\envs\\python_ml\\Lib\\site-packages\\sklearn\\model_selection\\_validation.py:528: FitFailedWarning: \n",
      "20 fits failed out of a total of 50.\n",
      "The score on these train-test partitions for these parameters will be set to nan.\n",
      "If these failures are not expected, you can try to debug them by setting error_score='raise'.\n",
      "\n",
      "Below are more details about the failures:\n",
      "--------------------------------------------------------------------------------\n",
      "4 fits failed with the following error:\n",
      "Traceback (most recent call last):\n",
      "  File \"c:\\Users\\Sumit Sharma\\.conda\\envs\\python_ml\\Lib\\site-packages\\sklearn\\model_selection\\_validation.py\", line 866, in _fit_and_score\n",
      "    estimator.fit(X_train, y_train, **fit_params)\n",
      "  File \"c:\\Users\\Sumit Sharma\\.conda\\envs\\python_ml\\Lib\\site-packages\\sklearn\\base.py\", line 1382, in wrapper\n",
      "    estimator._validate_params()\n",
      "  File \"c:\\Users\\Sumit Sharma\\.conda\\envs\\python_ml\\Lib\\site-packages\\sklearn\\base.py\", line 436, in _validate_params\n",
      "    validate_parameter_constraints(\n",
      "  File \"c:\\Users\\Sumit Sharma\\.conda\\envs\\python_ml\\Lib\\site-packages\\sklearn\\utils\\_param_validation.py\", line 98, in validate_parameter_constraints\n",
      "    raise InvalidParameterError(\n",
      "sklearn.utils._param_validation.InvalidParameterError: The 'max_features' parameter of RandomForestClassifier must be an int in the range [1, inf), a float in the range (0.0, 1.0], a str among {'log2', 'sqrt'} or None. Got 'auto' instead.\n",
      "\n",
      "--------------------------------------------------------------------------------\n",
      "16 fits failed with the following error:\n",
      "Traceback (most recent call last):\n",
      "  File \"c:\\Users\\Sumit Sharma\\.conda\\envs\\python_ml\\Lib\\site-packages\\sklearn\\model_selection\\_validation.py\", line 866, in _fit_and_score\n",
      "    estimator.fit(X_train, y_train, **fit_params)\n",
      "  File \"c:\\Users\\Sumit Sharma\\.conda\\envs\\python_ml\\Lib\\site-packages\\sklearn\\base.py\", line 1382, in wrapper\n",
      "    estimator._validate_params()\n",
      "  File \"c:\\Users\\Sumit Sharma\\.conda\\envs\\python_ml\\Lib\\site-packages\\sklearn\\base.py\", line 436, in _validate_params\n",
      "    validate_parameter_constraints(\n",
      "  File \"c:\\Users\\Sumit Sharma\\.conda\\envs\\python_ml\\Lib\\site-packages\\sklearn\\utils\\_param_validation.py\", line 98, in validate_parameter_constraints\n",
      "    raise InvalidParameterError(\n",
      "sklearn.utils._param_validation.InvalidParameterError: The 'max_features' parameter of RandomForestClassifier must be an int in the range [1, inf), a float in the range (0.0, 1.0], a str among {'sqrt', 'log2'} or None. Got 'auto' instead.\n",
      "\n",
      "  warnings.warn(some_fits_failed_message, FitFailedWarning)\n",
      "c:\\Users\\Sumit Sharma\\.conda\\envs\\python_ml\\Lib\\site-packages\\sklearn\\model_selection\\_search.py:1107: UserWarning: One or more of the test scores are non-finite: [0.96              nan 0.96666667 0.96666667        nan 0.96666667\n",
      " 0.96       0.96              nan        nan]\n",
      "  warnings.warn(\n"
     ]
    },
    {
     "name": "stdout",
     "output_type": "stream",
     "text": [
      "Best parameters: {'n_estimators': 50, 'max_features': 'log2', 'max_depth': 10, 'criterion': 'gini'}\n",
      "CPU times: total: 766 ms\n",
      "Wall time: 18 s\n"
     ]
    }
   ],
   "source": [
    "%%time\n",
    "# create the model parameter grid\n",
    "from sklearn.model_selection import RandomizedSearchCV\n",
    "param_grid = {\n",
    "    'n_estimators': [50,100,200,300,400,500],\n",
    "    'max_features': ['auto','sqrt','log2'],\n",
    "    'max_depth': [4,5,6,7,8,9,10],\n",
    "    'criterion': ['gini','entropy']\n",
    "}\n",
    "\n",
    "# create the grid search object\n",
    "grid = RandomizedSearchCV(\n",
    "    estimator=model,\n",
    "    param_distributions=param_grid,\n",
    "    cv=5,\n",
    "    scoring='accuracy',\n",
    "    verbose=1,\n",
    "    n_jobs=-1\n",
    "\n",
    ")\n",
    "\n",
    "# fit the model\n",
    "grid.fit(X,Y)\n",
    "\n",
    "#print the best parameters\n",
    "print(f\"Best parameters: {grid.best_params_}\")"
   ]
  },
  {
   "cell_type": "code",
   "execution_count": null,
   "metadata": {},
   "outputs": [],
   "source": []
  }
 ],
 "metadata": {
  "kernelspec": {
   "display_name": "python_ml",
   "language": "python",
   "name": "python3"
  },
  "language_info": {
   "codemirror_mode": {
    "name": "ipython",
    "version": 3
   },
   "file_extension": ".py",
   "mimetype": "text/x-python",
   "name": "python",
   "nbconvert_exporter": "python",
   "pygments_lexer": "ipython3",
   "version": "3.11.11"
  }
 },
 "nbformat": 4,
 "nbformat_minor": 2
}
