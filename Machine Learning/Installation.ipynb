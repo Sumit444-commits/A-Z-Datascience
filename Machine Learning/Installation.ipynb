{
 "cells": [
  {
   "cell_type": "markdown",
   "metadata": {},
   "source": [
    "# Installation guide\n",
    "\n",
    "## Steps\n",
    "\n",
    "### 1. Create a new conda environment `python_ml`\n",
    "\n",
    "#### How to create conda environment\n",
    "\n",
    "1. Go to base environment by using command `conda deactivate`\n",
    "2. Make new conda environment by using command `conda create -n python_ml`\n",
    "3. Activate the new conda environment e.g: python_ml by using command `conda activate python_ml`\n",
    "4. Install python in your environment by using command `conda install python=version`\n",
    "            \n",
    "### 2. Install the following packages\n",
    "#### 1. Python\n",
    "1. pandas\n",
    "2. numpy\n",
    "3. matplotlib\n",
    "4. seaborn\n",
    "5. scipy\n",
    "6. scikit-learn\n",
    "7. jupyter\n",
    "8. openpyxl\n",
    "9. plotly\n",
    "\n",
    "> pip install pandas numpy matplotlib seaborn scipy scikit-learn jupyter openpyxl plotly"
   ]
  },
  {
   "cell_type": "code",
   "execution_count": 1,
   "metadata": {},
   "outputs": [
    {
     "data": {
      "text/plain": [
       "array([0.5, 0.5])"
      ]
     },
     "execution_count": 1,
     "metadata": {},
     "output_type": "execute_result"
    }
   ],
   "source": [
    "import pandas as pd\n",
    "import numpy as np\n",
    "import matplotlib.pyplot as plt\n",
    "import seaborn as sns\n",
    "\n",
    "from sklearn import linear_model\n",
    "reg = linear_model.LinearRegression()\n",
    "reg.fit([[0, 0], [1, 1], [2, 2]], [0, 1, 2])\n",
    "reg.coef_"
   ]
  }
 ],
 "metadata": {
  "kernelspec": {
   "display_name": "python_ml",
   "language": "python",
   "name": "python3"
  },
  "language_info": {
   "codemirror_mode": {
    "name": "ipython",
    "version": 3
   },
   "file_extension": ".py",
   "mimetype": "text/x-python",
   "name": "python",
   "nbconvert_exporter": "python",
   "pygments_lexer": "ipython3",
   "version": "3.11.11"
  }
 },
 "nbformat": 4,
 "nbformat_minor": 2
}
