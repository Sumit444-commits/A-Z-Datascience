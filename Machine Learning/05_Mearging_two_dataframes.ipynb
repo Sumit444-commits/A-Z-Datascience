{
 "cells": [
  {
   "cell_type": "markdown",
   "metadata": {},
   "source": [
    "Merging two datasets"
   ]
  },
  {
   "cell_type": "code",
   "execution_count": 2,
   "metadata": {},
   "outputs": [],
   "source": [
    "import pandas as pd"
   ]
  },
  {
   "cell_type": "code",
   "execution_count": 1,
   "metadata": {},
   "outputs": [],
   "source": [
    "data1 = {\n",
    "    'id':[1,2,3],\n",
    "    'name':['Alice','Bob','Cathy'],\n",
    "    'age':[20,30,40]\n",
    "}\n",
    "\n",
    "data2 = {\n",
    "    'id':[1,2,3],\n",
    "    'city':['hyderabad','karachi','lahore'],\n",
    "    'occupation':['engineering','doctor','sales']\n",
    "}\n"
   ]
  },
  {
   "cell_type": "code",
   "execution_count": 4,
   "metadata": {},
   "outputs": [
    {
     "name": "stdout",
     "output_type": "stream",
     "text": [
      "   id   name  age\n",
      "0   1  Alice   20\n",
      "1   2    Bob   30\n",
      "2   3  Cathy   40\n",
      "   id       city   occupation\n",
      "0   1  hyderabad  engineering\n",
      "1   2    karachi       doctor\n",
      "2   3     lahore        sales\n"
     ]
    }
   ],
   "source": [
    "df1 = pd.DataFrame(data1)\n",
    "df2 = pd.DataFrame(data2)\n",
    "\n",
    "print(df1)\n",
    "print(df2)"
   ]
  },
  {
   "cell_type": "code",
   "execution_count": 5,
   "metadata": {},
   "outputs": [
    {
     "name": "stdout",
     "output_type": "stream",
     "text": [
      "   id   name  age       city   occupation\n",
      "0   1  Alice   20  hyderabad  engineering\n",
      "1   2    Bob   30    karachi       doctor\n",
      "2   3  Cathy   40     lahore        sales\n"
     ]
    }
   ],
   "source": [
    "merge_data = pd.merge(df1,df2,on='id',how='inner')\n",
    "print(merge_data)"
   ]
  }
 ],
 "metadata": {
  "kernelspec": {
   "display_name": "python_ml",
   "language": "python",
   "name": "python3"
  },
  "language_info": {
   "codemirror_mode": {
    "name": "ipython",
    "version": 3
   },
   "file_extension": ".py",
   "mimetype": "text/x-python",
   "name": "python",
   "nbconvert_exporter": "python",
   "pygments_lexer": "ipython3",
   "version": "3.11.11"
  }
 },
 "nbformat": 4,
 "nbformat_minor": 2
}
