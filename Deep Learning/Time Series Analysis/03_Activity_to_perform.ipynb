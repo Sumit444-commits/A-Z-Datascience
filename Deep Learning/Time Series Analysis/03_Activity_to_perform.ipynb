{
 "cells": [
  {
   "cell_type": "markdown",
   "metadata": {},
   "source": [
    "# Time Series Project Analysis\n",
    "\n",
    "## Preprocessing\n",
    "1. Sort the data by time\n",
    "2. Fill missing values, abnormal data, White Noice data\n",
    "3. Plot/ data visualization\n",
    "    - shows patterns (trend, seasonality, cyclicality, and irregularity)\n",
    "    - for checking patterns we use `statsmodel`\n",
    "\n",
    "4. Stationarity\n",
    "Test to check stationarity:\n",
    "    - ADF test (Augmented Dickay Fuller Test)\n",
    "    - KPSS test (Kwiatkowski-Phillips-Schmidt-Shin Test) \n",
    "    - PP test (Phillips-Perron Test)\n",
    "\n",
    "5. Deseasonlize the time series data\n",
    "6. Auto correlation of the time series data\n",
    "7. lag\n",
    "8. smooth"
   ]
  },
  {
   "cell_type": "markdown",
   "metadata": {},
   "source": []
  }
 ],
 "metadata": {
  "language_info": {
   "name": "python"
  }
 },
 "nbformat": 4,
 "nbformat_minor": 2
}
