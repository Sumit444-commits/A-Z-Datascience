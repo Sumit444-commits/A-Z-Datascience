{
 "cells": [
  {
   "cell_type": "markdown",
   "metadata": {},
   "source": [
    "# Web scrapping using python"
   ]
  },
  {
   "cell_type": "code",
   "execution_count": 2,
   "metadata": {},
   "outputs": [],
   "source": [
    "import requests\n",
    "from bs4 import BeautifulSoup\n",
    "import pandas as pd"
   ]
  },
  {
   "cell_type": "code",
   "execution_count": 3,
   "metadata": {},
   "outputs": [
    {
     "name": "stdout",
     "output_type": "stream",
     "text": [
      "<title>World population - Wikipedia</title>\n",
      "World population - Wikipedia\n"
     ]
    }
   ],
   "source": [
    "url = \"https://en.wikipedia.org/wiki/World_population\"\n",
    "\n",
    "response = requests.get(url)\n",
    "\n",
    "soup = BeautifulSoup(response.content,'html.parser')\n",
    "\n",
    "print(soup.title)\n",
    "print(soup.title.text)\n",
    "\n",
    "# print(soup.prettify()) # print the whole html code\n",
    "\n",
    "# finding all the tables\n",
    "tables = soup.find_all(\"table\")"
   ]
  },
  {
   "cell_type": "code",
   "execution_count": 8,
   "metadata": {},
   "outputs": [
    {
     "data": {
      "text/html": [
       "<div>\n",
       "<style scoped>\n",
       "    .dataframe tbody tr th:only-of-type {\n",
       "        vertical-align: middle;\n",
       "    }\n",
       "\n",
       "    .dataframe tbody tr th {\n",
       "        vertical-align: top;\n",
       "    }\n",
       "\n",
       "    .dataframe thead th {\n",
       "        text-align: right;\n",
       "    }\n",
       "</style>\n",
       "<table border=\"1\" class=\"dataframe\">\n",
       "  <thead>\n",
       "    <tr style=\"text-align: right;\">\n",
       "      <th></th>\n",
       "      <th>0</th>\n",
       "      <th>1</th>\n",
       "      <th>2</th>\n",
       "      <th>3</th>\n",
       "      <th>4</th>\n",
       "    </tr>\n",
       "  </thead>\n",
       "  <tbody>\n",
       "    <tr>\n",
       "      <th>0</th>\n",
       "      <td>India</td>\n",
       "      <td>1,425,775,850</td>\n",
       "      <td>17.5%</td>\n",
       "      <td>14 Apr 2023</td>\n",
       "      <td>UN projection[89]</td>\n",
       "    </tr>\n",
       "    <tr>\n",
       "      <th>1</th>\n",
       "      <td>China</td>\n",
       "      <td>1,409,670,000</td>\n",
       "      <td>17.3%</td>\n",
       "      <td>17 Jan 2024</td>\n",
       "      <td>National annual estimate[90]</td>\n",
       "    </tr>\n",
       "    <tr>\n",
       "      <th>2</th>\n",
       "      <td>United States</td>\n",
       "      <td>337,421,527</td>\n",
       "      <td>4.14%</td>\n",
       "      <td>20 Jan 2025</td>\n",
       "      <td>National population clock[91]</td>\n",
       "    </tr>\n",
       "    <tr>\n",
       "      <th>3</th>\n",
       "      <td>Indonesia</td>\n",
       "      <td>278,696,200</td>\n",
       "      <td>3.42%</td>\n",
       "      <td>1 Jul 2023</td>\n",
       "      <td>National annual estimate[92]</td>\n",
       "    </tr>\n",
       "    <tr>\n",
       "      <th>4</th>\n",
       "      <td>Pakistan</td>\n",
       "      <td>229,488,994</td>\n",
       "      <td>2.81%</td>\n",
       "      <td>1 Jul 2022</td>\n",
       "      <td>UN projection[93]</td>\n",
       "    </tr>\n",
       "    <tr>\n",
       "      <th>5</th>\n",
       "      <td>Nigeria</td>\n",
       "      <td>216,746,934</td>\n",
       "      <td>2.66%</td>\n",
       "      <td>1 Jul 2022</td>\n",
       "      <td>UN projection[93]</td>\n",
       "    </tr>\n",
       "    <tr>\n",
       "      <th>6</th>\n",
       "      <td>Brazil</td>\n",
       "      <td>218,694,200</td>\n",
       "      <td>2.68%</td>\n",
       "      <td>20 Jan 2025</td>\n",
       "      <td>National population clock[94]</td>\n",
       "    </tr>\n",
       "    <tr>\n",
       "      <th>7</th>\n",
       "      <td>Bangladesh</td>\n",
       "      <td>168,220,000</td>\n",
       "      <td>2.06%</td>\n",
       "      <td>1 Jul 2020</td>\n",
       "      <td>Annual Population Estimate[95]</td>\n",
       "    </tr>\n",
       "    <tr>\n",
       "      <th>8</th>\n",
       "      <td>Russia</td>\n",
       "      <td>147,190,000</td>\n",
       "      <td>1.80%</td>\n",
       "      <td>1 Oct 2021</td>\n",
       "      <td>2021 preliminary census results[96]</td>\n",
       "    </tr>\n",
       "    <tr>\n",
       "      <th>9</th>\n",
       "      <td>Mexico</td>\n",
       "      <td>128,271,248</td>\n",
       "      <td>1.57%</td>\n",
       "      <td>31 Mar 2022</td>\n",
       "      <td></td>\n",
       "    </tr>\n",
       "  </tbody>\n",
       "</table>\n",
       "</div>"
      ],
      "text/plain": [
       "               0              1      2            3  \\\n",
       "0          India  1,425,775,850  17.5%  14 Apr 2023   \n",
       "1          China  1,409,670,000  17.3%  17 Jan 2024   \n",
       "2  United States    337,421,527  4.14%  20 Jan 2025   \n",
       "3      Indonesia    278,696,200  3.42%   1 Jul 2023   \n",
       "4       Pakistan    229,488,994  2.81%   1 Jul 2022   \n",
       "5        Nigeria    216,746,934  2.66%   1 Jul 2022   \n",
       "6         Brazil    218,694,200  2.68%  20 Jan 2025   \n",
       "7     Bangladesh    168,220,000  2.06%   1 Jul 2020   \n",
       "8         Russia    147,190,000  1.80%   1 Oct 2021   \n",
       "9         Mexico    128,271,248  1.57%  31 Mar 2022   \n",
       "\n",
       "                                     4  \n",
       "0                    UN projection[89]  \n",
       "1         National annual estimate[90]  \n",
       "2        National population clock[91]  \n",
       "3         National annual estimate[92]  \n",
       "4                    UN projection[93]  \n",
       "5                    UN projection[93]  \n",
       "6        National population clock[94]  \n",
       "7       Annual Population Estimate[95]  \n",
       "8  2021 preliminary census results[96]  \n",
       "9                                       "
      ]
     },
     "execution_count": 8,
     "metadata": {},
     "output_type": "execute_result"
    }
   ],
   "source": [
    "# finding all the tables\n",
    "tables = soup.find_all(\"table\")\n",
    "\n",
    "dataframe = [] # empty dataframe\n",
    "\n",
    "for i,table in enumerate(tables):\n",
    "    rows = table.find_all(\"tr\")[1:] # skip the first row\n",
    "    data = []\n",
    "    for row in rows:\n",
    "        cols = row.find_all(\"td\")\n",
    "        cols = [col.text.strip() for col in cols]\n",
    "        data.append(cols)\n",
    "    df = pd.DataFrame(data)\n",
    "    dataframe.append(df)\n",
    "\n",
    "dataframe[4]\n",
    "\n",
    "    "
   ]
  },
  {
   "cell_type": "markdown",
   "metadata": {},
   "source": [
    "# List of urls\n",
    "datascience from google\n",
    "get title, text, body\n",
    "\n",
    "analysis ranking of the urls using nlp\n"
   ]
  },
  {
   "cell_type": "markdown",
   "metadata": {},
   "source": []
  }
 ],
 "metadata": {
  "kernelspec": {
   "display_name": "webscrapping",
   "language": "python",
   "name": "python3"
  },
  "language_info": {
   "codemirror_mode": {
    "name": "ipython",
    "version": 3
   },
   "file_extension": ".py",
   "mimetype": "text/x-python",
   "name": "python",
   "nbconvert_exporter": "python",
   "pygments_lexer": "ipython3",
   "version": "3.13.1"
  }
 },
 "nbformat": 4,
 "nbformat_minor": 2
}
