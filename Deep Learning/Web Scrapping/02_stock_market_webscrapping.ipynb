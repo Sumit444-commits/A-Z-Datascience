{
 "cells": [
  {
   "cell_type": "markdown",
   "metadata": {},
   "source": [
    "# Stock Market data scrapping using yfinance"
   ]
  },
  {
   "cell_type": "code",
   "execution_count": 9,
   "metadata": {},
   "outputs": [
    {
     "name": "stdout",
     "output_type": "stream",
     "text": [
      "37.654666900634766\n",
      "(2410, 7)\n"
     ]
    }
   ],
   "source": [
    "import yfinance as yf\n",
    "import pandas as pd\n",
    "\n",
    "# tickerSymbol = \"AAPL\"\n",
    "# tickerSymbol = \"GOOGL\" # for google\n",
    "tickerSymbol = \"TSLA\" # for Tesla\n",
    "\n",
    "# get the data with the ticker\n",
    "tickerData = yf.Ticker(tickerSymbol)\n",
    "# tickerData.info\n",
    "\n",
    "# get the historical prices for this ticker\n",
    "tickerdf = tickerData.history(period='1d',start='2010-1-1',end=\"2020-1-25\")\n",
    "\n",
    "# last closing price\n",
    "print(tickerdf['Close'].iloc[-1])\n",
    "print(tickerdf.shape)\n"
   ]
  },
  {
   "cell_type": "code",
   "execution_count": 6,
   "metadata": {},
   "outputs": [
    {
     "name": "stdout",
     "output_type": "stream",
     "text": [
      "2025-01-21\n",
      "2024-01-22\n"
     ]
    }
   ],
   "source": [
    "import yfinance as yf\n",
    "import pandas as pd\n",
    "import datetime as dt\n",
    "from datetime import date, timedelta\n",
    "\n",
    "today = date.today()\n",
    "d1 = today.strftime(\"%Y-%m-%d\")\n",
    "print(d1)\n",
    "\n",
    "d2 = (today - timedelta(days=365)).strftime(\"%Y-%m-%d\")\n",
    "print(d2)\n",
    "\n",
    "start_date = d2\n",
    "end_date = d1\n",
    "\n",
    "tickerSymbol = \"META\" # for Facebook\n",
    "\n",
    "# get the data with the ticker\n",
    "tickerData = yf.Ticker(tickerSymbol)\n",
    "# tickerData.info\n",
    "\n",
    "# get the historical prices for this ticker\n",
    "tickerdf = tickerData.history(period='1d',start=start_date,end=end_date)\n",
    "\n",
    "# last closing price\n",
    "# print(tickerdf['Close'].iloc[-1])\n",
    "# print(tickerdf.shape)\n",
    "tickerdf.head()\n",
    "\n",
    "tickerdf.to_csv(\"META.csv\")"
   ]
  }
 ],
 "metadata": {
  "kernelspec": {
   "display_name": "webscrapping",
   "language": "python",
   "name": "python3"
  },
  "language_info": {
   "codemirror_mode": {
    "name": "ipython",
    "version": 3
   },
   "file_extension": ".py",
   "mimetype": "text/x-python",
   "name": "python",
   "nbconvert_exporter": "python",
   "pygments_lexer": "ipython3",
   "version": "3.13.1"
  }
 },
 "nbformat": 4,
 "nbformat_minor": 2
}
