{
 "cells": [
  {
   "cell_type": "code",
   "execution_count": 2,
   "metadata": {},
   "outputs": [
    {
     "name": "stdout",
     "output_type": "stream",
     "text": [
      "Epoch 1/10\n",
      "625/625 [==============================] - 67s 100ms/step - loss: 0.5673 - acc: 0.6870 - val_loss: 0.4180 - val_acc: 0.8110\n",
      "Epoch 2/10\n",
      "625/625 [==============================] - 70s 112ms/step - loss: 0.3645 - acc: 0.8476 - val_loss: 0.3995 - val_acc: 0.8170\n",
      "Epoch 3/10\n",
      "625/625 [==============================] - 57s 91ms/step - loss: 0.2981 - acc: 0.8812 - val_loss: 0.3837 - val_acc: 0.8534\n",
      "Epoch 4/10\n",
      "625/625 [==============================] - 62s 99ms/step - loss: 0.2499 - acc: 0.9039 - val_loss: 0.3875 - val_acc: 0.8452\n",
      "Epoch 5/10\n",
      "625/625 [==============================] - 55s 88ms/step - loss: 0.1963 - acc: 0.9252 - val_loss: 0.3944 - val_acc: 0.8460\n",
      "Epoch 6/10\n",
      "625/625 [==============================] - 48s 77ms/step - loss: 0.1555 - acc: 0.9430 - val_loss: 0.4476 - val_acc: 0.8186\n",
      "Epoch 7/10\n",
      "625/625 [==============================] - 51s 81ms/step - loss: 0.1070 - acc: 0.9607 - val_loss: 0.5464 - val_acc: 0.8138\n",
      "Epoch 8/10\n",
      "625/625 [==============================] - 46s 74ms/step - loss: 0.0778 - acc: 0.9733 - val_loss: 0.5690 - val_acc: 0.8116\n",
      "Epoch 9/10\n",
      "625/625 [==============================] - 45s 73ms/step - loss: 0.0576 - acc: 0.9807 - val_loss: 0.6944 - val_acc: 0.7912\n",
      "Epoch 10/10\n",
      "625/625 [==============================] - 47s 75ms/step - loss: 0.0411 - acc: 0.9864 - val_loss: 0.6789 - val_acc: 0.8108\n",
      "782/782 [==============================] - 20s 25ms/step - loss: 0.6886 - acc: 0.8088\n",
      "loss: 0.6886388063430786\n",
      "accuracy: 0.8088399767875671\n"
     ]
    }
   ],
   "source": [
    "import tensorflow as tf\n",
    "from tensorflow.keras import layers, models, datasets\n",
    "\n",
    "# Load the dataset imdb(Internet Movies Database)\n",
    "(train_data, train_labels), (test_data, test_labels) = datasets.imdb.load_data(num_words=10000) \n",
    "\n",
    "# process the data\n",
    "train_data = tf.keras.preprocessing.sequence.pad_sequences(train_data, maxlen=256)\n",
    "test_data = tf.keras.preprocessing.sequence.pad_sequences(test_data, maxlen=256)\n",
    "\n",
    "# Define the model\n",
    "model = models.Sequential()\n",
    "model.add(layers.Embedding(10000,32))\n",
    "model.add(layers.SimpleRNN(32))\n",
    "model.add(layers.Dense(1, activation='sigmoid'))\n",
    "\n",
    "# compile the model\n",
    "model.compile(optimizer='rmsprop',loss='binary_crossentropy',metrics=['acc'])\n",
    "\n",
    "# train the model\n",
    "history = model.fit(train_data,train_labels,epochs=10, validation_split=0.2)\n",
    "\n",
    "# evaluate the model\n",
    "test_loss, test_accuracy = model.evaluate(test_data, test_labels)\n",
    "print(f\"loss: {test_loss}\")\n",
    "print(f\"accuracy: {test_accuracy}\")"
   ]
  }
 ],
 "metadata": {
  "kernelspec": {
   "display_name": "tf_env",
   "language": "python",
   "name": "python3"
  },
  "language_info": {
   "codemirror_mode": {
    "name": "ipython",
    "version": 3
   },
   "file_extension": ".py",
   "mimetype": "text/x-python",
   "name": "python",
   "nbconvert_exporter": "python",
   "pygments_lexer": "ipython3",
   "version": "3.8.18"
  }
 },
 "nbformat": 4,
 "nbformat_minor": 2
}
