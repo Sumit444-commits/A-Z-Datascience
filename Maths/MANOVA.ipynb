{
 "cells": [
  {
   "cell_type": "markdown",
   "metadata": {
    "vscode": {
     "languageId": "plaintext"
    }
   },
   "source": [
    "# MANOVA"
   ]
  },
  {
   "cell_type": "markdown",
   "metadata": {},
   "source": [
    "`MANOVA` :Used when we have more than one dependent or continuous variable\n",
    "\n",
    "`ANOVA` :Used when we have one dependent or continuous variable"
   ]
  },
  {
   "cell_type": "code",
   "execution_count": 10,
   "metadata": {},
   "outputs": [],
   "source": [
    "import pandas as pd\n",
    "from statsmodels.multivariate.api import MANOVA"
   ]
  },
  {
   "cell_type": "code",
   "execution_count": 17,
   "metadata": {},
   "outputs": [
    {
     "name": "stdout",
     "output_type": "stream",
     "text": [
      "  Method  MathScore  ScienceScore\n",
      "0      A         20            25\n",
      "1      A         21            23\n",
      "2      A         22            24\n",
      "3      B         23            29\n",
      "4      B         20            18\n",
      "5      C         25            22\n",
      "6      C         28            30\n",
      "7      C         19            27\n",
      "                 Multivariate linear model\n",
      "============================================================\n",
      "                                                            \n",
      "------------------------------------------------------------\n",
      "       Intercept         Value  Num DF Den DF F Value Pr > F\n",
      "------------------------------------------------------------\n",
      "          Wilks' lambda  0.0282 2.0000 4.0000 68.9521 0.0008\n",
      "         Pillai's trace  0.9718 2.0000 4.0000 68.9521 0.0008\n",
      " Hotelling-Lawley trace 34.4760 2.0000 4.0000 68.9521 0.0008\n",
      "    Roy's greatest root 34.4760 2.0000 4.0000 68.9521 0.0008\n",
      "------------------------------------------------------------\n",
      "                                                            \n",
      "------------------------------------------------------------\n",
      "         Method         Value  Num DF  Den DF F Value Pr > F\n",
      "------------------------------------------------------------\n",
      "          Wilks' lambda 0.7383 4.0000  8.0000  0.3276 0.8520\n",
      "         Pillai's trace 0.2646 4.0000 10.0000  0.3812 0.8173\n",
      " Hotelling-Lawley trace 0.3506 4.0000  4.0000  0.3506 0.8328\n",
      "    Roy's greatest root 0.3391 2.0000  5.0000  0.8478 0.4819\n",
      "============================================================\n",
      "\n"
     ]
    },
    {
     "name": "stderr",
     "output_type": "stream",
     "text": [
      "c:\\Users\\Sumit Sharma\\.conda\\envs\\ml_env\\Lib\\site-packages\\statsmodels\\multivariate\\multivariate_ols.py:216: RuntimeWarning: divide by zero encountered in scalar divide\n",
      "  b = (p + 2*n) * (q + 2*n) / 2 / (2*n + 1) / (n - 1)\n",
      "c:\\Users\\Sumit Sharma\\.conda\\envs\\ml_env\\Lib\\site-packages\\statsmodels\\multivariate\\multivariate_ols.py:216: RuntimeWarning: divide by zero encountered in scalar divide\n",
      "  b = (p + 2*n) * (q + 2*n) / 2 / (2*n + 1) / (n - 1)\n"
     ]
    }
   ],
   "source": [
    "# sample data \n",
    "data = {\n",
    "    \"Method\": ['A','A','A','B','B','C','C','C'],\n",
    "    \"MathScore\": [20,21,22,23,20,25,28,19],\n",
    "    \"ScienceScore\":[25,23,24,29,18,22,30,27]\n",
    "}\n",
    "\n",
    "df = pd.DataFrame(data)\n",
    "print(df.head(10))\n",
    "\n",
    "# Performing MANOVA\n",
    "\n",
    "mova = MANOVA.from_formula('MathScore + ScienceScore ~ Method', data=df)\n",
    "print(mova.mv_test())\n"
   ]
  },
  {
   "cell_type": "code",
   "execution_count": 14,
   "metadata": {},
   "outputs": [
    {
     "name": "stdout",
     "output_type": "stream",
     "text": [
      "<bound method MANOVA.mv_test of <statsmodels.multivariate.manova.MANOVA object at 0x0000020781F403B0>>\n"
     ]
    }
   ],
   "source": [
    "\n"
   ]
  }
 ],
 "metadata": {
  "kernelspec": {
   "display_name": "ml_env",
   "language": "python",
   "name": "python3"
  },
  "language_info": {
   "codemirror_mode": {
    "name": "ipython",
    "version": 3
   },
   "file_extension": ".py",
   "mimetype": "text/x-python",
   "name": "python",
   "nbconvert_exporter": "python",
   "pygments_lexer": "ipython3",
   "version": "3.12.5"
  }
 },
 "nbformat": 4,
 "nbformat_minor": 2
}
