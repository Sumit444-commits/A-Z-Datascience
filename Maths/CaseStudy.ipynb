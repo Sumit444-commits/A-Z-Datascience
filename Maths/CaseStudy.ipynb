{
 "cells": [
  {
   "cell_type": "markdown",
   "metadata": {},
   "source": [
    "# **Case Study for statistical Methods**"
   ]
  },
  {
   "cell_type": "code",
   "execution_count": 11,
   "metadata": {},
   "outputs": [],
   "source": [
    "# Import libraries\n",
    "import pandas as pd\n",
    "import numpy as np\n",
    "import matplotlib.pyplot as plt\n",
    "import seaborn as sns\n",
    "import scipy.stats as stats\n",
    "import statsmodels.api as sm\n",
    "import statsmodels.formula.api as ols\n",
    "import statsmodels.multivariate.manova as MANOVA"
   ]
  },
  {
   "cell_type": "markdown",
   "metadata": {},
   "source": [
    "# Chi-Squared Test\n",
    "\n",
    "Assume the expected distribution is 50% vegetarian and 50% non-vegetarian. You want to test if your sample data matches the distribution.\n",
    "\n",
    "Goodness of fit."
   ]
  },
  {
   "cell_type": "code",
   "execution_count": 12,
   "metadata": {},
   "outputs": [
    {
     "name": "stdout",
     "output_type": "stream",
     "text": [
      "Chi-square statistic: 16.0\n",
      "P value: 6.334248366623988e-05\n",
      "Reject null hypothesis, there is significant difference between groups\n"
     ]
    }
   ],
   "source": [
    "import numpy as np\n",
    "from scipy.stats import chisquare\n",
    "\n",
    "# Hypothetical obseved frequencies\n",
    "observed_frequency = np.array([30,70]) # 30% vegetarian, 70% non-vegetarian meals\n",
    "\n",
    "# Expected frequencies (assuming 50-50 distribution)\n",
    "total_meal = observed_frequency.sum()\n",
    "expected_frequency = np.array([total_meal*0.5,total_meal*0.5])\n",
    "\n",
    "# Perform chi-square test\n",
    "chi_square_stat, p_value = chisquare(observed_frequency, f_exp = expected_frequency)\n",
    "\n",
    "# output print\n",
    "print('Chi-square statistic:',chi_square_stat)\n",
    "print('P value:',p_value)\n",
    "\n",
    "# print result with if else condition\n",
    "if p_value < 0.05:\n",
    "    print('Reject null hypothesis, there is significant difference between groups')\n",
    "else:\n",
    "    print('Fail to reject null hypothesis, there is no significant difference between groups')\n",
    "    \n",
    "\n"
   ]
  },
  {
   "cell_type": "code",
   "execution_count": 13,
   "metadata": {},
   "outputs": [
    {
     "data": {
      "text/html": [
       "<div>\n",
       "<style scoped>\n",
       "    .dataframe tbody tr th:only-of-type {\n",
       "        vertical-align: middle;\n",
       "    }\n",
       "\n",
       "    .dataframe tbody tr th {\n",
       "        vertical-align: top;\n",
       "    }\n",
       "\n",
       "    .dataframe thead th {\n",
       "        text-align: right;\n",
       "    }\n",
       "</style>\n",
       "<table border=\"1\" class=\"dataframe\">\n",
       "  <thead>\n",
       "    <tr style=\"text-align: right;\">\n",
       "      <th></th>\n",
       "      <th>total_bill</th>\n",
       "      <th>tip</th>\n",
       "      <th>sex</th>\n",
       "      <th>smoker</th>\n",
       "      <th>day</th>\n",
       "      <th>time</th>\n",
       "      <th>size</th>\n",
       "    </tr>\n",
       "  </thead>\n",
       "  <tbody>\n",
       "    <tr>\n",
       "      <th>0</th>\n",
       "      <td>16.99</td>\n",
       "      <td>1.01</td>\n",
       "      <td>Female</td>\n",
       "      <td>No</td>\n",
       "      <td>Sun</td>\n",
       "      <td>Dinner</td>\n",
       "      <td>2</td>\n",
       "    </tr>\n",
       "    <tr>\n",
       "      <th>1</th>\n",
       "      <td>10.34</td>\n",
       "      <td>1.66</td>\n",
       "      <td>Male</td>\n",
       "      <td>No</td>\n",
       "      <td>Sun</td>\n",
       "      <td>Dinner</td>\n",
       "      <td>3</td>\n",
       "    </tr>\n",
       "    <tr>\n",
       "      <th>2</th>\n",
       "      <td>21.01</td>\n",
       "      <td>3.50</td>\n",
       "      <td>Male</td>\n",
       "      <td>No</td>\n",
       "      <td>Sun</td>\n",
       "      <td>Dinner</td>\n",
       "      <td>3</td>\n",
       "    </tr>\n",
       "    <tr>\n",
       "      <th>3</th>\n",
       "      <td>23.68</td>\n",
       "      <td>3.31</td>\n",
       "      <td>Male</td>\n",
       "      <td>No</td>\n",
       "      <td>Sun</td>\n",
       "      <td>Dinner</td>\n",
       "      <td>2</td>\n",
       "    </tr>\n",
       "    <tr>\n",
       "      <th>4</th>\n",
       "      <td>24.59</td>\n",
       "      <td>3.61</td>\n",
       "      <td>Female</td>\n",
       "      <td>No</td>\n",
       "      <td>Sun</td>\n",
       "      <td>Dinner</td>\n",
       "      <td>4</td>\n",
       "    </tr>\n",
       "  </tbody>\n",
       "</table>\n",
       "</div>"
      ],
      "text/plain": [
       "   total_bill   tip     sex smoker  day    time  size\n",
       "0       16.99  1.01  Female     No  Sun  Dinner     2\n",
       "1       10.34  1.66    Male     No  Sun  Dinner     3\n",
       "2       21.01  3.50    Male     No  Sun  Dinner     3\n",
       "3       23.68  3.31    Male     No  Sun  Dinner     2\n",
       "4       24.59  3.61  Female     No  Sun  Dinner     4"
      ]
     },
     "execution_count": 13,
     "metadata": {},
     "output_type": "execute_result"
    }
   ],
   "source": [
    "import pandas as pd\n",
    "import numpy as np\n",
    "import seaborn as sns\n",
    "from scipy.stats import chi2_contingency\n",
    "\n",
    "# load tips dataset from seaborn\n",
    "tips = sns.load_dataset('tips')\n",
    "tips.head()\n"
   ]
  },
  {
   "cell_type": "code",
   "execution_count": 14,
   "metadata": {},
   "outputs": [
    {
     "data": {
      "text/html": [
       "<div>\n",
       "<style scoped>\n",
       "    .dataframe tbody tr th:only-of-type {\n",
       "        vertical-align: middle;\n",
       "    }\n",
       "\n",
       "    .dataframe tbody tr th {\n",
       "        vertical-align: top;\n",
       "    }\n",
       "\n",
       "    .dataframe thead th {\n",
       "        text-align: right;\n",
       "    }\n",
       "</style>\n",
       "<table border=\"1\" class=\"dataframe\">\n",
       "  <thead>\n",
       "    <tr style=\"text-align: right;\">\n",
       "      <th>smoker</th>\n",
       "      <th>Yes</th>\n",
       "      <th>No</th>\n",
       "    </tr>\n",
       "    <tr>\n",
       "      <th>sex</th>\n",
       "      <th></th>\n",
       "      <th></th>\n",
       "    </tr>\n",
       "  </thead>\n",
       "  <tbody>\n",
       "    <tr>\n",
       "      <th>Male</th>\n",
       "      <td>60</td>\n",
       "      <td>97</td>\n",
       "    </tr>\n",
       "    <tr>\n",
       "      <th>Female</th>\n",
       "      <td>33</td>\n",
       "      <td>54</td>\n",
       "    </tr>\n",
       "  </tbody>\n",
       "</table>\n",
       "</div>"
      ],
      "text/plain": [
       "smoker  Yes  No\n",
       "sex            \n",
       "Male     60  97\n",
       "Female   33  54"
      ]
     },
     "execution_count": 14,
     "metadata": {},
     "output_type": "execute_result"
    }
   ],
   "source": [
    "# create a contingency table\n",
    "contigency_table = pd.crosstab(tips['sex'], tips['smoker'])\n",
    "contigency_table"
   ]
  },
  {
   "cell_type": "code",
   "execution_count": 15,
   "metadata": {},
   "outputs": [
    {
     "name": "stdout",
     "output_type": "stream",
     "text": [
      "Chi-square statistic: 0.0\n",
      "P value: 1.0\n",
      "Degree of freedom: 1\n",
      "Expected frequencies:\n",
      " [[59.84016393 97.15983607]\n",
      " [33.15983607 53.84016393]]\n",
      "Fail to reject null hypothesis, there is no significant difference between groups\n"
     ]
    }
   ],
   "source": [
    "# perfrom chi-square test\n",
    "chi2, p, dof, expected = chi2_contingency(contigency_table)\n",
    "\n",
    "# print outputs\n",
    "print('Chi-square statistic:',chi2)\n",
    "print('P value:',p)\n",
    "print('Degree of freedom:',dof)\n",
    "print('Expected frequencies:\\n',expected)\n",
    "\n",
    "# print result with if else condition\n",
    "if p < 0.05:\n",
    "    print('Reject null hypothesis, there is significant difference between groups')\n",
    "else:\n",
    "    print('Fail to reject null hypothesis, there is no significant difference between groups')"
   ]
  },
  {
   "cell_type": "code",
   "execution_count": 16,
   "metadata": {},
   "outputs": [
    {
     "name": "stdout",
     "output_type": "stream",
     "text": [
      "time    Lunch  Dinner\n",
      "sex                  \n",
      "Male       33     124\n",
      "Female     35      52\n",
      "Chi-square statistic: 9.343808982970623\n",
      "P value: 0.002237400118075248\n",
      "Degree of freedom: 1\n",
      "Expected frequencies:\n",
      " [[ 43.75409836 113.24590164]\n",
      " [ 24.24590164  62.75409836]]\n",
      "Reject null hypothesis, there is significant difference between groups\n"
     ]
    }
   ],
   "source": [
    "# contingency table based on sex and time\n",
    "contigency_table = pd.crosstab(tips['sex'], tips['time'])\n",
    "print(contigency_table)\n",
    "# perfrom chi-square test\n",
    "chi2, p, dof, expected = chi2_contingency(contigency_table)\n",
    "\n",
    "# print outputs\n",
    "print('Chi-square statistic:',chi2)\n",
    "print('P value:',p)\n",
    "print('Degree of freedom:',dof)\n",
    "print('Expected frequencies:\\n',expected)\n",
    "\n",
    "# print result with if else condition\n",
    "if p < 0.05:\n",
    "    print('Reject null hypothesis, there is significant difference between groups')\n",
    "else:\n",
    "    print('Fail to reject null hypothesis, there is no significant difference between groups')"
   ]
  },
  {
   "cell_type": "markdown",
   "metadata": {},
   "source": [
    "---\n",
    "# T-Test"
   ]
  },
  {
   "cell_type": "markdown",
   "metadata": {},
   "source": [
    "## 1. One sample t-test\n"
   ]
  },
  {
   "cell_type": "code",
   "execution_count": 50,
   "metadata": {},
   "outputs": [
    {
     "data": {
      "text/html": [
       "<div>\n",
       "<style scoped>\n",
       "    .dataframe tbody tr th:only-of-type {\n",
       "        vertical-align: middle;\n",
       "    }\n",
       "\n",
       "    .dataframe tbody tr th {\n",
       "        vertical-align: top;\n",
       "    }\n",
       "\n",
       "    .dataframe thead th {\n",
       "        text-align: right;\n",
       "    }\n",
       "</style>\n",
       "<table border=\"1\" class=\"dataframe\">\n",
       "  <thead>\n",
       "    <tr style=\"text-align: right;\">\n",
       "      <th></th>\n",
       "      <th>total_bill</th>\n",
       "      <th>tip</th>\n",
       "      <th>sex</th>\n",
       "      <th>smoker</th>\n",
       "      <th>day</th>\n",
       "      <th>time</th>\n",
       "      <th>size</th>\n",
       "    </tr>\n",
       "  </thead>\n",
       "  <tbody>\n",
       "    <tr>\n",
       "      <th>0</th>\n",
       "      <td>16.99</td>\n",
       "      <td>1.01</td>\n",
       "      <td>Female</td>\n",
       "      <td>No</td>\n",
       "      <td>Sun</td>\n",
       "      <td>Dinner</td>\n",
       "      <td>2</td>\n",
       "    </tr>\n",
       "    <tr>\n",
       "      <th>1</th>\n",
       "      <td>10.34</td>\n",
       "      <td>1.66</td>\n",
       "      <td>Male</td>\n",
       "      <td>No</td>\n",
       "      <td>Sun</td>\n",
       "      <td>Dinner</td>\n",
       "      <td>3</td>\n",
       "    </tr>\n",
       "    <tr>\n",
       "      <th>2</th>\n",
       "      <td>21.01</td>\n",
       "      <td>3.50</td>\n",
       "      <td>Male</td>\n",
       "      <td>No</td>\n",
       "      <td>Sun</td>\n",
       "      <td>Dinner</td>\n",
       "      <td>3</td>\n",
       "    </tr>\n",
       "    <tr>\n",
       "      <th>3</th>\n",
       "      <td>23.68</td>\n",
       "      <td>3.31</td>\n",
       "      <td>Male</td>\n",
       "      <td>No</td>\n",
       "      <td>Sun</td>\n",
       "      <td>Dinner</td>\n",
       "      <td>2</td>\n",
       "    </tr>\n",
       "    <tr>\n",
       "      <th>4</th>\n",
       "      <td>24.59</td>\n",
       "      <td>3.61</td>\n",
       "      <td>Female</td>\n",
       "      <td>No</td>\n",
       "      <td>Sun</td>\n",
       "      <td>Dinner</td>\n",
       "      <td>4</td>\n",
       "    </tr>\n",
       "  </tbody>\n",
       "</table>\n",
       "</div>"
      ],
      "text/plain": [
       "   total_bill   tip     sex smoker  day    time  size\n",
       "0       16.99  1.01  Female     No  Sun  Dinner     2\n",
       "1       10.34  1.66    Male     No  Sun  Dinner     3\n",
       "2       21.01  3.50    Male     No  Sun  Dinner     3\n",
       "3       23.68  3.31    Male     No  Sun  Dinner     2\n",
       "4       24.59  3.61  Female     No  Sun  Dinner     4"
      ]
     },
     "execution_count": 50,
     "metadata": {},
     "output_type": "execute_result"
    }
   ],
   "source": [
    "\n",
    "import pandas as pd\n",
    "import numpy as np\n",
    "import matplotlib.pyplot as plt\n",
    "import seaborn as sns\n",
    "import scipy.stats as stats\n",
    "\n",
    "# load dataset from seaborn\n",
    "df = sns.load_dataset('tips')\n",
    "df.head()\n",
    "\n"
   ]
  },
  {
   "cell_type": "code",
   "execution_count": 55,
   "metadata": {},
   "outputs": [
    {
     "data": {
      "text/plain": [
       "<Axes: xlabel='total_bill', ylabel='Count'>"
      ]
     },
     "execution_count": 55,
     "metadata": {},
     "output_type": "execute_result"
    },
    {
     "data": {
      "image/png": "[encoded data removed]",
      "text/plain": [
       "<Figure size 640x480 with 1 Axes>"
      ]
     },
     "metadata": {},
     "output_type": "display_data"
    }
   ],
   "source": [
    "sns.histplot(df['total_bill'], kde=True)"
   ]
  },
  {
   "cell_type": "code",
   "execution_count": 53,
   "metadata": {},
   "outputs": [],
   "source": [
    "# make total bill column as normal distribution\n",
    "df['total_bill'] = np.log(df['total_bill'])\n"
   ]
  },
  {
   "cell_type": "code",
   "execution_count": 54,
   "metadata": {},
   "outputs": [
    {
     "name": "stdout",
     "output_type": "stream",
     "text": [
      "Statistic: 0.9913215049984732\n",
      "P value: 0.15758444159434593\n",
      "Fail to reject null hypothesis, data is normally distributed\n"
     ]
    }
   ],
   "source": [
    "# Shapiro-Wilk test to see the normal distribution of data\n",
    "\n",
    "# perform Shapiro-Wilk test\n",
    "stat,p = stats.shapiro(df['total_bill'])\n",
    "\n",
    "# print outputs\n",
    "print('Statistic:',stat)\n",
    "print('P value:',p)\n",
    "\n",
    "# print result with if else condition\n",
    "if p < 0.05:\n",
    "    print('Reject null hypothesis, data is not normally distributed')\n",
    "else:\n",
    "    print('Fail to reject null hypothesis, data is normally distributed')"
   ]
  },
  {
   "cell_type": "markdown",
   "metadata": {},
   "source": [
    "mu = 3.0\n",
    "\n",
    "is there any difference between total_bill of people and mu?"
   ]
  },
  {
   "cell_type": "code",
   "execution_count": 63,
   "metadata": {},
   "outputs": [
    {
     "name": "stdout",
     "output_type": "stream",
     "text": [
      "Statistics: -3.9040848724072736\n",
      "P value: 0.00012257021386444337\n",
      "Reject null hypothesis, there is significant difference between groups\n"
     ]
    }
   ],
   "source": [
    "# performing t-test\n",
    "statistics,p_value = stats.ttest_1samp(df[\"total_bill\"],3)\n",
    "\n",
    "# print outputs\n",
    "print('Statistics:',statistics)\n",
    "print('P value:',p_value)\n",
    "\n",
    "# print result with if else condition\n",
    "if p_value < 0.05:\n",
    "    print('Reject null hypothesis, there is significant difference between groups')\n",
    "else:\n",
    "    print('Fail to reject null hypothesis, there is no significant difference between groups')"
   ]
  },
  {
   "cell_type": "code",
   "execution_count": 60,
   "metadata": {},
   "outputs": [
    {
     "data": {
      "text/plain": [
       "np.float64(2.8903102613751135)"
      ]
     },
     "execution_count": 60,
     "metadata": {},
     "output_type": "execute_result"
    }
   ],
   "source": [
    "df['total_bill'].mean()"
   ]
  },
  {
   "cell_type": "markdown",
   "metadata": {},
   "source": [
    "## 2. Two-sample independent t-test"
   ]
  },
  {
   "cell_type": "code",
   "execution_count": 67,
   "metadata": {},
   "outputs": [
    {
     "name": "stdout",
     "output_type": "stream",
     "text": [
      "   total_bill   tip     sex smoker  day    time  size\n",
      "0    2.832625  1.01  Female     No  Sun  Dinner     2\n",
      "1    2.336020  1.66    Male     No  Sun  Dinner     3\n",
      "2    3.044999  3.50    Male     No  Sun  Dinner     3\n",
      "3    3.164631  3.31    Male     No  Sun  Dinner     2\n",
      "4    3.202340  3.61  Female     No  Sun  Dinner     4\n",
      "Statistics: 2.4177325610509306\n",
      "P value: 0.016357303209054097\n",
      "Reject null hypothesis, because p value : 0.016357303209054097, there is significant difference between male total bill and female total bill\n"
     ]
    }
   ],
   "source": [
    "print(df.head())\n",
    "\n",
    "male_bill = df[df['sex']=='Male']['total_bill']\n",
    "female_bill = df[df['sex']=='Female']['total_bill']\n",
    "\n",
    "# perform t-test\n",
    "statistics,p_value = stats.ttest_ind(male_bill,female_bill)\n",
    "\n",
    "# print outputs\n",
    "print('Statistics:',statistics)\n",
    "print('P value:',p_value)\n",
    "\n",
    "# print result with if else condition\n",
    "if p_value < 0.05:\n",
    "    print(f'Reject null hypothesis, because p value : {p_value}, there is significant difference between male total bill and female total bill')\n",
    "else:\n",
    "    print(f'Fail to reject null hypothesis,because p value : {p_value}, there is no significant difference between male total bill and female total bill')\n",
    "\n"
   ]
  },
  {
   "cell_type": "markdown",
   "metadata": {},
   "source": [
    "---\n",
    "# ANOVA"
   ]
  },
  {
   "cell_type": "code",
   "execution_count": 68,
   "metadata": {},
   "outputs": [
    {
     "name": "stdout",
     "output_type": "stream",
     "text": [
      "   survived  pclass     sex   age  sibsp  parch     fare embarked  class  \\\n",
      "0         0       3    male  22.0      1      0   7.2500        S  Third   \n",
      "1         1       1  female  38.0      1      0  71.2833        C  First   \n",
      "2         1       3  female  26.0      0      0   7.9250        S  Third   \n",
      "3         1       1  female  35.0      1      0  53.1000        S  First   \n",
      "4         0       3    male  35.0      0      0   8.0500        S  Third   \n",
      "\n",
      "     who  adult_male deck  embark_town alive  alone  \n",
      "0    man        True  NaN  Southampton    no  False  \n",
      "1  woman       False    C    Cherbourg   yes  False  \n",
      "2  woman       False  NaN  Southampton   yes   True  \n",
      "3  woman       False    C  Southampton   yes  False  \n",
      "4    man        True  NaN  Southampton    no   True  \n",
      "<class 'pandas.core.frame.DataFrame'>\n",
      "RangeIndex: 891 entries, 0 to 890\n",
      "Data columns (total 15 columns):\n",
      " #   Column       Non-Null Count  Dtype   \n",
      "---  ------       --------------  -----   \n",
      " 0   survived     891 non-null    int64   \n",
      " 1   pclass       891 non-null    int64   \n",
      " 2   sex          891 non-null    object  \n",
      " 3   age          714 non-null    float64 \n",
      " 4   sibsp        891 non-null    int64   \n",
      " 5   parch        891 non-null    int64   \n",
      " 6   fare         891 non-null    float64 \n",
      " 7   embarked     889 non-null    object  \n",
      " 8   class        891 non-null    category\n",
      " 9   who          891 non-null    object  \n",
      " 10  adult_male   891 non-null    bool    \n",
      " 11  deck         203 non-null    category\n",
      " 12  embark_town  889 non-null    object  \n",
      " 13  alive        891 non-null    object  \n",
      " 14  alone        891 non-null    bool    \n",
      "dtypes: bool(2), category(2), float64(2), int64(4), object(5)\n",
      "memory usage: 80.7+ KB\n",
      "None\n"
     ]
    }
   ],
   "source": [
    "df = sns.load_dataset('titanic')\n",
    "print(df.head())\n",
    "print(df.info())"
   ]
  },
  {
   "cell_type": "markdown",
   "metadata": {},
   "source": [
    "## Is there a difference between ages of first, second, third class passengers?\n",
    "\n",
    "H0: there is no difference\n",
    "\n",
    "H1: There is difference"
   ]
  },
  {
   "cell_type": "code",
   "execution_count": 71,
   "metadata": {},
   "outputs": [
    {
     "name": "stdout",
     "output_type": "stream",
     "text": [
      "                  sum_sq     df          F        PR(>F)\n",
      "C(pclass)   20929.627754    2.0  57.443484  7.487984e-24\n",
      "Residual   129527.008190  711.0        NaN           NaN\n",
      "Reject null hypothesis, there is significant difference between groups\n"
     ]
    },
    {
     "name": "stderr",
     "output_type": "stream",
     "text": [
      "C:\\Users\\Sumit Sharma\\AppData\\Local\\Temp\\ipykernel_2860\\2630220986.py:10: FutureWarning: Series.__getitem__ treating keys as positions is deprecated. In a future version, integer keys will always be treated as labels (consistent with DataFrame behavior). To access a value by position, use `ser.iloc[pos]`\n",
      "  if anova_table['PR(>F)'][0] < 0.05:\n"
     ]
    }
   ],
   "source": [
    "import statsmodels.api as sm\n",
    "from statsmodels.formula.api import ols\n",
    "\n",
    "# ANOVA test for age and class\n",
    "model = ols('age ~ C(pclass)', data=df).fit()\n",
    "anova_table = sm.stats.anova_lm(model, typ=2)\n",
    "print(anova_table)\n",
    "\n",
    "# print result with if else condition\n",
    "if anova_table['PR(>F)'][0] < 0.05:\n",
    "    print('Reject null hypothesis, there is significant difference between groups')\n",
    "else:\n",
    "    print('Fail to reject null hypothesis, there is no significant difference between groups')"
   ]
  },
  {
   "cell_type": "markdown",
   "metadata": {},
   "source": [
    "## PostHoc Test"
   ]
  },
  {
   "cell_type": "code",
   "execution_count": 72,
   "metadata": {},
   "outputs": [
    {
     "name": "stdout",
     "output_type": "stream",
     "text": [
      "Multiple Comparison of Means - Tukey HSD, FWER=0.05\n",
      "===============================================\n",
      "group1 group2 meandiff p-adj lower upper reject\n",
      "-----------------------------------------------\n",
      "     1      2      nan   nan   nan   nan  False\n",
      "     1      3      nan   nan   nan   nan  False\n",
      "     2      3      nan   nan   nan   nan  False\n",
      "-----------------------------------------------\n"
     ]
    }
   ],
   "source": [
    "# Tukey HSD test pairwise comparison\n",
    "from statsmodels.stats.multicomp import pairwise_tukeyhsd\n",
    "\n",
    "# perform Tukey HSD test\n",
    "m_comp = pairwise_tukeyhsd(endog=df['age'], groups=df['pclass'], alpha=0.05)\n",
    "print(m_comp)\n"
   ]
  },
  {
   "cell_type": "code",
   "execution_count": 74,
   "metadata": {},
   "outputs": [
    {
     "data": {
      "text/plain": [
       "<Axes: xlabel='pclass', ylabel='age'>"
      ]
     },
     "execution_count": 74,
     "metadata": {},
     "output_type": "execute_result"
    },
    {
     "data": {
      "image/png": "[encoded data removed]",
      "text/plain": [
       "<Figure size 640x480 with 1 Axes>"
      ]
     },
     "metadata": {},
     "output_type": "display_data"
    }
   ],
   "source": [
    "# draw barplot for age and class\n",
    "sns.barplot(x='pclass',y='age',data=df)\n"
   ]
  },
  {
   "cell_type": "code",
   "execution_count": 75,
   "metadata": {},
   "outputs": [
    {
     "data": {
      "text/plain": [
       "<Axes: xlabel='age', ylabel='Count'>"
      ]
     },
     "execution_count": 75,
     "metadata": {},
     "output_type": "execute_result"
    },
    {
     "data": {
      "image/png": "[encoded data removed]",
      "text/plain": [
       "<Figure size 640x480 with 1 Axes>"
      ]
     },
     "metadata": {},
     "output_type": "display_data"
    }
   ],
   "source": [
    "sns.histplot(df,x='age',hue='pclass',kde=True)"
   ]
  },
  {
   "cell_type": "markdown",
   "metadata": {},
   "source": [
    "## two-way ANOVA"
   ]
  },
  {
   "cell_type": "code",
   "execution_count": 76,
   "metadata": {},
   "outputs": [
    {
     "name": "stdout",
     "output_type": "stream",
     "text": [
      "                        sum_sq     df           F        PR(>F)\n",
      "C(pclass)         12631.711794    2.0   52.658380  4.851088e-22\n",
      "C(who)            43014.996933    2.0  179.318535  1.101456e-63\n",
      "C(pclass):C(who)   1954.180055    4.0    4.073239  2.849182e-03\n",
      "Residual          84557.831203  705.0         NaN           NaN\n"
     ]
    }
   ],
   "source": [
    "import statsmodels.api as sm\n",
    "from statsmodels.formula.api import ols\n",
    "\n",
    "# ANOVA test for age and class\n",
    "model = ols('age ~ C(pclass) * C(who)', data=df).fit()\n",
    "anova_table = sm.stats.anova_lm(model, typ=2)\n",
    "print(anova_table)"
   ]
  },
  {
   "cell_type": "code",
   "execution_count": 79,
   "metadata": {},
   "outputs": [
    {
     "name": "stdout",
     "output_type": "stream",
     "text": [
      "       Multiple Comparison of Means - Tukey HSD, FWER=0.05       \n",
      "=================================================================\n",
      "     group1          group2     meandiff p-adj lower upper reject\n",
      "-----------------------------------------------------------------\n",
      "          child      childchild  -3.2763   nan   nan   nan  False\n",
      "          child childchildchild  -1.0024   nan   nan   nan  False\n",
      "          child             man      nan   nan   nan   nan  False\n",
      "          child          manman      nan   nan   nan   nan  False\n",
      "          child       manmanman      nan   nan   nan   nan  False\n",
      "          child           woman      nan   nan   nan   nan  False\n",
      "          child      womanwoman      nan   nan   nan   nan  False\n",
      "          child womanwomanwoman      nan   nan   nan   nan  False\n",
      "     childchild childchildchild   2.2739   nan   nan   nan  False\n",
      "     childchild             man      nan   nan   nan   nan  False\n",
      "     childchild          manman      nan   nan   nan   nan  False\n",
      "     childchild       manmanman      nan   nan   nan   nan  False\n",
      "     childchild           woman      nan   nan   nan   nan  False\n",
      "     childchild      womanwoman      nan   nan   nan   nan  False\n",
      "     childchild womanwomanwoman      nan   nan   nan   nan  False\n",
      "childchildchild             man      nan   nan   nan   nan  False\n",
      "childchildchild          manman      nan   nan   nan   nan  False\n",
      "childchildchild       manmanman      nan   nan   nan   nan  False\n",
      "childchildchild           woman      nan   nan   nan   nan  False\n",
      "childchildchild      womanwoman      nan   nan   nan   nan  False\n",
      "childchildchild womanwomanwoman      nan   nan   nan   nan  False\n",
      "            man          manman      nan   nan   nan   nan  False\n",
      "            man       manmanman      nan   nan   nan   nan  False\n",
      "            man           woman      nan   nan   nan   nan  False\n",
      "            man      womanwoman      nan   nan   nan   nan  False\n",
      "            man womanwomanwoman      nan   nan   nan   nan  False\n",
      "         manman       manmanman      nan   nan   nan   nan  False\n",
      "         manman           woman      nan   nan   nan   nan  False\n",
      "         manman      womanwoman      nan   nan   nan   nan  False\n",
      "         manman womanwomanwoman      nan   nan   nan   nan  False\n",
      "      manmanman           woman      nan   nan   nan   nan  False\n",
      "      manmanman      womanwoman      nan   nan   nan   nan  False\n",
      "      manmanman womanwomanwoman      nan   nan   nan   nan  False\n",
      "          woman      womanwoman      nan   nan   nan   nan  False\n",
      "          woman womanwomanwoman      nan   nan   nan   nan  False\n",
      "     womanwoman womanwomanwoman      nan   nan   nan   nan  False\n",
      "-----------------------------------------------------------------\n"
     ]
    }
   ],
   "source": [
    "# Tukey HSD test pairwise comparison\n",
    "from statsmodels.stats.multicomp import pairwise_tukeyhsd\n",
    "\n",
    "# perform Tukey HSD test\n",
    "m_comp = pairwise_tukeyhsd(df['age'], df['pclass'] * df['who'], alpha=0.05)\n",
    "print(m_comp)\n"
   ]
  },
  {
   "cell_type": "code",
   "execution_count": 80,
   "metadata": {},
   "outputs": [
    {
     "data": {
      "text/plain": [
       "<Axes: xlabel='who', ylabel='age'>"
      ]
     },
     "execution_count": 80,
     "metadata": {},
     "output_type": "execute_result"
    },
    {
     "data": {
      "image/png": "[encoded data removed]",
      "text/plain": [
       "<Figure size 640x480 with 1 Axes>"
      ]
     },
     "metadata": {},
     "output_type": "display_data"
    }
   ],
   "source": [
    "# barplot for age and who\n",
    "sns.barplot(x='who',y='age',hue='pclass',data=df)"
   ]
  },
  {
   "cell_type": "markdown",
   "metadata": {},
   "source": [
    "---\n",
    "# Correlation"
   ]
  },
  {
   "cell_type": "code",
   "execution_count": 81,
   "metadata": {},
   "outputs": [
    {
     "data": {
      "text/plain": [
       "<Axes: >"
      ]
     },
     "execution_count": 81,
     "metadata": {},
     "output_type": "execute_result"
    },
    {
     "data": {
      "image/png": "[encoded data removed]",
      "text/plain": [
       "<Figure size 640x480 with 2 Axes>"
      ]
     },
     "metadata": {},
     "output_type": "display_data"
    }
   ],
   "source": [
    "sns.heatmap(df[['age','fare']].corr(),annot=True)"
   ]
  }
 ],
 "metadata": {
  "kernelspec": {
   "display_name": "ml_env",
   "language": "python",
   "name": "python3"
  },
  "language_info": {
   "codemirror_mode": {
    "name": "ipython",
    "version": 3
   },
   "file_extension": ".py",
   "mimetype": "text/x-python",
   "name": "python",
   "nbconvert_exporter": "python",
   "pygments_lexer": "ipython3",
   "version": "3.12.5"
  }
 },
 "nbformat": 4,
 "nbformat_minor": 2
}
